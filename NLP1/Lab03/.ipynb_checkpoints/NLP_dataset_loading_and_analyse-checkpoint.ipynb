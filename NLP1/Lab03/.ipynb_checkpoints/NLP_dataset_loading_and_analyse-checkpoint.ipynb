{
 "cells": [
  {
   "cell_type": "markdown",
   "id": "5fde6883",
   "metadata": {
    "id": "5fde6883"
   },
   "source": [
    "# The dataset\n",
    "\n",
    "The IMDB sentiment dataset is a collection of 50K movie reviews, annotated as positive or negative, and split in two sets of equal size: a training and a test set. Both set have an equal number of positive and negative review. The dataset is available on several libraries, but we ask that you use the HuggingFace [datasets](https://huggingface.co/datasets/imdb) version. Follow their [tutorial](https://huggingface.co/docs/datasets/load_hub) on how to use the library for more details.\n",
    "\n",
    "Download and look at the dataset, and answer the following questions.\n",
    "1. How many splits does the dataset has? (1 point)\n",
    "2. How big are these splits? (1 point)\n",
    "3. What is the proportion of each class on the supervised splits? (1 point)"
   ]
  },
  {
   "cell_type": "code",
   "execution_count": 1,
   "id": "Ssy4mPR54HYx",
   "metadata": {
    "colab": {
     "base_uri": "https://localhost:8080/"
    },
    "id": "Ssy4mPR54HYx",
    "outputId": "63b32901-1052-4698-8dec-593aab5cc4af"
   },
   "outputs": [
    {
     "name": "stdout",
     "output_type": "stream",
     "text": [
      "Requirement already satisfied: datasets in /home/yacine/.local/lib/python3.8/site-packages (2.4.0)\n",
      "Requirement already satisfied: multiprocess in /home/yacine/.local/lib/python3.8/site-packages (from datasets) (0.70.13)\n",
      "Requirement already satisfied: fsspec[http]>=2021.11.1 in /home/yacine/.local/lib/python3.8/site-packages (from datasets) (2022.8.2)\n",
      "Requirement already satisfied: tqdm>=4.62.1 in /home/yacine/.local/lib/python3.8/site-packages (from datasets) (4.64.0)\n",
      "Requirement already satisfied: requests>=2.19.0 in /usr/lib/python3/dist-packages (from datasets) (2.22.0)\n",
      "Requirement already satisfied: responses<0.19 in /home/yacine/.local/lib/python3.8/site-packages (from datasets) (0.18.0)\n",
      "Requirement already satisfied: numpy>=1.17 in /home/yacine/.local/lib/python3.8/site-packages (from datasets) (1.23.0)\n",
      "Requirement already satisfied: pyarrow>=6.0.0 in /home/yacine/.local/lib/python3.8/site-packages (from datasets) (8.0.0)\n",
      "Requirement already satisfied: aiohttp in /home/yacine/.local/lib/python3.8/site-packages (from datasets) (3.8.1)\n",
      "Requirement already satisfied: dill<0.3.6 in /home/yacine/.local/lib/python3.8/site-packages (from datasets) (0.3.5.1)\n",
      "Requirement already satisfied: huggingface-hub<1.0.0,>=0.1.0 in /home/yacine/.local/lib/python3.8/site-packages (from datasets) (0.8.1)\n",
      "Requirement already satisfied: packaging in /home/yacine/.local/lib/python3.8/site-packages (from datasets) (21.3)\n",
      "Requirement already satisfied: xxhash in /home/yacine/.local/lib/python3.8/site-packages (from datasets) (3.0.0)\n",
      "Requirement already satisfied: pandas in /home/yacine/.local/lib/python3.8/site-packages (from datasets) (1.4.3)\n",
      "Requirement already satisfied: urllib3>=1.25.10 in /home/yacine/.local/lib/python3.8/site-packages (from responses<0.19->datasets) (1.26.12)\n",
      "Requirement already satisfied: charset-normalizer<3.0,>=2.0 in /home/yacine/.local/lib/python3.8/site-packages (from aiohttp->datasets) (2.1.1)\n",
      "Requirement already satisfied: yarl<2.0,>=1.0 in /home/yacine/.local/lib/python3.8/site-packages (from aiohttp->datasets) (1.8.1)\n",
      "Requirement already satisfied: async-timeout<5.0,>=4.0.0a3 in /home/yacine/.local/lib/python3.8/site-packages (from aiohttp->datasets) (4.0.2)\n",
      "Requirement already satisfied: multidict<7.0,>=4.5 in /home/yacine/.local/lib/python3.8/site-packages (from aiohttp->datasets) (6.0.2)\n",
      "Requirement already satisfied: aiosignal>=1.1.2 in /home/yacine/.local/lib/python3.8/site-packages (from aiohttp->datasets) (1.2.0)\n",
      "Requirement already satisfied: attrs>=17.3.0 in /home/yacine/.local/lib/python3.8/site-packages (from aiohttp->datasets) (21.4.0)\n",
      "Requirement already satisfied: frozenlist>=1.1.1 in /home/yacine/.local/lib/python3.8/site-packages (from aiohttp->datasets) (1.3.1)\n",
      "Requirement already satisfied: pyyaml>=5.1 in /home/yacine/.local/lib/python3.8/site-packages (from huggingface-hub<1.0.0,>=0.1.0->datasets) (5.4.1)\n",
      "Requirement already satisfied: typing-extensions>=3.7.4.3 in /home/yacine/.local/lib/python3.8/site-packages (from huggingface-hub<1.0.0,>=0.1.0->datasets) (4.3.0)\n",
      "Requirement already satisfied: filelock in /home/yacine/.local/lib/python3.8/site-packages (from huggingface-hub<1.0.0,>=0.1.0->datasets) (3.7.1)\n",
      "Requirement already satisfied: pyparsing!=3.0.5,>=2.0.2 in /home/yacine/.local/lib/python3.8/site-packages (from packaging->datasets) (3.0.8)\n",
      "Requirement already satisfied: python-dateutil>=2.8.1 in /home/yacine/.local/lib/python3.8/site-packages (from pandas->datasets) (2.8.2)\n",
      "Requirement already satisfied: pytz>=2020.1 in /home/yacine/.local/lib/python3.8/site-packages (from pandas->datasets) (2022.1)\n",
      "Requirement already satisfied: idna>=2.0 in /usr/lib/python3/dist-packages (from yarl<2.0,>=1.0->aiohttp->datasets) (2.8)\n",
      "Requirement already satisfied: six>=1.5 in /home/yacine/.local/lib/python3.8/site-packages (from python-dateutil>=2.8.1->pandas->datasets) (1.16.0)\n"
     ]
    }
   ],
   "source": [
    "!pip install datasets"
   ]
  },
  {
   "cell_type": "code",
   "execution_count": 2,
   "id": "RpJZVqzJVkwT",
   "metadata": {
    "colab": {
     "base_uri": "https://localhost:8080/"
    },
    "id": "RpJZVqzJVkwT",
    "outputId": "d4ebeafa-ac4f-447d-eb94-4724a1c3b88e"
   },
   "outputs": [
    {
     "name": "stdout",
     "output_type": "stream",
     "text": [
      "Collecting fasttext\n",
      "  Downloading fasttext-0.9.2.tar.gz (68 kB)\n",
      "\u001b[K     |████████████████████████████████| 68 kB 871 kB/s eta 0:00:01\n",
      "\u001b[?25hRequirement already satisfied: numpy in /home/yacine/.local/lib/python3.8/site-packages (from fasttext) (1.23.0)\n",
      "Requirement already satisfied: pybind11>=2.2 in /home/yacine/.local/lib/python3.8/site-packages (from fasttext) (2.10.0)\n",
      "Requirement already satisfied: setuptools>=0.7.0 in /usr/lib/python3/dist-packages (from fasttext) (45.2.0)\n",
      "Building wheels for collected packages: fasttext\n",
      "  Building wheel for fasttext (setup.py) ... \u001b[?25ldone\n",
      "\u001b[?25h  Created wheel for fasttext: filename=fasttext-0.9.2-cp38-cp38-linux_x86_64.whl size=4415765 sha256=ea4e57a0a2bc424e7365772306debc894eeb73d4c92eefb825e8c7319034819e\n",
      "  Stored in directory: /home/yacine/.cache/pip/wheels/93/61/2a/c54711a91c418ba06ba195b1d78ff24fcaad8592f2a694ac94\n",
      "Successfully built fasttext\n",
      "Installing collected packages: fasttext\n",
      "Successfully installed fasttext-0.9.2\n"
     ]
    }
   ],
   "source": [
    "!pip install fasttext"
   ]
  },
  {
   "cell_type": "code",
   "execution_count": 3,
   "id": "-fnTKz_P3ekZ",
   "metadata": {
    "colab": {
     "base_uri": "https://localhost:8080/"
    },
    "id": "-fnTKz_P3ekZ",
    "outputId": "7c391f1c-86cf-40ec-c5db-bc057cf26b5a"
   },
   "outputs": [
    {
     "name": "stdout",
     "output_type": "stream",
     "text": [
      "pyenv: python: command not found\r\n",
      "\r\n",
      "The `python' command exists in these Python versions:\r\n",
      "  3.10.4\r\n",
      "  3.10.4/envs/ML\r\n",
      "  3.10.4/envs/ML_3.10.4\r\n",
      "  3.10.4/envs/PFEE\r\n",
      "  3.10.4/envs/PYBD\r\n",
      "  ML\r\n",
      "  ML_3.10.4\r\n",
      "  PFEE\r\n",
      "  PYBD\r\n",
      "\r\n",
      "Note: See 'pyenv help global' for tips on allowing both\r\n",
      "      python2 and python3 to be found.\r\n"
     ]
    }
   ],
   "source": [
    "!python -m spacy download en_core_web_sm"
   ]
  },
  {
   "cell_type": "code",
   "execution_count": 4,
   "id": "bf3a7873",
   "metadata": {
    "colab": {
     "base_uri": "https://localhost:8080/",
     "height": 173,
     "referenced_widgets": [
      "d7d8b416aa2c4b5b9ddc7e2d344dbc15",
      "e7a6b4b398444c98bc93e300daed4b1f",
      "7b06b1af635a41ef81bef5faf5847c43",
      "7e826a9037c94dc8b6681dc56e73eb6d",
      "e6cb7d759ed943cea6fee419dc73f55a",
      "5f089fc192b74c53bb5463423fc6b012",
      "9b87dd25af3d4841a3bca54722561db1",
      "7f7bd09f41a2469eaa9079e0d1319f1a",
      "d792e048d19949b1b83d1c5bcb33f531",
      "ece16605f16542b59df5963d04da3549",
      "40303fd0345147d9956531f9b128d2ba"
     ]
    },
    "id": "bf3a7873",
    "outputId": "623198e9-1acb-4dfb-ede2-9be48282f2e4"
   },
   "outputs": [
    {
     "name": "stderr",
     "output_type": "stream",
     "text": [
      "/usr/lib/python3/dist-packages/requests/__init__.py:89: RequestsDependencyWarning: urllib3 (1.26.12) or chardet (3.0.4) doesn't match a supported version!\n",
      "  warnings.warn(\"urllib3 ({}) or chardet ({}) doesn't match a supported \"\n",
      "2022-10-11 09:47:02.472041: I tensorflow/core/util/util.cc:169] oneDNN custom operations are on. You may see slightly different numerical results due to floating-point round-off errors from different computation orders. To turn them off, set the environment variable `TF_ENABLE_ONEDNN_OPTS=0`.\n",
      "2022-10-11 09:47:07.187969: E tensorflow/stream_executor/cuda/cuda_driver.cc:271] failed call to cuInit: CUDA_ERROR_NO_DEVICE: no CUDA-capable device is detected\n",
      "2022-10-11 09:47:07.188045: I tensorflow/stream_executor/cuda/cuda_diagnostics.cc:156] kernel driver does not appear to be running on this host (yacine-ROG-Strix-G533ZW-G533ZW): /proc/driver/nvidia/version does not exist\n"
     ]
    },
    {
     "name": "stdout",
     "output_type": "stream",
     "text": [
      "Large Movie Review Dataset.\n",
      "This is a dataset for binary sentiment classification containing substantially more data than previous benchmark datasets. We provide a set of 25,000 highly polar movie reviews for training, and 25,000 for testing. There is additional unlabeled data for use as well.\n",
      "{'text': Value(dtype='string', id=None), 'label': ClassLabel(num_classes=2, names=['neg', 'pos'], id=None)}\n"
     ]
    },
    {
     "name": "stderr",
     "output_type": "stream",
     "text": [
      "Reusing dataset imdb (/home/yacine/.cache/huggingface/datasets/imdb/plain_text/1.0.0/2fdd8b9bcadd6e7055e742a706876ba43f19faee861df134affd7a3f60fc38a1)\n"
     ]
    },
    {
     "data": {
      "application/vnd.jupyter.widget-view+json": {
       "model_id": "f284670e69bf44dfb4a5e65d4cf5a0ae",
       "version_major": 2,
       "version_minor": 0
      },
      "text/plain": [
       "  0%|          | 0/3 [00:00<?, ?it/s]"
      ]
     },
     "metadata": {},
     "output_type": "display_data"
    }
   ],
   "source": [
    "from datasets import load_dataset_builder\n",
    "from datasets import load_dataset\n",
    "import pandas as pd\n",
    "import numpy as np\n",
    "\n",
    "import nltk\n",
    "from nltk.stem.snowball import SnowballStemmer\n",
    "from nltk.tokenize import word_tokenize \n",
    "import re\n",
    "import spacy\n",
    "\n",
    "from sklearn.feature_extraction.text import CountVectorizer\n",
    "from sklearn.model_selection import train_test_split\n",
    "from sklearn.naive_bayes import MultinomialNB\n",
    "from sklearn.metrics import accuracy_score\n",
    "from sklearn.metrics import classification_report\n",
    "from sklearn.metrics import f1_score\n",
    "from sklearn.pipeline import Pipeline\n",
    "\n",
    "database_name = \"imdb\"\n",
    "ds_builder = load_dataset_builder(database_name)\n",
    "print(ds_builder.info.description)\n",
    "print(ds_builder.info.features)\n",
    "\n",
    "dataset = load_dataset(database_name)"
   ]
  },
  {
   "cell_type": "code",
   "execution_count": 5,
   "id": "004e5408",
   "metadata": {
    "colab": {
     "base_uri": "https://localhost:8080/"
    },
    "id": "004e5408",
    "outputId": "6f7e1c8d-ac66-4692-f328-17f46c2899cd"
   },
   "outputs": [
    {
     "name": "stdout",
     "output_type": "stream",
     "text": [
      "Split names ['train', 'test', 'unsupervised']\n"
     ]
    },
    {
     "data": {
      "text/plain": [
       "DatasetDict({\n",
       "    train: Dataset({\n",
       "        features: ['text', 'label'],\n",
       "        num_rows: 25000\n",
       "    })\n",
       "    test: Dataset({\n",
       "        features: ['text', 'label'],\n",
       "        num_rows: 25000\n",
       "    })\n",
       "    unsupervised: Dataset({\n",
       "        features: ['text', 'label'],\n",
       "        num_rows: 50000\n",
       "    })\n",
       "})"
      ]
     },
     "execution_count": 5,
     "metadata": {},
     "output_type": "execute_result"
    }
   ],
   "source": [
    "from datasets import get_dataset_split_names\n",
    "print(\"Split names\", get_dataset_split_names(database_name))\n",
    "dataset"
   ]
  },
  {
   "cell_type": "markdown",
   "id": "c656680a",
   "metadata": {
    "id": "c656680a"
   },
   "source": [
    "We can see that this database has 3 splits. The \"train\" and \"test\" splits have 25000 rows each and the unsupervised split has 50000 rows."
   ]
  },
  {
   "cell_type": "code",
   "execution_count": 6,
   "id": "efdd18ae",
   "metadata": {
    "colab": {
     "base_uri": "https://localhost:8080/"
    },
    "id": "efdd18ae",
    "outputId": "b155b8ff-6e8c-4111-f6a1-a3f8e2c156e0"
   },
   "outputs": [
    {
     "name": "stdout",
     "output_type": "stream",
     "text": [
      "Test values count : 25000\n",
      "Train values count : 25000\n"
     ]
    },
    {
     "data": {
      "text/plain": [
       "0    25000\n",
       "1    25000\n",
       "Name: label, dtype: int64"
      ]
     },
     "execution_count": 6,
     "metadata": {},
     "output_type": "execute_result"
    }
   ],
   "source": [
    "# To start we are going to split our datasets into 3 differents datasets\n",
    "train = dataset[\"train\"].to_pandas()\n",
    "test = dataset[\"test\"].to_pandas()\n",
    "supervised = pd.concat([train, test])\n",
    "\n",
    "# Then we will have a look on the \n",
    "print(\"Test values count : {0}\".format(len(test)))\n",
    "print(\"Train values count : {0}\".format(len(train)))\n",
    "supervised[\"label\"].value_counts()"
   ]
  },
  {
   "cell_type": "markdown",
   "id": "yvDB-0XxTVB0",
   "metadata": {
    "id": "yvDB-0XxTVB0"
   },
   "source": [
    "Let's now have a look on our dataframe and our data "
   ]
  },
  {
   "cell_type": "code",
   "execution_count": 7,
   "id": "BQb-IzFaTUd9",
   "metadata": {
    "colab": {
     "base_uri": "https://localhost:8080/",
     "height": 206
    },
    "id": "BQb-IzFaTUd9",
    "outputId": "f5503537-4536-4d38-a49e-837fa94cb673"
   },
   "outputs": [
    {
     "data": {
      "text/html": [
       "<div>\n",
       "<style scoped>\n",
       "    .dataframe tbody tr th:only-of-type {\n",
       "        vertical-align: middle;\n",
       "    }\n",
       "\n",
       "    .dataframe tbody tr th {\n",
       "        vertical-align: top;\n",
       "    }\n",
       "\n",
       "    .dataframe thead th {\n",
       "        text-align: right;\n",
       "    }\n",
       "</style>\n",
       "<table border=\"1\" class=\"dataframe\">\n",
       "  <thead>\n",
       "    <tr style=\"text-align: right;\">\n",
       "      <th></th>\n",
       "      <th>text</th>\n",
       "      <th>label</th>\n",
       "    </tr>\n",
       "  </thead>\n",
       "  <tbody>\n",
       "    <tr>\n",
       "      <th>0</th>\n",
       "      <td>I rented I AM CURIOUS-YELLOW from my video sto...</td>\n",
       "      <td>0</td>\n",
       "    </tr>\n",
       "    <tr>\n",
       "      <th>1</th>\n",
       "      <td>\"I Am Curious: Yellow\" is a risible and preten...</td>\n",
       "      <td>0</td>\n",
       "    </tr>\n",
       "    <tr>\n",
       "      <th>2</th>\n",
       "      <td>If only to avoid making this type of film in t...</td>\n",
       "      <td>0</td>\n",
       "    </tr>\n",
       "    <tr>\n",
       "      <th>3</th>\n",
       "      <td>This film was probably inspired by Godard's Ma...</td>\n",
       "      <td>0</td>\n",
       "    </tr>\n",
       "    <tr>\n",
       "      <th>4</th>\n",
       "      <td>Oh, brother...after hearing about this ridicul...</td>\n",
       "      <td>0</td>\n",
       "    </tr>\n",
       "  </tbody>\n",
       "</table>\n",
       "</div>"
      ],
      "text/plain": [
       "                                                text  label\n",
       "0  I rented I AM CURIOUS-YELLOW from my video sto...      0\n",
       "1  \"I Am Curious: Yellow\" is a risible and preten...      0\n",
       "2  If only to avoid making this type of film in t...      0\n",
       "3  This film was probably inspired by Godard's Ma...      0\n",
       "4  Oh, brother...after hearing about this ridicul...      0"
      ]
     },
     "execution_count": 7,
     "metadata": {},
     "output_type": "execute_result"
    }
   ],
   "source": [
    "supervised.head()"
   ]
  },
  {
   "cell_type": "markdown",
   "id": "31e148d6",
   "metadata": {
    "id": "31e148d6"
   },
   "source": [
    "We can see that there are as many positive as negative reviews in the supervised split.Indeed, each class has 25000 occurrences."
   ]
  },
  {
   "cell_type": "markdown",
   "id": "miJNvKFAuY-t",
   "metadata": {
    "id": "miJNvKFAuY-t"
   },
   "source": [
    "## Shuffling the dataset\n",
    "\n",
    "To get more coherent results, is is necessary to shuffle the dataset (we will also need it for the hyperparameter optimization later) as follow:"
   ]
  },
  {
   "cell_type": "code",
   "execution_count": 8,
   "id": "-4eW5diMumRy",
   "metadata": {
    "id": "-4eW5diMumRy"
   },
   "outputs": [],
   "source": [
    "def shuffle(dataset):\n",
    "  return dataset.sample(frac=1).reset_index(drop=True)"
   ]
  },
  {
   "cell_type": "code",
   "execution_count": 9,
   "id": "Tt9My9Myubh5",
   "metadata": {
    "colab": {
     "base_uri": "https://localhost:8080/",
     "height": 206
    },
    "id": "Tt9My9Myubh5",
    "outputId": "fe833f47-5858-472f-ec7f-f10ee54b0fb8"
   },
   "outputs": [
    {
     "data": {
      "text/html": [
       "<div>\n",
       "<style scoped>\n",
       "    .dataframe tbody tr th:only-of-type {\n",
       "        vertical-align: middle;\n",
       "    }\n",
       "\n",
       "    .dataframe tbody tr th {\n",
       "        vertical-align: top;\n",
       "    }\n",
       "\n",
       "    .dataframe thead th {\n",
       "        text-align: right;\n",
       "    }\n",
       "</style>\n",
       "<table border=\"1\" class=\"dataframe\">\n",
       "  <thead>\n",
       "    <tr style=\"text-align: right;\">\n",
       "      <th></th>\n",
       "      <th>text</th>\n",
       "      <th>label</th>\n",
       "    </tr>\n",
       "  </thead>\n",
       "  <tbody>\n",
       "    <tr>\n",
       "      <th>0</th>\n",
       "      <td>I had the opportunity to see this film twice a...</td>\n",
       "      <td>1</td>\n",
       "    </tr>\n",
       "    <tr>\n",
       "      <th>1</th>\n",
       "      <td>Having been driven out of the house and into t...</td>\n",
       "      <td>1</td>\n",
       "    </tr>\n",
       "    <tr>\n",
       "      <th>2</th>\n",
       "      <td>the only enjoyable thing about this highly moc...</td>\n",
       "      <td>0</td>\n",
       "    </tr>\n",
       "    <tr>\n",
       "      <th>3</th>\n",
       "      <td>\"A Family Affair\" takes us back to a less comp...</td>\n",
       "      <td>1</td>\n",
       "    </tr>\n",
       "    <tr>\n",
       "      <th>4</th>\n",
       "      <td>See Dick work.&lt;br /&gt;&lt;br /&gt;See Jane work.&lt;br /&gt;...</td>\n",
       "      <td>0</td>\n",
       "    </tr>\n",
       "  </tbody>\n",
       "</table>\n",
       "</div>"
      ],
      "text/plain": [
       "                                                text  label\n",
       "0  I had the opportunity to see this film twice a...      1\n",
       "1  Having been driven out of the house and into t...      1\n",
       "2  the only enjoyable thing about this highly moc...      0\n",
       "3  \"A Family Affair\" takes us back to a less comp...      1\n",
       "4  See Dick work.<br /><br />See Jane work.<br />...      0"
      ]
     },
     "execution_count": 9,
     "metadata": {},
     "output_type": "execute_result"
    }
   ],
   "source": [
    "train = shuffle(train)\n",
    "test = shuffle(test)\n",
    "supervised = shuffle(supervised)\n",
    "\n",
    "supervised.head()"
   ]
  },
  {
   "cell_type": "markdown",
   "id": "U5jwsw3EvThz",
   "metadata": {
    "id": "U5jwsw3EvThz"
   },
   "source": [
    "We can see that the rows of the datasets have indeed been shuffled, as compared to their previous order."
   ]
  },
  {
   "cell_type": "markdown",
   "id": "G7laklG2X5oN",
   "metadata": {
    "id": "G7laklG2X5oN"
   },
   "source": [
    "## 1 - (2 points) Turn the dataset into a dataset compatible with Fastext (see the Tips on using FastText section a bit lower)\n",
    "\n",
    "The FastText dataset format is:\n",
    "\n",
    "```__label__<your_label> <corresponding text>```\n",
    "\n",
    "For convenience, we will replace the original labels (0 and 1) by their intended meaning, \"negative\" and \"positive\" respectively."
   ]
  },
  {
   "cell_type": "code",
   "execution_count": 10,
   "id": "fD_lYQdPeJa6",
   "metadata": {
    "id": "fD_lYQdPeJa6"
   },
   "outputs": [],
   "source": [
    "def pandas_to_fasttext(pandas_data):\n",
    "  '''Convert a pandas dataset to a string of fasttext format'''\n",
    "  pandas_data = pandas_data.astype('str')\n",
    "  fasttext_data = '__label__' + pandas_data['label'] + ' ' + pandas_data['text']\n",
    "  fasttext_str = fasttext_data.to_string(index=False)\n",
    "  fasttext_str = fasttext_str.replace('0', 'negative').replace('1', 'positive')\n",
    "  return fasttext_str\n",
    "\n",
    "def str_to_txt_file(text, filename):\n",
    "  '''Saves a string as a txt file'''\n",
    "  file = open(filename, \"w\")\n",
    "  file.write(text)\n",
    "  file.close()"
   ]
  },
  {
   "cell_type": "markdown",
   "id": "tl3KhqiJk7zT",
   "metadata": {
    "id": "tl3KhqiJk7zT"
   },
   "source": [
    "We now convert each dataset (train, test and supervised) to fasttext format using the above functions, and save them to text files for later use:"
   ]
  },
  {
   "cell_type": "code",
   "execution_count": 11,
   "id": "WRNrLc4BX2sd",
   "metadata": {
    "colab": {
     "base_uri": "https://localhost:8080/"
    },
    "id": "WRNrLc4BX2sd",
    "outputId": "4223252c-1346-4c52-a5c9-f4ff8cb87a61"
   },
   "outputs": [
    {
     "data": {
      "text/plain": [
       "['__label__negative I actually saw this movie at a theat...',\n",
       " '__label__positive I think this movie would be more enj...',\n",
       " '__label__positive I really enjoyed watching this movie...',\n",
       " \"__label__positive Let's cut to the chase: If you're a ...\",\n",
       " '__label__negative It is quite simple. Friends is a com...',\n",
       " '__label__negative So far after week two of \"The lone o...',\n",
       " '__label__positive Here, on IMDb.com I read an opinion,...',\n",
       " '__label__positive I just watched I. Q. again tonight a...',\n",
       " '__label__negative I rented this flick for one reason T...',\n",
       " '__label__positive Casting unknown Michelle Rodriguez a...']"
      ]
     },
     "execution_count": 11,
     "metadata": {},
     "output_type": "execute_result"
    }
   ],
   "source": [
    "fasttext_train = pandas_to_fasttext(train)\n",
    "str_to_txt_file(fasttext_train, 'train.txt')\n",
    "\n",
    "fasttext_test = pandas_to_fasttext(test)\n",
    "str_to_txt_file(fasttext_test, 'test.txt')\n",
    "\n",
    "fasttext_supervised = pandas_to_fasttext(supervised)\n",
    "str_to_txt_file(fasttext_supervised, 'supervised.txt')\n",
    "\n",
    "fasttext_train.split('\\n')[:10]"
   ]
  },
  {
   "cell_type": "markdown",
   "id": "Z0637ByMlKoT",
   "metadata": {
    "id": "Z0637ByMlKoT"
   },
   "source": [
    "We can see above the result of fasttext formatting, which correspond to the expected format."
   ]
  },
  {
   "cell_type": "markdown",
   "id": "q0gFrYaWbo2h",
   "metadata": {
    "id": "q0gFrYaWbo2h"
   },
   "source": [
    "## 2 - (2 points) Train a FastText classifier with default parameters on the training data, and evaluate it on the test data using accuracy."
   ]
  },
  {
   "cell_type": "code",
   "execution_count": 12,
   "id": "UKlGgrlTzjks",
   "metadata": {
    "id": "UKlGgrlTzjks"
   },
   "outputs": [],
   "source": [
    "import fasttext"
   ]
  },
  {
   "cell_type": "markdown",
   "id": "omY0wxnqlfPe",
   "metadata": {
    "id": "omY0wxnqlfPe"
   },
   "source": [
    "Training simple classifier with formatted train dataset:"
   ]
  },
  {
   "cell_type": "code",
   "execution_count": 13,
   "id": "n4OSpBTTbn49",
   "metadata": {
    "id": "n4OSpBTTbn49"
   },
   "outputs": [
    {
     "name": "stderr",
     "output_type": "stream",
     "text": [
      "\r",
      "Read 0M words\n",
      "Number of words:  26144\n",
      "Number of labels: 2\n",
      "\r",
      "Progress: 100.0% words/sec/thread:  612667 lr: -0.000003 avg.loss:  0.556414 ETA:   0h 0m 0s\r",
      "Progress: 100.0% words/sec/thread:  609972 lr:  0.000000 avg.loss:  0.556414 ETA:   0h 0m 0s\n"
     ]
    }
   ],
   "source": [
    "model = fasttext.train_supervised(input='train.txt')"
   ]
  },
  {
   "cell_type": "markdown",
   "id": "P7K0DcQzll3r",
   "metadata": {
    "id": "P7K0DcQzll3r"
   },
   "source": [
    "Displaying the results of the model on the formatted test dataset:"
   ]
  },
  {
   "cell_type": "code",
   "execution_count": 14,
   "id": "OPidZ4ySkHC5",
   "metadata": {
    "colab": {
     "base_uri": "https://localhost:8080/"
    },
    "id": "OPidZ4ySkHC5",
    "outputId": "643e9a65-3fc2-480a-a8d7-072ef5133358"
   },
   "outputs": [
    {
     "name": "stdout",
     "output_type": "stream",
     "text": [
      "Number of samples: 25000\n",
      "Accurracy: 0.62468\n"
     ]
    }
   ],
   "source": [
    "test_results = model.test(\"test.txt\")\n",
    "print('Number of samples:', test_results[0])\n",
    "print('Accurracy:', test_results[1])"
   ]
  },
  {
   "cell_type": "markdown",
   "id": "oBnbEUhNmb9q",
   "metadata": {
    "id": "oBnbEUhNmb9q"
   },
   "source": [
    "## 3 - (3 points) Use the hyperparameters search functionality of FastText and repeat step 2"
   ]
  },
  {
   "cell_type": "markdown",
   "id": "eyPlTi60ltPw",
   "metadata": {
    "id": "eyPlTi60ltPw"
   },
   "source": [
    "Created the hyper_validation dataset by taking half of the test dataset:"
   ]
  },
  {
   "cell_type": "code",
   "execution_count": 15,
   "id": "wynH16Uqmebs",
   "metadata": {
    "colab": {
     "base_uri": "https://localhost:8080/",
     "height": 424
    },
    "id": "wynH16Uqmebs",
    "outputId": "7fb1421f-2f14-4157-e0e7-7a204ad09d3c"
   },
   "outputs": [
    {
     "data": {
      "text/html": [
       "<div>\n",
       "<style scoped>\n",
       "    .dataframe tbody tr th:only-of-type {\n",
       "        vertical-align: middle;\n",
       "    }\n",
       "\n",
       "    .dataframe tbody tr th {\n",
       "        vertical-align: top;\n",
       "    }\n",
       "\n",
       "    .dataframe thead th {\n",
       "        text-align: right;\n",
       "    }\n",
       "</style>\n",
       "<table border=\"1\" class=\"dataframe\">\n",
       "  <thead>\n",
       "    <tr style=\"text-align: right;\">\n",
       "      <th></th>\n",
       "      <th>text</th>\n",
       "      <th>label</th>\n",
       "    </tr>\n",
       "  </thead>\n",
       "  <tbody>\n",
       "    <tr>\n",
       "      <th>12500</th>\n",
       "      <td>Personally, I LOVED TRIS MOVIE! My best friend...</td>\n",
       "      <td>1</td>\n",
       "    </tr>\n",
       "    <tr>\n",
       "      <th>12501</th>\n",
       "      <td>Is there any question that Jeffrey Combs is on...</td>\n",
       "      <td>1</td>\n",
       "    </tr>\n",
       "    <tr>\n",
       "      <th>12502</th>\n",
       "      <td>I swear I didn't mean to! I picked this out on...</td>\n",
       "      <td>0</td>\n",
       "    </tr>\n",
       "    <tr>\n",
       "      <th>12503</th>\n",
       "      <td>This film is full of charming situations and h...</td>\n",
       "      <td>1</td>\n",
       "    </tr>\n",
       "    <tr>\n",
       "      <th>12504</th>\n",
       "      <td>The authors know nothing about Russians prison...</td>\n",
       "      <td>0</td>\n",
       "    </tr>\n",
       "    <tr>\n",
       "      <th>...</th>\n",
       "      <td>...</td>\n",
       "      <td>...</td>\n",
       "    </tr>\n",
       "    <tr>\n",
       "      <th>24995</th>\n",
       "      <td>I had never even heard of ONE DARK NIGHT until...</td>\n",
       "      <td>0</td>\n",
       "    </tr>\n",
       "    <tr>\n",
       "      <th>24996</th>\n",
       "      <td>I went straight to the big screen to view this...</td>\n",
       "      <td>1</td>\n",
       "    </tr>\n",
       "    <tr>\n",
       "      <th>24997</th>\n",
       "      <td>I think Samuel Goldwyn was trying to accomplis...</td>\n",
       "      <td>1</td>\n",
       "    </tr>\n",
       "    <tr>\n",
       "      <th>24998</th>\n",
       "      <td>I had never heard of Dead Man's Bounty when I ...</td>\n",
       "      <td>0</td>\n",
       "    </tr>\n",
       "    <tr>\n",
       "      <th>24999</th>\n",
       "      <td>Revisiting old films that you thought were ave...</td>\n",
       "      <td>0</td>\n",
       "    </tr>\n",
       "  </tbody>\n",
       "</table>\n",
       "<p>12500 rows × 2 columns</p>\n",
       "</div>"
      ],
      "text/plain": [
       "                                                    text  label\n",
       "12500  Personally, I LOVED TRIS MOVIE! My best friend...      1\n",
       "12501  Is there any question that Jeffrey Combs is on...      1\n",
       "12502  I swear I didn't mean to! I picked this out on...      0\n",
       "12503  This film is full of charming situations and h...      1\n",
       "12504  The authors know nothing about Russians prison...      0\n",
       "...                                                  ...    ...\n",
       "24995  I had never even heard of ONE DARK NIGHT until...      0\n",
       "24996  I went straight to the big screen to view this...      1\n",
       "24997  I think Samuel Goldwyn was trying to accomplis...      1\n",
       "24998  I had never heard of Dead Man's Bounty when I ...      0\n",
       "24999  Revisiting old films that you thought were ave...      0\n",
       "\n",
       "[12500 rows x 2 columns]"
      ]
     },
     "metadata": {},
     "output_type": "display_data"
    }
   ],
   "source": [
    "test_size = len(test)//2\n",
    "\n",
    "hyper_validation = test.iloc[test_size:,:]\n",
    "\n",
    "display(hyper_validation)"
   ]
  },
  {
   "cell_type": "markdown",
   "id": "Qqjlmc3Vl7_A",
   "metadata": {
    "id": "Qqjlmc3Vl7_A"
   },
   "source": [
    "Formatting this validation dataset to fasttext format and saving it to txt file:"
   ]
  },
  {
   "cell_type": "code",
   "execution_count": 16,
   "id": "bpHSjjrEIb-b",
   "metadata": {
    "colab": {
     "base_uri": "https://localhost:8080/"
    },
    "id": "bpHSjjrEIb-b",
    "outputId": "65354dd2-de0c-497b-971b-9a97c9840776"
   },
   "outputs": [
    {
     "data": {
      "text/plain": [
       "['__label__positive Personally, I LOVED TRIS MOVIE! My b...',\n",
       " '__label__positive Is there any question that Jeffrey C...',\n",
       " \"__label__negative I swear I didn't mean to! I picked t...\",\n",
       " '__label__positive This film is full of charming situat...',\n",
       " '__label__negative The authors know nothing about Russi...',\n",
       " '__label__negative Yes, I admire the independent spirit...',\n",
       " '__label__negative I am a fan of a few of the Vacation ...',\n",
       " '__label__positive This super creepy Southern Gothic me...',\n",
       " '__label__positive The Regard of Flight and the Clown B...',\n",
       " '__label__negative Bad plot, bad acting, bad direction....']"
      ]
     },
     "execution_count": 16,
     "metadata": {},
     "output_type": "execute_result"
    }
   ],
   "source": [
    "fasttext_validation = pandas_to_fasttext(hyper_validation)\n",
    "str_to_txt_file(fasttext_validation, 'hyper_validation.txt')\n",
    "\n",
    "fasttext_validation.split('\\n')[:10]"
   ]
  },
  {
   "cell_type": "markdown",
   "id": "9T40eo4wmH4R",
   "metadata": {
    "id": "9T40eo4wmH4R"
   },
   "source": [
    "Training the hyperparameter optimized model with the train and validation dataset:"
   ]
  },
  {
   "cell_type": "code",
   "execution_count": null,
   "id": "4s3VkbzRIkcA",
   "metadata": {
    "id": "4s3VkbzRIkcA"
   },
   "outputs": [
    {
     "name": "stderr",
     "output_type": "stream",
     "text": [
      "Progress:   3.0% Trials:   10 Best score:  0.630480 ETA:   0h 4m50s"
     ]
    }
   ],
   "source": [
    "hyper_model = fasttext.train_supervised(input='train.txt', autotuneValidationFile='hyper_validation.txt')"
   ]
  },
  {
   "cell_type": "markdown",
   "id": "6MUBBu-4mRI0",
   "metadata": {
    "id": "6MUBBu-4mRI0"
   },
   "source": [
    "Displaying optimized model results:"
   ]
  },
  {
   "cell_type": "code",
   "execution_count": null,
   "id": "v7O4ERlKP4QY",
   "metadata": {
    "colab": {
     "base_uri": "https://localhost:8080/"
    },
    "id": "v7O4ERlKP4QY",
    "outputId": "4bd57270-7a02-4384-e6be-e85317f56244"
   },
   "outputs": [],
   "source": [
    "hyper_test_results = hyper_model.test(\"test.txt\")\n",
    "print('Number of samples:', hyper_test_results[0])\n",
    "print('Accurracy:', hyper_test_results[1])"
   ]
  },
  {
   "cell_type": "markdown",
   "id": "r9kyHostNFZs",
   "metadata": {
    "id": "r9kyHostNFZs"
   },
   "source": [
    "## 4 - (1 points) Look at the differences between the default model and the attributes found with hyperparameters search. How do the two models differ? "
   ]
  },
  {
   "cell_type": "markdown",
   "id": "bGpcRE2jmV8F",
   "metadata": {
    "id": "bGpcRE2jmV8F"
   },
   "source": [
    "Displaying the two models performances on the same test dataset:"
   ]
  },
  {
   "cell_type": "code",
   "execution_count": null,
   "id": "kLkkzB_oQtmh",
   "metadata": {
    "colab": {
     "base_uri": "https://localhost:8080/"
    },
    "id": "kLkkzB_oQtmh",
    "outputId": "b71333eb-3477-45b8-a704-2dd369098418"
   },
   "outputs": [],
   "source": [
    "print('Number of samples:', hyper_test_results[0])\n",
    "print('Accurracy (without hyperparameters search):\\n', test_results[1])\n",
    "print('Accurracy (with hyperparameters search):\\n', hyper_test_results[1])"
   ]
  },
  {
   "cell_type": "markdown",
   "id": "uKkdQmKNS-8H",
   "metadata": {
    "id": "uKkdQmKNS-8H"
   },
   "source": [
    "We can see a good improvement of the model accurracy when using hyperparameters search (0.62992 and 0.6498 respectively) on the same test dataset."
   ]
  },
  {
   "cell_type": "markdown",
   "id": "cS5YGAoCTlxs",
   "metadata": {
    "id": "cS5YGAoCTlxs"
   },
   "source": [
    "## 5 - (1 point) Using the tuned model, take at least 2 wrongly classified examples from the test set, and try explaining why the model failed."
   ]
  },
  {
   "cell_type": "markdown",
   "id": "_CcQNp7-miRA",
   "metadata": {
    "id": "_CcQNp7-miRA"
   },
   "source": [
    "Getting all predictions of the tuned model and saving it to 'prediction' variable:"
   ]
  },
  {
   "cell_type": "code",
   "execution_count": null,
   "id": "GbA3T2uWTtNG",
   "metadata": {
    "id": "GbA3T2uWTtNG"
   },
   "outputs": [],
   "source": [
    "predictions = hyper_model.predict(test['text'].tolist())"
   ]
  },
  {
   "cell_type": "markdown",
   "id": "6QQHrgKkmqf5",
   "metadata": {
    "id": "6QQHrgKkmqf5"
   },
   "source": [
    "Displaying the actual versus predicted labels with associated inputs:"
   ]
  },
  {
   "cell_type": "code",
   "execution_count": null,
   "id": "13NOtq2GdMrK",
   "metadata": {
    "colab": {
     "base_uri": "https://localhost:8080/",
     "height": 402
    },
    "id": "13NOtq2GdMrK",
    "outputId": "3a551f3b-847e-4679-b21c-23939fafddd5"
   },
   "outputs": [],
   "source": [
    "print('\\nActual values:')\n",
    "display(fasttext_test.split('\\n')[:5])\n",
    "\n",
    "print('\\nPredictions:')\n",
    "display(predictions[0][:5])\n",
    "\n",
    "print('\\nThe model guessed wongly on the following inputs:')\n",
    "\n",
    "print('- Error 1: Was positive, guessed negative:')\n",
    "print(test.text[1].replace('<br /><br />', ' '))\n",
    "\n",
    "print('\\n- Error 2: Was negative, guessed positive:')\n",
    "print(test.text[5].replace('<br /><br />', ' '))"
   ]
  },
  {
   "cell_type": "markdown",
   "id": "iW7yzviQgi7p",
   "metadata": {
    "id": "iW7yzviQgi7p"
   },
   "source": [
    "We can see that the model guessed wrongly on inputs 1 and 5 of the test dataset.\n",
    "\n",
    "After analysis, it seems that theses inputs contains words that the model probably uses to determine whether or not an input is positive:\n",
    "\n",
    "In input 1, the input is 'positive' but the model guessed 'negative'.\n",
    "This is probably because the following negative words are present in it:\n",
    "- cliché\n",
    "- not-so-popular\n",
    "- tragic\n",
    "- disappointed\n",
    "\n",
    "We can also notice that the first two sentences are obviously negative, which is probably a good part of why the model guessed wrongly.\n",
    "\n",
    "In input 2, the input is 'negative' but the model guessed 'positive'.\n",
    "This is probably because the following negative words are present in it:\n",
    "- I agree\n",
    "- his best sound film\n",
    "- This is a Must-See film!\n",
    "\n",
    "The last sentence, 'This is a Must-See film!', is probably what got the model to guess wrongly."
   ]
  }
 ],
 "metadata": {
  "colab": {
   "collapsed_sections": [],
   "provenance": []
  },
  "gpuClass": "standard",
  "kernelspec": {
   "display_name": "Python 3 (ipykernel)",
   "language": "python",
   "name": "python3"
  },
  "language_info": {
   "codemirror_mode": {
    "name": "ipython",
    "version": 3
   },
   "file_extension": ".py",
   "mimetype": "text/x-python",
   "name": "python",
   "nbconvert_exporter": "python",
   "pygments_lexer": "ipython3",
   "version": "3.8.10"
  },
  "widgets": {
   "application/vnd.jupyter.widget-state+json": {
    "40303fd0345147d9956531f9b128d2ba": {
     "model_module": "@jupyter-widgets/controls",
     "model_module_version": "1.5.0",
     "model_name": "DescriptionStyleModel",
     "state": {
      "_model_module": "@jupyter-widgets/controls",
      "_model_module_version": "1.5.0",
      "_model_name": "DescriptionStyleModel",
      "_view_count": null,
      "_view_module": "@jupyter-widgets/base",
      "_view_module_version": "1.2.0",
      "_view_name": "StyleView",
      "description_width": ""
     }
    },
    "5f089fc192b74c53bb5463423fc6b012": {
     "model_module": "@jupyter-widgets/base",
     "model_module_version": "1.2.0",
     "model_name": "LayoutModel",
     "state": {
      "_model_module": "@jupyter-widgets/base",
      "_model_module_version": "1.2.0",
      "_model_name": "LayoutModel",
      "_view_count": null,
      "_view_module": "@jupyter-widgets/base",
      "_view_module_version": "1.2.0",
      "_view_name": "LayoutView",
      "align_content": null,
      "align_items": null,
      "align_self": null,
      "border": null,
      "bottom": null,
      "display": null,
      "flex": null,
      "flex_flow": null,
      "grid_area": null,
      "grid_auto_columns": null,
      "grid_auto_flow": null,
      "grid_auto_rows": null,
      "grid_column": null,
      "grid_gap": null,
      "grid_row": null,
      "grid_template_areas": null,
      "grid_template_columns": null,
      "grid_template_rows": null,
      "height": null,
      "justify_content": null,
      "justify_items": null,
      "left": null,
      "margin": null,
      "max_height": null,
      "max_width": null,
      "min_height": null,
      "min_width": null,
      "object_fit": null,
      "object_position": null,
      "order": null,
      "overflow": null,
      "overflow_x": null,
      "overflow_y": null,
      "padding": null,
      "right": null,
      "top": null,
      "visibility": null,
      "width": null
     }
    },
    "7b06b1af635a41ef81bef5faf5847c43": {
     "model_module": "@jupyter-widgets/controls",
     "model_module_version": "1.5.0",
     "model_name": "FloatProgressModel",
     "state": {
      "_dom_classes": [],
      "_model_module": "@jupyter-widgets/controls",
      "_model_module_version": "1.5.0",
      "_model_name": "FloatProgressModel",
      "_view_count": null,
      "_view_module": "@jupyter-widgets/controls",
      "_view_module_version": "1.5.0",
      "_view_name": "ProgressView",
      "bar_style": "success",
      "description": "",
      "description_tooltip": null,
      "layout": "IPY_MODEL_7f7bd09f41a2469eaa9079e0d1319f1a",
      "max": 3,
      "min": 0,
      "orientation": "horizontal",
      "style": "IPY_MODEL_d792e048d19949b1b83d1c5bcb33f531",
      "value": 3
     }
    },
    "7e826a9037c94dc8b6681dc56e73eb6d": {
     "model_module": "@jupyter-widgets/controls",
     "model_module_version": "1.5.0",
     "model_name": "HTMLModel",
     "state": {
      "_dom_classes": [],
      "_model_module": "@jupyter-widgets/controls",
      "_model_module_version": "1.5.0",
      "_model_name": "HTMLModel",
      "_view_count": null,
      "_view_module": "@jupyter-widgets/controls",
      "_view_module_version": "1.5.0",
      "_view_name": "HTMLView",
      "description": "",
      "description_tooltip": null,
      "layout": "IPY_MODEL_ece16605f16542b59df5963d04da3549",
      "placeholder": "​",
      "style": "IPY_MODEL_40303fd0345147d9956531f9b128d2ba",
      "value": " 3/3 [00:00&lt;00:00,  9.53it/s]"
     }
    },
    "7f7bd09f41a2469eaa9079e0d1319f1a": {
     "model_module": "@jupyter-widgets/base",
     "model_module_version": "1.2.0",
     "model_name": "LayoutModel",
     "state": {
      "_model_module": "@jupyter-widgets/base",
      "_model_module_version": "1.2.0",
      "_model_name": "LayoutModel",
      "_view_count": null,
      "_view_module": "@jupyter-widgets/base",
      "_view_module_version": "1.2.0",
      "_view_name": "LayoutView",
      "align_content": null,
      "align_items": null,
      "align_self": null,
      "border": null,
      "bottom": null,
      "display": null,
      "flex": null,
      "flex_flow": null,
      "grid_area": null,
      "grid_auto_columns": null,
      "grid_auto_flow": null,
      "grid_auto_rows": null,
      "grid_column": null,
      "grid_gap": null,
      "grid_row": null,
      "grid_template_areas": null,
      "grid_template_columns": null,
      "grid_template_rows": null,
      "height": null,
      "justify_content": null,
      "justify_items": null,
      "left": null,
      "margin": null,
      "max_height": null,
      "max_width": null,
      "min_height": null,
      "min_width": null,
      "object_fit": null,
      "object_position": null,
      "order": null,
      "overflow": null,
      "overflow_x": null,
      "overflow_y": null,
      "padding": null,
      "right": null,
      "top": null,
      "visibility": null,
      "width": null
     }
    },
    "9b87dd25af3d4841a3bca54722561db1": {
     "model_module": "@jupyter-widgets/controls",
     "model_module_version": "1.5.0",
     "model_name": "DescriptionStyleModel",
     "state": {
      "_model_module": "@jupyter-widgets/controls",
      "_model_module_version": "1.5.0",
      "_model_name": "DescriptionStyleModel",
      "_view_count": null,
      "_view_module": "@jupyter-widgets/base",
      "_view_module_version": "1.2.0",
      "_view_name": "StyleView",
      "description_width": ""
     }
    },
    "d792e048d19949b1b83d1c5bcb33f531": {
     "model_module": "@jupyter-widgets/controls",
     "model_module_version": "1.5.0",
     "model_name": "ProgressStyleModel",
     "state": {
      "_model_module": "@jupyter-widgets/controls",
      "_model_module_version": "1.5.0",
      "_model_name": "ProgressStyleModel",
      "_view_count": null,
      "_view_module": "@jupyter-widgets/base",
      "_view_module_version": "1.2.0",
      "_view_name": "StyleView",
      "bar_color": null,
      "description_width": ""
     }
    },
    "d7d8b416aa2c4b5b9ddc7e2d344dbc15": {
     "model_module": "@jupyter-widgets/controls",
     "model_module_version": "1.5.0",
     "model_name": "HBoxModel",
     "state": {
      "_dom_classes": [],
      "_model_module": "@jupyter-widgets/controls",
      "_model_module_version": "1.5.0",
      "_model_name": "HBoxModel",
      "_view_count": null,
      "_view_module": "@jupyter-widgets/controls",
      "_view_module_version": "1.5.0",
      "_view_name": "HBoxView",
      "box_style": "",
      "children": [
       "IPY_MODEL_e7a6b4b398444c98bc93e300daed4b1f",
       "IPY_MODEL_7b06b1af635a41ef81bef5faf5847c43",
       "IPY_MODEL_7e826a9037c94dc8b6681dc56e73eb6d"
      ],
      "layout": "IPY_MODEL_e6cb7d759ed943cea6fee419dc73f55a"
     }
    },
    "e6cb7d759ed943cea6fee419dc73f55a": {
     "model_module": "@jupyter-widgets/base",
     "model_module_version": "1.2.0",
     "model_name": "LayoutModel",
     "state": {
      "_model_module": "@jupyter-widgets/base",
      "_model_module_version": "1.2.0",
      "_model_name": "LayoutModel",
      "_view_count": null,
      "_view_module": "@jupyter-widgets/base",
      "_view_module_version": "1.2.0",
      "_view_name": "LayoutView",
      "align_content": null,
      "align_items": null,
      "align_self": null,
      "border": null,
      "bottom": null,
      "display": null,
      "flex": null,
      "flex_flow": null,
      "grid_area": null,
      "grid_auto_columns": null,
      "grid_auto_flow": null,
      "grid_auto_rows": null,
      "grid_column": null,
      "grid_gap": null,
      "grid_row": null,
      "grid_template_areas": null,
      "grid_template_columns": null,
      "grid_template_rows": null,
      "height": null,
      "justify_content": null,
      "justify_items": null,
      "left": null,
      "margin": null,
      "max_height": null,
      "max_width": null,
      "min_height": null,
      "min_width": null,
      "object_fit": null,
      "object_position": null,
      "order": null,
      "overflow": null,
      "overflow_x": null,
      "overflow_y": null,
      "padding": null,
      "right": null,
      "top": null,
      "visibility": null,
      "width": null
     }
    },
    "e7a6b4b398444c98bc93e300daed4b1f": {
     "model_module": "@jupyter-widgets/controls",
     "model_module_version": "1.5.0",
     "model_name": "HTMLModel",
     "state": {
      "_dom_classes": [],
      "_model_module": "@jupyter-widgets/controls",
      "_model_module_version": "1.5.0",
      "_model_name": "HTMLModel",
      "_view_count": null,
      "_view_module": "@jupyter-widgets/controls",
      "_view_module_version": "1.5.0",
      "_view_name": "HTMLView",
      "description": "",
      "description_tooltip": null,
      "layout": "IPY_MODEL_5f089fc192b74c53bb5463423fc6b012",
      "placeholder": "​",
      "style": "IPY_MODEL_9b87dd25af3d4841a3bca54722561db1",
      "value": "100%"
     }
    },
    "ece16605f16542b59df5963d04da3549": {
     "model_module": "@jupyter-widgets/base",
     "model_module_version": "1.2.0",
     "model_name": "LayoutModel",
     "state": {
      "_model_module": "@jupyter-widgets/base",
      "_model_module_version": "1.2.0",
      "_model_name": "LayoutModel",
      "_view_count": null,
      "_view_module": "@jupyter-widgets/base",
      "_view_module_version": "1.2.0",
      "_view_name": "LayoutView",
      "align_content": null,
      "align_items": null,
      "align_self": null,
      "border": null,
      "bottom": null,
      "display": null,
      "flex": null,
      "flex_flow": null,
      "grid_area": null,
      "grid_auto_columns": null,
      "grid_auto_flow": null,
      "grid_auto_rows": null,
      "grid_column": null,
      "grid_gap": null,
      "grid_row": null,
      "grid_template_areas": null,
      "grid_template_columns": null,
      "grid_template_rows": null,
      "height": null,
      "justify_content": null,
      "justify_items": null,
      "left": null,
      "margin": null,
      "max_height": null,
      "max_width": null,
      "min_height": null,
      "min_width": null,
      "object_fit": null,
      "object_position": null,
      "order": null,
      "overflow": null,
      "overflow_x": null,
      "overflow_y": null,
      "padding": null,
      "right": null,
      "top": null,
      "visibility": null,
      "width": null
     }
    }
   }
  }
 },
 "nbformat": 4,
 "nbformat_minor": 5
}
