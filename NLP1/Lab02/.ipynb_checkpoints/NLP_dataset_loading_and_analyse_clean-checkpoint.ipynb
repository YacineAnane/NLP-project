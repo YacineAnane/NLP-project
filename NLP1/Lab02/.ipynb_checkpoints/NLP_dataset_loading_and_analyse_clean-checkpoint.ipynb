{
 "cells": [
  {
   "cell_type": "markdown",
   "id": "TJxj0RiYp2Mk",
   "metadata": {
    "id": "TJxj0RiYp2Mk"
   },
   "source": [
    "# Lab 02"
   ]
  },
  {
   "cell_type": "markdown",
   "id": "NB8hs5v9p5l-",
   "metadata": {
    "id": "NB8hs5v9p5l-"
   },
   "source": [
    "## Installation and import of necessary librairies"
   ]
  },
  {
   "cell_type": "code",
   "execution_count": 1,
   "id": "Ssy4mPR54HYx",
   "metadata": {
    "colab": {
     "base_uri": "https://localhost:8080/"
    },
    "id": "Ssy4mPR54HYx",
    "outputId": "69eccecd-7ae6-43a2-966a-bbcccac3086c"
   },
   "outputs": [
    {
     "name": "stdout",
     "output_type": "stream",
     "text": [
      "Looking in indexes: https://pypi.org/simple, https://us-python.pkg.dev/colab-wheels/public/simple/\n",
      "Collecting datasets\n",
      "  Downloading datasets-2.4.0-py3-none-any.whl (365 kB)\n",
      "\u001b[K     |████████████████████████████████| 365 kB 5.0 MB/s \n",
      "\u001b[?25hRequirement already satisfied: pyarrow>=6.0.0 in /usr/local/lib/python3.7/dist-packages (from datasets) (6.0.1)\n",
      "Requirement already satisfied: aiohttp in /usr/local/lib/python3.7/dist-packages (from datasets) (3.8.1)\n",
      "Collecting xxhash\n",
      "  Downloading xxhash-3.0.0-cp37-cp37m-manylinux_2_17_x86_64.manylinux2014_x86_64.whl (212 kB)\n",
      "\u001b[K     |████████████████████████████████| 212 kB 55.8 MB/s \n",
      "\u001b[?25hCollecting responses<0.19\n",
      "  Downloading responses-0.18.0-py3-none-any.whl (38 kB)\n",
      "Collecting multiprocess\n",
      "  Downloading multiprocess-0.70.13-py37-none-any.whl (115 kB)\n",
      "\u001b[K     |████████████████████████████████| 115 kB 55.2 MB/s \n",
      "\u001b[?25hRequirement already satisfied: numpy>=1.17 in /usr/local/lib/python3.7/dist-packages (from datasets) (1.21.6)\n",
      "Requirement already satisfied: tqdm>=4.62.1 in /usr/local/lib/python3.7/dist-packages (from datasets) (4.64.1)\n",
      "Requirement already satisfied: packaging in /usr/local/lib/python3.7/dist-packages (from datasets) (21.3)\n",
      "Requirement already satisfied: importlib-metadata in /usr/local/lib/python3.7/dist-packages (from datasets) (4.12.0)\n",
      "Requirement already satisfied: pandas in /usr/local/lib/python3.7/dist-packages (from datasets) (1.3.5)\n",
      "Collecting huggingface-hub<1.0.0,>=0.1.0\n",
      "  Downloading huggingface_hub-0.9.1-py3-none-any.whl (120 kB)\n",
      "\u001b[K     |████████████████████████████████| 120 kB 69.4 MB/s \n",
      "\u001b[?25hRequirement already satisfied: dill<0.3.6 in /usr/local/lib/python3.7/dist-packages (from datasets) (0.3.5.1)\n",
      "Requirement already satisfied: fsspec[http]>=2021.11.1 in /usr/local/lib/python3.7/dist-packages (from datasets) (2022.8.2)\n",
      "Requirement already satisfied: requests>=2.19.0 in /usr/local/lib/python3.7/dist-packages (from datasets) (2.23.0)\n",
      "Requirement already satisfied: typing-extensions>=3.7.4 in /usr/local/lib/python3.7/dist-packages (from aiohttp->datasets) (4.1.1)\n",
      "Requirement already satisfied: multidict<7.0,>=4.5 in /usr/local/lib/python3.7/dist-packages (from aiohttp->datasets) (6.0.2)\n",
      "Requirement already satisfied: charset-normalizer<3.0,>=2.0 in /usr/local/lib/python3.7/dist-packages (from aiohttp->datasets) (2.1.1)\n",
      "Requirement already satisfied: asynctest==0.13.0 in /usr/local/lib/python3.7/dist-packages (from aiohttp->datasets) (0.13.0)\n",
      "Requirement already satisfied: async-timeout<5.0,>=4.0.0a3 in /usr/local/lib/python3.7/dist-packages (from aiohttp->datasets) (4.0.2)\n",
      "Requirement already satisfied: frozenlist>=1.1.1 in /usr/local/lib/python3.7/dist-packages (from aiohttp->datasets) (1.3.1)\n",
      "Requirement already satisfied: yarl<2.0,>=1.0 in /usr/local/lib/python3.7/dist-packages (from aiohttp->datasets) (1.8.1)\n",
      "Requirement already satisfied: attrs>=17.3.0 in /usr/local/lib/python3.7/dist-packages (from aiohttp->datasets) (22.1.0)\n",
      "Requirement already satisfied: aiosignal>=1.1.2 in /usr/local/lib/python3.7/dist-packages (from aiohttp->datasets) (1.2.0)\n",
      "Requirement already satisfied: filelock in /usr/local/lib/python3.7/dist-packages (from huggingface-hub<1.0.0,>=0.1.0->datasets) (3.8.0)\n",
      "Requirement already satisfied: pyyaml>=5.1 in /usr/local/lib/python3.7/dist-packages (from huggingface-hub<1.0.0,>=0.1.0->datasets) (6.0)\n",
      "Requirement already satisfied: pyparsing!=3.0.5,>=2.0.2 in /usr/local/lib/python3.7/dist-packages (from packaging->datasets) (3.0.9)\n",
      "Requirement already satisfied: chardet<4,>=3.0.2 in /usr/local/lib/python3.7/dist-packages (from requests>=2.19.0->datasets) (3.0.4)\n",
      "Requirement already satisfied: urllib3!=1.25.0,!=1.25.1,<1.26,>=1.21.1 in /usr/local/lib/python3.7/dist-packages (from requests>=2.19.0->datasets) (1.24.3)\n",
      "Requirement already satisfied: idna<3,>=2.5 in /usr/local/lib/python3.7/dist-packages (from requests>=2.19.0->datasets) (2.10)\n",
      "Requirement already satisfied: certifi>=2017.4.17 in /usr/local/lib/python3.7/dist-packages (from requests>=2.19.0->datasets) (2022.6.15)\n",
      "Collecting urllib3!=1.25.0,!=1.25.1,<1.26,>=1.21.1\n",
      "  Downloading urllib3-1.25.11-py2.py3-none-any.whl (127 kB)\n",
      "\u001b[K     |████████████████████████████████| 127 kB 48.2 MB/s \n",
      "\u001b[?25hRequirement already satisfied: zipp>=0.5 in /usr/local/lib/python3.7/dist-packages (from importlib-metadata->datasets) (3.8.1)\n",
      "Requirement already satisfied: pytz>=2017.3 in /usr/local/lib/python3.7/dist-packages (from pandas->datasets) (2022.2.1)\n",
      "Requirement already satisfied: python-dateutil>=2.7.3 in /usr/local/lib/python3.7/dist-packages (from pandas->datasets) (2.8.2)\n",
      "Requirement already satisfied: six>=1.5 in /usr/local/lib/python3.7/dist-packages (from python-dateutil>=2.7.3->pandas->datasets) (1.15.0)\n",
      "Installing collected packages: urllib3, xxhash, responses, multiprocess, huggingface-hub, datasets\n",
      "  Attempting uninstall: urllib3\n",
      "    Found existing installation: urllib3 1.24.3\n",
      "    Uninstalling urllib3-1.24.3:\n",
      "      Successfully uninstalled urllib3-1.24.3\n",
      "Successfully installed datasets-2.4.0 huggingface-hub-0.9.1 multiprocess-0.70.13 responses-0.18.0 urllib3-1.25.11 xxhash-3.0.0\n"
     ]
    }
   ],
   "source": [
    "!pip install datasets"
   ]
  },
  {
   "cell_type": "code",
   "execution_count": 2,
   "id": "cd26d54c",
   "metadata": {
    "colab": {
     "base_uri": "https://localhost:8080/"
    },
    "id": "cd26d54c",
    "outputId": "82dcbfbb-4112-436d-9a4d-9e2eb77531ec"
   },
   "outputs": [
    {
     "name": "stdout",
     "output_type": "stream",
     "text": [
      "Looking in indexes: https://pypi.org/simple, https://us-python.pkg.dev/colab-wheels/public/simple/\n",
      "Requirement already satisfied: spacy in /usr/local/lib/python3.7/dist-packages (3.4.1)\n",
      "Requirement already satisfied: typing-extensions<4.2.0,>=3.7.4 in /usr/local/lib/python3.7/dist-packages (from spacy) (4.1.1)\n",
      "Requirement already satisfied: tqdm<5.0.0,>=4.38.0 in /usr/local/lib/python3.7/dist-packages (from spacy) (4.64.1)\n",
      "Requirement already satisfied: srsly<3.0.0,>=2.4.3 in /usr/local/lib/python3.7/dist-packages (from spacy) (2.4.4)\n",
      "Requirement already satisfied: typer<0.5.0,>=0.3.0 in /usr/local/lib/python3.7/dist-packages (from spacy) (0.4.2)\n",
      "Requirement already satisfied: jinja2 in /usr/local/lib/python3.7/dist-packages (from spacy) (2.11.3)\n",
      "Requirement already satisfied: spacy-loggers<2.0.0,>=1.0.0 in /usr/local/lib/python3.7/dist-packages (from spacy) (1.0.3)\n",
      "Requirement already satisfied: langcodes<4.0.0,>=3.2.0 in /usr/local/lib/python3.7/dist-packages (from spacy) (3.3.0)\n",
      "Requirement already satisfied: pathy>=0.3.5 in /usr/local/lib/python3.7/dist-packages (from spacy) (0.6.2)\n",
      "Requirement already satisfied: preshed<3.1.0,>=3.0.2 in /usr/local/lib/python3.7/dist-packages (from spacy) (3.0.7)\n",
      "Requirement already satisfied: thinc<8.2.0,>=8.1.0 in /usr/local/lib/python3.7/dist-packages (from spacy) (8.1.0)\n",
      "Requirement already satisfied: wasabi<1.1.0,>=0.9.1 in /usr/local/lib/python3.7/dist-packages (from spacy) (0.10.1)\n",
      "Requirement already satisfied: cymem<2.1.0,>=2.0.2 in /usr/local/lib/python3.7/dist-packages (from spacy) (2.0.6)\n",
      "Requirement already satisfied: numpy>=1.15.0 in /usr/local/lib/python3.7/dist-packages (from spacy) (1.21.6)\n",
      "Requirement already satisfied: packaging>=20.0 in /usr/local/lib/python3.7/dist-packages (from spacy) (21.3)\n",
      "Requirement already satisfied: murmurhash<1.1.0,>=0.28.0 in /usr/local/lib/python3.7/dist-packages (from spacy) (1.0.8)\n",
      "Requirement already satisfied: spacy-legacy<3.1.0,>=3.0.9 in /usr/local/lib/python3.7/dist-packages (from spacy) (3.0.10)\n",
      "Requirement already satisfied: catalogue<2.1.0,>=2.0.6 in /usr/local/lib/python3.7/dist-packages (from spacy) (2.0.8)\n",
      "Requirement already satisfied: setuptools in /usr/local/lib/python3.7/dist-packages (from spacy) (57.4.0)\n",
      "Requirement already satisfied: pydantic!=1.8,!=1.8.1,<1.10.0,>=1.7.4 in /usr/local/lib/python3.7/dist-packages (from spacy) (1.9.2)\n",
      "Requirement already satisfied: requests<3.0.0,>=2.13.0 in /usr/local/lib/python3.7/dist-packages (from spacy) (2.23.0)\n",
      "Requirement already satisfied: zipp>=0.5 in /usr/local/lib/python3.7/dist-packages (from catalogue<2.1.0,>=2.0.6->spacy) (3.8.1)\n",
      "Requirement already satisfied: pyparsing!=3.0.5,>=2.0.2 in /usr/local/lib/python3.7/dist-packages (from packaging>=20.0->spacy) (3.0.9)\n",
      "Requirement already satisfied: smart-open<6.0.0,>=5.2.1 in /usr/local/lib/python3.7/dist-packages (from pathy>=0.3.5->spacy) (5.2.1)\n",
      "Requirement already satisfied: chardet<4,>=3.0.2 in /usr/local/lib/python3.7/dist-packages (from requests<3.0.0,>=2.13.0->spacy) (3.0.4)\n",
      "Requirement already satisfied: certifi>=2017.4.17 in /usr/local/lib/python3.7/dist-packages (from requests<3.0.0,>=2.13.0->spacy) (2022.6.15)\n",
      "Requirement already satisfied: idna<3,>=2.5 in /usr/local/lib/python3.7/dist-packages (from requests<3.0.0,>=2.13.0->spacy) (2.10)\n",
      "Requirement already satisfied: urllib3!=1.25.0,!=1.25.1,<1.26,>=1.21.1 in /usr/local/lib/python3.7/dist-packages (from requests<3.0.0,>=2.13.0->spacy) (1.25.11)\n",
      "Requirement already satisfied: blis<0.8.0,>=0.7.8 in /usr/local/lib/python3.7/dist-packages (from thinc<8.2.0,>=8.1.0->spacy) (0.7.8)\n",
      "Requirement already satisfied: click<9.0.0,>=7.1.1 in /usr/local/lib/python3.7/dist-packages (from typer<0.5.0,>=0.3.0->spacy) (7.1.2)\n",
      "Requirement already satisfied: MarkupSafe>=0.23 in /usr/local/lib/python3.7/dist-packages (from jinja2->spacy) (2.0.1)\n"
     ]
    }
   ],
   "source": [
    "# !pip install spacy"
   ]
  },
  {
   "cell_type": "code",
   "execution_count": 3,
   "id": "-fnTKz_P3ekZ",
   "metadata": {
    "colab": {
     "base_uri": "https://localhost:8080/"
    },
    "id": "-fnTKz_P3ekZ",
    "outputId": "03c3d456-fb2d-4650-d6f3-4712acd6b61b"
   },
   "outputs": [
    {
     "name": "stdout",
     "output_type": "stream",
     "text": [
      "2022-09-17 11:29:40.019316: E tensorflow/stream_executor/cuda/cuda_driver.cc:271] failed call to cuInit: CUDA_ERROR_NO_DEVICE: no CUDA-capable device is detected\n",
      "Looking in indexes: https://pypi.org/simple, https://us-python.pkg.dev/colab-wheels/public/simple/\n",
      "Collecting en-core-web-sm==3.4.0\n",
      "  Downloading https://github.com/explosion/spacy-models/releases/download/en_core_web_sm-3.4.0/en_core_web_sm-3.4.0-py3-none-any.whl (12.8 MB)\n",
      "\u001b[K     |████████████████████████████████| 12.8 MB 5.0 MB/s \n",
      "\u001b[?25hRequirement already satisfied: spacy<3.5.0,>=3.4.0 in /usr/local/lib/python3.7/dist-packages (from en-core-web-sm==3.4.0) (3.4.1)\n",
      "Requirement already satisfied: typing-extensions<4.2.0,>=3.7.4 in /usr/local/lib/python3.7/dist-packages (from spacy<3.5.0,>=3.4.0->en-core-web-sm==3.4.0) (4.1.1)\n",
      "Requirement already satisfied: numpy>=1.15.0 in /usr/local/lib/python3.7/dist-packages (from spacy<3.5.0,>=3.4.0->en-core-web-sm==3.4.0) (1.21.6)\n",
      "Requirement already satisfied: murmurhash<1.1.0,>=0.28.0 in /usr/local/lib/python3.7/dist-packages (from spacy<3.5.0,>=3.4.0->en-core-web-sm==3.4.0) (1.0.8)\n",
      "Requirement already satisfied: catalogue<2.1.0,>=2.0.6 in /usr/local/lib/python3.7/dist-packages (from spacy<3.5.0,>=3.4.0->en-core-web-sm==3.4.0) (2.0.8)\n",
      "Requirement already satisfied: typer<0.5.0,>=0.3.0 in /usr/local/lib/python3.7/dist-packages (from spacy<3.5.0,>=3.4.0->en-core-web-sm==3.4.0) (0.4.2)\n",
      "Requirement already satisfied: setuptools in /usr/local/lib/python3.7/dist-packages (from spacy<3.5.0,>=3.4.0->en-core-web-sm==3.4.0) (57.4.0)\n",
      "Requirement already satisfied: packaging>=20.0 in /usr/local/lib/python3.7/dist-packages (from spacy<3.5.0,>=3.4.0->en-core-web-sm==3.4.0) (21.3)\n",
      "Requirement already satisfied: srsly<3.0.0,>=2.4.3 in /usr/local/lib/python3.7/dist-packages (from spacy<3.5.0,>=3.4.0->en-core-web-sm==3.4.0) (2.4.4)\n",
      "Requirement already satisfied: spacy-legacy<3.1.0,>=3.0.9 in /usr/local/lib/python3.7/dist-packages (from spacy<3.5.0,>=3.4.0->en-core-web-sm==3.4.0) (3.0.10)\n",
      "Requirement already satisfied: preshed<3.1.0,>=3.0.2 in /usr/local/lib/python3.7/dist-packages (from spacy<3.5.0,>=3.4.0->en-core-web-sm==3.4.0) (3.0.7)\n",
      "Requirement already satisfied: cymem<2.1.0,>=2.0.2 in /usr/local/lib/python3.7/dist-packages (from spacy<3.5.0,>=3.4.0->en-core-web-sm==3.4.0) (2.0.6)\n",
      "Requirement already satisfied: jinja2 in /usr/local/lib/python3.7/dist-packages (from spacy<3.5.0,>=3.4.0->en-core-web-sm==3.4.0) (2.11.3)\n",
      "Requirement already satisfied: pathy>=0.3.5 in /usr/local/lib/python3.7/dist-packages (from spacy<3.5.0,>=3.4.0->en-core-web-sm==3.4.0) (0.6.2)\n",
      "Requirement already satisfied: spacy-loggers<2.0.0,>=1.0.0 in /usr/local/lib/python3.7/dist-packages (from spacy<3.5.0,>=3.4.0->en-core-web-sm==3.4.0) (1.0.3)\n",
      "Requirement already satisfied: langcodes<4.0.0,>=3.2.0 in /usr/local/lib/python3.7/dist-packages (from spacy<3.5.0,>=3.4.0->en-core-web-sm==3.4.0) (3.3.0)\n",
      "Requirement already satisfied: pydantic!=1.8,!=1.8.1,<1.10.0,>=1.7.4 in /usr/local/lib/python3.7/dist-packages (from spacy<3.5.0,>=3.4.0->en-core-web-sm==3.4.0) (1.9.2)\n",
      "Requirement already satisfied: requests<3.0.0,>=2.13.0 in /usr/local/lib/python3.7/dist-packages (from spacy<3.5.0,>=3.4.0->en-core-web-sm==3.4.0) (2.23.0)\n",
      "Requirement already satisfied: wasabi<1.1.0,>=0.9.1 in /usr/local/lib/python3.7/dist-packages (from spacy<3.5.0,>=3.4.0->en-core-web-sm==3.4.0) (0.10.1)\n",
      "Requirement already satisfied: tqdm<5.0.0,>=4.38.0 in /usr/local/lib/python3.7/dist-packages (from spacy<3.5.0,>=3.4.0->en-core-web-sm==3.4.0) (4.64.1)\n",
      "Requirement already satisfied: thinc<8.2.0,>=8.1.0 in /usr/local/lib/python3.7/dist-packages (from spacy<3.5.0,>=3.4.0->en-core-web-sm==3.4.0) (8.1.0)\n",
      "Requirement already satisfied: zipp>=0.5 in /usr/local/lib/python3.7/dist-packages (from catalogue<2.1.0,>=2.0.6->spacy<3.5.0,>=3.4.0->en-core-web-sm==3.4.0) (3.8.1)\n",
      "Requirement already satisfied: pyparsing!=3.0.5,>=2.0.2 in /usr/local/lib/python3.7/dist-packages (from packaging>=20.0->spacy<3.5.0,>=3.4.0->en-core-web-sm==3.4.0) (3.0.9)\n",
      "Requirement already satisfied: smart-open<6.0.0,>=5.2.1 in /usr/local/lib/python3.7/dist-packages (from pathy>=0.3.5->spacy<3.5.0,>=3.4.0->en-core-web-sm==3.4.0) (5.2.1)\n",
      "Requirement already satisfied: urllib3!=1.25.0,!=1.25.1,<1.26,>=1.21.1 in /usr/local/lib/python3.7/dist-packages (from requests<3.0.0,>=2.13.0->spacy<3.5.0,>=3.4.0->en-core-web-sm==3.4.0) (1.25.11)\n",
      "Requirement already satisfied: chardet<4,>=3.0.2 in /usr/local/lib/python3.7/dist-packages (from requests<3.0.0,>=2.13.0->spacy<3.5.0,>=3.4.0->en-core-web-sm==3.4.0) (3.0.4)\n",
      "Requirement already satisfied: idna<3,>=2.5 in /usr/local/lib/python3.7/dist-packages (from requests<3.0.0,>=2.13.0->spacy<3.5.0,>=3.4.0->en-core-web-sm==3.4.0) (2.10)\n",
      "Requirement already satisfied: certifi>=2017.4.17 in /usr/local/lib/python3.7/dist-packages (from requests<3.0.0,>=2.13.0->spacy<3.5.0,>=3.4.0->en-core-web-sm==3.4.0) (2022.6.15)\n",
      "Requirement already satisfied: blis<0.8.0,>=0.7.8 in /usr/local/lib/python3.7/dist-packages (from thinc<8.2.0,>=8.1.0->spacy<3.5.0,>=3.4.0->en-core-web-sm==3.4.0) (0.7.8)\n",
      "Requirement already satisfied: click<9.0.0,>=7.1.1 in /usr/local/lib/python3.7/dist-packages (from typer<0.5.0,>=0.3.0->spacy<3.5.0,>=3.4.0->en-core-web-sm==3.4.0) (7.1.2)\n",
      "Requirement already satisfied: MarkupSafe>=0.23 in /usr/local/lib/python3.7/dist-packages (from jinja2->spacy<3.5.0,>=3.4.0->en-core-web-sm==3.4.0) (2.0.1)\n",
      "\u001b[38;5;2m✔ Download and installation successful\u001b[0m\n",
      "You can now load the package via spacy.load('en_core_web_sm')\n"
     ]
    }
   ],
   "source": [
    "# !python3 -m spacy download en_core_web_sm"
   ]
  },
  {
   "cell_type": "code",
   "execution_count": 1,
   "id": "bf3a7873",
   "metadata": {
    "id": "bf3a7873"
   },
   "outputs": [
    {
     "name": "stderr",
     "output_type": "stream",
     "text": [
      "/usr/lib/python3/dist-packages/requests/__init__.py:89: RequestsDependencyWarning: urllib3 (1.26.12) or chardet (3.0.4) doesn't match a supported version!\n",
      "  warnings.warn(\"urllib3 ({}) or chardet ({}) doesn't match a supported \"\n"
     ]
    }
   ],
   "source": [
    "from datasets import load_dataset_builder\n",
    "from datasets import load_dataset\n",
    "import pandas as pd\n",
    "import numpy as np\n",
    "\n",
    "import nltk\n",
    "from nltk.stem.snowball import SnowballStemmer\n",
    "from nltk.tokenize import word_tokenize \n",
    "import re\n",
    "# import spacy\n",
    "\n",
    "from sklearn.feature_extraction.text import CountVectorizer\n",
    "from sklearn.model_selection import train_test_split\n",
    "from sklearn.naive_bayes import MultinomialNB\n",
    "from sklearn.metrics import accuracy_score\n",
    "from sklearn.metrics import classification_report\n",
    "from sklearn.metrics import f1_score\n",
    "from sklearn.pipeline import Pipeline\n",
    "\n",
    "SEED = 42"
   ]
  },
  {
   "cell_type": "markdown",
   "id": "5fde6883",
   "metadata": {
    "id": "5fde6883"
   },
   "source": [
    "## The dataset\n",
    "\n",
    "The IMDB sentiment dataset is a collection of 50K movie reviews, annotated as positive or negative, and split in two sets of equal size: a training and a test set. Both set have an equal number of positive and negative review. The dataset is available on several libraries, but we ask that you use the HuggingFace [datasets](https://huggingface.co/datasets/imdb) version. Follow their [tutorial](https://huggingface.co/docs/datasets/load_hub) on how to use the library for more details.\n",
    "\n",
    "Download and look at the dataset, and answer the following questions.\n",
    "1. How many splits does the dataset has? (1 point)\n",
    "2. How big are these splits? (1 point)\n",
    "3. What is the proportion of each class on the supervised splits? (1 point)"
   ]
  },
  {
   "cell_type": "markdown",
   "id": "fIO8RU4lqAsp",
   "metadata": {
    "id": "fIO8RU4lqAsp"
   },
   "source": [
    "To start, we will load our dataset and then we will have a look on how it is strutured."
   ]
  },
  {
   "cell_type": "code",
   "execution_count": 2,
   "id": "b33665df",
   "metadata": {
    "colab": {
     "base_uri": "https://localhost:8080/",
     "height": 0,
     "referenced_widgets": [
      "9f5e2406c5214125a389834dcf0c2b6a",
      "6a959691abb545d393d2ade605a2d296",
      "28aeeed653d843ce826f2864f7c822cb",
      "bea67724ec9341d9bb506d3fede9ac33",
      "5b5973d4055a433b94baffb61ed35623",
      "332c3085aa9e4b96ac3beeaf190c5cf8",
      "b630be462a3b44228652a2199a9bfdab",
      "0c44eca40fc042a8b9eb659b4b4e45d5",
      "c006ddd7c89345baa1854960ae667bdf",
      "a9157fb6d29e483a8bcd9c95a5173e88",
      "0ac837c7ef7f4e189aec7cd3c0117d53",
      "623cac26630a45cea43985ac535bf642",
      "0206b33995de472a8ec7bc0a0158fb9c",
      "4a709e0085f74900bec06d0230b9f33c",
      "f25a2900fb18476e962caadea5352cdb",
      "548396060cd44bf5bad456cb4976b173",
      "fcb5e249c41c4ff1922c9f36cb390428",
      "fa8dce6ac2014c9fa1418ace5ea14f8c",
      "8d68b523e249445cbb3a7053bf63dfaf",
      "cb231f7c114e4781980ce5a95839e2ac",
      "ccf119c07e5e48b28b7a77186a54f3dc",
      "476c48359f2749d6ac08514d90f914c6",
      "4fdd371d0ff744d581fe3eb25c34168b",
      "dd3c77e5b93e45d185672f6634ce3470",
      "4fcd1012882648279780cf77de4fb356",
      "738be95ec67f4f4b9f33ad649a2008fb",
      "0a1569cffecd4b4f8e402105c0d25ed1",
      "7f597747bcb3423897451e8cea14b668",
      "6f331e7551bc438884b72e5e6571477a",
      "ac229c259ce34fcc97b3ff91eb556cce",
      "605b36d328e24b22b4d983c2dda7bd78",
      "d4ab7ae47120415496f970582d3b85ce",
      "5d31c8ccd0c44bd5a4e9e261077bef13",
      "7ef7dfcbfe8d487cb059a23155f734d0",
      "33660e477ad14eaaa6004eeada29de0e",
      "d235e537faad41d88544e2057d553829",
      "5e25b1ae93e7473092072b7830844b93",
      "b67482b653914ccba8ba6bbbce264d12",
      "63841b586b6c443eb45ea3d90b1b81e3",
      "ef78ab95f2ac4d4cbcff4b8f2a919a1d",
      "094d3e88b9d44a6b9a0b2ba3e2aca144",
      "5cbe84c587b14393b26476a2d45b9f80",
      "6d61e2f08baa46b4901b1d9a835b2480",
      "52f895607bd149579c5bd3752ce231d5",
      "6b5702c922fd49ef80b39addc6160807",
      "a4349815fa364bf7841775f5cc4e548f",
      "0f5fceba2b344570997fa16f4817d8c3",
      "186a41f6289545c08a661de037868362",
      "6181dcbcbcd148979511e1efca1ea0b8",
      "f2ad90db7e1a458186cf0397a6fca5f8",
      "f60856bd72ba47d1875a50c978500b56",
      "a2dfa879bf3a4fffa035bfc3268c2c0f",
      "294b5806b9ee410fa5e15d4a84ad385e",
      "e4d8617c91ef4513acc7f239e1f07586",
      "dcd9c034ad87470da3f693e4155ec834",
      "09a2bb5c8bd444cf9104b51ed9a6c4b4",
      "bc784ea4d7174dc58e40465e53aec352",
      "b30120545b334db2b74df07a0592999e",
      "f6afba1f17634716b47e588f3c5ef3ae",
      "862d1ce8c15643fa9b20062cdf2872cb",
      "ba100a97a0344df68466276c283ed0e0",
      "50fe0abaf885497e9ce02e04492c9bd6",
      "fa4dfc3b84944ce9bfe1c69c8a5e15de",
      "cbcd35a316fb40cd9ebf2f946b9e73e3",
      "f336831e89ea4469abb28aaaa7cea7e8",
      "083481e459294406877f6ccb20ccb660",
      "291b23c5f77347828caf512f77cf0726",
      "5a4147daf1774cd3ae24051b3a8a0c60",
      "da8cf0462dcf4a8da13c19a71c6a2e27",
      "b378326de03c47698f877e6abb29ebdf",
      "e1f6e1dcc80c468591b5147f59d5611a",
      "cf9319c8566343ad940c0f1049e289f7",
      "d1a146eabb134300bdc34345a20d85a1",
      "9c4d9f85cb4043019e61a3bd834c9840",
      "5f454e119a0e47d68daf4777613230e1",
      "e37eca954cf34359acd76313677efa5b",
      "2ade8f12a3d14d74ac62504396f09c09"
     ]
    },
    "id": "b33665df",
    "outputId": "03a1d88c-4237-46b7-c02d-08ec31f75ea6"
   },
   "outputs": [
    {
     "name": "stdout",
     "output_type": "stream",
     "text": [
      "Large Movie Review Dataset.\n",
      "This is a dataset for binary sentiment classification containing substantially more data than previous benchmark datasets. We provide a set of 25,000 highly polar movie reviews for training, and 25,000 for testing. There is additional unlabeled data for use as well.\n",
      "{'text': Value(dtype='string', id=None), 'label': ClassLabel(num_classes=2, names=['neg', 'pos'], id=None)}\n"
     ]
    },
    {
     "name": "stderr",
     "output_type": "stream",
     "text": [
      "Reusing dataset imdb (/home/yacine/.cache/huggingface/datasets/imdb/plain_text/1.0.0/2fdd8b9bcadd6e7055e742a706876ba43f19faee861df134affd7a3f60fc38a1)\n"
     ]
    },
    {
     "data": {
      "application/vnd.jupyter.widget-view+json": {
       "model_id": "8d7225cca1474eb3ad3d2f72c3969da5",
       "version_major": 2,
       "version_minor": 0
      },
      "text/plain": [
       "  0%|          | 0/3 [00:00<?, ?it/s]"
      ]
     },
     "metadata": {},
     "output_type": "display_data"
    }
   ],
   "source": [
    "database_name = \"imdb\"\n",
    "ds_builder = load_dataset_builder(database_name)\n",
    "print(ds_builder.info.description)\n",
    "print(ds_builder.info.features)\n",
    "\n",
    "dataset = load_dataset(database_name)"
   ]
  },
  {
   "cell_type": "code",
   "execution_count": 3,
   "id": "004e5408",
   "metadata": {
    "colab": {
     "base_uri": "https://localhost:8080/"
    },
    "id": "004e5408",
    "outputId": "350e5480-c23e-44b3-eead-d47afcb48357"
   },
   "outputs": [
    {
     "name": "stdout",
     "output_type": "stream",
     "text": [
      "Split names ['train', 'test', 'unsupervised']\n"
     ]
    },
    {
     "data": {
      "text/plain": [
       "DatasetDict({\n",
       "    train: Dataset({\n",
       "        features: ['text', 'label'],\n",
       "        num_rows: 25000\n",
       "    })\n",
       "    test: Dataset({\n",
       "        features: ['text', 'label'],\n",
       "        num_rows: 25000\n",
       "    })\n",
       "    unsupervised: Dataset({\n",
       "        features: ['text', 'label'],\n",
       "        num_rows: 50000\n",
       "    })\n",
       "})"
      ]
     },
     "execution_count": 3,
     "metadata": {},
     "output_type": "execute_result"
    }
   ],
   "source": [
    "from datasets import get_dataset_split_names\n",
    "print(\"Split names\", get_dataset_split_names(database_name))\n",
    "dataset"
   ]
  },
  {
   "cell_type": "markdown",
   "id": "c656680a",
   "metadata": {
    "id": "c656680a"
   },
   "source": [
    "As we can see, our dataset has 3 splits. The \"train\" and \"test\" splits have 25000 rows each and the unsupervised split has 50000 rows. We will in our case use the \"train\" and \"test\" splits that have 25000 rows each as we will do some supervised learning."
   ]
  },
  {
   "cell_type": "code",
   "execution_count": 4,
   "id": "efdd18ae",
   "metadata": {
    "colab": {
     "base_uri": "https://localhost:8080/"
    },
    "id": "efdd18ae",
    "outputId": "702ddeb9-5bc5-4536-b06b-7463dd06ff52"
   },
   "outputs": [
    {
     "name": "stdout",
     "output_type": "stream",
     "text": [
      "Test values count : 25000\n",
      "Train values count : 25000\n"
     ]
    }
   ],
   "source": [
    "# To start we are going to split our datasets into 3 differents datasets\n",
    "train = dataset[\"train\"].to_pandas()\n",
    "test = dataset[\"test\"].to_pandas()\n",
    "\n",
    "# Then we will have a look on the \n",
    "print(\"Test values count : {0}\".format(len(test)))\n",
    "print(\"Train values count : {0}\".format(len(train)))"
   ]
  },
  {
   "cell_type": "markdown",
   "id": "31e148d6",
   "metadata": {
    "id": "31e148d6"
   },
   "source": [
    "We can see that there are as many positive as negative reviews in the supervised split. Indeed, each class has 25000 occurrences."
   ]
  },
  {
   "cell_type": "markdown",
   "id": "38d99781",
   "metadata": {
    "id": "38d99781"
   },
   "source": [
    "## Naive Bayes classifier **(9 points)**\n",
    "\n",
    "Implement your own naive Bayes classifier (the pseudo code can be found in the slides or the [book reference](https://web.stanford.edu/~jurafsky/slp3/)) or use [one provided by scikit-learn](https://scikit-learn.org/stable/modules/naive_bayes.html#multinomial-naive-bayes) combined with a [CountVectorizer](https://scikit-learn.org/stable/modules/generated/sklearn.feature_extraction.text.CountVectorizer.html).\n",
    "\n",
    "Go through the following steps.\n",
    "1. (2 points) Take a look at the data and create an adapted preprocessing function which at least:\n",
    "   1. Lower case the text.\n",
    "   2. Remove punctuation (you can use `from string import punctuation` to ease your work).\n",
    "2. (4 points) Implement and train a naive Bayes classifier on the training data. Either:\n",
    "   * Code your own classifier following the algorithm given in class.\n",
    "   * Or use a scikit-learn [Pipeline](https://scikit-learn.org/stable/modules/compose.html#pipeline) with a [CountVectorizer](https://scikit-learn.org/stable/modules/generated/sklearn.feature_extraction.text.CountVectorizer.html) and [MultinomialNB](https://scikit-learn.org/stable/modules/generated/sklearn.naive_bayes.MultinomialNB.html) classifier. (Recommended)\n",
    "3. (1 point) Report the accuracy on both training and test set.\n",
    "4. (1 point) Why is accuracy a sufficient measure of evaluation here?\n",
    "5. **\\[Bonus\\]** What are the top 10 most important words (features) for each class? (bonus points)\n",
    "   1. Look at the words with the highest likelihood in each class (if you use scikit-learn, you want to check `feature_log_prob_`).\n",
    "   2. Remove stopwords (see [NLTK stopwords corpus](https://pythonspot.com/nltk-stop-words/)) and check again.\n",
    "6. Take at least 2 wrongly classified example from the test set and try explaining why the model failed. (1 point)"
   ]
  },
  {
   "cell_type": "markdown",
   "id": "954b60fe",
   "metadata": {
    "id": "954b60fe"
   },
   "source": [
    "### 1. Preprocessing"
   ]
  },
  {
   "cell_type": "markdown",
   "id": "yvDB-0XxTVB0",
   "metadata": {
    "id": "yvDB-0XxTVB0"
   },
   "source": [
    "Before doing any preprocessing on our data, let's now have a look on our dataframe."
   ]
  },
  {
   "cell_type": "code",
   "execution_count": 5,
   "id": "BQb-IzFaTUd9",
   "metadata": {
    "colab": {
     "base_uri": "https://localhost:8080/",
     "height": 0
    },
    "id": "BQb-IzFaTUd9",
    "outputId": "8348dc26-e320-433d-b214-7d1b3b3d7573",
    "scrolled": false
   },
   "outputs": [
    {
     "data": {
      "text/html": [
       "<div>\n",
       "<style scoped>\n",
       "    .dataframe tbody tr th:only-of-type {\n",
       "        vertical-align: middle;\n",
       "    }\n",
       "\n",
       "    .dataframe tbody tr th {\n",
       "        vertical-align: top;\n",
       "    }\n",
       "\n",
       "    .dataframe thead th {\n",
       "        text-align: right;\n",
       "    }\n",
       "</style>\n",
       "<table border=\"1\" class=\"dataframe\">\n",
       "  <thead>\n",
       "    <tr style=\"text-align: right;\">\n",
       "      <th></th>\n",
       "      <th>text</th>\n",
       "      <th>label</th>\n",
       "    </tr>\n",
       "  </thead>\n",
       "  <tbody>\n",
       "    <tr>\n",
       "      <th>0</th>\n",
       "      <td>I rented I AM CURIOUS-YELLOW from my video sto...</td>\n",
       "      <td>0</td>\n",
       "    </tr>\n",
       "    <tr>\n",
       "      <th>1</th>\n",
       "      <td>\"I Am Curious: Yellow\" is a risible and preten...</td>\n",
       "      <td>0</td>\n",
       "    </tr>\n",
       "    <tr>\n",
       "      <th>2</th>\n",
       "      <td>If only to avoid making this type of film in t...</td>\n",
       "      <td>0</td>\n",
       "    </tr>\n",
       "    <tr>\n",
       "      <th>3</th>\n",
       "      <td>This film was probably inspired by Godard's Ma...</td>\n",
       "      <td>0</td>\n",
       "    </tr>\n",
       "    <tr>\n",
       "      <th>4</th>\n",
       "      <td>Oh, brother...after hearing about this ridicul...</td>\n",
       "      <td>0</td>\n",
       "    </tr>\n",
       "  </tbody>\n",
       "</table>\n",
       "</div>"
      ],
      "text/plain": [
       "                                                text  label\n",
       "0  I rented I AM CURIOUS-YELLOW from my video sto...      0\n",
       "1  \"I Am Curious: Yellow\" is a risible and preten...      0\n",
       "2  If only to avoid making this type of film in t...      0\n",
       "3  This film was probably inspired by Godard's Ma...      0\n",
       "4  Oh, brother...after hearing about this ridicul...      0"
      ]
     },
     "execution_count": 5,
     "metadata": {},
     "output_type": "execute_result"
    }
   ],
   "source": [
    "train.head()"
   ]
  },
  {
   "cell_type": "markdown",
   "id": "c43b1093",
   "metadata": {
    "id": "c43b1093"
   },
   "source": [
    "We can see here that we have some uppercase characters and ponctuation. So for our process, let's change all of our uppercase to lowercase and remove the punctuation.\n",
    "\n",
    "To do this, we will use our utility_functions.py file that contains all the needed function for our preprocessing."
   ]
  },
  {
   "cell_type": "code",
   "execution_count": 6,
   "id": "aabca6f7",
   "metadata": {
    "id": "aabca6f7"
   },
   "outputs": [],
   "source": [
    "import utility_functions\n",
    "\n",
    "# Replace uppercase with lowercases + remove punctuation\n",
    "train = utility_functions.preprocess_df(train)\n",
    "test = utility_functions.preprocess_df(test)"
   ]
  },
  {
   "cell_type": "markdown",
   "id": "Xq6WuqLctN5J",
   "metadata": {
    "id": "Xq6WuqLctN5J"
   },
   "source": [
    "Let's now have a look on the result that is our processed dataframe."
   ]
  },
  {
   "cell_type": "code",
   "execution_count": 7,
   "id": "0ff7f9d3",
   "metadata": {
    "colab": {
     "base_uri": "https://localhost:8080/",
     "height": 0
    },
    "id": "0ff7f9d3",
    "outputId": "d2cbe0cf-c5e1-48c1-c370-d6e172185fd6"
   },
   "outputs": [
    {
     "data": {
      "text/html": [
       "<div>\n",
       "<style scoped>\n",
       "    .dataframe tbody tr th:only-of-type {\n",
       "        vertical-align: middle;\n",
       "    }\n",
       "\n",
       "    .dataframe tbody tr th {\n",
       "        vertical-align: top;\n",
       "    }\n",
       "\n",
       "    .dataframe thead th {\n",
       "        text-align: right;\n",
       "    }\n",
       "</style>\n",
       "<table border=\"1\" class=\"dataframe\">\n",
       "  <thead>\n",
       "    <tr style=\"text-align: right;\">\n",
       "      <th></th>\n",
       "      <th>text</th>\n",
       "      <th>label</th>\n",
       "    </tr>\n",
       "  </thead>\n",
       "  <tbody>\n",
       "    <tr>\n",
       "      <th>0</th>\n",
       "      <td>i rented i am curiousyellow from my video stor...</td>\n",
       "      <td>0</td>\n",
       "    </tr>\n",
       "    <tr>\n",
       "      <th>1</th>\n",
       "      <td>i am curious yellow is a risible and pretentio...</td>\n",
       "      <td>0</td>\n",
       "    </tr>\n",
       "    <tr>\n",
       "      <th>2</th>\n",
       "      <td>if only to avoid making this type of film in t...</td>\n",
       "      <td>0</td>\n",
       "    </tr>\n",
       "    <tr>\n",
       "      <th>3</th>\n",
       "      <td>this film was probably inspired by godards mas...</td>\n",
       "      <td>0</td>\n",
       "    </tr>\n",
       "    <tr>\n",
       "      <th>4</th>\n",
       "      <td>oh brotherafter hearing about this ridiculous ...</td>\n",
       "      <td>0</td>\n",
       "    </tr>\n",
       "  </tbody>\n",
       "</table>\n",
       "</div>"
      ],
      "text/plain": [
       "                                                text  label\n",
       "0  i rented i am curiousyellow from my video stor...      0\n",
       "1  i am curious yellow is a risible and pretentio...      0\n",
       "2  if only to avoid making this type of film in t...      0\n",
       "3  this film was probably inspired by godards mas...      0\n",
       "4  oh brotherafter hearing about this ridiculous ...      0"
      ]
     },
     "execution_count": 7,
     "metadata": {},
     "output_type": "execute_result"
    }
   ],
   "source": [
    "train.head()"
   ]
  },
  {
   "cell_type": "markdown",
   "id": "m6_UPpKowTBI",
   "metadata": {
    "id": "m6_UPpKowTBI"
   },
   "source": [
    "### 2. Naive Bayes classifier "
   ]
  },
  {
   "cell_type": "markdown",
   "id": "jBXSo0F7GnfG",
   "metadata": {
    "id": "jBXSo0F7GnfG"
   },
   "source": [
    "As our data is now procesed, let's create a Naive Bayes classifier for our dataset.\n",
    "\n",
    "To do that, we will use a Pipeline that will have 2 parameters : \n",
    "\n",
    "- One CountVectorizer to process our data\n",
    "\n",
    "- Our Naive Bayes which will be a MultinomialNB"
   ]
  },
  {
   "cell_type": "code",
   "execution_count": 9,
   "id": "2lvUcZ2T6Cgy",
   "metadata": {
    "colab": {
     "base_uri": "https://localhost:8080/"
    },
    "id": "2lvUcZ2T6Cgy",
    "outputId": "125b6c50-6d93-4994-924d-f860daf1cbc9"
   },
   "outputs": [
    {
     "data": {
      "text/plain": [
       "Pipeline(steps=[('Vect', CountVectorizer()), ('Mnb', MultinomialNB())])"
      ]
     },
     "execution_count": 9,
     "metadata": {},
     "output_type": "execute_result"
    }
   ],
   "source": [
    "# Creating our pipeline \n",
    "pipeline = Pipeline([('Vect', CountVectorizer()), ('Mnb', MultinomialNB())])\n",
    "\n",
    "# Fitting our pipeline on the train data (with the lables as we are doing supervised learning)\n",
    "pipeline.fit(train['text'], train['label'])"
   ]
  },
  {
   "cell_type": "markdown",
   "id": "ab3236fb",
   "metadata": {},
   "source": [
    "#### 3. Accuracy"
   ]
  },
  {
   "cell_type": "code",
   "execution_count": 10,
   "id": "IXafLPvZVBMp",
   "metadata": {
    "colab": {
     "base_uri": "https://localhost:8080/"
    },
    "id": "IXafLPvZVBMp",
    "outputId": "2f953d3c-a32e-47a0-c2b5-62ebac80b696"
   },
   "outputs": [
    {
     "name": "stdout",
     "output_type": "stream",
     "text": [
      "train accuracy 0.91284\n",
      "train f1-score 0.9099847151650349\n",
      "\n",
      "test accuracy 0.8172\n",
      "test f1-score 0.8051338904997442\n"
     ]
    }
   ],
   "source": [
    "# Predicting the results of the test data \n",
    "predictions = pipeline.predict(test['text'])\n",
    "train_predictions = pipeline.predict(train['text'])\n",
    "\n",
    "# Computing the F1_score and accuracy\n",
    "# For the train dataset \n",
    "print(\"train accuracy\", pipeline.score(train['text'], train['label']))\n",
    "print(\"train f1-score\", f1_score(train['label'], train_predictions))\n",
    "\n",
    "# For the test dataset\n",
    "print(\"\\ntest accuracy\", pipeline.score(test['text'], test['label']))\n",
    "print(\"test f1-score\", f1_score(test['label'], predictions))"
   ]
  },
  {
   "cell_type": "markdown",
   "id": "b06e7d53",
   "metadata": {},
   "source": [
    "#### 4. Why is accuracy a sufficient measure of evaluation here?"
   ]
  },
  {
   "cell_type": "markdown",
   "id": "e20af13c",
   "metadata": {
    "id": "e20af13c"
   },
   "source": [
    "We can see that the f1-score and the accuracy are simillar because the dataset is perfectly balenced. So the accuracy is a sufficient metric.\n",
    "\n",
    "We can also have a look on how many good predictions our model have and how many bad ones he did."
   ]
  },
  {
   "cell_type": "markdown",
   "id": "37ca89c6",
   "metadata": {},
   "source": [
    "#### 5.1 top 10 most important words for each class"
   ]
  },
  {
   "cell_type": "code",
   "execution_count": 22,
   "id": "eec10f51",
   "metadata": {},
   "outputs": [
    {
     "data": {
      "text/plain": [
       "{'alpha': 1.0, 'class_prior': None, 'fit_prior': True}"
      ]
     },
     "execution_count": 22,
     "metadata": {},
     "output_type": "execute_result"
    }
   ],
   "source": [
    "# pipeline[\"Mnb\"].feature_log_prob_\n",
    "pipeline[\"Mnb\"].get_params()"
   ]
  },
  {
   "cell_type": "markdown",
   "id": "6667c5fc",
   "metadata": {},
   "source": [
    "#### 5.2 Remove stopwords"
   ]
  },
  {
   "cell_type": "markdown",
   "id": "f065ae96",
   "metadata": {},
   "source": [
    "#### 6. Wrongly classified example explaination"
   ]
  },
  {
   "cell_type": "code",
   "execution_count": 15,
   "id": "a14626fa",
   "metadata": {
    "colab": {
     "base_uri": "https://localhost:8080/"
    },
    "id": "a14626fa",
    "outputId": "b247b19a-9363-42f7-82f5-7ae31558faa6"
   },
   "outputs": [
    {
     "name": "stdout",
     "output_type": "stream",
     "text": [
      "Classification errors:\n",
      "five minutes in i started to feel how naff this was looking youve got a completely unheroic hero and his overweight fool of a friend seen it all before yeah right i was getting ready to be bored out of my mind for a good few hours this is something i have become quite used to havent we all then after a few minutes of testosterone fuelled insults and such the truck appeared okay the filming techniques used to make it look fast were clumsy but who cares that truck is amazing soon however that is taken away again and were back to the geek and his overweight friend but now im satisfied that at least it wont be too terrible i then proceed to be amazed again and again by the cleverness of the film there are so many jokes at their expense its like everyone in the world is in on this except the two of them the mind behind the makeup and effects was a genius i swear it believe me if you are a man you miss so many of the jokes in this film there is so much here that only a girl can understandbr br brother bob is by far the best hillbilly killer that can be found anywhere the fact that hes sewn together just adds to the effect there are of course some really dud science facts in here but isnt that always the case when our hero is having a nose bleed and using the blood to lead brother bob to his death now that is rubbish there is no way a nose bleed can be that bad and not mean a severed artery or something im all with the use of too much blood but that is taking it a little too far the incest jokes are a little predictable but funny nonetheless and the way brother bob meets his end is more than classic overall this movie rules it really breaks out of the overacted melodramatic strain of horror that we got so much of in 20032005 the end of this move simply could not have been betterbr br this is a definite must watch for anyone who likes their horror with several side orders of gore and attitude \n",
      "\n",
      "i caught this movie on the scifi channel recently it actually turned out to be pretty decent as far as blist horrorsuspense films go two guys one naive and one loud mouthed a take a road trip to stop a wedding but have the worst possible luck when a maniac in a freaky makeshift tanktruck hybrid decides to play catandmouse with them things are further complicated when they pick up a ridiculously whorish hitchhiker what makes this film unique is that the combination of comedy and terror actually work in this movie unlike so many others the two guys are likable enough and there are some good chasesuspense scenes nice pacing and comic timing make this movie more than passable for the horrorslasher buff definitely worth checking out \n",
      "\n"
     ]
    }
   ],
   "source": [
    "naive_bayes_predictions = pipeline.predict(test[\"text\"])\n",
    "\n",
    "print(\"Classification errors:\")\n",
    "wrong_prediction_sample = test[test['label'] != naive_bayes_predictions][\"text\"][-2:]\n",
    "for review in wrong_prediction_sample:\n",
    "    print(review, \"\\n\")"
   ]
  },
  {
   "cell_type": "markdown",
   "id": "ad913611",
   "metadata": {
    "id": "ad913611"
   },
   "source": [
    "The first review is positive and has been classified as negative. Because the author had a bad feeling about the first minutes of the film, many words with a negative connotation are present such as: \"unheroic\", \"fool\", \"bored\", \"clumsy\". But as time goes by, the author appreciates the film more and more and uses words with positive connotations. So there are both words with positive and words with negative connotations which makes the classification harder for the model. The review being about an horror movie, negative words such as: \"killer\", \"blood\", \"horror\"; were used to discribe the atmosphere and events of the movie. These words may have influenced the model to classify the review as a negative review.\n",
    "\n",
    "Like the first one, the second review is also positive and has been classified as negative. And just like the first review, we find a lot of negative words such as: \"worst\", \"freaky\", \"ridiculously\", \"passable\",\"horror\", \"terror\". These words may have caused a wrong classification. "
   ]
  },
  {
   "cell_type": "code",
   "execution_count": 13,
   "id": "VTkaWOs3Z0bw",
   "metadata": {
    "colab": {
     "base_uri": "https://localhost:8080/"
    },
    "id": "VTkaWOs3Z0bw",
    "outputId": "e02e9bbf-7a67-4995-9293-56cf4dcd2edb"
   },
   "outputs": [
    {
     "name": "stdout",
     "output_type": "stream",
     "text": [
      "same values : 0        20430\n",
      "label    20430\n",
      "dtype: int64\n",
      "different values : 0        4570\n",
      "label    4570\n",
      "dtype: int64\n"
     ]
    }
   ],
   "source": [
    "# Creating a new dataset to have another look on the results of our prediction\n",
    "test_df = pd.concat([pd.Series(predictions), test['label']], axis=1)\n",
    "\n",
    "print(\"same values :\", test_df[test_df[0] == test_df['label']].count())\n",
    "print(\"different values : {0}\".format(test_df[test_df[0] != test_df['label']].count()))"
   ]
  },
  {
   "cell_type": "markdown",
   "id": "r5td_QM_wY9s",
   "metadata": {
    "id": "r5td_QM_wY9s"
   },
   "source": [
    "## Stemming and Lemmatization\n",
    "\n",
    "The two notebooks in this directory give examples on how to run stemming and lemmatization using NLTK or spaCy. Pick either stemming or lemmatization, and add the operation to your pretreatment.\n",
    "\n",
    "1. (2 points) Add stemming or lemmatization to your pretreatment.\n",
    "2. (1 point) Train and evaluate your model again with these pretreatment.\n",
    "3. (1 point) Are the results better or worse? Try explaining why the accuracy changed."
   ]
  },
  {
   "cell_type": "markdown",
   "id": "AlAjrtW-EMoM",
   "metadata": {
    "id": "AlAjrtW-EMoM"
   },
   "source": [
    "Now that we saw the results of our model with a very simple preprocessing, let's add some processing to our data with two possible choices :\n",
    "\n",
    "- Stemming\n",
    "\n",
    "- Lemmatization \n",
    "\n",
    "Let's have a look on the results of these two before choosing."
   ]
  },
  {
   "cell_type": "markdown",
   "id": "A2cH-UDiEsVf",
   "metadata": {
    "id": "A2cH-UDiEsVf"
   },
   "source": [
    "### Stemming "
   ]
  },
  {
   "cell_type": "markdown",
   "id": "QHAEz8Xvcz8o",
   "metadata": {
    "id": "QHAEz8Xvcz8o"
   },
   "source": [
    "To start, before adding the stemming to our preprocessing, we will need to download the necessary packages and setup our stemmer and the function that will be used in our CountVectorizer to use our stemmer."
   ]
  },
  {
   "cell_type": "code",
   "execution_count": 14,
   "id": "GAj1wH_27YD1",
   "metadata": {
    "colab": {
     "base_uri": "https://localhost:8080/"
    },
    "id": "GAj1wH_27YD1",
    "outputId": "44d8398d-f94c-4783-c4ac-7bea5b0f3959"
   },
   "outputs": [
    {
     "name": "stderr",
     "output_type": "stream",
     "text": [
      "[nltk_data] Downloading package punkt to /root/nltk_data...\n",
      "[nltk_data]   Unzipping tokenizers/punkt.zip.\n"
     ]
    }
   ],
   "source": [
    "# We need to download a package for word tokenization\n",
    "nltk.download('punkt')\n",
    "\n",
    "# Setting up our stemmer and CountVectorizer\n",
    "re_word = re.compile(r\"^\\w+$\")\n",
    "stemmer = SnowballStemmer(\"english\")\n",
    "analyzer = CountVectorizer().build_analyzer()\n",
    "\n",
    "# Function used in the CountVectorizer to use our stemmer\n",
    "def stemmed_words(doc):\n",
    "    return (stemmer.stem(w) for w in analyzer(doc))"
   ]
  },
  {
   "cell_type": "markdown",
   "id": "ARZMab1Zd9wF",
   "metadata": {
    "id": "ARZMab1Zd9wF"
   },
   "source": [
    "Then now, we can use our pipeline with our stemmer and check the results that it will give us !"
   ]
  },
  {
   "cell_type": "code",
   "execution_count": 15,
   "id": "3swV7TJ5eIix",
   "metadata": {
    "id": "3swV7TJ5eIix"
   },
   "outputs": [],
   "source": [
    "# Creation of our pipeline \n",
    "pipeline_stemmer = Pipeline([('Vect', CountVectorizer(analyzer=stemmed_words)), ('Mnb', MultinomialNB())])\n",
    "\n",
    "# Fitting on the train data \n",
    "pipeline_stemmer.fit(train['text'], train['label'])\n",
    "\n",
    "# Predicting the results of the test data \n",
    "predictions_stemmer = pipeline_stemmer.predict(test['text'])"
   ]
  },
  {
   "cell_type": "markdown",
   "id": "QxyGj8aNeWto",
   "metadata": {
    "id": "QxyGj8aNeWto"
   },
   "source": [
    "Now that we have the results, let's have a look on the accuracy of our model with stemming :"
   ]
  },
  {
   "cell_type": "code",
   "execution_count": 16,
   "id": "AVZHMRP4ecvz",
   "metadata": {
    "colab": {
     "base_uri": "https://localhost:8080/"
    },
    "id": "AVZHMRP4ecvz",
    "outputId": "6f5a6ad6-d221-418a-e2b4-9f842575bae3"
   },
   "outputs": [
    {
     "name": "stdout",
     "output_type": "stream",
     "text": [
      "train accuracy 0.90084\n",
      "train f1-score 0.8975831439785169\n",
      "\n",
      "test accuracy 0.8094\n",
      "test f1-score 0.7966195740321823\n"
     ]
    }
   ],
   "source": [
    "# Computing the F1_score and accuracy\n",
    "# For the train dataset \n",
    "print(\"train accuracy\", pipeline_stemmer.score(train['text'], train['label']))\n",
    "print(\"train f1-score\", f1_score(train['label'], pipeline_stemmer.predict(train['text'])))\n",
    "\n",
    "# For the test dataset\n",
    "print(\"\\ntest accuracy\", pipeline_stemmer.score(test['text'], test['label']))\n",
    "print(\"test f1-score\", f1_score(test['label'], predictions_stemmer))"
   ]
  },
  {
   "cell_type": "markdown",
   "id": "VR1sUce1lgOz",
   "metadata": {
    "id": "VR1sUce1lgOz"
   },
   "source": [
    "As we can see it here, the results are not really improving by adding the stemming to our preprocessing. It is in fact the opposite in our case. "
   ]
  },
  {
   "cell_type": "markdown",
   "id": "GfCEzd-2KICJ",
   "metadata": {
    "id": "GfCEzd-2KICJ"
   },
   "source": [
    "### Lemmatization"
   ]
  },
  {
   "cell_type": "markdown",
   "id": "pH5unbpXmjfw",
   "metadata": {
    "id": "pH5unbpXmjfw"
   },
   "source": [
    "To start, before adding the lemmatization to our preprocessing, we will need to download the necessary packages and setup our lemmatizer and the function that will be used in our CountVectorizer to use our lemmatizer."
   ]
  },
  {
   "cell_type": "code",
   "execution_count": 17,
   "id": "ny0tfGgXm8Zx",
   "metadata": {
    "colab": {
     "base_uri": "https://localhost:8080/"
    },
    "id": "ny0tfGgXm8Zx",
    "outputId": "5fa02744-f3e7-4563-b94a-b30c2519a50f"
   },
   "outputs": [
    {
     "name": "stderr",
     "output_type": "stream",
     "text": [
      "[nltk_data] Downloading package wordnet to /root/nltk_data...\n",
      "[nltk_data] Downloading package omw-1.4 to /root/nltk_data...\n"
     ]
    }
   ],
   "source": [
    "from nltk.stem import WordNetLemmatizer\n",
    "\n",
    "# Downloading needed packages for our lemmatizer\n",
    "nltk.download('wordnet')\n",
    "nltk.download(\"omw-1.4\")\n",
    "re_word = re.compile(r\"^\\w+$\")\n",
    "# Creating our lemmatizer\n",
    "lemmatizer = WordNetLemmatizer()\n",
    "\n",
    "# This is the function that will be used in our CountVectorizer\n",
    "def tokenize(text):\n",
    "    tokens = nltk.word_tokenize(text)\n",
    "    return [lemmatizer.lemmatize(token) for token in tokens]"
   ]
  },
  {
   "cell_type": "markdown",
   "id": "TfDck-iP8dRs",
   "metadata": {
    "id": "TfDck-iP8dRs"
   },
   "source": [
    "Then now, we can use our pipeline with our lemmatizer and check the results that it will give us !"
   ]
  },
  {
   "cell_type": "code",
   "execution_count": 18,
   "id": "p0MeqKg0KJJW",
   "metadata": {
    "colab": {
     "base_uri": "https://localhost:8080/"
    },
    "id": "p0MeqKg0KJJW",
    "outputId": "97c693a2-1b48-461c-cca4-66cc9fb2a8d6"
   },
   "outputs": [
    {
     "name": "stderr",
     "output_type": "stream",
     "text": [
      "/usr/local/lib/python3.7/dist-packages/sklearn/feature_extraction/text.py:401: UserWarning: Your stop_words may be inconsistent with your preprocessing. Tokenizing the stop words generated tokens ['ha', 'le', 'u', 'wa'] not in stop_words.\n",
      "  % sorted(inconsistent)\n"
     ]
    }
   ],
   "source": [
    "# Creation of our pipeline \n",
    "pipeline_lemmatizer = Pipeline([('Vect', CountVectorizer(tokenizer=tokenize, stop_words='english')), ('Mnb', MultinomialNB())])\n",
    "\n",
    "# Fitting on the train data \n",
    "pipeline_lemmatizer.fit(train['text'], train['label'])\n",
    "\n",
    "# Predicting the results of the test data \n",
    "predictions_lemmatizer = pipeline_lemmatizer.predict(test['text'])"
   ]
  },
  {
   "cell_type": "markdown",
   "id": "F-70dpY89q0M",
   "metadata": {
    "id": "F-70dpY89q0M"
   },
   "source": [
    "Now that we have the results, let's have a look on the accuracy of our model with the lemmatizer :"
   ]
  },
  {
   "cell_type": "code",
   "execution_count": 19,
   "id": "zcKWdKz19qra",
   "metadata": {
    "colab": {
     "base_uri": "https://localhost:8080/"
    },
    "id": "zcKWdKz19qra",
    "outputId": "2fe4a68c-ad19-4303-b49b-af11cbf4db30"
   },
   "outputs": [
    {
     "name": "stdout",
     "output_type": "stream",
     "text": [
      "train accuracy 0.92052\n",
      "train f1-score 0.9185221634477386\n",
      "\n",
      "test accuracy 0.82004\n",
      "test f1-score 0.8088703853179829\n"
     ]
    }
   ],
   "source": [
    "# Computing the F1_score and accuracy\n",
    "# For the train dataset \n",
    "print(\"train accuracy\", pipeline_lemmatizer.score(train['text'], train['label']))\n",
    "print(\"train f1-score\", f1_score(train['label'], pipeline_lemmatizer.predict(train['text'])))\n",
    "\n",
    "# For the test dataset\n",
    "print(\"\\ntest accuracy\", pipeline_lemmatizer.score(test['text'], test['label']))\n",
    "print(\"test f1-score\", f1_score(test['label'], predictions_lemmatizer))"
   ]
  },
  {
   "cell_type": "markdown",
   "id": "OX0Ey7h7DrM5",
   "metadata": {
    "id": "OX0Ey7h7DrM5"
   },
   "source": [
    "As we can see it, our results are better than the ones with the stemmer but they are still very close to our original results so it may not be an optimal adding to our preprocessing."
   ]
  },
  {
   "cell_type": "markdown",
   "id": "IwMNm1ixwqY6",
   "metadata": {
    "id": "IwMNm1ixwqY6"
   },
   "source": [
    "## A final look on the results"
   ]
  },
  {
   "cell_type": "code",
   "execution_count": 20,
   "id": "402c86fc",
   "metadata": {
    "colab": {
     "base_uri": "https://localhost:8080/"
    },
    "id": "a14626fa",
    "outputId": "b247b19a-9363-42f7-82f5-7ae31558faa6"
   },
   "outputs": [
    {
     "name": "stdout",
     "output_type": "stream",
     "text": [
      "Lemmatizer errors:\n",
      "im sorry but star wars episode 1 did not do any justice to natalie portmans talent and undeniable cuteness she was entirely underused as queen amidala and when she was used her makeup was frighteningly terrible for anywhere but here she sheds her godawful makeup and she acts normally and not only can she act good she looks good doing it im a bit older than she shes only 18 and i have little or no chance of meeting her but hey a guy is allowed to dream rightbr br even though susan sarandon does take a good turn in this movie the film belongs entirely to portman ive been a watcher of portmans since beautiful girls where she was younger but just as cute theres big things for her in the future  i can see it \n",
      "\n",
      "Lemmatized text:\n",
      "['im', 'sorry', 'but', 'star', 'war', 'episode', '1', 'did', 'not', 'do', 'any', 'justice', 'to', 'natalie', 'portmans', 'talent', 'and', 'undeniable', 'cuteness', 'she', 'wa', 'entirely', 'underused', 'a', 'queen', 'amidala', 'and', 'when', 'she', 'wa', 'used', 'her', 'makeup', 'wa', 'frighteningly', 'terrible', 'for', 'anywhere', 'but', 'here', 'she', 'shed', 'her', 'godawful', 'makeup', 'and', 'she', 'act', 'normally', 'and', 'not', 'only', 'can', 'she', 'act', 'good', 'she', 'look', 'good', 'doing', 'it', 'im', 'a', 'bit', 'older', 'than', 'she', 'shes', 'only', '18', 'and', 'i', 'have', 'little', 'or', 'no', 'chance', 'of', 'meeting', 'her', 'but', 'hey', 'a', 'guy', 'is', 'allowed', 'to', 'dream', 'rightbr', 'br', 'even', 'though', 'susan', 'sarandon', 'doe', 'take', 'a', 'good', 'turn', 'in', 'this', 'movie', 'the', 'film', 'belongs', 'entirely', 'to', 'portman', 'ive', 'been', 'a', 'watcher', 'of', 'portmans', 'since', 'beautiful', 'girl', 'where', 'she', 'wa', 'younger', 'but', 'just', 'a', 'cute', 'there', 'big', 'thing', 'for', 'her', 'in', 'the', 'future', 'i', 'can', 'see', 'it'] \n",
      "\n",
      "um hello rainbow brite the name alone is hard to take it seriously like she could be the cousin of strawberry shortcake but when youre a kid this is definitely serious stuffbr br so theres this vile snotty spoiled girl and she wants rainbow brites belt amongst other things ie the light of the whole universe and rainbow brite and her friend cris are bound and determined to stop her as i remember murky and lurky had a minor role in this production maybe they wanted too much moneybr br so anyway snotty evil girl has a powerful jewel and she channels its power to take rainbows belt imagine but somehow rainbow gets her belt back and reenergizes it with star sprinkles and kicks the bad girls butt with the help of cris and his prism bracelet and they also save the whole universe in the processbr br so good triumphs over evil niceness triumphs over rudeness and rainbow brite and the color kids are once again safe to spread color and joy for all mankind \n",
      "\n",
      "Lemmatized text:\n",
      "['um', 'hello', 'rainbow', 'brite', 'the', 'name', 'alone', 'is', 'hard', 'to', 'take', 'it', 'seriously', 'like', 'she', 'could', 'be', 'the', 'cousin', 'of', 'strawberry', 'shortcake', 'but', 'when', 'youre', 'a', 'kid', 'this', 'is', 'definitely', 'serious', 'stuffbr', 'br', 'so', 'there', 'this', 'vile', 'snotty', 'spoiled', 'girl', 'and', 'she', 'want', 'rainbow', 'brites', 'belt', 'amongst', 'other', 'thing', 'ie', 'the', 'light', 'of', 'the', 'whole', 'universe', 'and', 'rainbow', 'brite', 'and', 'her', 'friend', 'cris', 'are', 'bound', 'and', 'determined', 'to', 'stop', 'her', 'a', 'i', 'remember', 'murky', 'and', 'lurky', 'had', 'a', 'minor', 'role', 'in', 'this', 'production', 'maybe', 'they', 'wanted', 'too', 'much', 'moneybr', 'br', 'so', 'anyway', 'snotty', 'evil', 'girl', 'ha', 'a', 'powerful', 'jewel', 'and', 'she', 'channel', 'it', 'power', 'to', 'take', 'rainbow', 'belt', 'imagine', 'but', 'somehow', 'rainbow', 'get', 'her', 'belt', 'back', 'and', 'reenergizes', 'it', 'with', 'star', 'sprinkle', 'and', 'kick', 'the', 'bad', 'girl', 'butt', 'with', 'the', 'help', 'of', 'cris', 'and', 'his', 'prism', 'bracelet', 'and', 'they', 'also', 'save', 'the', 'whole', 'universe', 'in', 'the', 'processbr', 'br', 'so', 'good', 'triumph', 'over', 'evil', 'niceness', 'triumph', 'over', 'rudeness', 'and', 'rainbow', 'brite', 'and', 'the', 'color', 'kid', 'are', 'once', 'again', 'safe', 'to', 'spread', 'color', 'and', 'joy', 'for', 'all', 'mankind'] \n",
      "\n",
      "==========================================================================\n",
      "==========================================================================\n",
      "\n",
      "Stemmer errors:\n",
      "leon errol handles his double role of uncle matt lindsay and lord basil epping superbly but i have trouble liking the mexican spitfire series because they all are contrived to produce mistaken identities and these are telegraphed way in advance errol is funny as the stuffy lord epping but i would have preferred a lot more wit and much less repetition br br  \n",
      "\n",
      "Stemmed text:\n",
      "['leon', 'errol', 'handl', 'his', 'doubl', 'role', 'of', 'uncl', 'matt', 'lindsay', 'and', 'lord', 'basil', 'ep', 'superbl', 'but', 'have', 'troubl', 'like', 'the', 'mexican', 'spitfir', 'seri', 'becaus', 'they', 'all', 'are', 'contriv', 'to', 'produc', 'mistaken', 'ident', 'and', 'these', 'are', 'telegraph', 'way', 'in', 'advanc', 'errol', 'is', 'funni', 'as', 'the', 'stuffi', 'lord', 'ep', 'but', 'would', 'have', 'prefer', 'lot', 'more', 'wit', 'and', 'much', 'less', 'repetit', 'br', 'br'] \n",
      "\n",
      "written by someone who has been there you can tell but only if youve been there excellent performances by meryl streep of course renee zellweger and william hurtbr br many people have said that it is about a dysfunctional family i think every family is dysfunctional when they are facing this kind of torment to not be dysfunctional would be dysfunctional you are losing your family as you know it can anything be worse people need to see this movie so when they are faced with this nightmare maybe they will change how they do it maybe they will see that the father is denying himself valuable time hell never get a chance at again maybe they will realize how hard it is to die or to watch someone you love die they didnt miss much of the nightmare its hard to forget \n",
      "\n",
      "Stemmed text:\n",
      "['written', 'by', 'someon', 'who', 'has', 'been', 'there', 'you', 'can', 'tell', 'but', 'onli', 'if', 'youv', 'been', 'there', 'excel', 'perform', 'by', 'meryl', 'streep', 'of', 'cours', 'rene', 'zellweg', 'and', 'william', 'hurtbr', 'br', 'mani', 'peopl', 'have', 'said', 'that', 'it', 'is', 'about', 'dysfunct', 'famili', 'think', 'everi', 'famili', 'is', 'dysfunct', 'when', 'they', 'are', 'face', 'this', 'kind', 'of', 'torment', 'to', 'not', 'be', 'dysfunct', 'would', 'be', 'dysfunct', 'you', 'are', 'lose', 'your', 'famili', 'as', 'you', 'know', 'it', 'can', 'anyth', 'be', 'wors', 'peopl', 'need', 'to', 'see', 'this', 'movi', 'so', 'when', 'they', 'are', 'face', 'with', 'this', 'nightmar', 'mayb', 'they', 'will', 'chang', 'how', 'they', 'do', 'it', 'mayb', 'they', 'will', 'see', 'that', 'the', 'father', 'is', 'deni', 'himself', 'valuabl', 'time', 'hell', 'never', 'get', 'chanc', 'at', 'again', 'mayb', 'they', 'will', 'realiz', 'how', 'hard', 'it', 'is', 'to', 'die', 'or', 'to', 'watch', 'someon', 'you', 'love', 'die', 'they', 'didnt', 'miss', 'much', 'of', 'the', 'nightmar', 'it', 'hard', 'to', 'forget'] \n",
      "\n"
     ]
    }
   ],
   "source": [
    "print(\"Lemmatizer errors:\")\n",
    "wrong_prediction_sample = test[test['label'] != predictions_lemmatizer][\"text\"].sample(2, random_state=SEED)\n",
    "for review in wrong_prediction_sample:\n",
    "    print(review, \"\\n\")\n",
    "    print(\"Lemmatized text:\")\n",
    "    print(tokenize(review), \"\\n\")\n",
    "\n",
    "print(\"==========================================================================\")\n",
    "print(\"==========================================================================\\n\")\n",
    "\n",
    "print(\"Stemmer errors:\")\n",
    "wrong_prediction_sample = test[test['label'] != predictions_stemmer][\"text\"].sample(2, random_state=SEED)\n",
    "for review in wrong_prediction_sample:\n",
    "    print(review, \"\\n\")\n",
    "    print(\"Stemmed text:\")\n",
    "    print(list(stemmed_words(review)), \"\\n\")"
   ]
  },
  {
   "cell_type": "markdown",
   "id": "419e1a02",
   "metadata": {
    "id": "ad913611"
   },
   "source": [
    "We can see that both lemmatization and stemming make mistakes and creates word which surely contributes to the error in the classification of the above examples.\n",
    "\n",
    "In the first example review, we find words with positive connotation such as: talent, cuteness, good and beautifull. But we also find words with negative connotation: underused, godawful, frighteningly terrible. Having both positive and negative connotated words makes the classification harder, the other examples also have positive and negative words. This may explain the classification errors."
   ]
  }
 ],
 "metadata": {
  "colab": {
   "collapsed_sections": [
    "NB8hs5v9p5l-",
    "5fde6883",
    "38d99781",
    "954b60fe",
    "m6_UPpKowTBI",
    "r5td_QM_wY9s",
    "A2cH-UDiEsVf",
    "GfCEzd-2KICJ",
    "IwMNm1ixwqY6"
   ],
   "provenance": []
  },
  "gpuClass": "standard",
  "kernelspec": {
   "display_name": "Python 3 (ipykernel)",
   "language": "python",
   "name": "python3"
  },
  "language_info": {
   "codemirror_mode": {
    "name": "ipython",
    "version": 3
   },
   "file_extension": ".py",
   "mimetype": "text/x-python",
   "name": "python",
   "nbconvert_exporter": "python",
   "pygments_lexer": "ipython3",
   "version": "3.8.10"
  },
  "widgets": {
   "application/vnd.jupyter.widget-state+json": {
    "0206b33995de472a8ec7bc0a0158fb9c": {
     "model_module": "@jupyter-widgets/controls",
     "model_module_version": "1.5.0",
     "model_name": "HTMLModel",
     "state": {
      "_dom_classes": [],
      "_model_module": "@jupyter-widgets/controls",
      "_model_module_version": "1.5.0",
      "_model_name": "HTMLModel",
      "_view_count": null,
      "_view_module": "@jupyter-widgets/controls",
      "_view_module_version": "1.5.0",
      "_view_name": "HTMLView",
      "description": "",
      "description_tooltip": null,
      "layout": "IPY_MODEL_fcb5e249c41c4ff1922c9f36cb390428",
      "placeholder": "​",
      "style": "IPY_MODEL_fa8dce6ac2014c9fa1418ace5ea14f8c",
      "value": "Downloading metadata: "
     }
    },
    "083481e459294406877f6ccb20ccb660": {
     "model_module": "@jupyter-widgets/controls",
     "model_module_version": "1.5.0",
     "model_name": "DescriptionStyleModel",
     "state": {
      "_model_module": "@jupyter-widgets/controls",
      "_model_module_version": "1.5.0",
      "_model_name": "DescriptionStyleModel",
      "_view_count": null,
      "_view_module": "@jupyter-widgets/base",
      "_view_module_version": "1.2.0",
      "_view_name": "StyleView",
      "description_width": ""
     }
    },
    "094d3e88b9d44a6b9a0b2ba3e2aca144": {
     "model_module": "@jupyter-widgets/base",
     "model_module_version": "1.2.0",
     "model_name": "LayoutModel",
     "state": {
      "_model_module": "@jupyter-widgets/base",
      "_model_module_version": "1.2.0",
      "_model_name": "LayoutModel",
      "_view_count": null,
      "_view_module": "@jupyter-widgets/base",
      "_view_module_version": "1.2.0",
      "_view_name": "LayoutView",
      "align_content": null,
      "align_items": null,
      "align_self": null,
      "border": null,
      "bottom": null,
      "display": null,
      "flex": null,
      "flex_flow": null,
      "grid_area": null,
      "grid_auto_columns": null,
      "grid_auto_flow": null,
      "grid_auto_rows": null,
      "grid_column": null,
      "grid_gap": null,
      "grid_row": null,
      "grid_template_areas": null,
      "grid_template_columns": null,
      "grid_template_rows": null,
      "height": null,
      "justify_content": null,
      "justify_items": null,
      "left": null,
      "margin": null,
      "max_height": null,
      "max_width": null,
      "min_height": null,
      "min_width": null,
      "object_fit": null,
      "object_position": null,
      "order": null,
      "overflow": null,
      "overflow_x": null,
      "overflow_y": null,
      "padding": null,
      "right": null,
      "top": null,
      "visibility": null,
      "width": null
     }
    },
    "09a2bb5c8bd444cf9104b51ed9a6c4b4": {
     "model_module": "@jupyter-widgets/controls",
     "model_module_version": "1.5.0",
     "model_name": "HBoxModel",
     "state": {
      "_dom_classes": [],
      "_model_module": "@jupyter-widgets/controls",
      "_model_module_version": "1.5.0",
      "_model_name": "HBoxModel",
      "_view_count": null,
      "_view_module": "@jupyter-widgets/controls",
      "_view_module_version": "1.5.0",
      "_view_name": "HBoxView",
      "box_style": "",
      "children": [
       "IPY_MODEL_bc784ea4d7174dc58e40465e53aec352",
       "IPY_MODEL_b30120545b334db2b74df07a0592999e",
       "IPY_MODEL_f6afba1f17634716b47e588f3c5ef3ae"
      ],
      "layout": "IPY_MODEL_862d1ce8c15643fa9b20062cdf2872cb"
     }
    },
    "0a1569cffecd4b4f8e402105c0d25ed1": {
     "model_module": "@jupyter-widgets/base",
     "model_module_version": "1.2.0",
     "model_name": "LayoutModel",
     "state": {
      "_model_module": "@jupyter-widgets/base",
      "_model_module_version": "1.2.0",
      "_model_name": "LayoutModel",
      "_view_count": null,
      "_view_module": "@jupyter-widgets/base",
      "_view_module_version": "1.2.0",
      "_view_name": "LayoutView",
      "align_content": null,
      "align_items": null,
      "align_self": null,
      "border": null,
      "bottom": null,
      "display": null,
      "flex": null,
      "flex_flow": null,
      "grid_area": null,
      "grid_auto_columns": null,
      "grid_auto_flow": null,
      "grid_auto_rows": null,
      "grid_column": null,
      "grid_gap": null,
      "grid_row": null,
      "grid_template_areas": null,
      "grid_template_columns": null,
      "grid_template_rows": null,
      "height": null,
      "justify_content": null,
      "justify_items": null,
      "left": null,
      "margin": null,
      "max_height": null,
      "max_width": null,
      "min_height": null,
      "min_width": null,
      "object_fit": null,
      "object_position": null,
      "order": null,
      "overflow": null,
      "overflow_x": null,
      "overflow_y": null,
      "padding": null,
      "right": null,
      "top": null,
      "visibility": null,
      "width": null
     }
    },
    "0ac837c7ef7f4e189aec7cd3c0117d53": {
     "model_module": "@jupyter-widgets/controls",
     "model_module_version": "1.5.0",
     "model_name": "DescriptionStyleModel",
     "state": {
      "_model_module": "@jupyter-widgets/controls",
      "_model_module_version": "1.5.0",
      "_model_name": "DescriptionStyleModel",
      "_view_count": null,
      "_view_module": "@jupyter-widgets/base",
      "_view_module_version": "1.2.0",
      "_view_name": "StyleView",
      "description_width": ""
     }
    },
    "0c44eca40fc042a8b9eb659b4b4e45d5": {
     "model_module": "@jupyter-widgets/base",
     "model_module_version": "1.2.0",
     "model_name": "LayoutModel",
     "state": {
      "_model_module": "@jupyter-widgets/base",
      "_model_module_version": "1.2.0",
      "_model_name": "LayoutModel",
      "_view_count": null,
      "_view_module": "@jupyter-widgets/base",
      "_view_module_version": "1.2.0",
      "_view_name": "LayoutView",
      "align_content": null,
      "align_items": null,
      "align_self": null,
      "border": null,
      "bottom": null,
      "display": null,
      "flex": null,
      "flex_flow": null,
      "grid_area": null,
      "grid_auto_columns": null,
      "grid_auto_flow": null,
      "grid_auto_rows": null,
      "grid_column": null,
      "grid_gap": null,
      "grid_row": null,
      "grid_template_areas": null,
      "grid_template_columns": null,
      "grid_template_rows": null,
      "height": null,
      "justify_content": null,
      "justify_items": null,
      "left": null,
      "margin": null,
      "max_height": null,
      "max_width": null,
      "min_height": null,
      "min_width": null,
      "object_fit": null,
      "object_position": null,
      "order": null,
      "overflow": null,
      "overflow_x": null,
      "overflow_y": null,
      "padding": null,
      "right": null,
      "top": null,
      "visibility": null,
      "width": null
     }
    },
    "0f5fceba2b344570997fa16f4817d8c3": {
     "model_module": "@jupyter-widgets/controls",
     "model_module_version": "1.5.0",
     "model_name": "FloatProgressModel",
     "state": {
      "_dom_classes": [],
      "_model_module": "@jupyter-widgets/controls",
      "_model_module_version": "1.5.0",
      "_model_name": "FloatProgressModel",
      "_view_count": null,
      "_view_module": "@jupyter-widgets/controls",
      "_view_module_version": "1.5.0",
      "_view_name": "ProgressView",
      "bar_style": "",
      "description": "",
      "description_tooltip": null,
      "layout": "IPY_MODEL_a2dfa879bf3a4fffa035bfc3268c2c0f",
      "max": 25000,
      "min": 0,
      "orientation": "horizontal",
      "style": "IPY_MODEL_294b5806b9ee410fa5e15d4a84ad385e",
      "value": 25000
     }
    },
    "186a41f6289545c08a661de037868362": {
     "model_module": "@jupyter-widgets/controls",
     "model_module_version": "1.5.0",
     "model_name": "HTMLModel",
     "state": {
      "_dom_classes": [],
      "_model_module": "@jupyter-widgets/controls",
      "_model_module_version": "1.5.0",
      "_model_name": "HTMLModel",
      "_view_count": null,
      "_view_module": "@jupyter-widgets/controls",
      "_view_module_version": "1.5.0",
      "_view_name": "HTMLView",
      "description": "",
      "description_tooltip": null,
      "layout": "IPY_MODEL_e4d8617c91ef4513acc7f239e1f07586",
      "placeholder": "​",
      "style": "IPY_MODEL_dcd9c034ad87470da3f693e4155ec834",
      "value": " 24658/25000 [00:04&lt;00:00, 6515.76 examples/s]"
     }
    },
    "28aeeed653d843ce826f2864f7c822cb": {
     "model_module": "@jupyter-widgets/controls",
     "model_module_version": "1.5.0",
     "model_name": "FloatProgressModel",
     "state": {
      "_dom_classes": [],
      "_model_module": "@jupyter-widgets/controls",
      "_model_module_version": "1.5.0",
      "_model_name": "FloatProgressModel",
      "_view_count": null,
      "_view_module": "@jupyter-widgets/controls",
      "_view_module_version": "1.5.0",
      "_view_name": "ProgressView",
      "bar_style": "success",
      "description": "",
      "description_tooltip": null,
      "layout": "IPY_MODEL_0c44eca40fc042a8b9eb659b4b4e45d5",
      "max": 1789,
      "min": 0,
      "orientation": "horizontal",
      "style": "IPY_MODEL_c006ddd7c89345baa1854960ae667bdf",
      "value": 1789
     }
    },
    "291b23c5f77347828caf512f77cf0726": {
     "model_module": "@jupyter-widgets/controls",
     "model_module_version": "1.5.0",
     "model_name": "HBoxModel",
     "state": {
      "_dom_classes": [],
      "_model_module": "@jupyter-widgets/controls",
      "_model_module_version": "1.5.0",
      "_model_name": "HBoxModel",
      "_view_count": null,
      "_view_module": "@jupyter-widgets/controls",
      "_view_module_version": "1.5.0",
      "_view_name": "HBoxView",
      "box_style": "",
      "children": [
       "IPY_MODEL_5a4147daf1774cd3ae24051b3a8a0c60",
       "IPY_MODEL_da8cf0462dcf4a8da13c19a71c6a2e27",
       "IPY_MODEL_b378326de03c47698f877e6abb29ebdf"
      ],
      "layout": "IPY_MODEL_e1f6e1dcc80c468591b5147f59d5611a"
     }
    },
    "294b5806b9ee410fa5e15d4a84ad385e": {
     "model_module": "@jupyter-widgets/controls",
     "model_module_version": "1.5.0",
     "model_name": "ProgressStyleModel",
     "state": {
      "_model_module": "@jupyter-widgets/controls",
      "_model_module_version": "1.5.0",
      "_model_name": "ProgressStyleModel",
      "_view_count": null,
      "_view_module": "@jupyter-widgets/base",
      "_view_module_version": "1.2.0",
      "_view_name": "StyleView",
      "bar_color": null,
      "description_width": ""
     }
    },
    "2ade8f12a3d14d74ac62504396f09c09": {
     "model_module": "@jupyter-widgets/controls",
     "model_module_version": "1.5.0",
     "model_name": "DescriptionStyleModel",
     "state": {
      "_model_module": "@jupyter-widgets/controls",
      "_model_module_version": "1.5.0",
      "_model_name": "DescriptionStyleModel",
      "_view_count": null,
      "_view_module": "@jupyter-widgets/base",
      "_view_module_version": "1.2.0",
      "_view_name": "StyleView",
      "description_width": ""
     }
    },
    "332c3085aa9e4b96ac3beeaf190c5cf8": {
     "model_module": "@jupyter-widgets/base",
     "model_module_version": "1.2.0",
     "model_name": "LayoutModel",
     "state": {
      "_model_module": "@jupyter-widgets/base",
      "_model_module_version": "1.2.0",
      "_model_name": "LayoutModel",
      "_view_count": null,
      "_view_module": "@jupyter-widgets/base",
      "_view_module_version": "1.2.0",
      "_view_name": "LayoutView",
      "align_content": null,
      "align_items": null,
      "align_self": null,
      "border": null,
      "bottom": null,
      "display": null,
      "flex": null,
      "flex_flow": null,
      "grid_area": null,
      "grid_auto_columns": null,
      "grid_auto_flow": null,
      "grid_auto_rows": null,
      "grid_column": null,
      "grid_gap": null,
      "grid_row": null,
      "grid_template_areas": null,
      "grid_template_columns": null,
      "grid_template_rows": null,
      "height": null,
      "justify_content": null,
      "justify_items": null,
      "left": null,
      "margin": null,
      "max_height": null,
      "max_width": null,
      "min_height": null,
      "min_width": null,
      "object_fit": null,
      "object_position": null,
      "order": null,
      "overflow": null,
      "overflow_x": null,
      "overflow_y": null,
      "padding": null,
      "right": null,
      "top": null,
      "visibility": null,
      "width": null
     }
    },
    "33660e477ad14eaaa6004eeada29de0e": {
     "model_module": "@jupyter-widgets/controls",
     "model_module_version": "1.5.0",
     "model_name": "HTMLModel",
     "state": {
      "_dom_classes": [],
      "_model_module": "@jupyter-widgets/controls",
      "_model_module_version": "1.5.0",
      "_model_name": "HTMLModel",
      "_view_count": null,
      "_view_module": "@jupyter-widgets/controls",
      "_view_module_version": "1.5.0",
      "_view_name": "HTMLView",
      "description": "",
      "description_tooltip": null,
      "layout": "IPY_MODEL_63841b586b6c443eb45ea3d90b1b81e3",
      "placeholder": "​",
      "style": "IPY_MODEL_ef78ab95f2ac4d4cbcff4b8f2a919a1d",
      "value": "Generating train split:  99%"
     }
    },
    "476c48359f2749d6ac08514d90f914c6": {
     "model_module": "@jupyter-widgets/controls",
     "model_module_version": "1.5.0",
     "model_name": "DescriptionStyleModel",
     "state": {
      "_model_module": "@jupyter-widgets/controls",
      "_model_module_version": "1.5.0",
      "_model_name": "DescriptionStyleModel",
      "_view_count": null,
      "_view_module": "@jupyter-widgets/base",
      "_view_module_version": "1.2.0",
      "_view_name": "StyleView",
      "description_width": ""
     }
    },
    "4a709e0085f74900bec06d0230b9f33c": {
     "model_module": "@jupyter-widgets/controls",
     "model_module_version": "1.5.0",
     "model_name": "FloatProgressModel",
     "state": {
      "_dom_classes": [],
      "_model_module": "@jupyter-widgets/controls",
      "_model_module_version": "1.5.0",
      "_model_name": "FloatProgressModel",
      "_view_count": null,
      "_view_module": "@jupyter-widgets/controls",
      "_view_module_version": "1.5.0",
      "_view_name": "ProgressView",
      "bar_style": "success",
      "description": "",
      "description_tooltip": null,
      "layout": "IPY_MODEL_8d68b523e249445cbb3a7053bf63dfaf",
      "max": 1054,
      "min": 0,
      "orientation": "horizontal",
      "style": "IPY_MODEL_cb231f7c114e4781980ce5a95839e2ac",
      "value": 1054
     }
    },
    "4fcd1012882648279780cf77de4fb356": {
     "model_module": "@jupyter-widgets/controls",
     "model_module_version": "1.5.0",
     "model_name": "FloatProgressModel",
     "state": {
      "_dom_classes": [],
      "_model_module": "@jupyter-widgets/controls",
      "_model_module_version": "1.5.0",
      "_model_name": "FloatProgressModel",
      "_view_count": null,
      "_view_module": "@jupyter-widgets/controls",
      "_view_module_version": "1.5.0",
      "_view_name": "ProgressView",
      "bar_style": "success",
      "description": "",
      "description_tooltip": null,
      "layout": "IPY_MODEL_ac229c259ce34fcc97b3ff91eb556cce",
      "max": 84125825,
      "min": 0,
      "orientation": "horizontal",
      "style": "IPY_MODEL_605b36d328e24b22b4d983c2dda7bd78",
      "value": 84125825
     }
    },
    "4fdd371d0ff744d581fe3eb25c34168b": {
     "model_module": "@jupyter-widgets/controls",
     "model_module_version": "1.5.0",
     "model_name": "HBoxModel",
     "state": {
      "_dom_classes": [],
      "_model_module": "@jupyter-widgets/controls",
      "_model_module_version": "1.5.0",
      "_model_name": "HBoxModel",
      "_view_count": null,
      "_view_module": "@jupyter-widgets/controls",
      "_view_module_version": "1.5.0",
      "_view_name": "HBoxView",
      "box_style": "",
      "children": [
       "IPY_MODEL_dd3c77e5b93e45d185672f6634ce3470",
       "IPY_MODEL_4fcd1012882648279780cf77de4fb356",
       "IPY_MODEL_738be95ec67f4f4b9f33ad649a2008fb"
      ],
      "layout": "IPY_MODEL_0a1569cffecd4b4f8e402105c0d25ed1"
     }
    },
    "50fe0abaf885497e9ce02e04492c9bd6": {
     "model_module": "@jupyter-widgets/controls",
     "model_module_version": "1.5.0",
     "model_name": "DescriptionStyleModel",
     "state": {
      "_model_module": "@jupyter-widgets/controls",
      "_model_module_version": "1.5.0",
      "_model_name": "DescriptionStyleModel",
      "_view_count": null,
      "_view_module": "@jupyter-widgets/base",
      "_view_module_version": "1.2.0",
      "_view_name": "StyleView",
      "description_width": ""
     }
    },
    "52f895607bd149579c5bd3752ce231d5": {
     "model_module": "@jupyter-widgets/controls",
     "model_module_version": "1.5.0",
     "model_name": "DescriptionStyleModel",
     "state": {
      "_model_module": "@jupyter-widgets/controls",
      "_model_module_version": "1.5.0",
      "_model_name": "DescriptionStyleModel",
      "_view_count": null,
      "_view_module": "@jupyter-widgets/base",
      "_view_module_version": "1.2.0",
      "_view_name": "StyleView",
      "description_width": ""
     }
    },
    "548396060cd44bf5bad456cb4976b173": {
     "model_module": "@jupyter-widgets/base",
     "model_module_version": "1.2.0",
     "model_name": "LayoutModel",
     "state": {
      "_model_module": "@jupyter-widgets/base",
      "_model_module_version": "1.2.0",
      "_model_name": "LayoutModel",
      "_view_count": null,
      "_view_module": "@jupyter-widgets/base",
      "_view_module_version": "1.2.0",
      "_view_name": "LayoutView",
      "align_content": null,
      "align_items": null,
      "align_self": null,
      "border": null,
      "bottom": null,
      "display": null,
      "flex": null,
      "flex_flow": null,
      "grid_area": null,
      "grid_auto_columns": null,
      "grid_auto_flow": null,
      "grid_auto_rows": null,
      "grid_column": null,
      "grid_gap": null,
      "grid_row": null,
      "grid_template_areas": null,
      "grid_template_columns": null,
      "grid_template_rows": null,
      "height": null,
      "justify_content": null,
      "justify_items": null,
      "left": null,
      "margin": null,
      "max_height": null,
      "max_width": null,
      "min_height": null,
      "min_width": null,
      "object_fit": null,
      "object_position": null,
      "order": null,
      "overflow": null,
      "overflow_x": null,
      "overflow_y": null,
      "padding": null,
      "right": null,
      "top": null,
      "visibility": null,
      "width": null
     }
    },
    "5a4147daf1774cd3ae24051b3a8a0c60": {
     "model_module": "@jupyter-widgets/controls",
     "model_module_version": "1.5.0",
     "model_name": "HTMLModel",
     "state": {
      "_dom_classes": [],
      "_model_module": "@jupyter-widgets/controls",
      "_model_module_version": "1.5.0",
      "_model_name": "HTMLModel",
      "_view_count": null,
      "_view_module": "@jupyter-widgets/controls",
      "_view_module_version": "1.5.0",
      "_view_name": "HTMLView",
      "description": "",
      "description_tooltip": null,
      "layout": "IPY_MODEL_cf9319c8566343ad940c0f1049e289f7",
      "placeholder": "​",
      "style": "IPY_MODEL_d1a146eabb134300bdc34345a20d85a1",
      "value": "100%"
     }
    },
    "5b5973d4055a433b94baffb61ed35623": {
     "model_module": "@jupyter-widgets/base",
     "model_module_version": "1.2.0",
     "model_name": "LayoutModel",
     "state": {
      "_model_module": "@jupyter-widgets/base",
      "_model_module_version": "1.2.0",
      "_model_name": "LayoutModel",
      "_view_count": null,
      "_view_module": "@jupyter-widgets/base",
      "_view_module_version": "1.2.0",
      "_view_name": "LayoutView",
      "align_content": null,
      "align_items": null,
      "align_self": null,
      "border": null,
      "bottom": null,
      "display": null,
      "flex": null,
      "flex_flow": null,
      "grid_area": null,
      "grid_auto_columns": null,
      "grid_auto_flow": null,
      "grid_auto_rows": null,
      "grid_column": null,
      "grid_gap": null,
      "grid_row": null,
      "grid_template_areas": null,
      "grid_template_columns": null,
      "grid_template_rows": null,
      "height": null,
      "justify_content": null,
      "justify_items": null,
      "left": null,
      "margin": null,
      "max_height": null,
      "max_width": null,
      "min_height": null,
      "min_width": null,
      "object_fit": null,
      "object_position": null,
      "order": null,
      "overflow": null,
      "overflow_x": null,
      "overflow_y": null,
      "padding": null,
      "right": null,
      "top": null,
      "visibility": null,
      "width": null
     }
    },
    "5cbe84c587b14393b26476a2d45b9f80": {
     "model_module": "@jupyter-widgets/controls",
     "model_module_version": "1.5.0",
     "model_name": "ProgressStyleModel",
     "state": {
      "_model_module": "@jupyter-widgets/controls",
      "_model_module_version": "1.5.0",
      "_model_name": "ProgressStyleModel",
      "_view_count": null,
      "_view_module": "@jupyter-widgets/base",
      "_view_module_version": "1.2.0",
      "_view_name": "StyleView",
      "bar_color": null,
      "description_width": ""
     }
    },
    "5d31c8ccd0c44bd5a4e9e261077bef13": {
     "model_module": "@jupyter-widgets/controls",
     "model_module_version": "1.5.0",
     "model_name": "DescriptionStyleModel",
     "state": {
      "_model_module": "@jupyter-widgets/controls",
      "_model_module_version": "1.5.0",
      "_model_name": "DescriptionStyleModel",
      "_view_count": null,
      "_view_module": "@jupyter-widgets/base",
      "_view_module_version": "1.2.0",
      "_view_name": "StyleView",
      "description_width": ""
     }
    },
    "5e25b1ae93e7473092072b7830844b93": {
     "model_module": "@jupyter-widgets/controls",
     "model_module_version": "1.5.0",
     "model_name": "HTMLModel",
     "state": {
      "_dom_classes": [],
      "_model_module": "@jupyter-widgets/controls",
      "_model_module_version": "1.5.0",
      "_model_name": "HTMLModel",
      "_view_count": null,
      "_view_module": "@jupyter-widgets/controls",
      "_view_module_version": "1.5.0",
      "_view_name": "HTMLView",
      "description": "",
      "description_tooltip": null,
      "layout": "IPY_MODEL_6d61e2f08baa46b4901b1d9a835b2480",
      "placeholder": "​",
      "style": "IPY_MODEL_52f895607bd149579c5bd3752ce231d5",
      "value": " 24734/25000 [00:14&lt;00:00, 6229.38 examples/s]"
     }
    },
    "5f454e119a0e47d68daf4777613230e1": {
     "model_module": "@jupyter-widgets/controls",
     "model_module_version": "1.5.0",
     "model_name": "ProgressStyleModel",
     "state": {
      "_model_module": "@jupyter-widgets/controls",
      "_model_module_version": "1.5.0",
      "_model_name": "ProgressStyleModel",
      "_view_count": null,
      "_view_module": "@jupyter-widgets/base",
      "_view_module_version": "1.2.0",
      "_view_name": "StyleView",
      "bar_color": null,
      "description_width": ""
     }
    },
    "605b36d328e24b22b4d983c2dda7bd78": {
     "model_module": "@jupyter-widgets/controls",
     "model_module_version": "1.5.0",
     "model_name": "ProgressStyleModel",
     "state": {
      "_model_module": "@jupyter-widgets/controls",
      "_model_module_version": "1.5.0",
      "_model_name": "ProgressStyleModel",
      "_view_count": null,
      "_view_module": "@jupyter-widgets/base",
      "_view_module_version": "1.2.0",
      "_view_name": "StyleView",
      "bar_color": null,
      "description_width": ""
     }
    },
    "6181dcbcbcd148979511e1efca1ea0b8": {
     "model_module": "@jupyter-widgets/base",
     "model_module_version": "1.2.0",
     "model_name": "LayoutModel",
     "state": {
      "_model_module": "@jupyter-widgets/base",
      "_model_module_version": "1.2.0",
      "_model_name": "LayoutModel",
      "_view_count": null,
      "_view_module": "@jupyter-widgets/base",
      "_view_module_version": "1.2.0",
      "_view_name": "LayoutView",
      "align_content": null,
      "align_items": null,
      "align_self": null,
      "border": null,
      "bottom": null,
      "display": null,
      "flex": null,
      "flex_flow": null,
      "grid_area": null,
      "grid_auto_columns": null,
      "grid_auto_flow": null,
      "grid_auto_rows": null,
      "grid_column": null,
      "grid_gap": null,
      "grid_row": null,
      "grid_template_areas": null,
      "grid_template_columns": null,
      "grid_template_rows": null,
      "height": null,
      "justify_content": null,
      "justify_items": null,
      "left": null,
      "margin": null,
      "max_height": null,
      "max_width": null,
      "min_height": null,
      "min_width": null,
      "object_fit": null,
      "object_position": null,
      "order": null,
      "overflow": null,
      "overflow_x": null,
      "overflow_y": null,
      "padding": null,
      "right": null,
      "top": null,
      "visibility": "hidden",
      "width": null
     }
    },
    "623cac26630a45cea43985ac535bf642": {
     "model_module": "@jupyter-widgets/controls",
     "model_module_version": "1.5.0",
     "model_name": "HBoxModel",
     "state": {
      "_dom_classes": [],
      "_model_module": "@jupyter-widgets/controls",
      "_model_module_version": "1.5.0",
      "_model_name": "HBoxModel",
      "_view_count": null,
      "_view_module": "@jupyter-widgets/controls",
      "_view_module_version": "1.5.0",
      "_view_name": "HBoxView",
      "box_style": "",
      "children": [
       "IPY_MODEL_0206b33995de472a8ec7bc0a0158fb9c",
       "IPY_MODEL_4a709e0085f74900bec06d0230b9f33c",
       "IPY_MODEL_f25a2900fb18476e962caadea5352cdb"
      ],
      "layout": "IPY_MODEL_548396060cd44bf5bad456cb4976b173"
     }
    },
    "63841b586b6c443eb45ea3d90b1b81e3": {
     "model_module": "@jupyter-widgets/base",
     "model_module_version": "1.2.0",
     "model_name": "LayoutModel",
     "state": {
      "_model_module": "@jupyter-widgets/base",
      "_model_module_version": "1.2.0",
      "_model_name": "LayoutModel",
      "_view_count": null,
      "_view_module": "@jupyter-widgets/base",
      "_view_module_version": "1.2.0",
      "_view_name": "LayoutView",
      "align_content": null,
      "align_items": null,
      "align_self": null,
      "border": null,
      "bottom": null,
      "display": null,
      "flex": null,
      "flex_flow": null,
      "grid_area": null,
      "grid_auto_columns": null,
      "grid_auto_flow": null,
      "grid_auto_rows": null,
      "grid_column": null,
      "grid_gap": null,
      "grid_row": null,
      "grid_template_areas": null,
      "grid_template_columns": null,
      "grid_template_rows": null,
      "height": null,
      "justify_content": null,
      "justify_items": null,
      "left": null,
      "margin": null,
      "max_height": null,
      "max_width": null,
      "min_height": null,
      "min_width": null,
      "object_fit": null,
      "object_position": null,
      "order": null,
      "overflow": null,
      "overflow_x": null,
      "overflow_y": null,
      "padding": null,
      "right": null,
      "top": null,
      "visibility": null,
      "width": null
     }
    },
    "6a959691abb545d393d2ade605a2d296": {
     "model_module": "@jupyter-widgets/controls",
     "model_module_version": "1.5.0",
     "model_name": "HTMLModel",
     "state": {
      "_dom_classes": [],
      "_model_module": "@jupyter-widgets/controls",
      "_model_module_version": "1.5.0",
      "_model_name": "HTMLModel",
      "_view_count": null,
      "_view_module": "@jupyter-widgets/controls",
      "_view_module_version": "1.5.0",
      "_view_name": "HTMLView",
      "description": "",
      "description_tooltip": null,
      "layout": "IPY_MODEL_332c3085aa9e4b96ac3beeaf190c5cf8",
      "placeholder": "​",
      "style": "IPY_MODEL_b630be462a3b44228652a2199a9bfdab",
      "value": "Downloading builder script: "
     }
    },
    "6b5702c922fd49ef80b39addc6160807": {
     "model_module": "@jupyter-widgets/controls",
     "model_module_version": "1.5.0",
     "model_name": "HBoxModel",
     "state": {
      "_dom_classes": [],
      "_model_module": "@jupyter-widgets/controls",
      "_model_module_version": "1.5.0",
      "_model_name": "HBoxModel",
      "_view_count": null,
      "_view_module": "@jupyter-widgets/controls",
      "_view_module_version": "1.5.0",
      "_view_name": "HBoxView",
      "box_style": "",
      "children": [
       "IPY_MODEL_a4349815fa364bf7841775f5cc4e548f",
       "IPY_MODEL_0f5fceba2b344570997fa16f4817d8c3",
       "IPY_MODEL_186a41f6289545c08a661de037868362"
      ],
      "layout": "IPY_MODEL_6181dcbcbcd148979511e1efca1ea0b8"
     }
    },
    "6d61e2f08baa46b4901b1d9a835b2480": {
     "model_module": "@jupyter-widgets/base",
     "model_module_version": "1.2.0",
     "model_name": "LayoutModel",
     "state": {
      "_model_module": "@jupyter-widgets/base",
      "_model_module_version": "1.2.0",
      "_model_name": "LayoutModel",
      "_view_count": null,
      "_view_module": "@jupyter-widgets/base",
      "_view_module_version": "1.2.0",
      "_view_name": "LayoutView",
      "align_content": null,
      "align_items": null,
      "align_self": null,
      "border": null,
      "bottom": null,
      "display": null,
      "flex": null,
      "flex_flow": null,
      "grid_area": null,
      "grid_auto_columns": null,
      "grid_auto_flow": null,
      "grid_auto_rows": null,
      "grid_column": null,
      "grid_gap": null,
      "grid_row": null,
      "grid_template_areas": null,
      "grid_template_columns": null,
      "grid_template_rows": null,
      "height": null,
      "justify_content": null,
      "justify_items": null,
      "left": null,
      "margin": null,
      "max_height": null,
      "max_width": null,
      "min_height": null,
      "min_width": null,
      "object_fit": null,
      "object_position": null,
      "order": null,
      "overflow": null,
      "overflow_x": null,
      "overflow_y": null,
      "padding": null,
      "right": null,
      "top": null,
      "visibility": null,
      "width": null
     }
    },
    "6f331e7551bc438884b72e5e6571477a": {
     "model_module": "@jupyter-widgets/controls",
     "model_module_version": "1.5.0",
     "model_name": "DescriptionStyleModel",
     "state": {
      "_model_module": "@jupyter-widgets/controls",
      "_model_module_version": "1.5.0",
      "_model_name": "DescriptionStyleModel",
      "_view_count": null,
      "_view_module": "@jupyter-widgets/base",
      "_view_module_version": "1.2.0",
      "_view_name": "StyleView",
      "description_width": ""
     }
    },
    "738be95ec67f4f4b9f33ad649a2008fb": {
     "model_module": "@jupyter-widgets/controls",
     "model_module_version": "1.5.0",
     "model_name": "HTMLModel",
     "state": {
      "_dom_classes": [],
      "_model_module": "@jupyter-widgets/controls",
      "_model_module_version": "1.5.0",
      "_model_name": "HTMLModel",
      "_view_count": null,
      "_view_module": "@jupyter-widgets/controls",
      "_view_module_version": "1.5.0",
      "_view_name": "HTMLView",
      "description": "",
      "description_tooltip": null,
      "layout": "IPY_MODEL_d4ab7ae47120415496f970582d3b85ce",
      "placeholder": "​",
      "style": "IPY_MODEL_5d31c8ccd0c44bd5a4e9e261077bef13",
      "value": " 84.1M/84.1M [00:05&lt;00:00, 18.6MB/s]"
     }
    },
    "7ef7dfcbfe8d487cb059a23155f734d0": {
     "model_module": "@jupyter-widgets/controls",
     "model_module_version": "1.5.0",
     "model_name": "HBoxModel",
     "state": {
      "_dom_classes": [],
      "_model_module": "@jupyter-widgets/controls",
      "_model_module_version": "1.5.0",
      "_model_name": "HBoxModel",
      "_view_count": null,
      "_view_module": "@jupyter-widgets/controls",
      "_view_module_version": "1.5.0",
      "_view_name": "HBoxView",
      "box_style": "",
      "children": [
       "IPY_MODEL_33660e477ad14eaaa6004eeada29de0e",
       "IPY_MODEL_d235e537faad41d88544e2057d553829",
       "IPY_MODEL_5e25b1ae93e7473092072b7830844b93"
      ],
      "layout": "IPY_MODEL_b67482b653914ccba8ba6bbbce264d12"
     }
    },
    "7f597747bcb3423897451e8cea14b668": {
     "model_module": "@jupyter-widgets/base",
     "model_module_version": "1.2.0",
     "model_name": "LayoutModel",
     "state": {
      "_model_module": "@jupyter-widgets/base",
      "_model_module_version": "1.2.0",
      "_model_name": "LayoutModel",
      "_view_count": null,
      "_view_module": "@jupyter-widgets/base",
      "_view_module_version": "1.2.0",
      "_view_name": "LayoutView",
      "align_content": null,
      "align_items": null,
      "align_self": null,
      "border": null,
      "bottom": null,
      "display": null,
      "flex": null,
      "flex_flow": null,
      "grid_area": null,
      "grid_auto_columns": null,
      "grid_auto_flow": null,
      "grid_auto_rows": null,
      "grid_column": null,
      "grid_gap": null,
      "grid_row": null,
      "grid_template_areas": null,
      "grid_template_columns": null,
      "grid_template_rows": null,
      "height": null,
      "justify_content": null,
      "justify_items": null,
      "left": null,
      "margin": null,
      "max_height": null,
      "max_width": null,
      "min_height": null,
      "min_width": null,
      "object_fit": null,
      "object_position": null,
      "order": null,
      "overflow": null,
      "overflow_x": null,
      "overflow_y": null,
      "padding": null,
      "right": null,
      "top": null,
      "visibility": null,
      "width": null
     }
    },
    "862d1ce8c15643fa9b20062cdf2872cb": {
     "model_module": "@jupyter-widgets/base",
     "model_module_version": "1.2.0",
     "model_name": "LayoutModel",
     "state": {
      "_model_module": "@jupyter-widgets/base",
      "_model_module_version": "1.2.0",
      "_model_name": "LayoutModel",
      "_view_count": null,
      "_view_module": "@jupyter-widgets/base",
      "_view_module_version": "1.2.0",
      "_view_name": "LayoutView",
      "align_content": null,
      "align_items": null,
      "align_self": null,
      "border": null,
      "bottom": null,
      "display": null,
      "flex": null,
      "flex_flow": null,
      "grid_area": null,
      "grid_auto_columns": null,
      "grid_auto_flow": null,
      "grid_auto_rows": null,
      "grid_column": null,
      "grid_gap": null,
      "grid_row": null,
      "grid_template_areas": null,
      "grid_template_columns": null,
      "grid_template_rows": null,
      "height": null,
      "justify_content": null,
      "justify_items": null,
      "left": null,
      "margin": null,
      "max_height": null,
      "max_width": null,
      "min_height": null,
      "min_width": null,
      "object_fit": null,
      "object_position": null,
      "order": null,
      "overflow": null,
      "overflow_x": null,
      "overflow_y": null,
      "padding": null,
      "right": null,
      "top": null,
      "visibility": "hidden",
      "width": null
     }
    },
    "8d68b523e249445cbb3a7053bf63dfaf": {
     "model_module": "@jupyter-widgets/base",
     "model_module_version": "1.2.0",
     "model_name": "LayoutModel",
     "state": {
      "_model_module": "@jupyter-widgets/base",
      "_model_module_version": "1.2.0",
      "_model_name": "LayoutModel",
      "_view_count": null,
      "_view_module": "@jupyter-widgets/base",
      "_view_module_version": "1.2.0",
      "_view_name": "LayoutView",
      "align_content": null,
      "align_items": null,
      "align_self": null,
      "border": null,
      "bottom": null,
      "display": null,
      "flex": null,
      "flex_flow": null,
      "grid_area": null,
      "grid_auto_columns": null,
      "grid_auto_flow": null,
      "grid_auto_rows": null,
      "grid_column": null,
      "grid_gap": null,
      "grid_row": null,
      "grid_template_areas": null,
      "grid_template_columns": null,
      "grid_template_rows": null,
      "height": null,
      "justify_content": null,
      "justify_items": null,
      "left": null,
      "margin": null,
      "max_height": null,
      "max_width": null,
      "min_height": null,
      "min_width": null,
      "object_fit": null,
      "object_position": null,
      "order": null,
      "overflow": null,
      "overflow_x": null,
      "overflow_y": null,
      "padding": null,
      "right": null,
      "top": null,
      "visibility": null,
      "width": null
     }
    },
    "9c4d9f85cb4043019e61a3bd834c9840": {
     "model_module": "@jupyter-widgets/base",
     "model_module_version": "1.2.0",
     "model_name": "LayoutModel",
     "state": {
      "_model_module": "@jupyter-widgets/base",
      "_model_module_version": "1.2.0",
      "_model_name": "LayoutModel",
      "_view_count": null,
      "_view_module": "@jupyter-widgets/base",
      "_view_module_version": "1.2.0",
      "_view_name": "LayoutView",
      "align_content": null,
      "align_items": null,
      "align_self": null,
      "border": null,
      "bottom": null,
      "display": null,
      "flex": null,
      "flex_flow": null,
      "grid_area": null,
      "grid_auto_columns": null,
      "grid_auto_flow": null,
      "grid_auto_rows": null,
      "grid_column": null,
      "grid_gap": null,
      "grid_row": null,
      "grid_template_areas": null,
      "grid_template_columns": null,
      "grid_template_rows": null,
      "height": null,
      "justify_content": null,
      "justify_items": null,
      "left": null,
      "margin": null,
      "max_height": null,
      "max_width": null,
      "min_height": null,
      "min_width": null,
      "object_fit": null,
      "object_position": null,
      "order": null,
      "overflow": null,
      "overflow_x": null,
      "overflow_y": null,
      "padding": null,
      "right": null,
      "top": null,
      "visibility": null,
      "width": null
     }
    },
    "9f5e2406c5214125a389834dcf0c2b6a": {
     "model_module": "@jupyter-widgets/controls",
     "model_module_version": "1.5.0",
     "model_name": "HBoxModel",
     "state": {
      "_dom_classes": [],
      "_model_module": "@jupyter-widgets/controls",
      "_model_module_version": "1.5.0",
      "_model_name": "HBoxModel",
      "_view_count": null,
      "_view_module": "@jupyter-widgets/controls",
      "_view_module_version": "1.5.0",
      "_view_name": "HBoxView",
      "box_style": "",
      "children": [
       "IPY_MODEL_6a959691abb545d393d2ade605a2d296",
       "IPY_MODEL_28aeeed653d843ce826f2864f7c822cb",
       "IPY_MODEL_bea67724ec9341d9bb506d3fede9ac33"
      ],
      "layout": "IPY_MODEL_5b5973d4055a433b94baffb61ed35623"
     }
    },
    "a2dfa879bf3a4fffa035bfc3268c2c0f": {
     "model_module": "@jupyter-widgets/base",
     "model_module_version": "1.2.0",
     "model_name": "LayoutModel",
     "state": {
      "_model_module": "@jupyter-widgets/base",
      "_model_module_version": "1.2.0",
      "_model_name": "LayoutModel",
      "_view_count": null,
      "_view_module": "@jupyter-widgets/base",
      "_view_module_version": "1.2.0",
      "_view_name": "LayoutView",
      "align_content": null,
      "align_items": null,
      "align_self": null,
      "border": null,
      "bottom": null,
      "display": null,
      "flex": null,
      "flex_flow": null,
      "grid_area": null,
      "grid_auto_columns": null,
      "grid_auto_flow": null,
      "grid_auto_rows": null,
      "grid_column": null,
      "grid_gap": null,
      "grid_row": null,
      "grid_template_areas": null,
      "grid_template_columns": null,
      "grid_template_rows": null,
      "height": null,
      "justify_content": null,
      "justify_items": null,
      "left": null,
      "margin": null,
      "max_height": null,
      "max_width": null,
      "min_height": null,
      "min_width": null,
      "object_fit": null,
      "object_position": null,
      "order": null,
      "overflow": null,
      "overflow_x": null,
      "overflow_y": null,
      "padding": null,
      "right": null,
      "top": null,
      "visibility": null,
      "width": null
     }
    },
    "a4349815fa364bf7841775f5cc4e548f": {
     "model_module": "@jupyter-widgets/controls",
     "model_module_version": "1.5.0",
     "model_name": "HTMLModel",
     "state": {
      "_dom_classes": [],
      "_model_module": "@jupyter-widgets/controls",
      "_model_module_version": "1.5.0",
      "_model_name": "HTMLModel",
      "_view_count": null,
      "_view_module": "@jupyter-widgets/controls",
      "_view_module_version": "1.5.0",
      "_view_name": "HTMLView",
      "description": "",
      "description_tooltip": null,
      "layout": "IPY_MODEL_f2ad90db7e1a458186cf0397a6fca5f8",
      "placeholder": "​",
      "style": "IPY_MODEL_f60856bd72ba47d1875a50c978500b56",
      "value": "Generating test split:  99%"
     }
    },
    "a9157fb6d29e483a8bcd9c95a5173e88": {
     "model_module": "@jupyter-widgets/base",
     "model_module_version": "1.2.0",
     "model_name": "LayoutModel",
     "state": {
      "_model_module": "@jupyter-widgets/base",
      "_model_module_version": "1.2.0",
      "_model_name": "LayoutModel",
      "_view_count": null,
      "_view_module": "@jupyter-widgets/base",
      "_view_module_version": "1.2.0",
      "_view_name": "LayoutView",
      "align_content": null,
      "align_items": null,
      "align_self": null,
      "border": null,
      "bottom": null,
      "display": null,
      "flex": null,
      "flex_flow": null,
      "grid_area": null,
      "grid_auto_columns": null,
      "grid_auto_flow": null,
      "grid_auto_rows": null,
      "grid_column": null,
      "grid_gap": null,
      "grid_row": null,
      "grid_template_areas": null,
      "grid_template_columns": null,
      "grid_template_rows": null,
      "height": null,
      "justify_content": null,
      "justify_items": null,
      "left": null,
      "margin": null,
      "max_height": null,
      "max_width": null,
      "min_height": null,
      "min_width": null,
      "object_fit": null,
      "object_position": null,
      "order": null,
      "overflow": null,
      "overflow_x": null,
      "overflow_y": null,
      "padding": null,
      "right": null,
      "top": null,
      "visibility": null,
      "width": null
     }
    },
    "ac229c259ce34fcc97b3ff91eb556cce": {
     "model_module": "@jupyter-widgets/base",
     "model_module_version": "1.2.0",
     "model_name": "LayoutModel",
     "state": {
      "_model_module": "@jupyter-widgets/base",
      "_model_module_version": "1.2.0",
      "_model_name": "LayoutModel",
      "_view_count": null,
      "_view_module": "@jupyter-widgets/base",
      "_view_module_version": "1.2.0",
      "_view_name": "LayoutView",
      "align_content": null,
      "align_items": null,
      "align_self": null,
      "border": null,
      "bottom": null,
      "display": null,
      "flex": null,
      "flex_flow": null,
      "grid_area": null,
      "grid_auto_columns": null,
      "grid_auto_flow": null,
      "grid_auto_rows": null,
      "grid_column": null,
      "grid_gap": null,
      "grid_row": null,
      "grid_template_areas": null,
      "grid_template_columns": null,
      "grid_template_rows": null,
      "height": null,
      "justify_content": null,
      "justify_items": null,
      "left": null,
      "margin": null,
      "max_height": null,
      "max_width": null,
      "min_height": null,
      "min_width": null,
      "object_fit": null,
      "object_position": null,
      "order": null,
      "overflow": null,
      "overflow_x": null,
      "overflow_y": null,
      "padding": null,
      "right": null,
      "top": null,
      "visibility": null,
      "width": null
     }
    },
    "b30120545b334db2b74df07a0592999e": {
     "model_module": "@jupyter-widgets/controls",
     "model_module_version": "1.5.0",
     "model_name": "FloatProgressModel",
     "state": {
      "_dom_classes": [],
      "_model_module": "@jupyter-widgets/controls",
      "_model_module_version": "1.5.0",
      "_model_name": "FloatProgressModel",
      "_view_count": null,
      "_view_module": "@jupyter-widgets/controls",
      "_view_module_version": "1.5.0",
      "_view_name": "ProgressView",
      "bar_style": "",
      "description": "",
      "description_tooltip": null,
      "layout": "IPY_MODEL_fa4dfc3b84944ce9bfe1c69c8a5e15de",
      "max": 50000,
      "min": 0,
      "orientation": "horizontal",
      "style": "IPY_MODEL_cbcd35a316fb40cd9ebf2f946b9e73e3",
      "value": 50000
     }
    },
    "b378326de03c47698f877e6abb29ebdf": {
     "model_module": "@jupyter-widgets/controls",
     "model_module_version": "1.5.0",
     "model_name": "HTMLModel",
     "state": {
      "_dom_classes": [],
      "_model_module": "@jupyter-widgets/controls",
      "_model_module_version": "1.5.0",
      "_model_name": "HTMLModel",
      "_view_count": null,
      "_view_module": "@jupyter-widgets/controls",
      "_view_module_version": "1.5.0",
      "_view_name": "HTMLView",
      "description": "",
      "description_tooltip": null,
      "layout": "IPY_MODEL_e37eca954cf34359acd76313677efa5b",
      "placeholder": "​",
      "style": "IPY_MODEL_2ade8f12a3d14d74ac62504396f09c09",
      "value": " 3/3 [00:00&lt;00:00, 38.49it/s]"
     }
    },
    "b630be462a3b44228652a2199a9bfdab": {
     "model_module": "@jupyter-widgets/controls",
     "model_module_version": "1.5.0",
     "model_name": "DescriptionStyleModel",
     "state": {
      "_model_module": "@jupyter-widgets/controls",
      "_model_module_version": "1.5.0",
      "_model_name": "DescriptionStyleModel",
      "_view_count": null,
      "_view_module": "@jupyter-widgets/base",
      "_view_module_version": "1.2.0",
      "_view_name": "StyleView",
      "description_width": ""
     }
    },
    "b67482b653914ccba8ba6bbbce264d12": {
     "model_module": "@jupyter-widgets/base",
     "model_module_version": "1.2.0",
     "model_name": "LayoutModel",
     "state": {
      "_model_module": "@jupyter-widgets/base",
      "_model_module_version": "1.2.0",
      "_model_name": "LayoutModel",
      "_view_count": null,
      "_view_module": "@jupyter-widgets/base",
      "_view_module_version": "1.2.0",
      "_view_name": "LayoutView",
      "align_content": null,
      "align_items": null,
      "align_self": null,
      "border": null,
      "bottom": null,
      "display": null,
      "flex": null,
      "flex_flow": null,
      "grid_area": null,
      "grid_auto_columns": null,
      "grid_auto_flow": null,
      "grid_auto_rows": null,
      "grid_column": null,
      "grid_gap": null,
      "grid_row": null,
      "grid_template_areas": null,
      "grid_template_columns": null,
      "grid_template_rows": null,
      "height": null,
      "justify_content": null,
      "justify_items": null,
      "left": null,
      "margin": null,
      "max_height": null,
      "max_width": null,
      "min_height": null,
      "min_width": null,
      "object_fit": null,
      "object_position": null,
      "order": null,
      "overflow": null,
      "overflow_x": null,
      "overflow_y": null,
      "padding": null,
      "right": null,
      "top": null,
      "visibility": "hidden",
      "width": null
     }
    },
    "ba100a97a0344df68466276c283ed0e0": {
     "model_module": "@jupyter-widgets/base",
     "model_module_version": "1.2.0",
     "model_name": "LayoutModel",
     "state": {
      "_model_module": "@jupyter-widgets/base",
      "_model_module_version": "1.2.0",
      "_model_name": "LayoutModel",
      "_view_count": null,
      "_view_module": "@jupyter-widgets/base",
      "_view_module_version": "1.2.0",
      "_view_name": "LayoutView",
      "align_content": null,
      "align_items": null,
      "align_self": null,
      "border": null,
      "bottom": null,
      "display": null,
      "flex": null,
      "flex_flow": null,
      "grid_area": null,
      "grid_auto_columns": null,
      "grid_auto_flow": null,
      "grid_auto_rows": null,
      "grid_column": null,
      "grid_gap": null,
      "grid_row": null,
      "grid_template_areas": null,
      "grid_template_columns": null,
      "grid_template_rows": null,
      "height": null,
      "justify_content": null,
      "justify_items": null,
      "left": null,
      "margin": null,
      "max_height": null,
      "max_width": null,
      "min_height": null,
      "min_width": null,
      "object_fit": null,
      "object_position": null,
      "order": null,
      "overflow": null,
      "overflow_x": null,
      "overflow_y": null,
      "padding": null,
      "right": null,
      "top": null,
      "visibility": null,
      "width": null
     }
    },
    "bc784ea4d7174dc58e40465e53aec352": {
     "model_module": "@jupyter-widgets/controls",
     "model_module_version": "1.5.0",
     "model_name": "HTMLModel",
     "state": {
      "_dom_classes": [],
      "_model_module": "@jupyter-widgets/controls",
      "_model_module_version": "1.5.0",
      "_model_name": "HTMLModel",
      "_view_count": null,
      "_view_module": "@jupyter-widgets/controls",
      "_view_module_version": "1.5.0",
      "_view_name": "HTMLView",
      "description": "",
      "description_tooltip": null,
      "layout": "IPY_MODEL_ba100a97a0344df68466276c283ed0e0",
      "placeholder": "​",
      "style": "IPY_MODEL_50fe0abaf885497e9ce02e04492c9bd6",
      "value": "Generating unsupervised split:  99%"
     }
    },
    "bea67724ec9341d9bb506d3fede9ac33": {
     "model_module": "@jupyter-widgets/controls",
     "model_module_version": "1.5.0",
     "model_name": "HTMLModel",
     "state": {
      "_dom_classes": [],
      "_model_module": "@jupyter-widgets/controls",
      "_model_module_version": "1.5.0",
      "_model_name": "HTMLModel",
      "_view_count": null,
      "_view_module": "@jupyter-widgets/controls",
      "_view_module_version": "1.5.0",
      "_view_name": "HTMLView",
      "description": "",
      "description_tooltip": null,
      "layout": "IPY_MODEL_a9157fb6d29e483a8bcd9c95a5173e88",
      "placeholder": "​",
      "style": "IPY_MODEL_0ac837c7ef7f4e189aec7cd3c0117d53",
      "value": " 4.31k/? [00:00&lt;00:00, 15.5kB/s]"
     }
    },
    "c006ddd7c89345baa1854960ae667bdf": {
     "model_module": "@jupyter-widgets/controls",
     "model_module_version": "1.5.0",
     "model_name": "ProgressStyleModel",
     "state": {
      "_model_module": "@jupyter-widgets/controls",
      "_model_module_version": "1.5.0",
      "_model_name": "ProgressStyleModel",
      "_view_count": null,
      "_view_module": "@jupyter-widgets/base",
      "_view_module_version": "1.2.0",
      "_view_name": "StyleView",
      "bar_color": null,
      "description_width": ""
     }
    },
    "cb231f7c114e4781980ce5a95839e2ac": {
     "model_module": "@jupyter-widgets/controls",
     "model_module_version": "1.5.0",
     "model_name": "ProgressStyleModel",
     "state": {
      "_model_module": "@jupyter-widgets/controls",
      "_model_module_version": "1.5.0",
      "_model_name": "ProgressStyleModel",
      "_view_count": null,
      "_view_module": "@jupyter-widgets/base",
      "_view_module_version": "1.2.0",
      "_view_name": "StyleView",
      "bar_color": null,
      "description_width": ""
     }
    },
    "cbcd35a316fb40cd9ebf2f946b9e73e3": {
     "model_module": "@jupyter-widgets/controls",
     "model_module_version": "1.5.0",
     "model_name": "ProgressStyleModel",
     "state": {
      "_model_module": "@jupyter-widgets/controls",
      "_model_module_version": "1.5.0",
      "_model_name": "ProgressStyleModel",
      "_view_count": null,
      "_view_module": "@jupyter-widgets/base",
      "_view_module_version": "1.2.0",
      "_view_name": "StyleView",
      "bar_color": null,
      "description_width": ""
     }
    },
    "ccf119c07e5e48b28b7a77186a54f3dc": {
     "model_module": "@jupyter-widgets/base",
     "model_module_version": "1.2.0",
     "model_name": "LayoutModel",
     "state": {
      "_model_module": "@jupyter-widgets/base",
      "_model_module_version": "1.2.0",
      "_model_name": "LayoutModel",
      "_view_count": null,
      "_view_module": "@jupyter-widgets/base",
      "_view_module_version": "1.2.0",
      "_view_name": "LayoutView",
      "align_content": null,
      "align_items": null,
      "align_self": null,
      "border": null,
      "bottom": null,
      "display": null,
      "flex": null,
      "flex_flow": null,
      "grid_area": null,
      "grid_auto_columns": null,
      "grid_auto_flow": null,
      "grid_auto_rows": null,
      "grid_column": null,
      "grid_gap": null,
      "grid_row": null,
      "grid_template_areas": null,
      "grid_template_columns": null,
      "grid_template_rows": null,
      "height": null,
      "justify_content": null,
      "justify_items": null,
      "left": null,
      "margin": null,
      "max_height": null,
      "max_width": null,
      "min_height": null,
      "min_width": null,
      "object_fit": null,
      "object_position": null,
      "order": null,
      "overflow": null,
      "overflow_x": null,
      "overflow_y": null,
      "padding": null,
      "right": null,
      "top": null,
      "visibility": null,
      "width": null
     }
    },
    "cf9319c8566343ad940c0f1049e289f7": {
     "model_module": "@jupyter-widgets/base",
     "model_module_version": "1.2.0",
     "model_name": "LayoutModel",
     "state": {
      "_model_module": "@jupyter-widgets/base",
      "_model_module_version": "1.2.0",
      "_model_name": "LayoutModel",
      "_view_count": null,
      "_view_module": "@jupyter-widgets/base",
      "_view_module_version": "1.2.0",
      "_view_name": "LayoutView",
      "align_content": null,
      "align_items": null,
      "align_self": null,
      "border": null,
      "bottom": null,
      "display": null,
      "flex": null,
      "flex_flow": null,
      "grid_area": null,
      "grid_auto_columns": null,
      "grid_auto_flow": null,
      "grid_auto_rows": null,
      "grid_column": null,
      "grid_gap": null,
      "grid_row": null,
      "grid_template_areas": null,
      "grid_template_columns": null,
      "grid_template_rows": null,
      "height": null,
      "justify_content": null,
      "justify_items": null,
      "left": null,
      "margin": null,
      "max_height": null,
      "max_width": null,
      "min_height": null,
      "min_width": null,
      "object_fit": null,
      "object_position": null,
      "order": null,
      "overflow": null,
      "overflow_x": null,
      "overflow_y": null,
      "padding": null,
      "right": null,
      "top": null,
      "visibility": null,
      "width": null
     }
    },
    "d1a146eabb134300bdc34345a20d85a1": {
     "model_module": "@jupyter-widgets/controls",
     "model_module_version": "1.5.0",
     "model_name": "DescriptionStyleModel",
     "state": {
      "_model_module": "@jupyter-widgets/controls",
      "_model_module_version": "1.5.0",
      "_model_name": "DescriptionStyleModel",
      "_view_count": null,
      "_view_module": "@jupyter-widgets/base",
      "_view_module_version": "1.2.0",
      "_view_name": "StyleView",
      "description_width": ""
     }
    },
    "d235e537faad41d88544e2057d553829": {
     "model_module": "@jupyter-widgets/controls",
     "model_module_version": "1.5.0",
     "model_name": "FloatProgressModel",
     "state": {
      "_dom_classes": [],
      "_model_module": "@jupyter-widgets/controls",
      "_model_module_version": "1.5.0",
      "_model_name": "FloatProgressModel",
      "_view_count": null,
      "_view_module": "@jupyter-widgets/controls",
      "_view_module_version": "1.5.0",
      "_view_name": "ProgressView",
      "bar_style": "",
      "description": "",
      "description_tooltip": null,
      "layout": "IPY_MODEL_094d3e88b9d44a6b9a0b2ba3e2aca144",
      "max": 25000,
      "min": 0,
      "orientation": "horizontal",
      "style": "IPY_MODEL_5cbe84c587b14393b26476a2d45b9f80",
      "value": 25000
     }
    },
    "d4ab7ae47120415496f970582d3b85ce": {
     "model_module": "@jupyter-widgets/base",
     "model_module_version": "1.2.0",
     "model_name": "LayoutModel",
     "state": {
      "_model_module": "@jupyter-widgets/base",
      "_model_module_version": "1.2.0",
      "_model_name": "LayoutModel",
      "_view_count": null,
      "_view_module": "@jupyter-widgets/base",
      "_view_module_version": "1.2.0",
      "_view_name": "LayoutView",
      "align_content": null,
      "align_items": null,
      "align_self": null,
      "border": null,
      "bottom": null,
      "display": null,
      "flex": null,
      "flex_flow": null,
      "grid_area": null,
      "grid_auto_columns": null,
      "grid_auto_flow": null,
      "grid_auto_rows": null,
      "grid_column": null,
      "grid_gap": null,
      "grid_row": null,
      "grid_template_areas": null,
      "grid_template_columns": null,
      "grid_template_rows": null,
      "height": null,
      "justify_content": null,
      "justify_items": null,
      "left": null,
      "margin": null,
      "max_height": null,
      "max_width": null,
      "min_height": null,
      "min_width": null,
      "object_fit": null,
      "object_position": null,
      "order": null,
      "overflow": null,
      "overflow_x": null,
      "overflow_y": null,
      "padding": null,
      "right": null,
      "top": null,
      "visibility": null,
      "width": null
     }
    },
    "da8cf0462dcf4a8da13c19a71c6a2e27": {
     "model_module": "@jupyter-widgets/controls",
     "model_module_version": "1.5.0",
     "model_name": "FloatProgressModel",
     "state": {
      "_dom_classes": [],
      "_model_module": "@jupyter-widgets/controls",
      "_model_module_version": "1.5.0",
      "_model_name": "FloatProgressModel",
      "_view_count": null,
      "_view_module": "@jupyter-widgets/controls",
      "_view_module_version": "1.5.0",
      "_view_name": "ProgressView",
      "bar_style": "success",
      "description": "",
      "description_tooltip": null,
      "layout": "IPY_MODEL_9c4d9f85cb4043019e61a3bd834c9840",
      "max": 3,
      "min": 0,
      "orientation": "horizontal",
      "style": "IPY_MODEL_5f454e119a0e47d68daf4777613230e1",
      "value": 3
     }
    },
    "dcd9c034ad87470da3f693e4155ec834": {
     "model_module": "@jupyter-widgets/controls",
     "model_module_version": "1.5.0",
     "model_name": "DescriptionStyleModel",
     "state": {
      "_model_module": "@jupyter-widgets/controls",
      "_model_module_version": "1.5.0",
      "_model_name": "DescriptionStyleModel",
      "_view_count": null,
      "_view_module": "@jupyter-widgets/base",
      "_view_module_version": "1.2.0",
      "_view_name": "StyleView",
      "description_width": ""
     }
    },
    "dd3c77e5b93e45d185672f6634ce3470": {
     "model_module": "@jupyter-widgets/controls",
     "model_module_version": "1.5.0",
     "model_name": "HTMLModel",
     "state": {
      "_dom_classes": [],
      "_model_module": "@jupyter-widgets/controls",
      "_model_module_version": "1.5.0",
      "_model_name": "HTMLModel",
      "_view_count": null,
      "_view_module": "@jupyter-widgets/controls",
      "_view_module_version": "1.5.0",
      "_view_name": "HTMLView",
      "description": "",
      "description_tooltip": null,
      "layout": "IPY_MODEL_7f597747bcb3423897451e8cea14b668",
      "placeholder": "​",
      "style": "IPY_MODEL_6f331e7551bc438884b72e5e6571477a",
      "value": "Downloading data: 100%"
     }
    },
    "e1f6e1dcc80c468591b5147f59d5611a": {
     "model_module": "@jupyter-widgets/base",
     "model_module_version": "1.2.0",
     "model_name": "LayoutModel",
     "state": {
      "_model_module": "@jupyter-widgets/base",
      "_model_module_version": "1.2.0",
      "_model_name": "LayoutModel",
      "_view_count": null,
      "_view_module": "@jupyter-widgets/base",
      "_view_module_version": "1.2.0",
      "_view_name": "LayoutView",
      "align_content": null,
      "align_items": null,
      "align_self": null,
      "border": null,
      "bottom": null,
      "display": null,
      "flex": null,
      "flex_flow": null,
      "grid_area": null,
      "grid_auto_columns": null,
      "grid_auto_flow": null,
      "grid_auto_rows": null,
      "grid_column": null,
      "grid_gap": null,
      "grid_row": null,
      "grid_template_areas": null,
      "grid_template_columns": null,
      "grid_template_rows": null,
      "height": null,
      "justify_content": null,
      "justify_items": null,
      "left": null,
      "margin": null,
      "max_height": null,
      "max_width": null,
      "min_height": null,
      "min_width": null,
      "object_fit": null,
      "object_position": null,
      "order": null,
      "overflow": null,
      "overflow_x": null,
      "overflow_y": null,
      "padding": null,
      "right": null,
      "top": null,
      "visibility": null,
      "width": null
     }
    },
    "e37eca954cf34359acd76313677efa5b": {
     "model_module": "@jupyter-widgets/base",
     "model_module_version": "1.2.0",
     "model_name": "LayoutModel",
     "state": {
      "_model_module": "@jupyter-widgets/base",
      "_model_module_version": "1.2.0",
      "_model_name": "LayoutModel",
      "_view_count": null,
      "_view_module": "@jupyter-widgets/base",
      "_view_module_version": "1.2.0",
      "_view_name": "LayoutView",
      "align_content": null,
      "align_items": null,
      "align_self": null,
      "border": null,
      "bottom": null,
      "display": null,
      "flex": null,
      "flex_flow": null,
      "grid_area": null,
      "grid_auto_columns": null,
      "grid_auto_flow": null,
      "grid_auto_rows": null,
      "grid_column": null,
      "grid_gap": null,
      "grid_row": null,
      "grid_template_areas": null,
      "grid_template_columns": null,
      "grid_template_rows": null,
      "height": null,
      "justify_content": null,
      "justify_items": null,
      "left": null,
      "margin": null,
      "max_height": null,
      "max_width": null,
      "min_height": null,
      "min_width": null,
      "object_fit": null,
      "object_position": null,
      "order": null,
      "overflow": null,
      "overflow_x": null,
      "overflow_y": null,
      "padding": null,
      "right": null,
      "top": null,
      "visibility": null,
      "width": null
     }
    },
    "e4d8617c91ef4513acc7f239e1f07586": {
     "model_module": "@jupyter-widgets/base",
     "model_module_version": "1.2.0",
     "model_name": "LayoutModel",
     "state": {
      "_model_module": "@jupyter-widgets/base",
      "_model_module_version": "1.2.0",
      "_model_name": "LayoutModel",
      "_view_count": null,
      "_view_module": "@jupyter-widgets/base",
      "_view_module_version": "1.2.0",
      "_view_name": "LayoutView",
      "align_content": null,
      "align_items": null,
      "align_self": null,
      "border": null,
      "bottom": null,
      "display": null,
      "flex": null,
      "flex_flow": null,
      "grid_area": null,
      "grid_auto_columns": null,
      "grid_auto_flow": null,
      "grid_auto_rows": null,
      "grid_column": null,
      "grid_gap": null,
      "grid_row": null,
      "grid_template_areas": null,
      "grid_template_columns": null,
      "grid_template_rows": null,
      "height": null,
      "justify_content": null,
      "justify_items": null,
      "left": null,
      "margin": null,
      "max_height": null,
      "max_width": null,
      "min_height": null,
      "min_width": null,
      "object_fit": null,
      "object_position": null,
      "order": null,
      "overflow": null,
      "overflow_x": null,
      "overflow_y": null,
      "padding": null,
      "right": null,
      "top": null,
      "visibility": null,
      "width": null
     }
    },
    "ef78ab95f2ac4d4cbcff4b8f2a919a1d": {
     "model_module": "@jupyter-widgets/controls",
     "model_module_version": "1.5.0",
     "model_name": "DescriptionStyleModel",
     "state": {
      "_model_module": "@jupyter-widgets/controls",
      "_model_module_version": "1.5.0",
      "_model_name": "DescriptionStyleModel",
      "_view_count": null,
      "_view_module": "@jupyter-widgets/base",
      "_view_module_version": "1.2.0",
      "_view_name": "StyleView",
      "description_width": ""
     }
    },
    "f25a2900fb18476e962caadea5352cdb": {
     "model_module": "@jupyter-widgets/controls",
     "model_module_version": "1.5.0",
     "model_name": "HTMLModel",
     "state": {
      "_dom_classes": [],
      "_model_module": "@jupyter-widgets/controls",
      "_model_module_version": "1.5.0",
      "_model_name": "HTMLModel",
      "_view_count": null,
      "_view_module": "@jupyter-widgets/controls",
      "_view_module_version": "1.5.0",
      "_view_name": "HTMLView",
      "description": "",
      "description_tooltip": null,
      "layout": "IPY_MODEL_ccf119c07e5e48b28b7a77186a54f3dc",
      "placeholder": "​",
      "style": "IPY_MODEL_476c48359f2749d6ac08514d90f914c6",
      "value": " 2.17k/? [00:00&lt;00:00, 35.3kB/s]"
     }
    },
    "f2ad90db7e1a458186cf0397a6fca5f8": {
     "model_module": "@jupyter-widgets/base",
     "model_module_version": "1.2.0",
     "model_name": "LayoutModel",
     "state": {
      "_model_module": "@jupyter-widgets/base",
      "_model_module_version": "1.2.0",
      "_model_name": "LayoutModel",
      "_view_count": null,
      "_view_module": "@jupyter-widgets/base",
      "_view_module_version": "1.2.0",
      "_view_name": "LayoutView",
      "align_content": null,
      "align_items": null,
      "align_self": null,
      "border": null,
      "bottom": null,
      "display": null,
      "flex": null,
      "flex_flow": null,
      "grid_area": null,
      "grid_auto_columns": null,
      "grid_auto_flow": null,
      "grid_auto_rows": null,
      "grid_column": null,
      "grid_gap": null,
      "grid_row": null,
      "grid_template_areas": null,
      "grid_template_columns": null,
      "grid_template_rows": null,
      "height": null,
      "justify_content": null,
      "justify_items": null,
      "left": null,
      "margin": null,
      "max_height": null,
      "max_width": null,
      "min_height": null,
      "min_width": null,
      "object_fit": null,
      "object_position": null,
      "order": null,
      "overflow": null,
      "overflow_x": null,
      "overflow_y": null,
      "padding": null,
      "right": null,
      "top": null,
      "visibility": null,
      "width": null
     }
    },
    "f336831e89ea4469abb28aaaa7cea7e8": {
     "model_module": "@jupyter-widgets/base",
     "model_module_version": "1.2.0",
     "model_name": "LayoutModel",
     "state": {
      "_model_module": "@jupyter-widgets/base",
      "_model_module_version": "1.2.0",
      "_model_name": "LayoutModel",
      "_view_count": null,
      "_view_module": "@jupyter-widgets/base",
      "_view_module_version": "1.2.0",
      "_view_name": "LayoutView",
      "align_content": null,
      "align_items": null,
      "align_self": null,
      "border": null,
      "bottom": null,
      "display": null,
      "flex": null,
      "flex_flow": null,
      "grid_area": null,
      "grid_auto_columns": null,
      "grid_auto_flow": null,
      "grid_auto_rows": null,
      "grid_column": null,
      "grid_gap": null,
      "grid_row": null,
      "grid_template_areas": null,
      "grid_template_columns": null,
      "grid_template_rows": null,
      "height": null,
      "justify_content": null,
      "justify_items": null,
      "left": null,
      "margin": null,
      "max_height": null,
      "max_width": null,
      "min_height": null,
      "min_width": null,
      "object_fit": null,
      "object_position": null,
      "order": null,
      "overflow": null,
      "overflow_x": null,
      "overflow_y": null,
      "padding": null,
      "right": null,
      "top": null,
      "visibility": null,
      "width": null
     }
    },
    "f60856bd72ba47d1875a50c978500b56": {
     "model_module": "@jupyter-widgets/controls",
     "model_module_version": "1.5.0",
     "model_name": "DescriptionStyleModel",
     "state": {
      "_model_module": "@jupyter-widgets/controls",
      "_model_module_version": "1.5.0",
      "_model_name": "DescriptionStyleModel",
      "_view_count": null,
      "_view_module": "@jupyter-widgets/base",
      "_view_module_version": "1.2.0",
      "_view_name": "StyleView",
      "description_width": ""
     }
    },
    "f6afba1f17634716b47e588f3c5ef3ae": {
     "model_module": "@jupyter-widgets/controls",
     "model_module_version": "1.5.0",
     "model_name": "HTMLModel",
     "state": {
      "_dom_classes": [],
      "_model_module": "@jupyter-widgets/controls",
      "_model_module_version": "1.5.0",
      "_model_name": "HTMLModel",
      "_view_count": null,
      "_view_module": "@jupyter-widgets/controls",
      "_view_module_version": "1.5.0",
      "_view_name": "HTMLView",
      "description": "",
      "description_tooltip": null,
      "layout": "IPY_MODEL_f336831e89ea4469abb28aaaa7cea7e8",
      "placeholder": "​",
      "style": "IPY_MODEL_083481e459294406877f6ccb20ccb660",
      "value": " 49625/50000 [00:12&lt;00:00, 6400.00 examples/s]"
     }
    },
    "fa4dfc3b84944ce9bfe1c69c8a5e15de": {
     "model_module": "@jupyter-widgets/base",
     "model_module_version": "1.2.0",
     "model_name": "LayoutModel",
     "state": {
      "_model_module": "@jupyter-widgets/base",
      "_model_module_version": "1.2.0",
      "_model_name": "LayoutModel",
      "_view_count": null,
      "_view_module": "@jupyter-widgets/base",
      "_view_module_version": "1.2.0",
      "_view_name": "LayoutView",
      "align_content": null,
      "align_items": null,
      "align_self": null,
      "border": null,
      "bottom": null,
      "display": null,
      "flex": null,
      "flex_flow": null,
      "grid_area": null,
      "grid_auto_columns": null,
      "grid_auto_flow": null,
      "grid_auto_rows": null,
      "grid_column": null,
      "grid_gap": null,
      "grid_row": null,
      "grid_template_areas": null,
      "grid_template_columns": null,
      "grid_template_rows": null,
      "height": null,
      "justify_content": null,
      "justify_items": null,
      "left": null,
      "margin": null,
      "max_height": null,
      "max_width": null,
      "min_height": null,
      "min_width": null,
      "object_fit": null,
      "object_position": null,
      "order": null,
      "overflow": null,
      "overflow_x": null,
      "overflow_y": null,
      "padding": null,
      "right": null,
      "top": null,
      "visibility": null,
      "width": null
     }
    },
    "fa8dce6ac2014c9fa1418ace5ea14f8c": {
     "model_module": "@jupyter-widgets/controls",
     "model_module_version": "1.5.0",
     "model_name": "DescriptionStyleModel",
     "state": {
      "_model_module": "@jupyter-widgets/controls",
      "_model_module_version": "1.5.0",
      "_model_name": "DescriptionStyleModel",
      "_view_count": null,
      "_view_module": "@jupyter-widgets/base",
      "_view_module_version": "1.2.0",
      "_view_name": "StyleView",
      "description_width": ""
     }
    },
    "fcb5e249c41c4ff1922c9f36cb390428": {
     "model_module": "@jupyter-widgets/base",
     "model_module_version": "1.2.0",
     "model_name": "LayoutModel",
     "state": {
      "_model_module": "@jupyter-widgets/base",
      "_model_module_version": "1.2.0",
      "_model_name": "LayoutModel",
      "_view_count": null,
      "_view_module": "@jupyter-widgets/base",
      "_view_module_version": "1.2.0",
      "_view_name": "LayoutView",
      "align_content": null,
      "align_items": null,
      "align_self": null,
      "border": null,
      "bottom": null,
      "display": null,
      "flex": null,
      "flex_flow": null,
      "grid_area": null,
      "grid_auto_columns": null,
      "grid_auto_flow": null,
      "grid_auto_rows": null,
      "grid_column": null,
      "grid_gap": null,
      "grid_row": null,
      "grid_template_areas": null,
      "grid_template_columns": null,
      "grid_template_rows": null,
      "height": null,
      "justify_content": null,
      "justify_items": null,
      "left": null,
      "margin": null,
      "max_height": null,
      "max_width": null,
      "min_height": null,
      "min_width": null,
      "object_fit": null,
      "object_position": null,
      "order": null,
      "overflow": null,
      "overflow_x": null,
      "overflow_y": null,
      "padding": null,
      "right": null,
      "top": null,
      "visibility": null,
      "width": null
     }
    }
   }
  }
 },
 "nbformat": 4,
 "nbformat_minor": 5
}
