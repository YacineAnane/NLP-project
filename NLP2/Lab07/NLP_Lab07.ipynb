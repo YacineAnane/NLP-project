{
  "cells": [
    {
      "cell_type": "code",
      "source": [
        "!pip install tensorflow_text beir hnswlib"
      ],
      "metadata": {
        "id": "2-p5vJSLIMcT",
        "colab": {
          "base_uri": "https://localhost:8080/"
        },
        "outputId": "12e42556-e201-4009-d261-4f4588cfca09"
      },
      "id": "2-p5vJSLIMcT",
      "execution_count": 1,
      "outputs": [
        {
          "output_type": "stream",
          "name": "stdout",
          "text": [
            "Looking in indexes: https://pypi.org/simple, https://us-python.pkg.dev/colab-wheels/public/simple/\n",
            "Requirement already satisfied: tensorflow_text in /usr/local/lib/python3.7/dist-packages (2.10.0)\n",
            "Requirement already satisfied: beir in /usr/local/lib/python3.7/dist-packages (1.0.1)\n",
            "Requirement already satisfied: hnswlib in /usr/local/lib/python3.7/dist-packages (0.6.2)\n",
            "Requirement already satisfied: tensorflow<2.11,>=2.10.0 in /usr/local/lib/python3.7/dist-packages (from tensorflow_text) (2.10.1)\n",
            "Requirement already satisfied: tensorflow-hub>=0.8.0 in /usr/local/lib/python3.7/dist-packages (from tensorflow_text) (0.12.0)\n",
            "Requirement already satisfied: keras<2.11,>=2.10.0 in /usr/local/lib/python3.7/dist-packages (from tensorflow<2.11,>=2.10.0->tensorflow_text) (2.10.0)\n",
            "Requirement already satisfied: tensorflow-io-gcs-filesystem>=0.23.1 in /usr/local/lib/python3.7/dist-packages (from tensorflow<2.11,>=2.10.0->tensorflow_text) (0.27.0)\n",
            "Requirement already satisfied: six>=1.12.0 in /usr/local/lib/python3.7/dist-packages (from tensorflow<2.11,>=2.10.0->tensorflow_text) (1.15.0)\n",
            "Requirement already satisfied: typing-extensions>=3.6.6 in /usr/local/lib/python3.7/dist-packages (from tensorflow<2.11,>=2.10.0->tensorflow_text) (4.1.1)\n",
            "Requirement already satisfied: astunparse>=1.6.0 in /usr/local/lib/python3.7/dist-packages (from tensorflow<2.11,>=2.10.0->tensorflow_text) (1.6.3)\n",
            "Requirement already satisfied: tensorflow-estimator<2.11,>=2.10.0 in /usr/local/lib/python3.7/dist-packages (from tensorflow<2.11,>=2.10.0->tensorflow_text) (2.10.0)\n",
            "Requirement already satisfied: google-pasta>=0.1.1 in /usr/local/lib/python3.7/dist-packages (from tensorflow<2.11,>=2.10.0->tensorflow_text) (0.2.0)\n",
            "Requirement already satisfied: libclang>=13.0.0 in /usr/local/lib/python3.7/dist-packages (from tensorflow<2.11,>=2.10.0->tensorflow_text) (14.0.6)\n",
            "Requirement already satisfied: opt-einsum>=2.3.2 in /usr/local/lib/python3.7/dist-packages (from tensorflow<2.11,>=2.10.0->tensorflow_text) (3.3.0)\n",
            "Requirement already satisfied: absl-py>=1.0.0 in /usr/local/lib/python3.7/dist-packages (from tensorflow<2.11,>=2.10.0->tensorflow_text) (1.3.0)\n",
            "Requirement already satisfied: h5py>=2.9.0 in /usr/local/lib/python3.7/dist-packages (from tensorflow<2.11,>=2.10.0->tensorflow_text) (3.1.0)\n",
            "Requirement already satisfied: packaging in /usr/local/lib/python3.7/dist-packages (from tensorflow<2.11,>=2.10.0->tensorflow_text) (21.3)\n",
            "Requirement already satisfied: setuptools in /usr/local/lib/python3.7/dist-packages (from tensorflow<2.11,>=2.10.0->tensorflow_text) (57.4.0)\n",
            "Requirement already satisfied: flatbuffers>=2.0 in /usr/local/lib/python3.7/dist-packages (from tensorflow<2.11,>=2.10.0->tensorflow_text) (22.10.26)\n",
            "Requirement already satisfied: gast<=0.4.0,>=0.2.1 in /usr/local/lib/python3.7/dist-packages (from tensorflow<2.11,>=2.10.0->tensorflow_text) (0.4.0)\n",
            "Requirement already satisfied: termcolor>=1.1.0 in /usr/local/lib/python3.7/dist-packages (from tensorflow<2.11,>=2.10.0->tensorflow_text) (2.1.0)\n",
            "Requirement already satisfied: keras-preprocessing>=1.1.1 in /usr/local/lib/python3.7/dist-packages (from tensorflow<2.11,>=2.10.0->tensorflow_text) (1.1.2)\n",
            "Requirement already satisfied: numpy>=1.20 in /usr/local/lib/python3.7/dist-packages (from tensorflow<2.11,>=2.10.0->tensorflow_text) (1.21.6)\n",
            "Requirement already satisfied: protobuf<3.20,>=3.9.2 in /usr/local/lib/python3.7/dist-packages (from tensorflow<2.11,>=2.10.0->tensorflow_text) (3.19.6)\n",
            "Requirement already satisfied: wrapt>=1.11.0 in /usr/local/lib/python3.7/dist-packages (from tensorflow<2.11,>=2.10.0->tensorflow_text) (1.14.1)\n",
            "Requirement already satisfied: tensorboard<2.11,>=2.10 in /usr/local/lib/python3.7/dist-packages (from tensorflow<2.11,>=2.10.0->tensorflow_text) (2.10.1)\n",
            "Requirement already satisfied: grpcio<2.0,>=1.24.3 in /usr/local/lib/python3.7/dist-packages (from tensorflow<2.11,>=2.10.0->tensorflow_text) (1.50.0)\n",
            "Requirement already satisfied: wheel<1.0,>=0.23.0 in /usr/local/lib/python3.7/dist-packages (from astunparse>=1.6.0->tensorflow<2.11,>=2.10.0->tensorflow_text) (0.38.3)\n",
            "Requirement already satisfied: cached-property in /usr/local/lib/python3.7/dist-packages (from h5py>=2.9.0->tensorflow<2.11,>=2.10.0->tensorflow_text) (1.5.2)\n",
            "Requirement already satisfied: google-auth<3,>=1.6.3 in /usr/local/lib/python3.7/dist-packages (from tensorboard<2.11,>=2.10->tensorflow<2.11,>=2.10.0->tensorflow_text) (2.14.1)\n",
            "Requirement already satisfied: google-auth-oauthlib<0.5,>=0.4.1 in /usr/local/lib/python3.7/dist-packages (from tensorboard<2.11,>=2.10->tensorflow<2.11,>=2.10.0->tensorflow_text) (0.4.6)\n",
            "Requirement already satisfied: tensorboard-data-server<0.7.0,>=0.6.0 in /usr/local/lib/python3.7/dist-packages (from tensorboard<2.11,>=2.10->tensorflow<2.11,>=2.10.0->tensorflow_text) (0.6.1)\n",
            "Requirement already satisfied: werkzeug>=1.0.1 in /usr/local/lib/python3.7/dist-packages (from tensorboard<2.11,>=2.10->tensorflow<2.11,>=2.10.0->tensorflow_text) (1.0.1)\n",
            "Requirement already satisfied: markdown>=2.6.8 in /usr/local/lib/python3.7/dist-packages (from tensorboard<2.11,>=2.10->tensorflow<2.11,>=2.10.0->tensorflow_text) (3.4.1)\n",
            "Requirement already satisfied: requests<3,>=2.21.0 in /usr/local/lib/python3.7/dist-packages (from tensorboard<2.11,>=2.10->tensorflow<2.11,>=2.10.0->tensorflow_text) (2.23.0)\n",
            "Requirement already satisfied: tensorboard-plugin-wit>=1.6.0 in /usr/local/lib/python3.7/dist-packages (from tensorboard<2.11,>=2.10->tensorflow<2.11,>=2.10.0->tensorflow_text) (1.8.1)\n",
            "Requirement already satisfied: pyasn1-modules>=0.2.1 in /usr/local/lib/python3.7/dist-packages (from google-auth<3,>=1.6.3->tensorboard<2.11,>=2.10->tensorflow<2.11,>=2.10.0->tensorflow_text) (0.2.8)\n",
            "Requirement already satisfied: cachetools<6.0,>=2.0.0 in /usr/local/lib/python3.7/dist-packages (from google-auth<3,>=1.6.3->tensorboard<2.11,>=2.10->tensorflow<2.11,>=2.10.0->tensorflow_text) (5.2.0)\n",
            "Requirement already satisfied: rsa<5,>=3.1.4 in /usr/local/lib/python3.7/dist-packages (from google-auth<3,>=1.6.3->tensorboard<2.11,>=2.10->tensorflow<2.11,>=2.10.0->tensorflow_text) (4.9)\n",
            "Requirement already satisfied: requests-oauthlib>=0.7.0 in /usr/local/lib/python3.7/dist-packages (from google-auth-oauthlib<0.5,>=0.4.1->tensorboard<2.11,>=2.10->tensorflow<2.11,>=2.10.0->tensorflow_text) (1.3.1)\n",
            "Requirement already satisfied: importlib-metadata>=4.4 in /usr/local/lib/python3.7/dist-packages (from markdown>=2.6.8->tensorboard<2.11,>=2.10->tensorflow<2.11,>=2.10.0->tensorflow_text) (4.13.0)\n",
            "Requirement already satisfied: zipp>=0.5 in /usr/local/lib/python3.7/dist-packages (from importlib-metadata>=4.4->markdown>=2.6.8->tensorboard<2.11,>=2.10->tensorflow<2.11,>=2.10.0->tensorflow_text) (3.10.0)\n",
            "Requirement already satisfied: pyasn1<0.5.0,>=0.4.6 in /usr/local/lib/python3.7/dist-packages (from pyasn1-modules>=0.2.1->google-auth<3,>=1.6.3->tensorboard<2.11,>=2.10->tensorflow<2.11,>=2.10.0->tensorflow_text) (0.4.8)\n",
            "Requirement already satisfied: idna<3,>=2.5 in /usr/local/lib/python3.7/dist-packages (from requests<3,>=2.21.0->tensorboard<2.11,>=2.10->tensorflow<2.11,>=2.10.0->tensorflow_text) (2.10)\n",
            "Requirement already satisfied: urllib3!=1.25.0,!=1.25.1,<1.26,>=1.21.1 in /usr/local/lib/python3.7/dist-packages (from requests<3,>=2.21.0->tensorboard<2.11,>=2.10->tensorflow<2.11,>=2.10.0->tensorflow_text) (1.25.11)\n",
            "Requirement already satisfied: chardet<4,>=3.0.2 in /usr/local/lib/python3.7/dist-packages (from requests<3,>=2.21.0->tensorboard<2.11,>=2.10->tensorflow<2.11,>=2.10.0->tensorflow_text) (3.0.4)\n",
            "Requirement already satisfied: certifi>=2017.4.17 in /usr/local/lib/python3.7/dist-packages (from requests<3,>=2.21.0->tensorboard<2.11,>=2.10->tensorflow<2.11,>=2.10.0->tensorflow_text) (2022.9.24)\n",
            "Requirement already satisfied: oauthlib>=3.0.0 in /usr/local/lib/python3.7/dist-packages (from requests-oauthlib>=0.7.0->google-auth-oauthlib<0.5,>=0.4.1->tensorboard<2.11,>=2.10->tensorflow<2.11,>=2.10.0->tensorflow_text) (3.2.2)\n",
            "Requirement already satisfied: pytrec-eval in /usr/local/lib/python3.7/dist-packages (from beir) (0.5)\n",
            "Requirement already satisfied: datasets in /usr/local/lib/python3.7/dist-packages (from beir) (2.7.0)\n",
            "Requirement already satisfied: sentence-transformers in /usr/local/lib/python3.7/dist-packages (from beir) (2.2.2)\n",
            "Requirement already satisfied: faiss-cpu in /usr/local/lib/python3.7/dist-packages (from beir) (1.7.3)\n",
            "Requirement already satisfied: elasticsearch==7.9.1 in /usr/local/lib/python3.7/dist-packages (from beir) (7.9.1)\n",
            "Requirement already satisfied: responses<0.19 in /usr/local/lib/python3.7/dist-packages (from datasets->beir) (0.18.0)\n",
            "Requirement already satisfied: fsspec[http]>=2021.11.1 in /usr/local/lib/python3.7/dist-packages (from datasets->beir) (2022.10.0)\n",
            "Requirement already satisfied: pyyaml>=5.1 in /usr/local/lib/python3.7/dist-packages (from datasets->beir) (6.0)\n",
            "Requirement already satisfied: huggingface-hub<1.0.0,>=0.2.0 in /usr/local/lib/python3.7/dist-packages (from datasets->beir) (0.11.0)\n",
            "Requirement already satisfied: xxhash in /usr/local/lib/python3.7/dist-packages (from datasets->beir) (3.1.0)\n",
            "Requirement already satisfied: tqdm>=4.62.1 in /usr/local/lib/python3.7/dist-packages (from datasets->beir) (4.64.1)\n",
            "Requirement already satisfied: aiohttp in /usr/local/lib/python3.7/dist-packages (from datasets->beir) (3.8.3)\n",
            "Requirement already satisfied: pyarrow>=6.0.0 in /usr/local/lib/python3.7/dist-packages (from datasets->beir) (6.0.1)\n",
            "Requirement already satisfied: dill<0.3.7 in /usr/local/lib/python3.7/dist-packages (from datasets->beir) (0.3.6)\n",
            "Requirement already satisfied: pandas in /usr/local/lib/python3.7/dist-packages (from datasets->beir) (1.3.5)\n",
            "Requirement already satisfied: multiprocess in /usr/local/lib/python3.7/dist-packages (from datasets->beir) (0.70.14)\n",
            "Requirement already satisfied: charset-normalizer<3.0,>=2.0 in /usr/local/lib/python3.7/dist-packages (from aiohttp->datasets->beir) (2.1.1)\n",
            "Requirement already satisfied: aiosignal>=1.1.2 in /usr/local/lib/python3.7/dist-packages (from aiohttp->datasets->beir) (1.3.1)\n",
            "Requirement already satisfied: attrs>=17.3.0 in /usr/local/lib/python3.7/dist-packages (from aiohttp->datasets->beir) (22.1.0)\n",
            "Requirement already satisfied: yarl<2.0,>=1.0 in /usr/local/lib/python3.7/dist-packages (from aiohttp->datasets->beir) (1.8.1)\n",
            "Requirement already satisfied: multidict<7.0,>=4.5 in /usr/local/lib/python3.7/dist-packages (from aiohttp->datasets->beir) (6.0.2)\n",
            "Requirement already satisfied: frozenlist>=1.1.1 in /usr/local/lib/python3.7/dist-packages (from aiohttp->datasets->beir) (1.3.3)\n",
            "Requirement already satisfied: async-timeout<5.0,>=4.0.0a3 in /usr/local/lib/python3.7/dist-packages (from aiohttp->datasets->beir) (4.0.2)\n",
            "Requirement already satisfied: asynctest==0.13.0 in /usr/local/lib/python3.7/dist-packages (from aiohttp->datasets->beir) (0.13.0)\n",
            "Requirement already satisfied: filelock in /usr/local/lib/python3.7/dist-packages (from huggingface-hub<1.0.0,>=0.2.0->datasets->beir) (3.8.0)\n",
            "Requirement already satisfied: pyparsing!=3.0.5,>=2.0.2 in /usr/local/lib/python3.7/dist-packages (from packaging->tensorflow<2.11,>=2.10.0->tensorflow_text) (3.0.9)\n",
            "Requirement already satisfied: pytz>=2017.3 in /usr/local/lib/python3.7/dist-packages (from pandas->datasets->beir) (2022.6)\n",
            "Requirement already satisfied: python-dateutil>=2.7.3 in /usr/local/lib/python3.7/dist-packages (from pandas->datasets->beir) (2.8.2)\n",
            "Requirement already satisfied: torch>=1.6.0 in /usr/local/lib/python3.7/dist-packages (from sentence-transformers->beir) (1.12.1+cu113)\n",
            "Requirement already satisfied: torchvision in /usr/local/lib/python3.7/dist-packages (from sentence-transformers->beir) (0.13.1+cu113)\n",
            "Requirement already satisfied: transformers<5.0.0,>=4.6.0 in /usr/local/lib/python3.7/dist-packages (from sentence-transformers->beir) (4.24.0)\n",
            "Requirement already satisfied: sentencepiece in /usr/local/lib/python3.7/dist-packages (from sentence-transformers->beir) (0.1.97)\n",
            "Requirement already satisfied: scikit-learn in /usr/local/lib/python3.7/dist-packages (from sentence-transformers->beir) (1.0.2)\n",
            "Requirement already satisfied: scipy in /usr/local/lib/python3.7/dist-packages (from sentence-transformers->beir) (1.7.3)\n",
            "Requirement already satisfied: nltk in /usr/local/lib/python3.7/dist-packages (from sentence-transformers->beir) (3.7)\n",
            "Requirement already satisfied: tokenizers!=0.11.3,<0.14,>=0.11.1 in /usr/local/lib/python3.7/dist-packages (from transformers<5.0.0,>=4.6.0->sentence-transformers->beir) (0.13.2)\n",
            "Requirement already satisfied: regex!=2019.12.17 in /usr/local/lib/python3.7/dist-packages (from transformers<5.0.0,>=4.6.0->sentence-transformers->beir) (2022.6.2)\n",
            "Requirement already satisfied: click in /usr/local/lib/python3.7/dist-packages (from nltk->sentence-transformers->beir) (7.1.2)\n",
            "Requirement already satisfied: joblib in /usr/local/lib/python3.7/dist-packages (from nltk->sentence-transformers->beir) (1.2.0)\n",
            "Requirement already satisfied: threadpoolctl>=2.0.0 in /usr/local/lib/python3.7/dist-packages (from scikit-learn->sentence-transformers->beir) (3.1.0)\n",
            "Requirement already satisfied: pillow!=8.3.*,>=5.3.0 in /usr/local/lib/python3.7/dist-packages (from torchvision->sentence-transformers->beir) (7.1.2)\n"
          ]
        }
      ]
    },
    {
      "cell_type": "code",
      "execution_count": 2,
      "id": "86b1c4ad",
      "metadata": {
        "id": "86b1c4ad",
        "colab": {
          "base_uri": "https://localhost:8080/",
          "height": 105,
          "referenced_widgets": [
            "1bac264ab6b84c9b90d5b438f6ebfe98",
            "46e89484d903441db14841b7bb9872aa",
            "b54206b06009404b9498aab1f3b0df78",
            "6be4a44c9f5c4962874e88ef6a084464",
            "5b40feecbea943909df2ddc8fae3b8d6",
            "7f614613ab7749eb99a0eae15fd47b4e",
            "55e18281382e41848e9fa6f1dd46e2cd",
            "9ee6bb2ad9fc460ca77a51c22984ac2e",
            "4607465f6567410585a6626c723467d6",
            "4f13f90d40224d08bd7b2ad4253f484d",
            "0717ca89c65a4deab5377e69701704bf"
          ]
        },
        "outputId": "f3b438ac-ba36-4cd1-9888-247663ac146d"
      },
      "outputs": [
        {
          "output_type": "stream",
          "name": "stderr",
          "text": [
            "/usr/local/lib/python3.7/dist-packages/beir/util.py:2: TqdmExperimentalWarning: Using `tqdm.autonotebook.tqdm` in notebook mode. Use `tqdm.tqdm` instead to force console mode (e.g. in jupyter console)\n",
            "  from tqdm.autonotebook import tqdm\n"
          ]
        },
        {
          "output_type": "display_data",
          "data": {
            "text/plain": [
              "  0%|          | 0/4635922 [00:00<?, ?it/s]"
            ],
            "application/vnd.jupyter.widget-view+json": {
              "version_major": 2,
              "version_minor": 0,
              "model_id": "1bac264ab6b84c9b90d5b438f6ebfe98"
            }
          },
          "metadata": {}
        }
      ],
      "source": [
        "from beir import util, LoggingHandler\n",
        "from beir.retrieval import models\n",
        "from beir.datasets.data_loader import GenericDataLoader\n",
        "from beir.retrieval.evaluation import EvaluateRetrieval\n",
        "from beir.retrieval.search.dense import DenseRetrievalExactSearch as DRES\n",
        "\n",
        "import logging\n",
        "import pathlib, os\n",
        "import numpy as np\n",
        "import time\n",
        "import hnswlib\n",
        "\n",
        "#### Just some code to print debug information to stdout\n",
        "logging.basicConfig(\n",
        "    format=\"%(asctime)s - %(message)s\",\n",
        "    datefmt=\"%Y-%m-%d %H:%M:%S\",\n",
        "    level=logging.INFO,\n",
        "    handlers=[LoggingHandler()],\n",
        ")\n",
        "#### /print debug information to stdout\n",
        "\n",
        "#### Download scifact.zip dataset and unzip the dataset\n",
        "dataset = \"dbpedia-entity\"\n",
        "url = (\n",
        "    \"https://public.ukp.informatik.tu-darmstadt.de/thakur/BEIR/datasets/{}.zip\".format(\n",
        "        dataset\n",
        "    )\n",
        ")\n",
        "out_dir = os.path.join(pathlib.Path(\".\").parent.absolute(), \"datasets\")\n",
        "data_path = util.download_and_unzip(url, out_dir)\n",
        "\n",
        "#### Provide the data_path where scifact has been downloaded and unzipped\n",
        "corpus, queries, qrels = GenericDataLoader(data_folder=data_path).load(split=\"test\")"
      ]
    },
    {
      "cell_type": "markdown",
      "id": "60f9133a",
      "metadata": {
        "id": "60f9133a"
      },
      "source": [
        "`corpus`: un dictionnaire contenant en `clé` le titre de l'oeuvre et en `value` un autre dictionnaire contenant une `clé` \"titre\" et une deuxième `clé` \"texte\" avec le contenu.\n",
        "\n",
        "`queries`: un dictionnaire contennant en value des recherche par mots clés pour rechercher des texte de mannière générique\n",
        "\n",
        "`qrels`: un dictionnaire avec les même `clés` que `queries` où chacune d'elles aura comme valeur un autre dictionnaire avec des `clés` présentes dans `corpus` est donnant un niveau de raprochement entre le corpus et la querie 0 pour aucune ressemblance sinon 1 ou 2"
      ]
    },
    {
      "cell_type": "code",
      "source": [
        "# We need to remove the 0 values from qrels since it is not relevant\n",
        "new_q = dict()\n",
        "for item in qrels.items():\n",
        "    new_q[item[0]] = {x[0]: x[1] for x in item[1].items() if x[1] != 0}\n",
        "qrels = new_q"
      ],
      "metadata": {
        "id": "UNDzvqnjOMX4"
      },
      "id": "UNDzvqnjOMX4",
      "execution_count": 3,
      "outputs": []
    },
    {
      "cell_type": "code",
      "execution_count": 4,
      "id": "a561a07a",
      "metadata": {
        "id": "a561a07a"
      },
      "outputs": [],
      "source": [
        "# Create a dict with all relevant text to queries\n",
        "s = {y for x in qrels.values() for y in x.keys()}\n",
        "res = {x: corpus[x][\"text\"] for x in s}"
      ]
    },
    {
      "cell_type": "code",
      "execution_count": 5,
      "id": "12f574a8",
      "metadata": {
        "id": "12f574a8"
      },
      "outputs": [],
      "source": [
        "# Add random queries to this dict\n",
        "np.random.seed(0)\n",
        "res.update(\n",
        "    {x: corpus[x][\"text\"] for x in np.random.choice(list(corpus), 100000, False)}\n",
        ")"
      ]
    },
    {
      "cell_type": "code",
      "execution_count": 6,
      "id": "495fcebf",
      "metadata": {
        "id": "495fcebf"
      },
      "outputs": [],
      "source": [
        "# Separate the dict between keys and values\n",
        "little_corpus_keys = [x for x in res.keys()]\n",
        "little_corpus = [x for x in res.values()]"
      ]
    },
    {
      "cell_type": "markdown",
      "source": [
        "As said in [the subject and explain in the doc](https://www.sbert.net/examples/applications/semantic-search/README.html#symmetric-vs-asymmetric-semantic-search).\n",
        "Since we have small query and big text with it we decide to choose Asymmetric Semantic Search to be more efficient.\n",
        "\n",
        "\n",
        "Once we know we want assymetric model, to do queries faster  we prefer to normalize the projection in the embedding part so we can do only dot product for query instead of cosine similarity. We will then choose model tuned for dot-product part in the this [table](https://www.sbert.net/docs/pretrained-models/msmarco-v3.html). We choose msmarco-distilbert-base-tas-b since he has the best perf overall in his category.\n",
        "\n"
      ],
      "metadata": {
        "id": "GL-J-_zIjOqx"
      },
      "id": "GL-J-_zIjOqx"
    },
    {
      "cell_type": "code",
      "execution_count": 7,
      "id": "58d37fc5",
      "metadata": {
        "id": "58d37fc5"
      },
      "outputs": [],
      "source": [
        "from sentence_transformers import SentenceTransformer, util\n",
        "\n",
        "# Choose a model and load it\n",
        "model = SentenceTransformer('msmarco-distilbert-base-tas-b')"
      ]
    },
    {
      "cell_type": "code",
      "execution_count": 8,
      "id": "10c72916",
      "metadata": {
        "id": "10c72916"
      },
      "outputs": [],
      "source": [
        "# Sentences are encoded by calling model.encode()\n",
        "embeddings = model.encode(little_corpus)"
      ]
    },
    {
      "cell_type": "code",
      "execution_count": 9,
      "id": "f36ed8e5",
      "metadata": {
        "id": "f36ed8e5",
        "colab": {
          "base_uri": "https://localhost:8080/"
        },
        "outputId": "f64ead97-3081-4f56-8a81-58b6b9132707"
      },
      "outputs": [
        {
          "output_type": "stream",
          "name": "stdout",
          "text": [
            "Similarity: tensor(14284)\n"
          ]
        },
        {
          "output_type": "execute_result",
          "data": {
            "text/plain": [
              "('Sichuan cuisine, Szechwan cuisine, or Szechuan cuisine (/ˈsɛʃwɒn/ or /ˈsɛtʃwɒn/; Chinese: 四川菜; pinyin: Sìchuān cài or Chinese: 川菜; pinyin: Chuān cài) is a style of Chinese cuisine originating from Sichuan province in southwestern China. It has bold flavours, particularly the pungency and spiciness resulting from liberal use of garlic and chili peppers, as well as the unique flavor of the Sichuan pepper.',\n",
              " 'Szechwan dish food cuisine')"
            ]
          },
          "metadata": {},
          "execution_count": 9
        }
      ],
      "source": [
        "# Encode a queries and find the best result to see if it's working a little\n",
        "querie_embedding = model.encode(queries[\"INEX_LD-2009022\"])\n",
        "found = np.argmax(util.cos_sim(querie_embedding, embeddings))\n",
        "print(\"Similarity:\", found)\n",
        "little_corpus[found], queries[\"INEX_LD-2009022\"]"
      ]
    },
    {
      "cell_type": "code",
      "execution_count": 10,
      "id": "48b26db6",
      "metadata": {
        "id": "48b26db6"
      },
      "outputs": [],
      "source": [
        "# Separates the dict between keys and values so it's easier to iterate\n",
        "list_queries_keys = [x for x in queries.keys()]\n",
        "list_queries = [x for x in queries.values()]"
      ]
    },
    {
      "cell_type": "code",
      "execution_count": 11,
      "id": "b767c199",
      "metadata": {
        "id": "b767c199",
        "colab": {
          "base_uri": "https://localhost:8080/"
        },
        "outputId": "bc641da7-f3fd-4181-a87a-bc217c63c8da"
      },
      "outputs": [
        {
          "output_type": "stream",
          "name": "stdout",
          "text": [
            "Average time for a query: 0.004452493190765381 seconds\n"
          ]
        }
      ],
      "source": [
        "# Compute all queries to find the best text associated\n",
        "start_time = time.time()\n",
        "\n",
        "queries_embedding = model.encode(list_queries)\n",
        "\n",
        "\n",
        "res_search = util.semantic_search(\n",
        "    queries_embedding, embeddings, top_k=100, score_function=util.dot_score\n",
        ")\n",
        "\n",
        "end_time = time.time()\n",
        "print(\n",
        "    \"Average time for a query:\", (end_time - start_time) / len(list_queries), \"seconds\"\n",
        ")"
      ]
    },
    {
      "cell_type": "code",
      "execution_count": 12,
      "id": "fc7e62bf",
      "metadata": {
        "id": "fc7e62bf"
      },
      "outputs": [],
      "source": [
        "def precision_k(retrieved: list, relevant: dict, k: int = 100) -> float:\n",
        "    \"\"\"\n",
        "    Calculate for a querie defined before the precision of answer of the\n",
        "    model return the precision (0 if the last answer is not in relevant)\n",
        "\n",
        "    Parameters\n",
        "    ----------\n",
        "    retrieved : list\n",
        "        list of text choose to answer the querie\n",
        "    relevant : dict\n",
        "        dict containing all relevant text for the querie\n",
        "    k : int, optional\n",
        "        size of selected queries for precision (default is 100)\n",
        "        have to be smaller or equal of len(retrieved)\n",
        "\n",
        "    Returns\n",
        "    -------\n",
        "    float\n",
        "    \"\"\"\n",
        "    n_retrieve = k\n",
        "    n_number = len(retrieved[:k] & relevant.keys())\n",
        "    n_relevant = len(relevant)\n",
        "    return (n_number / n_retrieve) * int(retrieved[k] in relevant)"
      ]
    },
    {
      "cell_type": "code",
      "execution_count": 13,
      "id": "77f82414",
      "metadata": {
        "id": "77f82414",
        "colab": {
          "base_uri": "https://localhost:8080/"
        },
        "outputId": "2ed6dc6b-a301-4bdc-91d7-7f1b46ca514d"
      },
      "outputs": [
        {
          "output_type": "stream",
          "name": "stdout",
          "text": [
            "MAP@100: 0.4551685596506889\n"
          ]
        }
      ],
      "source": [
        "r = 0\n",
        "for i in range(len(res_search)):\n",
        "    # Find for a query all corpus keys\n",
        "    retrieved = [little_corpus_keys[x[\"corpus_id\"]] for x in res_search[i]]\n",
        "    # Find all relevant for a query\n",
        "    relevant = qrels[list_queries_keys[i]]\n",
        "    ap = 0\n",
        "    for i in range(1, 100):\n",
        "        ap += precision_k(retrieved, relevant, i)\n",
        "    r += ap / len(relevant)\n",
        "print(\"MAP@100:\", r / len(res_search))"
      ]
    },
    {
      "cell_type": "code",
      "source": [
        "# Set all parameters\n",
        "embedding_size = 768    #Size of embeddings\n",
        "top_k_hits = 100        #Output k hits\n",
        "index = hnswlib.Index(space = 'cosine', dim = embedding_size) # We set the space as cosine so we do not have to "
      ],
      "metadata": {
        "id": "SSm3Qks51YTh"
      },
      "id": "SSm3Qks51YTh",
      "execution_count": 14,
      "outputs": []
    },
    {
      "cell_type": "code",
      "source": [
        "# Initialize index with every embedded text\n",
        "index.init_index(max_elements = len(embeddings), ef_construction = 40, M = 64)\n",
        "index.add_items(embeddings, list(range(len(embeddings))))"
      ],
      "metadata": {
        "id": "3JvQ-gkV2BfS"
      },
      "id": "3JvQ-gkV2BfS",
      "execution_count": 15,
      "outputs": []
    },
    {
      "cell_type": "code",
      "source": [
        "# Compute for every query\n",
        "corpus_ids, distances = index.knn_query(queries_embedding, k=top_k_hits)"
      ],
      "metadata": {
        "id": "Y1RdUi2n6hCB"
      },
      "id": "Y1RdUi2n6hCB",
      "execution_count": 16,
      "outputs": []
    },
    {
      "cell_type": "code",
      "source": [
        "r = 0\n",
        "# 0.4055050893647521\n",
        "for i in range(len(corpus_ids)):\n",
        "    # Find for a query all corpus keys\n",
        "    hits = [\n",
        "        {\"corpus_id\": id, \"score\": 1 - score}\n",
        "        for id, score in zip(corpus_ids[i], distances[i])\n",
        "    ]\n",
        "    hits = sorted(hits, key=lambda x: x[\"score\"], reverse=True)\n",
        "    retrieved = [little_corpus_keys[x[\"corpus_id\"]] for x in hits]\n",
        "\n",
        "    # Find all relevant for a query\n",
        "    relevant = qrels[list_queries_keys[i]]\n",
        "    ap = 0\n",
        "    limit = 100 if len(retrieved) > 100 else len(retrieved)\n",
        "    for i in range(1, limit):\n",
        "        ap += precision_k(retrieved, relevant, i)\n",
        "    r += ap / len(relevant)\n",
        "print(\"MAP@100:\", r / len(res_search))"
      ],
      "metadata": {
        "id": "oQLUrYDU63EJ",
        "colab": {
          "base_uri": "https://localhost:8080/"
        },
        "outputId": "0e0c76ea-47be-4eef-ba05-e0c3ff38f3ab"
      },
      "id": "oQLUrYDU63EJ",
      "execution_count": 17,
      "outputs": [
        {
          "output_type": "stream",
          "name": "stdout",
          "text": [
            "MAP@100: 0.40341242514412395\n"
          ]
        }
      ]
    }
  ],
  "metadata": {
    "kernelspec": {
      "display_name": "Python 3 (ipykernel)",
      "language": "python",
      "name": "python3"
    },
    "language_info": {
      "codemirror_mode": {
        "name": "ipython",
        "version": 3
      },
      "file_extension": ".py",
      "mimetype": "text/x-python",
      "name": "python",
      "nbconvert_exporter": "python",
      "pygments_lexer": "ipython3",
      "version": "3.10.8"
    },
    "colab": {
      "provenance": []
    },
    "accelerator": "GPU",
    "gpuClass": "standard",
    "widgets": {
      "application/vnd.jupyter.widget-state+json": {
        "1bac264ab6b84c9b90d5b438f6ebfe98": {
          "model_module": "@jupyter-widgets/controls",
          "model_name": "HBoxModel",
          "model_module_version": "1.5.0",
          "state": {
            "_dom_classes": [],
            "_model_module": "@jupyter-widgets/controls",
            "_model_module_version": "1.5.0",
            "_model_name": "HBoxModel",
            "_view_count": null,
            "_view_module": "@jupyter-widgets/controls",
            "_view_module_version": "1.5.0",
            "_view_name": "HBoxView",
            "box_style": "",
            "children": [
              "IPY_MODEL_46e89484d903441db14841b7bb9872aa",
              "IPY_MODEL_b54206b06009404b9498aab1f3b0df78",
              "IPY_MODEL_6be4a44c9f5c4962874e88ef6a084464"
            ],
            "layout": "IPY_MODEL_5b40feecbea943909df2ddc8fae3b8d6"
          }
        },
        "46e89484d903441db14841b7bb9872aa": {
          "model_module": "@jupyter-widgets/controls",
          "model_name": "HTMLModel",
          "model_module_version": "1.5.0",
          "state": {
            "_dom_classes": [],
            "_model_module": "@jupyter-widgets/controls",
            "_model_module_version": "1.5.0",
            "_model_name": "HTMLModel",
            "_view_count": null,
            "_view_module": "@jupyter-widgets/controls",
            "_view_module_version": "1.5.0",
            "_view_name": "HTMLView",
            "description": "",
            "description_tooltip": null,
            "layout": "IPY_MODEL_7f614613ab7749eb99a0eae15fd47b4e",
            "placeholder": "​",
            "style": "IPY_MODEL_55e18281382e41848e9fa6f1dd46e2cd",
            "value": "100%"
          }
        },
        "b54206b06009404b9498aab1f3b0df78": {
          "model_module": "@jupyter-widgets/controls",
          "model_name": "FloatProgressModel",
          "model_module_version": "1.5.0",
          "state": {
            "_dom_classes": [],
            "_model_module": "@jupyter-widgets/controls",
            "_model_module_version": "1.5.0",
            "_model_name": "FloatProgressModel",
            "_view_count": null,
            "_view_module": "@jupyter-widgets/controls",
            "_view_module_version": "1.5.0",
            "_view_name": "ProgressView",
            "bar_style": "success",
            "description": "",
            "description_tooltip": null,
            "layout": "IPY_MODEL_9ee6bb2ad9fc460ca77a51c22984ac2e",
            "max": 4635922,
            "min": 0,
            "orientation": "horizontal",
            "style": "IPY_MODEL_4607465f6567410585a6626c723467d6",
            "value": 4635922
          }
        },
        "6be4a44c9f5c4962874e88ef6a084464": {
          "model_module": "@jupyter-widgets/controls",
          "model_name": "HTMLModel",
          "model_module_version": "1.5.0",
          "state": {
            "_dom_classes": [],
            "_model_module": "@jupyter-widgets/controls",
            "_model_module_version": "1.5.0",
            "_model_name": "HTMLModel",
            "_view_count": null,
            "_view_module": "@jupyter-widgets/controls",
            "_view_module_version": "1.5.0",
            "_view_name": "HTMLView",
            "description": "",
            "description_tooltip": null,
            "layout": "IPY_MODEL_4f13f90d40224d08bd7b2ad4253f484d",
            "placeholder": "​",
            "style": "IPY_MODEL_0717ca89c65a4deab5377e69701704bf",
            "value": " 4635922/4635922 [00:36&lt;00:00, 128970.92it/s]"
          }
        },
        "5b40feecbea943909df2ddc8fae3b8d6": {
          "model_module": "@jupyter-widgets/base",
          "model_name": "LayoutModel",
          "model_module_version": "1.2.0",
          "state": {
            "_model_module": "@jupyter-widgets/base",
            "_model_module_version": "1.2.0",
            "_model_name": "LayoutModel",
            "_view_count": null,
            "_view_module": "@jupyter-widgets/base",
            "_view_module_version": "1.2.0",
            "_view_name": "LayoutView",
            "align_content": null,
            "align_items": null,
            "align_self": null,
            "border": null,
            "bottom": null,
            "display": null,
            "flex": null,
            "flex_flow": null,
            "grid_area": null,
            "grid_auto_columns": null,
            "grid_auto_flow": null,
            "grid_auto_rows": null,
            "grid_column": null,
            "grid_gap": null,
            "grid_row": null,
            "grid_template_areas": null,
            "grid_template_columns": null,
            "grid_template_rows": null,
            "height": null,
            "justify_content": null,
            "justify_items": null,
            "left": null,
            "margin": null,
            "max_height": null,
            "max_width": null,
            "min_height": null,
            "min_width": null,
            "object_fit": null,
            "object_position": null,
            "order": null,
            "overflow": null,
            "overflow_x": null,
            "overflow_y": null,
            "padding": null,
            "right": null,
            "top": null,
            "visibility": null,
            "width": null
          }
        },
        "7f614613ab7749eb99a0eae15fd47b4e": {
          "model_module": "@jupyter-widgets/base",
          "model_name": "LayoutModel",
          "model_module_version": "1.2.0",
          "state": {
            "_model_module": "@jupyter-widgets/base",
            "_model_module_version": "1.2.0",
            "_model_name": "LayoutModel",
            "_view_count": null,
            "_view_module": "@jupyter-widgets/base",
            "_view_module_version": "1.2.0",
            "_view_name": "LayoutView",
            "align_content": null,
            "align_items": null,
            "align_self": null,
            "border": null,
            "bottom": null,
            "display": null,
            "flex": null,
            "flex_flow": null,
            "grid_area": null,
            "grid_auto_columns": null,
            "grid_auto_flow": null,
            "grid_auto_rows": null,
            "grid_column": null,
            "grid_gap": null,
            "grid_row": null,
            "grid_template_areas": null,
            "grid_template_columns": null,
            "grid_template_rows": null,
            "height": null,
            "justify_content": null,
            "justify_items": null,
            "left": null,
            "margin": null,
            "max_height": null,
            "max_width": null,
            "min_height": null,
            "min_width": null,
            "object_fit": null,
            "object_position": null,
            "order": null,
            "overflow": null,
            "overflow_x": null,
            "overflow_y": null,
            "padding": null,
            "right": null,
            "top": null,
            "visibility": null,
            "width": null
          }
        },
        "55e18281382e41848e9fa6f1dd46e2cd": {
          "model_module": "@jupyter-widgets/controls",
          "model_name": "DescriptionStyleModel",
          "model_module_version": "1.5.0",
          "state": {
            "_model_module": "@jupyter-widgets/controls",
            "_model_module_version": "1.5.0",
            "_model_name": "DescriptionStyleModel",
            "_view_count": null,
            "_view_module": "@jupyter-widgets/base",
            "_view_module_version": "1.2.0",
            "_view_name": "StyleView",
            "description_width": ""
          }
        },
        "9ee6bb2ad9fc460ca77a51c22984ac2e": {
          "model_module": "@jupyter-widgets/base",
          "model_name": "LayoutModel",
          "model_module_version": "1.2.0",
          "state": {
            "_model_module": "@jupyter-widgets/base",
            "_model_module_version": "1.2.0",
            "_model_name": "LayoutModel",
            "_view_count": null,
            "_view_module": "@jupyter-widgets/base",
            "_view_module_version": "1.2.0",
            "_view_name": "LayoutView",
            "align_content": null,
            "align_items": null,
            "align_self": null,
            "border": null,
            "bottom": null,
            "display": null,
            "flex": null,
            "flex_flow": null,
            "grid_area": null,
            "grid_auto_columns": null,
            "grid_auto_flow": null,
            "grid_auto_rows": null,
            "grid_column": null,
            "grid_gap": null,
            "grid_row": null,
            "grid_template_areas": null,
            "grid_template_columns": null,
            "grid_template_rows": null,
            "height": null,
            "justify_content": null,
            "justify_items": null,
            "left": null,
            "margin": null,
            "max_height": null,
            "max_width": null,
            "min_height": null,
            "min_width": null,
            "object_fit": null,
            "object_position": null,
            "order": null,
            "overflow": null,
            "overflow_x": null,
            "overflow_y": null,
            "padding": null,
            "right": null,
            "top": null,
            "visibility": null,
            "width": null
          }
        },
        "4607465f6567410585a6626c723467d6": {
          "model_module": "@jupyter-widgets/controls",
          "model_name": "ProgressStyleModel",
          "model_module_version": "1.5.0",
          "state": {
            "_model_module": "@jupyter-widgets/controls",
            "_model_module_version": "1.5.0",
            "_model_name": "ProgressStyleModel",
            "_view_count": null,
            "_view_module": "@jupyter-widgets/base",
            "_view_module_version": "1.2.0",
            "_view_name": "StyleView",
            "bar_color": null,
            "description_width": ""
          }
        },
        "4f13f90d40224d08bd7b2ad4253f484d": {
          "model_module": "@jupyter-widgets/base",
          "model_name": "LayoutModel",
          "model_module_version": "1.2.0",
          "state": {
            "_model_module": "@jupyter-widgets/base",
            "_model_module_version": "1.2.0",
            "_model_name": "LayoutModel",
            "_view_count": null,
            "_view_module": "@jupyter-widgets/base",
            "_view_module_version": "1.2.0",
            "_view_name": "LayoutView",
            "align_content": null,
            "align_items": null,
            "align_self": null,
            "border": null,
            "bottom": null,
            "display": null,
            "flex": null,
            "flex_flow": null,
            "grid_area": null,
            "grid_auto_columns": null,
            "grid_auto_flow": null,
            "grid_auto_rows": null,
            "grid_column": null,
            "grid_gap": null,
            "grid_row": null,
            "grid_template_areas": null,
            "grid_template_columns": null,
            "grid_template_rows": null,
            "height": null,
            "justify_content": null,
            "justify_items": null,
            "left": null,
            "margin": null,
            "max_height": null,
            "max_width": null,
            "min_height": null,
            "min_width": null,
            "object_fit": null,
            "object_position": null,
            "order": null,
            "overflow": null,
            "overflow_x": null,
            "overflow_y": null,
            "padding": null,
            "right": null,
            "top": null,
            "visibility": null,
            "width": null
          }
        },
        "0717ca89c65a4deab5377e69701704bf": {
          "model_module": "@jupyter-widgets/controls",
          "model_name": "DescriptionStyleModel",
          "model_module_version": "1.5.0",
          "state": {
            "_model_module": "@jupyter-widgets/controls",
            "_model_module_version": "1.5.0",
            "_model_name": "DescriptionStyleModel",
            "_view_count": null,
            "_view_module": "@jupyter-widgets/base",
            "_view_module_version": "1.2.0",
            "_view_name": "StyleView",
            "description_width": ""
          }
        }
      }
    }
  },
  "nbformat": 4,
  "nbformat_minor": 5
}