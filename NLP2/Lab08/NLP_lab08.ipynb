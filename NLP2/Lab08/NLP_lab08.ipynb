{
  "cells": [
    {
      "cell_type": "markdown",
      "id": "65ebc54d",
      "metadata": {
        "id": "65ebc54d"
      },
      "source": [
        "# Introduction to Natural Language Processing 2 Lab08\n",
        "\n",
        "**This lab is mainly about data and model analysis. There is very little code. Make sure you send back a proper report with your code, guideline, annotated sheets, and theoretical answers.**\n"
      ]
    },
    {
      "cell_type": "markdown",
      "id": "965fde08",
      "metadata": {
        "id": "965fde08"
      },
      "source": [
        "---"
      ]
    },
    {
      "cell_type": "markdown",
      "id": "311096a6",
      "metadata": {
        "id": "311096a6"
      },
      "source": [
        "## Introduction (1 point)\n",
        "\n",
        "Your company wants to sell a moderation API tackling toxic content on Twitter. They ask you to come up with a model which detect toxic tweets. You remember your NLP classes, and start looking for existing models or datasets, and find a collection of [academic Twitter dataset on HuggingFace hub](https://huggingface.co/datasets/tweet_eval). Especially, the `hate` and `offensive` datasets seem close to what you are looking for.\n",
        "\n",
        "1. (1 point) Pick one of the datasets between `hate` and `offensive`, and justify your choice. Remember that it is for a commercial application."
      ]
    },
    {
      "cell_type": "markdown",
      "id": "a6569e7a",
      "metadata": {
        "id": "a6569e7a"
      },
      "source": [
        "We chose the \"hate\" subset of the dataset because it contains many insults and comments inappropriate for a commercial application. Comments labeled as offensive are often much more acceptable and less toxic than messages labeled as hateful."
      ]
    },
    {
      "cell_type": "markdown",
      "id": "983d8f10",
      "metadata": {
        "id": "983d8f10"
      },
      "source": [
        "## Evaluating the dataset (5 points)\n",
        "\n",
        "Before using the data to train a model, you have the right reflex and start with a data analysis.\n",
        "\n",
        "1. (1 point) Describe the dataset. Look at the splits, proportion of classes, and see what you can figure out by just looking at the text."
      ]
    },
    {
      "cell_type": "code",
      "execution_count": 29,
      "id": "74ae10f3",
      "metadata": {
        "id": "74ae10f3"
      },
      "outputs": [],
      "source": [
        "%%capture\n",
        "! pip install transformers\n",
        "! pip install datasets\n",
        "! pip install bertopic"
      ]
    },
    {
      "cell_type": "code",
      "execution_count": 96,
      "id": "7e031f85",
      "metadata": {
        "id": "7e031f85"
      },
      "outputs": [],
      "source": [
        "import pandas as pd\n",
        "import numpy as np\n",
        "\n",
        "from datasets import load_dataset, Dataset\n",
        "\n",
        "from transformers import pipeline, AutoTokenizer, TFAutoModelForSequenceClassification, AutoModelForSequenceClassification\n",
        "from bertopic import BERTopic\n",
        "\n",
        "from sklearn.metrics import precision_recall_fscore_support\n",
        "\n",
        "from umap import UMAP\n",
        "\n",
        "SEED = 42\n",
        "\n",
        "umap_model = UMAP(random_state=SEED)"
      ]
    },
    {
      "cell_type": "code",
      "source": [
        "dataset = load_dataset(\"tweet_eval\", \"hate\")\n",
        "splits = [\"train\", \"validation\", \"test\"]\n",
        "\n",
        "for split in splits:\n",
        "\n",
        "  # \"Label 1 = Hateful tweet, label 0 = non hatful tweet\"\n",
        "  hateful_rate = len(dataset[split].filter(lambda x: x[\"label\"] == 1)) / len(dataset[split])\n",
        "\n",
        "  print(\"Split:\", split, \", proportion of hateful tweet:\", hateful_rate)\n",
        "\n",
        "print(\"\\n\" + \"Hateful tweet exemples:\")\n",
        "print(np.array(dataset[\"train\"].filter(lambda x: x[\"label\"] == 1)[\"text\"][:10]))\n",
        "\n",
        "print(\"\\n\" + \"Non-hateful tweets exemples:\")\n",
        "print(np.array(dataset[\"train\"].filter(lambda x: x[\"label\"] == 0)[\"text\"][:10]))"
      ],
      "metadata": {
        "colab": {
          "base_uri": "https://localhost:8080/",
          "height": 642,
          "referenced_widgets": [
            "e4b5dd9dc95c494abf5363513e8487ca",
            "a40be9b0335841788f6ddb6e7fb24445",
            "001fdcc325f94000aa49c4d7a103e06b",
            "ec9964f7aba149509326646d6617d84d",
            "86dc23aa6dc7440cb51324ad553123fa",
            "3b5c15ad67c04621974e60a74d592701",
            "859abed1c703427193f473ddfc6448b9",
            "9b00ea1cd2ed47e493e321530958fa0e",
            "60e32f8d89e0431fb6017e3f0dbfe143",
            "b6d7d936189546f59f706f024f76e748",
            "cb2427c18f8c444abd8830c640f074b7"
          ]
        },
        "id": "eKgvcgBydPnf",
        "outputId": "0d5d7dd1-d0a1-4bd2-f66c-3153546f554a"
      },
      "id": "eKgvcgBydPnf",
      "execution_count": 36,
      "outputs": [
        {
          "output_type": "stream",
          "name": "stderr",
          "text": [
            "WARNING:datasets.builder:Found cached dataset tweet_eval (/root/.cache/huggingface/datasets/tweet_eval/hate/1.1.0/12aee5282b8784f3e95459466db4cdf45c6bf49719c25cdb0743d71ed0410343)\n"
          ]
        },
        {
          "output_type": "display_data",
          "data": {
            "text/plain": [
              "  0%|          | 0/3 [00:00<?, ?it/s]"
            ],
            "application/vnd.jupyter.widget-view+json": {
              "version_major": 2,
              "version_minor": 0,
              "model_id": "e4b5dd9dc95c494abf5363513e8487ca"
            }
          },
          "metadata": {}
        },
        {
          "output_type": "stream",
          "name": "stderr",
          "text": [
            "WARNING:datasets.arrow_dataset:Loading cached processed dataset at /root/.cache/huggingface/datasets/tweet_eval/hate/1.1.0/12aee5282b8784f3e95459466db4cdf45c6bf49719c25cdb0743d71ed0410343/cache-4c4eccfe2d9e3971.arrow\n",
            "WARNING:datasets.arrow_dataset:Loading cached processed dataset at /root/.cache/huggingface/datasets/tweet_eval/hate/1.1.0/12aee5282b8784f3e95459466db4cdf45c6bf49719c25cdb0743d71ed0410343/cache-2159cf5a332eeb3b.arrow\n",
            "WARNING:datasets.arrow_dataset:Loading cached processed dataset at /root/.cache/huggingface/datasets/tweet_eval/hate/1.1.0/12aee5282b8784f3e95459466db4cdf45c6bf49719c25cdb0743d71ed0410343/cache-8f70019b2d9f2da9.arrow\n",
            "WARNING:datasets.arrow_dataset:Loading cached processed dataset at /root/.cache/huggingface/datasets/tweet_eval/hate/1.1.0/12aee5282b8784f3e95459466db4cdf45c6bf49719c25cdb0743d71ed0410343/cache-4c4eccfe2d9e3971.arrow\n",
            "WARNING:datasets.arrow_dataset:Loading cached processed dataset at /root/.cache/huggingface/datasets/tweet_eval/hate/1.1.0/12aee5282b8784f3e95459466db4cdf45c6bf49719c25cdb0743d71ed0410343/cache-11c5bc0e6c9c34aa.arrow\n"
          ]
        },
        {
          "output_type": "stream",
          "name": "stdout",
          "text": [
            "Split: train , proportion of hateful comment: 0.42033333333333334\n",
            "Split: validation , proportion of hateful comment: 0.427\n",
            "Split: test , proportion of hateful comment: 0.42154882154882156\n",
            "\n",
            "Hateful comment exemples:\n",
            "['A woman who you fucked multiple times saying yo dick small is a compliment you know u hit that spot 😎'\n",
            " '@user @user real talk do you have eyes or were they gouged out by a rapefugee?'\n",
            " 'your girlfriend lookin at me like a groupie in this bitch!'\n",
            " \"I AM NOT GOING AFTER YOUR EX BF YOU LIEING SACK OF SHIT ! I'm done with you dude that's why I dumped your ass cause your a lieing 😂😡 bitch\"\n",
            " 'Send home migrants not in need of protection, Peter Dutton tells UN, HEY DUTTON HOW ABOUT THE ONES THAT HAVE STAYED AND NOT LEFT THE COUNTRY WHEN THEY SHOULD OVERSTAYERS ? WHY DONT YOU GO AND ROUND ALL THEM UP ?'\n",
            " 'Cory Booker and Kamala Harris competing for Most Hysterical Woman at the Kavanaugh hearings, Coulter hilariously tweeted.And yes, liberals immediately got triggered on Twitter, saying her joke was offensive. To them we say, suck it up, snowflakes.'\n",
            " \"Should have let the Libyan Manchester bomber rot in his own country. How many more mass murderers did the Royal Navy import to Britain? How many more terrorists do the NGO's rescue from international waters? #RefugeesNotWelcome\"\n",
            " 'This account was temporarily inactive due to an irrational woman reporting us to Twitter. What a lack of judgement, shocking. #YesAllMen'\n",
            " 'listen... i love lil b but i would not fuck with dej loaf at all. she prob got poison up in her nail polish like that bitch from holes'\n",
            " '@user @user keep calling her a bitch and a whore dude real grown up.']\n",
            "\n",
            "Non-hateful comments comment exemples:\n",
            "['@user nice new signage. Are you not concerned by Beatlemania -style hysterical crowds crongregating on you…'\n",
            " 'Hysterical woman like @user'\n",
            " 'Me flirting- So tell me about your father...'\n",
            " 'The Philippine Catholic bishops\\' work for migrant workers should focus on families who are \"paying the great...'\n",
            " 'When cuffin season is finally over'\n",
            " \"Only that in you which is me can hear what I'm saying. ~Baba Ram Dass\"\n",
            " 'More migrants take sea route to #Spain than Italy this year: UN'\n",
            " 'Essential reading for those in Scribner, Nebraska who are considering an anti-immigrant ballot measure.'\n",
            " 'RT @user @user I am flattered tbh. I got an orgasm just by thinking of it you really are good at this.'\n",
            " 'Making them look ~anatomically correct~ just makes them... Bland. Not all women are tiny and fit, not all men are bulky.']\n"
          ]
        }
      ]
    },
    {
      "cell_type": "markdown",
      "source": [
        "We can see that the 3 splits are almost stratified.\n",
        "\n",
        "With the examples of tweets, we realize that the hateful tweets contain a lot of insults, these tweets should definitely be deleted by the moderation API. "
      ],
      "metadata": {
        "id": "2wKT4a1qibw5"
      },
      "id": "2wKT4a1qibw5"
    },
    {
      "cell_type": "markdown",
      "source": [
        "2. (3 points) Use [BERTopic](https://github.com/MaartenGr/BERTopic) to extract the topics within the data, and the main topics within each class. Please, think about [fixing the random seed](https://stackoverflow.com/questions/71320201/how-to-fix-random-seed-for-bertopic).\n",
        "  * A [good model](https://github.com/MaartenGr/BERTopic#embedding-models) for sentence similarity is `all-MiniLM-L6-v2`, as it is [fast, light, and pretty accurate](https://www.sbert.net/docs/pretrained_models.html). You can use another one, but make sure to document your choice."
      ],
      "metadata": {
        "id": "oGCgIckpjoXM"
      },
      "id": "oGCgIckpjoXM"
    },
    {
      "cell_type": "code",
      "source": [
        "def get_main_topics(data: list) -> np.ndarray:\n",
        "  '''\n",
        "    Returns the main topics from the data.\n",
        "\n",
        "      Parameters:\n",
        "        data (list): List of strings representing the data from which topics are extracted.\n",
        "\n",
        "    Returns:\n",
        "        main_topics (numpy.ndarray): Main word for each extracted topic\n",
        "  '''\n",
        "\n",
        "  model = BERTopic(embedding_model=\"all-MiniLM-L6-v2\", umap_model=umap_model)\n",
        "  topics, probs = model.fit_transform(data)\n",
        "  topics = model.get_topics()\n",
        "  main_topics = [topic[np.argmax([word[1] for word in topic])][0] for topic in list(topics.values())]\n",
        "  return np.array([topics])\n",
        "\n",
        "topics = get_main_topics(dataset[\"train\"].filter(lambda x: x[\"label\"] == 0)[\"text\"])\n",
        "hate_topics = get_main_topics(dataset[\"train\"].filter(lambda x: x[\"label\"] == 1)[\"text\"])\n",
        "\n",
        "print(\"Hateful tweets topics:\")\n",
        "print(hate_topics)\n",
        "\n",
        "print(\"Non-hateful tweets topics:\")\n",
        "print(topics)"
      ],
      "metadata": {
        "colab": {
          "base_uri": "https://localhost:8080/"
        },
        "id": "iGtHQCFEjpKy",
        "outputId": "b37677ad-860a-45ab-bf06-b64d855541ed"
      },
      "id": "iGtHQCFEjpKy",
      "execution_count": 80,
      "outputs": [
        {
          "output_type": "stream",
          "name": "stdout",
          "text": [
            "Hateful tweets topics:\n",
            "['you' 'user' 'illegal']\n",
            "Non-hateful tweets topics:\n",
            "['you' 'the' 'rape' 'men' 'whore' 'when' 'user' 'cunt' 'hysterical' 'me'\n",
            " 'my' 'cunt' 'skank' 'hysterical' 'ram' 'when' 'drunk' 'kunt' 'skank'\n",
            " 'hoe' 'ram' 'yesallmen' 'maledominance' 'nelly' 'talent' 'rape' 'me'\n",
            " 'weekend' 'burundi' 'trash' 'unfollowing' 'blog' 'men' 'hole' 'cans' 'he'\n",
            " 'flirting' 'sacred' 'count' 'life']\n"
          ]
        }
      ]
    },
    {
      "cell_type": "markdown",
      "source": [
        "3. (1 point) What do you think about the results? How do you think it could impact a model trained on these data?\n"
      ],
      "metadata": {
        "id": "TmXJZ33A50eB"
      },
      "id": "TmXJZ33A50eB"
    },
    {
      "cell_type": "markdown",
      "source": [
        "Surprisingly, There is a way more topics in tweets labeled as \"Non-hateful\" some of this topics (such as \"rape\", \"whore\", \"cunt\") seems more toxic than the the topics of the tweets labeled as hateful. This could have a negatice impact on the performance of a model trained on these data"
      ],
      "metadata": {
        "id": "ZwCx8sFU7Ybb"
      },
      "id": "ZwCx8sFU7Ybb"
    },
    {
      "cell_type": "markdown",
      "source": [
        "4. **Bonus** By default, BERTopic extracts single keywords. Play with the model to extract bigrams or more. See if you can go deeper in your analysis."
      ],
      "metadata": {
        "id": "R4cx5_Xn_b0f"
      },
      "id": "R4cx5_Xn_b0f"
    },
    {
      "cell_type": "markdown",
      "source": [
        "## Evaluate a model (5 points)\n",
        "\n",
        "You were thinking about fine-tuning a [RoBERTa](https://arxiv.org/abs/1907.11692) model on the dataset, but RoBERTa has been train on 2019 data, which do not include any tweet. Moreover, pretraining a model from scratch can be costly. Fortunately, a [reliable entity](https://github.com/cardiffnlp) pretrained RoBERTa on Tweets and even fine-tuned it on both datasets [here](https://huggingface.co/cardiffnlp/twitter-roberta-base-offensive?text=I+like+you.+I+love+you) and [here](https://huggingface.co/cardiffnlp/twitter-roberta-base-hate?text=I+like+you.+I+love+you).\n",
        "\n",
        "1. (2 points) Evaluate their model on the test split of the dataset you picked, using precision, recall, and F1-score."
      ],
      "metadata": {
        "id": "LeXjL1DC_YtZ"
      },
      "id": "LeXjL1DC_YtZ"
    },
    {
      "cell_type": "code",
      "source": [
        "checkpoint = \"cardiffnlp/twitter-roberta-base-hate\"\n",
        "\n",
        "model = AutoModelForSequenceClassification.from_pretrained(checkpoint)\n",
        "tokenizer = AutoTokenizer.from_pretrained(checkpoint)\n",
        "\n",
        "classifier = pipeline('text-classification', model=model, tokenizer=tokenizer)\n",
        "\n",
        "\n",
        "predictions = classifier.predict(dataset[\"test\"][\"text\"])\n",
        "predictions[:5]"
      ],
      "metadata": {
        "colab": {
          "base_uri": "https://localhost:8080/"
        },
        "id": "ACk4JyO5AYzX",
        "outputId": "6fa73ebe-dabc-4334-bb93-1035b1153ff5"
      },
      "id": "ACk4JyO5AYzX",
      "execution_count": 93,
      "outputs": [
        {
          "output_type": "execute_result",
          "data": {
            "text/plain": [
              "[{'label': 'LABEL_1', 'score': 0.8879395127296448},\n",
              " {'label': 'LABEL_0', 'score': 0.726382851600647},\n",
              " {'label': 'LABEL_1', 'score': 0.7972471117973328},\n",
              " {'label': 'LABEL_1', 'score': 0.873728334903717},\n",
              " {'label': 'LABEL_1', 'score': 0.7790350317955017}]"
            ]
          },
          "metadata": {},
          "execution_count": 93
        }
      ]
    },
    {
      "cell_type": "code",
      "source": [
        "precision, recall, fscore, _ = precision_recall_fscore_support(dataset[\"test\"][\"label\"], [0 if pred == \"LABEL_0\" else 1 for pred in predictions], average='micro')\n",
        "print(\"Precision:\", precision)\n",
        "print(\"Recall:\", recall)\n",
        "print(\"F1-score:\", fscore)"
      ],
      "metadata": {
        "colab": {
          "base_uri": "https://localhost:8080/"
        },
        "id": "Gl13eIy8GVxu",
        "outputId": "76fa9613-0787-4951-834a-7c709d85fb54"
      },
      "id": "Gl13eIy8GVxu",
      "execution_count": 95,
      "outputs": [
        {
          "output_type": "stream",
          "name": "stdout",
          "text": [
            "Precision: 0.42154882154882156\n",
            "Recall: 0.42154882154882156\n",
            "F1-score: 0.42154882154882156\n"
          ]
        }
      ]
    },
    {
      "cell_type": "markdown",
      "source": [
        "To see how the model would fare on production data, you have 10K English tweets and replies available on the tweets.json file (taken from [internet archive](https://archive.org/details/archiveteam-twitter-stream-2021-07)). Note that the language was filtered using the Twitter API, so there might still be tweets in more than just English. The JSON fields were trimmed to minimum and the text was already preprocessed to mask user handles and URLs, like the tweets in your dataset.\n",
        "\n",
        "2. (3 points) Extract the top 50 tweets your model is most confident about in the target class (offensive or hateful), the top 50 in the neutral class, and the top 50 your model is most uncertain about. Do you believe the model is doing a great job? For at least 2 tweets the model wrongly classified in your target class, try explaining what could have gone wrong."
      ],
      "metadata": {
        "id": "vgqIVoaUJ_gC"
      },
      "id": "vgqIVoaUJ_gC"
    },
    {
      "cell_type": "code",
      "source": [
        "jsondata = pd.read_json('tweets.json')\n",
        "json_dataset = Dataset.from_pandas(jsondata)\n",
        "predictions = classifier.predict(json_dataset[\"text\"])"
      ],
      "metadata": {
        "id": "C6btvV42JscQ"
      },
      "id": "C6btvV42JscQ",
      "execution_count": 98,
      "outputs": []
    },
    {
      "cell_type": "code",
      "source": [
        "pred_confidence = np.array([pred[\"score\"] if pred[\"label\"] == \"LABEL_0\" else 1 - pred[\"score\"] for pred in predictions])\n",
        "confidence_threshold = sorted(pred_confidence, reverse=True)[50]\n",
        "most_confident_mask = pred_confidence >= confidence_threshold\n",
        "most_confident_preds = np.array(json_dataset[\"text\"])[most_confident_mask]\n",
        "\n",
        "hate_pred_confidence = np.array([pred[\"score\"] if pred[\"label\"] == \"LABEL_1\" else 1 - pred[\"score\"] for pred in predictions])\n",
        "hate_confidence_threshold = sorted(hate_pred_confidence, reverse=True)[50]\n",
        "hate_most_confident_mask = hate_pred_confidence >= hate_confidence_threshold\n",
        "hate_most_confident_preds = np.array(json_dataset[\"text\"])[hate_most_confident_mask]\n",
        "\n",
        "least_pred_confidence = np.array([pred[\"score\"] for pred in predictions])\n",
        "least_confidence_threshold = sorted(least_pred_confidence, reverse=True)[50]\n",
        "least_confident_mask = least_pred_confidence >= least_confidence_threshold\n",
        "least_confident_preds = np.array(json_dataset[\"text\"])[least_confident_mask]\n",
        "\n",
        "print(\"Top 50 most confident 'neutral' predictions:\")\n",
        "[print(\"- \",pred) for pred in most_confident_preds]\n",
        "\n",
        "print(\"\\n============================================================\\n\")\n",
        "\n",
        "print(\"Top 50 most confident 'hate' predictions:\")\n",
        "[print(\"- \",pred) for pred in hate_most_confident_preds]\n",
        "\n",
        "print(\"\\n============================================================\\n\")\n",
        "\n",
        "print(\"Top 50 least confident predictions:\")\n",
        "[print(\"- \",pred) for pred in least_confident_preds];"
      ],
      "metadata": {
        "colab": {
          "base_uri": "https://localhost:8080/"
        },
        "id": "j3La_7oTQXYi",
        "outputId": "8306bed0-2d63-456b-dd2d-7058378f0dbc"
      },
      "id": "j3La_7oTQXYi",
      "execution_count": 132,
      "outputs": [
        {
          "output_type": "stream",
          "name": "stdout",
          "text": [
            "Top 50 most confident 'neutral' predictions:\n",
            "-  Just wondering why students on student allowance weren't judged worthy of receiving additional financial support today along with all other beneficiaries @user @user @user\n",
            "-  Now this is what you call ‘community’ 😁👇🏽          King's Lynn: The community shop with a chair for those who 'are not OK' http\n",
            "-  Gilmour Space raises $46 million http\n",
            "-  http Ten Representatives Join Coalition Supporting Local Radio Freedom Act\n",
            "-  Studios and Hollywood Unions Extend Talks on Return to Work Rules http\n",
            "-  Tears grips my heart knowing how hard I’ve struggled to find a legit trader.I never wanted to do this but I’ll be guilty if I don’t share this good news to people @user is the best trader so far Thanks for helping me and i will forever be grateful to you\n",
            "@user\n",
            "-  EXCLUSIVE: New Liberals lawyers to take on case against Christian Porter http @user\n",
            "-  Heimlich Maneuver on Yourself When You're Alone and Choking | ProCPR http\n",
            "-  Just posted a video @ New York City U.S.A. http\n",
            "-  I'm an amazon reviewer. Renao134 is my wechat. Thank you ~\n",
            "-  Listen to the most recent episode of my podcast: West Coast Wednesday 06/30/2021 http\n",
            "-  Physics Professor Bets YouTuber $10,000 That A Science Claim He Made Was Wrong. Here's How That Turned Out http via @user http\n",
            "-  Cause I am like anyone of you brother still learning… working\n",
            "-  Android Users Get Native Support for Keeping COVID-19 Vaccine Certificates http\n",
            "-  Salary of 33000 teaching and non-teaching staff under to SSA/RMSA released today for the month of May 2021\n",
            "-  Text  📲   206-588-6453  Request 🎶 Peter Frampton - Show Me the Way  📤  With Others  ❤️\n",
            "-  Submitted: \"\"Excited Delirium\" or \"Agitated Delirium” Police Department Training, Long Beach, CA\" by http\n",
            "\n",
            "http\n",
            "-  tvN Drops First Set of ‘Yumi’s Cells’ Stills Starring Kim Go Eun http via @user username of author\n",
            "-  Diplomatic History has a fantastic issue out featuring pieces by, among others, Wen-Qing Ngoei, @user, @user, @user on the impact of Covid-19 on lives and scholarly trajectories.\n",
            "\n",
            "http\n",
            "-  NYC issues new Democratic primary results after snafu created confusion http\n",
            "-  AI embedded in the EHR helps prevent adverse medication interactions – Healthcare Finance News http\n",
            "-  Singapore (Dan)   Covid-19 swab tests begin for VivoCity, HarbourFront Centre mall staff http\n",
            "-  [GOING SEVENTEEN] EP.9 돈't Lie Ⅲ #1 (Don't Lie Ⅲ #1) http via @user im in literal tearssssssssss its so funny when you watch thirteen men struggle to form one (1) cohesive thought\n",
            "-  Exciting opportunity to study degrowth at post-graduate level, focusing on core foundational texts as well as recent classics like @user and @user 's Exploring Degrowth\n",
            "-  Watch these funniest #confusedpets  Complication on my #youtubechannel📺 #subscribe http\n",
            "-  Listening music while you're trying to forget someone means to you\n",
            "-  This is so interesting! I’m getting my Master’s in clinical mental health counseling, and I’m in Houston too! My husband is a doctor. Lots of similarities!\n",
            "-  Today we are hosting our Virtual Coffee Morning between 09:00 am — 10:00 am. To join the meeting please use the following link: http\n",
            "-  Vegas Live with Ninon at Quirky Minds Media Las Vegas http\n",
            "-  Looks like a great event, about active travel impartial research and supporting vulnerable road users.\n",
            "-  Statement of Eric Montague, regarding a series of encounters with a particularly splendid Desktop Publisher.\n",
            "-  Seyi Law Sends Condolence Message To Davido Over Obama DMW’s Death http\n",
            "-  The Impacts of Branding on Customer Attitude Description \n",
            "The Impacts of Branding on Customer Attitude – Research Proposal  http\n",
            "-  Tears grips my heart knowing how hard I’ve struggled to find a legit trader.I never wanted to do this but I’ll be guilty if I don’t share this good news to people @user is the best trader so far Thanks for helping me and i will forever be grateful to you\n",
            "@user\n",
            "-  Tax\n",
            "\n",
            "✨ DonKiss Family ✨\n",
            "#DonKiss |#DonKissFam \n",
            "#KissesDelavin | @user\n",
            "-  Give Me 10 Minutes, I'll Give You The Scoop About Dollar Flight Club - The Bucket List Project -  - via @user - http\n",
            "-  Counseling solutions got me in with only like a month of waiting\n",
            "-  Govt bid to speed up Sputnik Light rollout | India News – Times of India http #news #worldNews #updates In a move that could speed up the rollout of single-dose Russian Covid-19 vaccine Sputnik Light, the subject expert committee has told Dr Reddy’s La...\n",
            "-  Last one before the news ...\n",
            "\n",
            "Mahaleo - Izahay Mpamita from Various: Madagascar! Salegy, Soukous &amp; Soul From The Red Island 1974-1984 on @user \n",
            "\n",
            "http \n",
            "                     ***BACK AFTER THE NEWS***\n",
            "-  💥Rebuilding💥\n",
            "    @user \n",
            "Is at 21. Can we help him get to 100 today? Please follow and RT.\n",
            "      🌹       🌹       🌹\n",
            "-  follow my son's Twitter for #blog post updates! \n",
            "@user\n",
            "a blog made to create a safe space for awesome autistics and their families to communicate, teach and learn from one another as we navigate the steps of our journeys \n",
            "http\n",
            "-  LA allocates $5 million to provide 200 Venice Beach homeless with interim housing http\n",
            "-  I have created this tool as a community give back. A contribution to the marketers entrepreneurs and managers sharing with me the path so far. This canvas simplifies the fundamental of a digital marketing strategy: http\n",
            "-  Great thread on recent research and articles on policing 👇\n",
            "-  My Oral Presentation http hello this is my speech about being on time to school you will see it on the 8th page\n",
            "-  EXCLUSIVE: Austin Is Spending Millions on No-Bid Contracts to Push Critical Race Theory on Its Newest Police Officers http\n",
            "-  Most important detail of new Ghost of Tsushima announcement is new animals to pet @user\n",
            "-  Does anyone out there know anyone that helps in training police officers? I ask because I’m working on putting together a curriculum of my own. I am a practitioner of Danzan Ryu jujitsu. Our system has a police curriculum within our system. Any help is appreciated. Thank you\n",
            "-  Hi👋, you can use me for academic assistance...you can study/work/relax as i tackle your assignments, essays or tests over the semester. \n",
            "\n",
            "Please check my profile for review😊.\n",
            "-  The T List: Five Things We Recommend This Week http\n",
            "-  What's the new COVID vaccine indemnity scheme? Two legal experts explain http via @user\n",
            "\n",
            "============================================================\n",
            "\n",
            "Top 50 most confident 'hate' predictions:\n",
            "-  I’m usually always on the team of women with facial scars cause they’re bad ass but I don’t like her right now maybe it will change later but I don’t like her\n",
            "-  Returning bitches to they last owner\n",
            "-  Stop having side chicks, this creates more problems for you...solve your issues at home\n",
            "-  Lock her up!!\n",
            "-  She got 3 years!   She should have gotten 25 years!\n",
            "-  Tear through your leggings so I can fuck you through the hole\n",
            "-  I would fuck your ass and vagina my darling my love my princess sim my life my life😛😘❤️😍🥰😋\n",
            "-  During intercourse a woman experiences sensual pleasure it is very quick until the end of a very quick until the fierce energy\n",
            "-  Suck on this mf\n",
            "-  ILL STEP ON YOUR BURRITO BITCH 😂\n",
            "-  I ACTUALLY HATE YOU! YOU WOMEN ARE LAZY, SELF ABSORBED DISGUSTING PEOPLE. I NEVER CELEBRATE ANYTHING BUT I WILL CELEBRATE THE DAY YOU DIE\n",
            "-  Better body then most woman on here\n",
            "-  attention whore\n",
            "-  my chick don’t need makeup 😍😍\n",
            "-  Wah fuck out u pussy\n",
            "-  junko. she's in my hair. look in there i can feel her in there shes starting to fuck my hair please make her stop\n",
            "-  Curly hair woman &gt;&gt;&gt;&gt;&gt;&gt;&gt;&gt;\n",
            "-  I made every women feel like she was mine no one else’s\n",
            "-  You're a little bitch\n",
            "-  Just the way I make money and would not marry or even date who doesn’t make her own money, same applies to cooking. I know how to cook and I won’t settle with a woman who can’t cook unless she’s Rich/wealthy or sum. You can’t be broke and still be lazy\n",
            "-  I can’t believe this bitch just did this like a fucking kid 😂😂😂😂😂\n",
            "-  Idk who needs to hear this but Babygirl, don’t ever let yaself cry over a nigga who can’t make you cum more than once in a night. 🤞🏼\n",
            "-  Idk when the last time I was on this bitch 😭\n",
            "-  I want that dick deep inside my ass 😇🍆🥒🖕🍑🗝️😈🍒🔥🔞💜\n",
            "-  If I seen a fine ass shorty wearin this imma have to equip my glizzy grabbers\n",
            "-  Love that little booty\n",
            "-  yeah bitch\n",
            "-  This is why women don’t like #you\n",
            "-  Oh hush your hot ass up\n",
            "-  can’t keep a lil hoe\n",
            "-  Girls, DM to see my big cock 18+ #horny #hornyaf #cockrate #dickrate #nudes #cumwhore #nsfwtwitter #nsfw #bigdick #hornyrn #hornydm #cockslut #hornyrn #bwc #milf #hornyteen #bigcock #sex #cock #dick #teenslut #slut #asiangirls #latinogirl\n",
            "-  This issa lie! Black women don’t cheat.\n",
            "-  shut up girls are cool too and ok fine be like that enjoy seeing carti😞\n",
            "-  These bitches always putting they 2 cents in on a tweet that they didn’t have to lol\n",
            "-  Right lmao 200 million followers you betta be able to sale some shit 🤣 actin like the bitch built MAC 😒\n",
            "-  The niggas that love cheating hate being cheated on 😭😂 go pray about it bitch 😝\n",
            "-  The sooner you realise vagina runs the world the better!!\n",
            "-  Well we empty headed women don't know who we are so we have to educated by a man to understand what womanhood is.\n",
            "-  I wish more ladies would be self obsessed! So hard to get people to see the worth in themselves!\n",
            "-  How many bitches you gone have wearing the same number ?😂\n",
            "-  The law of NATURE? Where there is a need for a FEMALE and a MALE to procreate. That might be why...\n",
            "-  Pretty ladies full this app but lemme keep scrolling\n",
            "-  Only a woman that is interested for material things and money says she agrees with her man doing anything he wants. If she loves you, she gonna slap you and broke your head till you make it right!\n",
            "-  I want a girl to suck on my thumb while she looks at me with puppy eyes\n",
            "-  Lmaoooo bitches b moving different\n",
            "-  Ruin your life for my pleasure.\n",
            "\n",
            "Femdom\n",
            "-  One thing bout me we all gon laugh in this bitch🤣\n",
            "-  men don’t deserve pussy\n",
            "-  Bitch you raggedy af phony ass hoe\n",
            "-  DAMN U DIDNT HAVE TO BE THAT AGGRESSIVE WHORE\n",
            "-  It don’t matter what you do. If someone wants to waste your time they will. Male or female. Women just complain about it more.\n",
            "\n",
            "============================================================\n",
            "\n",
            "Top 50 least confident predictions:\n",
            "-  Just wondering why students on student allowance weren't judged worthy of receiving additional financial support today along with all other beneficiaries @user @user @user\n",
            "-  Now this is what you call ‘community’ 😁👇🏽          King's Lynn: The community shop with a chair for those who 'are not OK' http\n",
            "-  Gilmour Space raises $46 million http\n",
            "-  http Ten Representatives Join Coalition Supporting Local Radio Freedom Act\n",
            "-  Studios and Hollywood Unions Extend Talks on Return to Work Rules http\n",
            "-  Tears grips my heart knowing how hard I’ve struggled to find a legit trader.I never wanted to do this but I’ll be guilty if I don’t share this good news to people @user is the best trader so far Thanks for helping me and i will forever be grateful to you\n",
            "@user\n",
            "-  EXCLUSIVE: New Liberals lawyers to take on case against Christian Porter http @user\n",
            "-  Heimlich Maneuver on Yourself When You're Alone and Choking | ProCPR http\n",
            "-  Just posted a video @ New York City U.S.A. http\n",
            "-  I'm an amazon reviewer. Renao134 is my wechat. Thank you ~\n",
            "-  Listen to the most recent episode of my podcast: West Coast Wednesday 06/30/2021 http\n",
            "-  Physics Professor Bets YouTuber $10,000 That A Science Claim He Made Was Wrong. Here's How That Turned Out http via @user http\n",
            "-  Cause I am like anyone of you brother still learning… working\n",
            "-  Android Users Get Native Support for Keeping COVID-19 Vaccine Certificates http\n",
            "-  Salary of 33000 teaching and non-teaching staff under to SSA/RMSA released today for the month of May 2021\n",
            "-  Text  📲   206-588-6453  Request 🎶 Peter Frampton - Show Me the Way  📤  With Others  ❤️\n",
            "-  Submitted: \"\"Excited Delirium\" or \"Agitated Delirium” Police Department Training, Long Beach, CA\" by http\n",
            "\n",
            "http\n",
            "-  tvN Drops First Set of ‘Yumi’s Cells’ Stills Starring Kim Go Eun http via @user username of author\n",
            "-  Diplomatic History has a fantastic issue out featuring pieces by, among others, Wen-Qing Ngoei, @user, @user, @user on the impact of Covid-19 on lives and scholarly trajectories.\n",
            "\n",
            "http\n",
            "-  NYC issues new Democratic primary results after snafu created confusion http\n",
            "-  AI embedded in the EHR helps prevent adverse medication interactions – Healthcare Finance News http\n",
            "-  Singapore (Dan)   Covid-19 swab tests begin for VivoCity, HarbourFront Centre mall staff http\n",
            "-  [GOING SEVENTEEN] EP.9 돈't Lie Ⅲ #1 (Don't Lie Ⅲ #1) http via @user im in literal tearssssssssss its so funny when you watch thirteen men struggle to form one (1) cohesive thought\n",
            "-  Exciting opportunity to study degrowth at post-graduate level, focusing on core foundational texts as well as recent classics like @user and @user 's Exploring Degrowth\n",
            "-  Watch these funniest #confusedpets  Complication on my #youtubechannel📺 #subscribe http\n",
            "-  Listening music while you're trying to forget someone means to you\n",
            "-  This is so interesting! I’m getting my Master’s in clinical mental health counseling, and I’m in Houston too! My husband is a doctor. Lots of similarities!\n",
            "-  Today we are hosting our Virtual Coffee Morning between 09:00 am — 10:00 am. To join the meeting please use the following link: http\n",
            "-  Vegas Live with Ninon at Quirky Minds Media Las Vegas http\n",
            "-  Looks like a great event, about active travel impartial research and supporting vulnerable road users.\n",
            "-  Statement of Eric Montague, regarding a series of encounters with a particularly splendid Desktop Publisher.\n",
            "-  Seyi Law Sends Condolence Message To Davido Over Obama DMW’s Death http\n",
            "-  The Impacts of Branding on Customer Attitude Description \n",
            "The Impacts of Branding on Customer Attitude – Research Proposal  http\n",
            "-  Tears grips my heart knowing how hard I’ve struggled to find a legit trader.I never wanted to do this but I’ll be guilty if I don’t share this good news to people @user is the best trader so far Thanks for helping me and i will forever be grateful to you\n",
            "@user\n",
            "-  Tax\n",
            "\n",
            "✨ DonKiss Family ✨\n",
            "#DonKiss |#DonKissFam \n",
            "#KissesDelavin | @user\n",
            "-  Give Me 10 Minutes, I'll Give You The Scoop About Dollar Flight Club - The Bucket List Project -  - via @user - http\n",
            "-  Counseling solutions got me in with only like a month of waiting\n",
            "-  Govt bid to speed up Sputnik Light rollout | India News – Times of India http #news #worldNews #updates In a move that could speed up the rollout of single-dose Russian Covid-19 vaccine Sputnik Light, the subject expert committee has told Dr Reddy’s La...\n",
            "-  Last one before the news ...\n",
            "\n",
            "Mahaleo - Izahay Mpamita from Various: Madagascar! Salegy, Soukous &amp; Soul From The Red Island 1974-1984 on @user \n",
            "\n",
            "http \n",
            "                     ***BACK AFTER THE NEWS***\n",
            "-  💥Rebuilding💥\n",
            "    @user \n",
            "Is at 21. Can we help him get to 100 today? Please follow and RT.\n",
            "      🌹       🌹       🌹\n",
            "-  follow my son's Twitter for #blog post updates! \n",
            "@user\n",
            "a blog made to create a safe space for awesome autistics and their families to communicate, teach and learn from one another as we navigate the steps of our journeys \n",
            "http\n",
            "-  LA allocates $5 million to provide 200 Venice Beach homeless with interim housing http\n",
            "-  I have created this tool as a community give back. A contribution to the marketers entrepreneurs and managers sharing with me the path so far. This canvas simplifies the fundamental of a digital marketing strategy: http\n",
            "-  Great thread on recent research and articles on policing 👇\n",
            "-  My Oral Presentation http hello this is my speech about being on time to school you will see it on the 8th page\n",
            "-  EXCLUSIVE: Austin Is Spending Millions on No-Bid Contracts to Push Critical Race Theory on Its Newest Police Officers http\n",
            "-  Most important detail of new Ghost of Tsushima announcement is new animals to pet @user\n",
            "-  Does anyone out there know anyone that helps in training police officers? I ask because I’m working on putting together a curriculum of my own. I am a practitioner of Danzan Ryu jujitsu. Our system has a police curriculum within our system. Any help is appreciated. Thank you\n",
            "-  Hi👋, you can use me for academic assistance...you can study/work/relax as i tackle your assignments, essays or tests over the semester. \n",
            "\n",
            "Please check my profile for review😊.\n",
            "-  The T List: Five Things We Recommend This Week http\n",
            "-  What's the new COVID vaccine indemnity scheme? Two legal experts explain http via @user\n"
          ]
        }
      ]
    },
    {
      "cell_type": "markdown",
      "source": [
        "3. **Bonus** Use [SHAP](https://github.com/slundberg/shap/tree/45b85c1837283fdaeed7440ec6365a886af4a333#natural-language-example-transformers) on the provided tweets, or manually written texts, to see if you can find topics on which the model is biased.\n",
        "4. **Bonus** Train a naive Bayes model on the data, and compare its results with this model.\n",
        "\n",
        "## Annotate data (7 points)\n",
        "\n",
        "Regardless of the model's performances, you decide to annotate your own collection of tweets.\n",
        "\n",
        "1. (1 point) Extract about 100 tweets containing at least 20% of your target class (offensive/hateful), from the 10K tweets provided. You can use the pretrained model to help you find tweets in the target class.\n",
        "2. (3 points) Altogether, write down an annotation guildeline (which should be at least 2/3 of a page long).\n",
        "    * What does the target class look like?\n",
        "    * Any examples you could provide for ambiguous cases?\n",
        "    * Keep \"Can't tell / not annotable\" class. Make sure you document what this class mean in your guideline.\n",
        "3. (1 point) Every person in your group is going to annotate these tweets separately. So if you are 4, annotate them 4 times.\n",
        "    * Typically, create a Google sheet or an excel document, one tab per person, in each tab one column for the text, and annother on the class.\n",
        "4. (2 point) Evaluate your inter-annotaor agreement using Cohen Kappa (if you are 2) or Fleiss Kappa.\n",
        "    * If, like your teacher, you have issues making the [NLTK implementation](https://www.nltk.org/_modules/nltk/metrics/agreement.html) work on the latest version of python (3.10+), you can use the [scikit-learn implementation](https://scikit-learn.org/stable/modules/generated/sklearn.metrics.cohen_kappa_score.html) of Cohen Kappa, and compute a matrix by pair of annotators.\n",
        "    * What does the score mean? Are you doing a good job annotating the data and, if not, why?\n",
        "5. **Bonus** Iterate on your annotation guideline with what you learned. Please send both version in your report.\n",
        "\n",
        "Please provide the annotation sheets, the guideline, and the inter-annotator agreement in your report.\n"
      ],
      "metadata": {
        "id": "k0ikJX70cimE"
      },
      "id": "k0ikJX70cimE"
    }
  ],
  "metadata": {
    "kernelspec": {
      "display_name": "ML_3.10.4",
      "language": "python",
      "name": "ml_3.10.4"
    },
    "language_info": {
      "codemirror_mode": {
        "name": "ipython",
        "version": 3
      },
      "file_extension": ".py",
      "mimetype": "text/x-python",
      "name": "python",
      "nbconvert_exporter": "python",
      "pygments_lexer": "ipython3",
      "version": "3.10.4"
    },
    "colab": {
      "provenance": []
    },
    "widgets": {
      "application/vnd.jupyter.widget-state+json": {
        "e4b5dd9dc95c494abf5363513e8487ca": {
          "model_module": "@jupyter-widgets/controls",
          "model_name": "HBoxModel",
          "model_module_version": "1.5.0",
          "state": {
            "_dom_classes": [],
            "_model_module": "@jupyter-widgets/controls",
            "_model_module_version": "1.5.0",
            "_model_name": "HBoxModel",
            "_view_count": null,
            "_view_module": "@jupyter-widgets/controls",
            "_view_module_version": "1.5.0",
            "_view_name": "HBoxView",
            "box_style": "",
            "children": [
              "IPY_MODEL_a40be9b0335841788f6ddb6e7fb24445",
              "IPY_MODEL_001fdcc325f94000aa49c4d7a103e06b",
              "IPY_MODEL_ec9964f7aba149509326646d6617d84d"
            ],
            "layout": "IPY_MODEL_86dc23aa6dc7440cb51324ad553123fa"
          }
        },
        "a40be9b0335841788f6ddb6e7fb24445": {
          "model_module": "@jupyter-widgets/controls",
          "model_name": "HTMLModel",
          "model_module_version": "1.5.0",
          "state": {
            "_dom_classes": [],
            "_model_module": "@jupyter-widgets/controls",
            "_model_module_version": "1.5.0",
            "_model_name": "HTMLModel",
            "_view_count": null,
            "_view_module": "@jupyter-widgets/controls",
            "_view_module_version": "1.5.0",
            "_view_name": "HTMLView",
            "description": "",
            "description_tooltip": null,
            "layout": "IPY_MODEL_3b5c15ad67c04621974e60a74d592701",
            "placeholder": "​",
            "style": "IPY_MODEL_859abed1c703427193f473ddfc6448b9",
            "value": "100%"
          }
        },
        "001fdcc325f94000aa49c4d7a103e06b": {
          "model_module": "@jupyter-widgets/controls",
          "model_name": "FloatProgressModel",
          "model_module_version": "1.5.0",
          "state": {
            "_dom_classes": [],
            "_model_module": "@jupyter-widgets/controls",
            "_model_module_version": "1.5.0",
            "_model_name": "FloatProgressModel",
            "_view_count": null,
            "_view_module": "@jupyter-widgets/controls",
            "_view_module_version": "1.5.0",
            "_view_name": "ProgressView",
            "bar_style": "success",
            "description": "",
            "description_tooltip": null,
            "layout": "IPY_MODEL_9b00ea1cd2ed47e493e321530958fa0e",
            "max": 3,
            "min": 0,
            "orientation": "horizontal",
            "style": "IPY_MODEL_60e32f8d89e0431fb6017e3f0dbfe143",
            "value": 3
          }
        },
        "ec9964f7aba149509326646d6617d84d": {
          "model_module": "@jupyter-widgets/controls",
          "model_name": "HTMLModel",
          "model_module_version": "1.5.0",
          "state": {
            "_dom_classes": [],
            "_model_module": "@jupyter-widgets/controls",
            "_model_module_version": "1.5.0",
            "_model_name": "HTMLModel",
            "_view_count": null,
            "_view_module": "@jupyter-widgets/controls",
            "_view_module_version": "1.5.0",
            "_view_name": "HTMLView",
            "description": "",
            "description_tooltip": null,
            "layout": "IPY_MODEL_b6d7d936189546f59f706f024f76e748",
            "placeholder": "​",
            "style": "IPY_MODEL_cb2427c18f8c444abd8830c640f074b7",
            "value": " 3/3 [00:00&lt;00:00, 74.17it/s]"
          }
        },
        "86dc23aa6dc7440cb51324ad553123fa": {
          "model_module": "@jupyter-widgets/base",
          "model_name": "LayoutModel",
          "model_module_version": "1.2.0",
          "state": {
            "_model_module": "@jupyter-widgets/base",
            "_model_module_version": "1.2.0",
            "_model_name": "LayoutModel",
            "_view_count": null,
            "_view_module": "@jupyter-widgets/base",
            "_view_module_version": "1.2.0",
            "_view_name": "LayoutView",
            "align_content": null,
            "align_items": null,
            "align_self": null,
            "border": null,
            "bottom": null,
            "display": null,
            "flex": null,
            "flex_flow": null,
            "grid_area": null,
            "grid_auto_columns": null,
            "grid_auto_flow": null,
            "grid_auto_rows": null,
            "grid_column": null,
            "grid_gap": null,
            "grid_row": null,
            "grid_template_areas": null,
            "grid_template_columns": null,
            "grid_template_rows": null,
            "height": null,
            "justify_content": null,
            "justify_items": null,
            "left": null,
            "margin": null,
            "max_height": null,
            "max_width": null,
            "min_height": null,
            "min_width": null,
            "object_fit": null,
            "object_position": null,
            "order": null,
            "overflow": null,
            "overflow_x": null,
            "overflow_y": null,
            "padding": null,
            "right": null,
            "top": null,
            "visibility": null,
            "width": null
          }
        },
        "3b5c15ad67c04621974e60a74d592701": {
          "model_module": "@jupyter-widgets/base",
          "model_name": "LayoutModel",
          "model_module_version": "1.2.0",
          "state": {
            "_model_module": "@jupyter-widgets/base",
            "_model_module_version": "1.2.0",
            "_model_name": "LayoutModel",
            "_view_count": null,
            "_view_module": "@jupyter-widgets/base",
            "_view_module_version": "1.2.0",
            "_view_name": "LayoutView",
            "align_content": null,
            "align_items": null,
            "align_self": null,
            "border": null,
            "bottom": null,
            "display": null,
            "flex": null,
            "flex_flow": null,
            "grid_area": null,
            "grid_auto_columns": null,
            "grid_auto_flow": null,
            "grid_auto_rows": null,
            "grid_column": null,
            "grid_gap": null,
            "grid_row": null,
            "grid_template_areas": null,
            "grid_template_columns": null,
            "grid_template_rows": null,
            "height": null,
            "justify_content": null,
            "justify_items": null,
            "left": null,
            "margin": null,
            "max_height": null,
            "max_width": null,
            "min_height": null,
            "min_width": null,
            "object_fit": null,
            "object_position": null,
            "order": null,
            "overflow": null,
            "overflow_x": null,
            "overflow_y": null,
            "padding": null,
            "right": null,
            "top": null,
            "visibility": null,
            "width": null
          }
        },
        "859abed1c703427193f473ddfc6448b9": {
          "model_module": "@jupyter-widgets/controls",
          "model_name": "DescriptionStyleModel",
          "model_module_version": "1.5.0",
          "state": {
            "_model_module": "@jupyter-widgets/controls",
            "_model_module_version": "1.5.0",
            "_model_name": "DescriptionStyleModel",
            "_view_count": null,
            "_view_module": "@jupyter-widgets/base",
            "_view_module_version": "1.2.0",
            "_view_name": "StyleView",
            "description_width": ""
          }
        },
        "9b00ea1cd2ed47e493e321530958fa0e": {
          "model_module": "@jupyter-widgets/base",
          "model_name": "LayoutModel",
          "model_module_version": "1.2.0",
          "state": {
            "_model_module": "@jupyter-widgets/base",
            "_model_module_version": "1.2.0",
            "_model_name": "LayoutModel",
            "_view_count": null,
            "_view_module": "@jupyter-widgets/base",
            "_view_module_version": "1.2.0",
            "_view_name": "LayoutView",
            "align_content": null,
            "align_items": null,
            "align_self": null,
            "border": null,
            "bottom": null,
            "display": null,
            "flex": null,
            "flex_flow": null,
            "grid_area": null,
            "grid_auto_columns": null,
            "grid_auto_flow": null,
            "grid_auto_rows": null,
            "grid_column": null,
            "grid_gap": null,
            "grid_row": null,
            "grid_template_areas": null,
            "grid_template_columns": null,
            "grid_template_rows": null,
            "height": null,
            "justify_content": null,
            "justify_items": null,
            "left": null,
            "margin": null,
            "max_height": null,
            "max_width": null,
            "min_height": null,
            "min_width": null,
            "object_fit": null,
            "object_position": null,
            "order": null,
            "overflow": null,
            "overflow_x": null,
            "overflow_y": null,
            "padding": null,
            "right": null,
            "top": null,
            "visibility": null,
            "width": null
          }
        },
        "60e32f8d89e0431fb6017e3f0dbfe143": {
          "model_module": "@jupyter-widgets/controls",
          "model_name": "ProgressStyleModel",
          "model_module_version": "1.5.0",
          "state": {
            "_model_module": "@jupyter-widgets/controls",
            "_model_module_version": "1.5.0",
            "_model_name": "ProgressStyleModel",
            "_view_count": null,
            "_view_module": "@jupyter-widgets/base",
            "_view_module_version": "1.2.0",
            "_view_name": "StyleView",
            "bar_color": null,
            "description_width": ""
          }
        },
        "b6d7d936189546f59f706f024f76e748": {
          "model_module": "@jupyter-widgets/base",
          "model_name": "LayoutModel",
          "model_module_version": "1.2.0",
          "state": {
            "_model_module": "@jupyter-widgets/base",
            "_model_module_version": "1.2.0",
            "_model_name": "LayoutModel",
            "_view_count": null,
            "_view_module": "@jupyter-widgets/base",
            "_view_module_version": "1.2.0",
            "_view_name": "LayoutView",
            "align_content": null,
            "align_items": null,
            "align_self": null,
            "border": null,
            "bottom": null,
            "display": null,
            "flex": null,
            "flex_flow": null,
            "grid_area": null,
            "grid_auto_columns": null,
            "grid_auto_flow": null,
            "grid_auto_rows": null,
            "grid_column": null,
            "grid_gap": null,
            "grid_row": null,
            "grid_template_areas": null,
            "grid_template_columns": null,
            "grid_template_rows": null,
            "height": null,
            "justify_content": null,
            "justify_items": null,
            "left": null,
            "margin": null,
            "max_height": null,
            "max_width": null,
            "min_height": null,
            "min_width": null,
            "object_fit": null,
            "object_position": null,
            "order": null,
            "overflow": null,
            "overflow_x": null,
            "overflow_y": null,
            "padding": null,
            "right": null,
            "top": null,
            "visibility": null,
            "width": null
          }
        },
        "cb2427c18f8c444abd8830c640f074b7": {
          "model_module": "@jupyter-widgets/controls",
          "model_name": "DescriptionStyleModel",
          "model_module_version": "1.5.0",
          "state": {
            "_model_module": "@jupyter-widgets/controls",
            "_model_module_version": "1.5.0",
            "_model_name": "DescriptionStyleModel",
            "_view_count": null,
            "_view_module": "@jupyter-widgets/base",
            "_view_module_version": "1.2.0",
            "_view_name": "StyleView",
            "description_width": ""
          }
        }
      }
    }
  },
  "nbformat": 4,
  "nbformat_minor": 5
}