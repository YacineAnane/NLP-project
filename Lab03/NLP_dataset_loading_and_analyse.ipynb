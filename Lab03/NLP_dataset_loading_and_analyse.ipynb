{
  "cells": [
    {
      "cell_type": "markdown",
      "id": "5fde6883",
      "metadata": {
        "id": "5fde6883"
      },
      "source": [
        "# The dataset\n",
        "\n",
        "The IMDB sentiment dataset is a collection of 50K movie reviews, annotated as positive or negative, and split in two sets of equal size: a training and a test set. Both set have an equal number of positive and negative review. The dataset is available on several libraries, but we ask that you use the HuggingFace [datasets](https://huggingface.co/datasets/imdb) version. Follow their [tutorial](https://huggingface.co/docs/datasets/load_hub) on how to use the library for more details.\n",
        "\n",
        "Download and look at the dataset, and answer the following questions.\n",
        "1. How many splits does the dataset has? (1 point)\n",
        "2. How big are these splits? (1 point)\n",
        "3. What is the proportion of each class on the supervised splits? (1 point)"
      ]
    },
    {
      "cell_type": "code",
      "source": [
        "!pip install datasets"
      ],
      "metadata": {
        "colab": {
          "base_uri": "https://localhost:8080/"
        },
        "id": "Ssy4mPR54HYx",
        "outputId": "63b32901-1052-4698-8dec-593aab5cc4af"
      },
      "id": "Ssy4mPR54HYx",
      "execution_count": 1,
      "outputs": [
        {
          "output_type": "stream",
          "name": "stdout",
          "text": [
            "Looking in indexes: https://pypi.org/simple, https://us-python.pkg.dev/colab-wheels/public/simple/\n",
            "Requirement already satisfied: datasets in /usr/local/lib/python3.7/dist-packages (2.5.1)\n",
            "Requirement already satisfied: aiohttp in /usr/local/lib/python3.7/dist-packages (from datasets) (3.8.1)\n",
            "Requirement already satisfied: huggingface-hub<1.0.0,>=0.1.0 in /usr/local/lib/python3.7/dist-packages (from datasets) (0.10.0)\n",
            "Requirement already satisfied: numpy>=1.17 in /usr/local/lib/python3.7/dist-packages (from datasets) (1.21.6)\n",
            "Requirement already satisfied: dill<0.3.6 in /usr/local/lib/python3.7/dist-packages (from datasets) (0.3.5.1)\n",
            "Requirement already satisfied: pyarrow>=6.0.0 in /usr/local/lib/python3.7/dist-packages (from datasets) (6.0.1)\n",
            "Requirement already satisfied: packaging in /usr/local/lib/python3.7/dist-packages (from datasets) (21.3)\n",
            "Requirement already satisfied: fsspec[http]>=2021.11.1 in /usr/local/lib/python3.7/dist-packages (from datasets) (2022.8.2)\n",
            "Requirement already satisfied: responses<0.19 in /usr/local/lib/python3.7/dist-packages (from datasets) (0.18.0)\n",
            "Requirement already satisfied: tqdm>=4.62.1 in /usr/local/lib/python3.7/dist-packages (from datasets) (4.64.1)\n",
            "Requirement already satisfied: pandas in /usr/local/lib/python3.7/dist-packages (from datasets) (1.3.5)\n",
            "Requirement already satisfied: multiprocess in /usr/local/lib/python3.7/dist-packages (from datasets) (0.70.13)\n",
            "Requirement already satisfied: xxhash in /usr/local/lib/python3.7/dist-packages (from datasets) (3.0.0)\n",
            "Requirement already satisfied: requests>=2.19.0 in /usr/local/lib/python3.7/dist-packages (from datasets) (2.23.0)\n",
            "Requirement already satisfied: importlib-metadata in /usr/local/lib/python3.7/dist-packages (from datasets) (4.12.0)\n",
            "Requirement already satisfied: yarl<2.0,>=1.0 in /usr/local/lib/python3.7/dist-packages (from aiohttp->datasets) (1.8.1)\n",
            "Requirement already satisfied: asynctest==0.13.0 in /usr/local/lib/python3.7/dist-packages (from aiohttp->datasets) (0.13.0)\n",
            "Requirement already satisfied: multidict<7.0,>=4.5 in /usr/local/lib/python3.7/dist-packages (from aiohttp->datasets) (6.0.2)\n",
            "Requirement already satisfied: frozenlist>=1.1.1 in /usr/local/lib/python3.7/dist-packages (from aiohttp->datasets) (1.3.1)\n",
            "Requirement already satisfied: async-timeout<5.0,>=4.0.0a3 in /usr/local/lib/python3.7/dist-packages (from aiohttp->datasets) (4.0.2)\n",
            "Requirement already satisfied: attrs>=17.3.0 in /usr/local/lib/python3.7/dist-packages (from aiohttp->datasets) (22.1.0)\n",
            "Requirement already satisfied: charset-normalizer<3.0,>=2.0 in /usr/local/lib/python3.7/dist-packages (from aiohttp->datasets) (2.1.1)\n",
            "Requirement already satisfied: aiosignal>=1.1.2 in /usr/local/lib/python3.7/dist-packages (from aiohttp->datasets) (1.2.0)\n",
            "Requirement already satisfied: typing-extensions>=3.7.4 in /usr/local/lib/python3.7/dist-packages (from aiohttp->datasets) (4.1.1)\n",
            "Requirement already satisfied: pyyaml>=5.1 in /usr/local/lib/python3.7/dist-packages (from huggingface-hub<1.0.0,>=0.1.0->datasets) (6.0)\n",
            "Requirement already satisfied: filelock in /usr/local/lib/python3.7/dist-packages (from huggingface-hub<1.0.0,>=0.1.0->datasets) (3.8.0)\n",
            "Requirement already satisfied: pyparsing!=3.0.5,>=2.0.2 in /usr/local/lib/python3.7/dist-packages (from packaging->datasets) (3.0.9)\n",
            "Requirement already satisfied: chardet<4,>=3.0.2 in /usr/local/lib/python3.7/dist-packages (from requests>=2.19.0->datasets) (3.0.4)\n",
            "Requirement already satisfied: urllib3!=1.25.0,!=1.25.1,<1.26,>=1.21.1 in /usr/local/lib/python3.7/dist-packages (from requests>=2.19.0->datasets) (1.25.11)\n",
            "Requirement already satisfied: idna<3,>=2.5 in /usr/local/lib/python3.7/dist-packages (from requests>=2.19.0->datasets) (2.10)\n",
            "Requirement already satisfied: certifi>=2017.4.17 in /usr/local/lib/python3.7/dist-packages (from requests>=2.19.0->datasets) (2022.6.15)\n",
            "Requirement already satisfied: zipp>=0.5 in /usr/local/lib/python3.7/dist-packages (from importlib-metadata->datasets) (3.8.1)\n",
            "Requirement already satisfied: python-dateutil>=2.7.3 in /usr/local/lib/python3.7/dist-packages (from pandas->datasets) (2.8.2)\n",
            "Requirement already satisfied: pytz>=2017.3 in /usr/local/lib/python3.7/dist-packages (from pandas->datasets) (2022.2.1)\n",
            "Requirement already satisfied: six>=1.5 in /usr/local/lib/python3.7/dist-packages (from python-dateutil>=2.7.3->pandas->datasets) (1.15.0)\n"
          ]
        }
      ]
    },
    {
      "cell_type": "code",
      "source": [
        "!pip install fasttext"
      ],
      "metadata": {
        "colab": {
          "base_uri": "https://localhost:8080/"
        },
        "id": "RpJZVqzJVkwT",
        "outputId": "d4ebeafa-ac4f-447d-eb94-4724a1c3b88e"
      },
      "id": "RpJZVqzJVkwT",
      "execution_count": 2,
      "outputs": [
        {
          "output_type": "stream",
          "name": "stdout",
          "text": [
            "Looking in indexes: https://pypi.org/simple, https://us-python.pkg.dev/colab-wheels/public/simple/\n",
            "Requirement already satisfied: fasttext in /usr/local/lib/python3.7/dist-packages (0.9.2)\n",
            "Requirement already satisfied: setuptools>=0.7.0 in /usr/local/lib/python3.7/dist-packages (from fasttext) (57.4.0)\n",
            "Requirement already satisfied: numpy in /usr/local/lib/python3.7/dist-packages (from fasttext) (1.21.6)\n",
            "Requirement already satisfied: pybind11>=2.2 in /usr/local/lib/python3.7/dist-packages (from fasttext) (2.10.0)\n"
          ]
        }
      ]
    },
    {
      "cell_type": "code",
      "source": [
        "!python -m spacy download en_core_web_sm"
      ],
      "metadata": {
        "colab": {
          "base_uri": "https://localhost:8080/"
        },
        "id": "-fnTKz_P3ekZ",
        "outputId": "7c391f1c-86cf-40ec-c5db-bc057cf26b5a"
      },
      "id": "-fnTKz_P3ekZ",
      "execution_count": 3,
      "outputs": [
        {
          "output_type": "stream",
          "name": "stdout",
          "text": [
            "2022-09-30 19:08:41.306441: E tensorflow/stream_executor/cuda/cuda_driver.cc:271] failed call to cuInit: CUDA_ERROR_NO_DEVICE: no CUDA-capable device is detected\n",
            "Looking in indexes: https://pypi.org/simple, https://us-python.pkg.dev/colab-wheels/public/simple/\n",
            "Collecting en-core-web-sm==3.4.0\n",
            "  Downloading https://github.com/explosion/spacy-models/releases/download/en_core_web_sm-3.4.0/en_core_web_sm-3.4.0-py3-none-any.whl (12.8 MB)\n",
            "\u001b[K     |████████████████████████████████| 12.8 MB 7.0 MB/s \n",
            "\u001b[?25hRequirement already satisfied: spacy<3.5.0,>=3.4.0 in /usr/local/lib/python3.7/dist-packages (from en-core-web-sm==3.4.0) (3.4.1)\n",
            "Requirement already satisfied: tqdm<5.0.0,>=4.38.0 in /usr/local/lib/python3.7/dist-packages (from spacy<3.5.0,>=3.4.0->en-core-web-sm==3.4.0) (4.64.1)\n",
            "Requirement already satisfied: jinja2 in /usr/local/lib/python3.7/dist-packages (from spacy<3.5.0,>=3.4.0->en-core-web-sm==3.4.0) (2.11.3)\n",
            "Requirement already satisfied: preshed<3.1.0,>=3.0.2 in /usr/local/lib/python3.7/dist-packages (from spacy<3.5.0,>=3.4.0->en-core-web-sm==3.4.0) (3.0.7)\n",
            "Requirement already satisfied: numpy>=1.15.0 in /usr/local/lib/python3.7/dist-packages (from spacy<3.5.0,>=3.4.0->en-core-web-sm==3.4.0) (1.21.6)\n",
            "Requirement already satisfied: packaging>=20.0 in /usr/local/lib/python3.7/dist-packages (from spacy<3.5.0,>=3.4.0->en-core-web-sm==3.4.0) (21.3)\n",
            "Requirement already satisfied: pydantic!=1.8,!=1.8.1,<1.10.0,>=1.7.4 in /usr/local/lib/python3.7/dist-packages (from spacy<3.5.0,>=3.4.0->en-core-web-sm==3.4.0) (1.9.2)\n",
            "Requirement already satisfied: requests<3.0.0,>=2.13.0 in /usr/local/lib/python3.7/dist-packages (from spacy<3.5.0,>=3.4.0->en-core-web-sm==3.4.0) (2.23.0)\n",
            "Requirement already satisfied: langcodes<4.0.0,>=3.2.0 in /usr/local/lib/python3.7/dist-packages (from spacy<3.5.0,>=3.4.0->en-core-web-sm==3.4.0) (3.3.0)\n",
            "Requirement already satisfied: spacy-loggers<2.0.0,>=1.0.0 in /usr/local/lib/python3.7/dist-packages (from spacy<3.5.0,>=3.4.0->en-core-web-sm==3.4.0) (1.0.3)\n",
            "Requirement already satisfied: pathy>=0.3.5 in /usr/local/lib/python3.7/dist-packages (from spacy<3.5.0,>=3.4.0->en-core-web-sm==3.4.0) (0.6.2)\n",
            "Requirement already satisfied: srsly<3.0.0,>=2.4.3 in /usr/local/lib/python3.7/dist-packages (from spacy<3.5.0,>=3.4.0->en-core-web-sm==3.4.0) (2.4.4)\n",
            "Requirement already satisfied: setuptools in /usr/local/lib/python3.7/dist-packages (from spacy<3.5.0,>=3.4.0->en-core-web-sm==3.4.0) (57.4.0)\n",
            "Requirement already satisfied: typing-extensions<4.2.0,>=3.7.4 in /usr/local/lib/python3.7/dist-packages (from spacy<3.5.0,>=3.4.0->en-core-web-sm==3.4.0) (4.1.1)\n",
            "Requirement already satisfied: wasabi<1.1.0,>=0.9.1 in /usr/local/lib/python3.7/dist-packages (from spacy<3.5.0,>=3.4.0->en-core-web-sm==3.4.0) (0.10.1)\n",
            "Requirement already satisfied: catalogue<2.1.0,>=2.0.6 in /usr/local/lib/python3.7/dist-packages (from spacy<3.5.0,>=3.4.0->en-core-web-sm==3.4.0) (2.0.8)\n",
            "Requirement already satisfied: spacy-legacy<3.1.0,>=3.0.9 in /usr/local/lib/python3.7/dist-packages (from spacy<3.5.0,>=3.4.0->en-core-web-sm==3.4.0) (3.0.10)\n",
            "Requirement already satisfied: murmurhash<1.1.0,>=0.28.0 in /usr/local/lib/python3.7/dist-packages (from spacy<3.5.0,>=3.4.0->en-core-web-sm==3.4.0) (1.0.8)\n",
            "Requirement already satisfied: thinc<8.2.0,>=8.1.0 in /usr/local/lib/python3.7/dist-packages (from spacy<3.5.0,>=3.4.0->en-core-web-sm==3.4.0) (8.1.0)\n",
            "Requirement already satisfied: typer<0.5.0,>=0.3.0 in /usr/local/lib/python3.7/dist-packages (from spacy<3.5.0,>=3.4.0->en-core-web-sm==3.4.0) (0.4.2)\n",
            "Requirement already satisfied: cymem<2.1.0,>=2.0.2 in /usr/local/lib/python3.7/dist-packages (from spacy<3.5.0,>=3.4.0->en-core-web-sm==3.4.0) (2.0.6)\n",
            "Requirement already satisfied: zipp>=0.5 in /usr/local/lib/python3.7/dist-packages (from catalogue<2.1.0,>=2.0.6->spacy<3.5.0,>=3.4.0->en-core-web-sm==3.4.0) (3.8.1)\n",
            "Requirement already satisfied: pyparsing!=3.0.5,>=2.0.2 in /usr/local/lib/python3.7/dist-packages (from packaging>=20.0->spacy<3.5.0,>=3.4.0->en-core-web-sm==3.4.0) (3.0.9)\n",
            "Requirement already satisfied: smart-open<6.0.0,>=5.2.1 in /usr/local/lib/python3.7/dist-packages (from pathy>=0.3.5->spacy<3.5.0,>=3.4.0->en-core-web-sm==3.4.0) (5.2.1)\n",
            "Requirement already satisfied: idna<3,>=2.5 in /usr/local/lib/python3.7/dist-packages (from requests<3.0.0,>=2.13.0->spacy<3.5.0,>=3.4.0->en-core-web-sm==3.4.0) (2.10)\n",
            "Requirement already satisfied: certifi>=2017.4.17 in /usr/local/lib/python3.7/dist-packages (from requests<3.0.0,>=2.13.0->spacy<3.5.0,>=3.4.0->en-core-web-sm==3.4.0) (2022.6.15)\n",
            "Requirement already satisfied: urllib3!=1.25.0,!=1.25.1,<1.26,>=1.21.1 in /usr/local/lib/python3.7/dist-packages (from requests<3.0.0,>=2.13.0->spacy<3.5.0,>=3.4.0->en-core-web-sm==3.4.0) (1.25.11)\n",
            "Requirement already satisfied: chardet<4,>=3.0.2 in /usr/local/lib/python3.7/dist-packages (from requests<3.0.0,>=2.13.0->spacy<3.5.0,>=3.4.0->en-core-web-sm==3.4.0) (3.0.4)\n",
            "Requirement already satisfied: blis<0.8.0,>=0.7.8 in /usr/local/lib/python3.7/dist-packages (from thinc<8.2.0,>=8.1.0->spacy<3.5.0,>=3.4.0->en-core-web-sm==3.4.0) (0.7.8)\n",
            "Requirement already satisfied: click<9.0.0,>=7.1.1 in /usr/local/lib/python3.7/dist-packages (from typer<0.5.0,>=0.3.0->spacy<3.5.0,>=3.4.0->en-core-web-sm==3.4.0) (7.1.2)\n",
            "Requirement already satisfied: MarkupSafe>=0.23 in /usr/local/lib/python3.7/dist-packages (from jinja2->spacy<3.5.0,>=3.4.0->en-core-web-sm==3.4.0) (2.0.1)\n",
            "\u001b[38;5;2m✔ Download and installation successful\u001b[0m\n",
            "You can now load the package via spacy.load('en_core_web_sm')\n"
          ]
        }
      ]
    },
    {
      "cell_type": "code",
      "execution_count": 4,
      "id": "bf3a7873",
      "metadata": {
        "colab": {
          "base_uri": "https://localhost:8080/",
          "height": 173,
          "referenced_widgets": [
            "d7d8b416aa2c4b5b9ddc7e2d344dbc15",
            "e7a6b4b398444c98bc93e300daed4b1f",
            "7b06b1af635a41ef81bef5faf5847c43",
            "7e826a9037c94dc8b6681dc56e73eb6d",
            "e6cb7d759ed943cea6fee419dc73f55a",
            "5f089fc192b74c53bb5463423fc6b012",
            "9b87dd25af3d4841a3bca54722561db1",
            "7f7bd09f41a2469eaa9079e0d1319f1a",
            "d792e048d19949b1b83d1c5bcb33f531",
            "ece16605f16542b59df5963d04da3549",
            "40303fd0345147d9956531f9b128d2ba"
          ]
        },
        "id": "bf3a7873",
        "outputId": "623198e9-1acb-4dfb-ede2-9be48282f2e4"
      },
      "outputs": [
        {
          "output_type": "stream",
          "name": "stderr",
          "text": [
            "/usr/local/lib/python3.7/dist-packages/huggingface_hub/utils/_deprecation.py:97: FutureWarning: Deprecated argument(s) used in 'dataset_info': token. Will not be supported from version '0.12'.\n",
            "  warnings.warn(message, FutureWarning)\n"
          ]
        },
        {
          "output_type": "stream",
          "name": "stdout",
          "text": [
            "Large Movie Review Dataset.\n",
            "This is a dataset for binary sentiment classification containing substantially more data than previous benchmark datasets. We provide a set of 25,000 highly polar movie reviews for training, and 25,000 for testing. There is additional unlabeled data for use as well.\n",
            "{'text': Value(dtype='string', id=None), 'label': ClassLabel(num_classes=2, names=['neg', 'pos'], id=None)}\n"
          ]
        },
        {
          "output_type": "stream",
          "name": "stderr",
          "text": [
            "WARNING:datasets.builder:Found cached dataset imdb (/root/.cache/huggingface/datasets/imdb/plain_text/1.0.0/2fdd8b9bcadd6e7055e742a706876ba43f19faee861df134affd7a3f60fc38a1)\n"
          ]
        },
        {
          "output_type": "display_data",
          "data": {
            "text/plain": [
              "  0%|          | 0/3 [00:00<?, ?it/s]"
            ],
            "application/vnd.jupyter.widget-view+json": {
              "version_major": 2,
              "version_minor": 0,
              "model_id": "d7d8b416aa2c4b5b9ddc7e2d344dbc15"
            }
          },
          "metadata": {}
        }
      ],
      "source": [
        "from datasets import load_dataset_builder\n",
        "from datasets import load_dataset\n",
        "import pandas as pd\n",
        "import numpy as np\n",
        "\n",
        "import nltk\n",
        "from nltk.stem.snowball import SnowballStemmer\n",
        "from nltk.tokenize import word_tokenize \n",
        "import re\n",
        "import spacy\n",
        "\n",
        "from sklearn.feature_extraction.text import CountVectorizer\n",
        "from sklearn.model_selection import train_test_split\n",
        "from sklearn.naive_bayes import MultinomialNB\n",
        "from sklearn.metrics import accuracy_score\n",
        "from sklearn.metrics import classification_report\n",
        "from sklearn.metrics import f1_score\n",
        "from sklearn.pipeline import Pipeline\n",
        "\n",
        "database_name = \"imdb\"\n",
        "ds_builder = load_dataset_builder(database_name)\n",
        "print(ds_builder.info.description)\n",
        "print(ds_builder.info.features)\n",
        "\n",
        "dataset = load_dataset(database_name)"
      ]
    },
    {
      "cell_type": "code",
      "execution_count": 5,
      "id": "004e5408",
      "metadata": {
        "colab": {
          "base_uri": "https://localhost:8080/"
        },
        "id": "004e5408",
        "outputId": "6f7e1c8d-ac66-4692-f328-17f46c2899cd"
      },
      "outputs": [
        {
          "output_type": "stream",
          "name": "stdout",
          "text": [
            "Split names ['train', 'test', 'unsupervised']\n"
          ]
        },
        {
          "output_type": "execute_result",
          "data": {
            "text/plain": [
              "DatasetDict({\n",
              "    train: Dataset({\n",
              "        features: ['text', 'label'],\n",
              "        num_rows: 25000\n",
              "    })\n",
              "    test: Dataset({\n",
              "        features: ['text', 'label'],\n",
              "        num_rows: 25000\n",
              "    })\n",
              "    unsupervised: Dataset({\n",
              "        features: ['text', 'label'],\n",
              "        num_rows: 50000\n",
              "    })\n",
              "})"
            ]
          },
          "metadata": {},
          "execution_count": 5
        }
      ],
      "source": [
        "from datasets import get_dataset_split_names\n",
        "print(\"Split names\", get_dataset_split_names(database_name))\n",
        "dataset"
      ]
    },
    {
      "cell_type": "markdown",
      "id": "c656680a",
      "metadata": {
        "id": "c656680a"
      },
      "source": [
        "We can see that this database has 3 splits. The \"train\" and \"test\" splits have 25000 rows each and the unsupervised split has 50000 rows."
      ]
    },
    {
      "cell_type": "code",
      "execution_count": 6,
      "id": "efdd18ae",
      "metadata": {
        "colab": {
          "base_uri": "https://localhost:8080/"
        },
        "id": "efdd18ae",
        "outputId": "b155b8ff-6e8c-4111-f6a1-a3f8e2c156e0"
      },
      "outputs": [
        {
          "output_type": "stream",
          "name": "stdout",
          "text": [
            "Test values count : 25000\n",
            "Train values count : 25000\n"
          ]
        },
        {
          "output_type": "execute_result",
          "data": {
            "text/plain": [
              "0    25000\n",
              "1    25000\n",
              "Name: label, dtype: int64"
            ]
          },
          "metadata": {},
          "execution_count": 6
        }
      ],
      "source": [
        "# To start we are going to split our datasets into 3 differents datasets\n",
        "train = dataset[\"train\"].to_pandas()\n",
        "test = dataset[\"test\"].to_pandas()\n",
        "supervised = pd.concat([train, test])\n",
        "\n",
        "# Then we will have a look on the \n",
        "print(\"Test values count : {0}\".format(len(test)))\n",
        "print(\"Train values count : {0}\".format(len(train)))\n",
        "supervised[\"label\"].value_counts()"
      ]
    },
    {
      "cell_type": "markdown",
      "source": [
        "Let's now have a look on our dataframe and our data "
      ],
      "metadata": {
        "id": "yvDB-0XxTVB0"
      },
      "id": "yvDB-0XxTVB0"
    },
    {
      "cell_type": "code",
      "source": [
        "supervised.head()"
      ],
      "metadata": {
        "colab": {
          "base_uri": "https://localhost:8080/",
          "height": 206
        },
        "id": "BQb-IzFaTUd9",
        "outputId": "f5503537-4536-4d38-a49e-837fa94cb673"
      },
      "id": "BQb-IzFaTUd9",
      "execution_count": 7,
      "outputs": [
        {
          "output_type": "execute_result",
          "data": {
            "text/plain": [
              "                                                text  label\n",
              "0  I rented I AM CURIOUS-YELLOW from my video sto...      0\n",
              "1  \"I Am Curious: Yellow\" is a risible and preten...      0\n",
              "2  If only to avoid making this type of film in t...      0\n",
              "3  This film was probably inspired by Godard's Ma...      0\n",
              "4  Oh, brother...after hearing about this ridicul...      0"
            ],
            "text/html": [
              "\n",
              "  <div id=\"df-85ed601b-6418-4176-8b66-ff9aae8c821d\">\n",
              "    <div class=\"colab-df-container\">\n",
              "      <div>\n",
              "<style scoped>\n",
              "    .dataframe tbody tr th:only-of-type {\n",
              "        vertical-align: middle;\n",
              "    }\n",
              "\n",
              "    .dataframe tbody tr th {\n",
              "        vertical-align: top;\n",
              "    }\n",
              "\n",
              "    .dataframe thead th {\n",
              "        text-align: right;\n",
              "    }\n",
              "</style>\n",
              "<table border=\"1\" class=\"dataframe\">\n",
              "  <thead>\n",
              "    <tr style=\"text-align: right;\">\n",
              "      <th></th>\n",
              "      <th>text</th>\n",
              "      <th>label</th>\n",
              "    </tr>\n",
              "  </thead>\n",
              "  <tbody>\n",
              "    <tr>\n",
              "      <th>0</th>\n",
              "      <td>I rented I AM CURIOUS-YELLOW from my video sto...</td>\n",
              "      <td>0</td>\n",
              "    </tr>\n",
              "    <tr>\n",
              "      <th>1</th>\n",
              "      <td>\"I Am Curious: Yellow\" is a risible and preten...</td>\n",
              "      <td>0</td>\n",
              "    </tr>\n",
              "    <tr>\n",
              "      <th>2</th>\n",
              "      <td>If only to avoid making this type of film in t...</td>\n",
              "      <td>0</td>\n",
              "    </tr>\n",
              "    <tr>\n",
              "      <th>3</th>\n",
              "      <td>This film was probably inspired by Godard's Ma...</td>\n",
              "      <td>0</td>\n",
              "    </tr>\n",
              "    <tr>\n",
              "      <th>4</th>\n",
              "      <td>Oh, brother...after hearing about this ridicul...</td>\n",
              "      <td>0</td>\n",
              "    </tr>\n",
              "  </tbody>\n",
              "</table>\n",
              "</div>\n",
              "      <button class=\"colab-df-convert\" onclick=\"convertToInteractive('df-85ed601b-6418-4176-8b66-ff9aae8c821d')\"\n",
              "              title=\"Convert this dataframe to an interactive table.\"\n",
              "              style=\"display:none;\">\n",
              "        \n",
              "  <svg xmlns=\"http://www.w3.org/2000/svg\" height=\"24px\"viewBox=\"0 0 24 24\"\n",
              "       width=\"24px\">\n",
              "    <path d=\"M0 0h24v24H0V0z\" fill=\"none\"/>\n",
              "    <path d=\"M18.56 5.44l.94 2.06.94-2.06 2.06-.94-2.06-.94-.94-2.06-.94 2.06-2.06.94zm-11 1L8.5 8.5l.94-2.06 2.06-.94-2.06-.94L8.5 2.5l-.94 2.06-2.06.94zm10 10l.94 2.06.94-2.06 2.06-.94-2.06-.94-.94-2.06-.94 2.06-2.06.94z\"/><path d=\"M17.41 7.96l-1.37-1.37c-.4-.4-.92-.59-1.43-.59-.52 0-1.04.2-1.43.59L10.3 9.45l-7.72 7.72c-.78.78-.78 2.05 0 2.83L4 21.41c.39.39.9.59 1.41.59.51 0 1.02-.2 1.41-.59l7.78-7.78 2.81-2.81c.8-.78.8-2.07 0-2.86zM5.41 20L4 18.59l7.72-7.72 1.47 1.35L5.41 20z\"/>\n",
              "  </svg>\n",
              "      </button>\n",
              "      \n",
              "  <style>\n",
              "    .colab-df-container {\n",
              "      display:flex;\n",
              "      flex-wrap:wrap;\n",
              "      gap: 12px;\n",
              "    }\n",
              "\n",
              "    .colab-df-convert {\n",
              "      background-color: #E8F0FE;\n",
              "      border: none;\n",
              "      border-radius: 50%;\n",
              "      cursor: pointer;\n",
              "      display: none;\n",
              "      fill: #1967D2;\n",
              "      height: 32px;\n",
              "      padding: 0 0 0 0;\n",
              "      width: 32px;\n",
              "    }\n",
              "\n",
              "    .colab-df-convert:hover {\n",
              "      background-color: #E2EBFA;\n",
              "      box-shadow: 0px 1px 2px rgba(60, 64, 67, 0.3), 0px 1px 3px 1px rgba(60, 64, 67, 0.15);\n",
              "      fill: #174EA6;\n",
              "    }\n",
              "\n",
              "    [theme=dark] .colab-df-convert {\n",
              "      background-color: #3B4455;\n",
              "      fill: #D2E3FC;\n",
              "    }\n",
              "\n",
              "    [theme=dark] .colab-df-convert:hover {\n",
              "      background-color: #434B5C;\n",
              "      box-shadow: 0px 1px 3px 1px rgba(0, 0, 0, 0.15);\n",
              "      filter: drop-shadow(0px 1px 2px rgba(0, 0, 0, 0.3));\n",
              "      fill: #FFFFFF;\n",
              "    }\n",
              "  </style>\n",
              "\n",
              "      <script>\n",
              "        const buttonEl =\n",
              "          document.querySelector('#df-85ed601b-6418-4176-8b66-ff9aae8c821d button.colab-df-convert');\n",
              "        buttonEl.style.display =\n",
              "          google.colab.kernel.accessAllowed ? 'block' : 'none';\n",
              "\n",
              "        async function convertToInteractive(key) {\n",
              "          const element = document.querySelector('#df-85ed601b-6418-4176-8b66-ff9aae8c821d');\n",
              "          const dataTable =\n",
              "            await google.colab.kernel.invokeFunction('convertToInteractive',\n",
              "                                                     [key], {});\n",
              "          if (!dataTable) return;\n",
              "\n",
              "          const docLinkHtml = 'Like what you see? Visit the ' +\n",
              "            '<a target=\"_blank\" href=https://colab.research.google.com/notebooks/data_table.ipynb>data table notebook</a>'\n",
              "            + ' to learn more about interactive tables.';\n",
              "          element.innerHTML = '';\n",
              "          dataTable['output_type'] = 'display_data';\n",
              "          await google.colab.output.renderOutput(dataTable, element);\n",
              "          const docLink = document.createElement('div');\n",
              "          docLink.innerHTML = docLinkHtml;\n",
              "          element.appendChild(docLink);\n",
              "        }\n",
              "      </script>\n",
              "    </div>\n",
              "  </div>\n",
              "  "
            ]
          },
          "metadata": {},
          "execution_count": 7
        }
      ]
    },
    {
      "cell_type": "markdown",
      "id": "31e148d6",
      "metadata": {
        "id": "31e148d6"
      },
      "source": [
        "We can see that there are as many positive as negative reviews in the supervised split.Indeed, each class has 25000 occurrences."
      ]
    },
    {
      "cell_type": "markdown",
      "source": [
        "## Shuffling the dataset\n",
        "\n",
        "To get more coherent results, is is necessary to shuffle the dataset (we will also need it for the hyperparameter optimization later) as follow:"
      ],
      "metadata": {
        "id": "miJNvKFAuY-t"
      },
      "id": "miJNvKFAuY-t"
    },
    {
      "cell_type": "code",
      "source": [
        "def shuffle(dataset):\n",
        "  return dataset.sample(frac=1).reset_index(drop=True)"
      ],
      "metadata": {
        "id": "-4eW5diMumRy"
      },
      "id": "-4eW5diMumRy",
      "execution_count": 8,
      "outputs": []
    },
    {
      "cell_type": "code",
      "source": [
        "train = shuffle(train)\n",
        "test = shuffle(test)\n",
        "supervised = shuffle(supervised)\n",
        "\n",
        "supervised.head()"
      ],
      "metadata": {
        "colab": {
          "base_uri": "https://localhost:8080/",
          "height": 206
        },
        "id": "Tt9My9Myubh5",
        "outputId": "fe833f47-5858-472f-ec7f-f10ee54b0fb8"
      },
      "id": "Tt9My9Myubh5",
      "execution_count": 9,
      "outputs": [
        {
          "output_type": "execute_result",
          "data": {
            "text/plain": [
              "                                                text  label\n",
              "0  Eleven years ago, Stanley Ipkiss released his ...      0\n",
              "1  I went into this movie after having read it wa...      1\n",
              "2  Style but no substance. Not as funny as it sho...      0\n",
              "3  This movie, quite literally, does not have one...      0\n",
              "4  This film is so wonderful it captures the gami...      1"
            ],
            "text/html": [
              "\n",
              "  <div id=\"df-99f4c32d-cde1-484e-a247-7b28ebeb243c\">\n",
              "    <div class=\"colab-df-container\">\n",
              "      <div>\n",
              "<style scoped>\n",
              "    .dataframe tbody tr th:only-of-type {\n",
              "        vertical-align: middle;\n",
              "    }\n",
              "\n",
              "    .dataframe tbody tr th {\n",
              "        vertical-align: top;\n",
              "    }\n",
              "\n",
              "    .dataframe thead th {\n",
              "        text-align: right;\n",
              "    }\n",
              "</style>\n",
              "<table border=\"1\" class=\"dataframe\">\n",
              "  <thead>\n",
              "    <tr style=\"text-align: right;\">\n",
              "      <th></th>\n",
              "      <th>text</th>\n",
              "      <th>label</th>\n",
              "    </tr>\n",
              "  </thead>\n",
              "  <tbody>\n",
              "    <tr>\n",
              "      <th>0</th>\n",
              "      <td>Eleven years ago, Stanley Ipkiss released his ...</td>\n",
              "      <td>0</td>\n",
              "    </tr>\n",
              "    <tr>\n",
              "      <th>1</th>\n",
              "      <td>I went into this movie after having read it wa...</td>\n",
              "      <td>1</td>\n",
              "    </tr>\n",
              "    <tr>\n",
              "      <th>2</th>\n",
              "      <td>Style but no substance. Not as funny as it sho...</td>\n",
              "      <td>0</td>\n",
              "    </tr>\n",
              "    <tr>\n",
              "      <th>3</th>\n",
              "      <td>This movie, quite literally, does not have one...</td>\n",
              "      <td>0</td>\n",
              "    </tr>\n",
              "    <tr>\n",
              "      <th>4</th>\n",
              "      <td>This film is so wonderful it captures the gami...</td>\n",
              "      <td>1</td>\n",
              "    </tr>\n",
              "  </tbody>\n",
              "</table>\n",
              "</div>\n",
              "      <button class=\"colab-df-convert\" onclick=\"convertToInteractive('df-99f4c32d-cde1-484e-a247-7b28ebeb243c')\"\n",
              "              title=\"Convert this dataframe to an interactive table.\"\n",
              "              style=\"display:none;\">\n",
              "        \n",
              "  <svg xmlns=\"http://www.w3.org/2000/svg\" height=\"24px\"viewBox=\"0 0 24 24\"\n",
              "       width=\"24px\">\n",
              "    <path d=\"M0 0h24v24H0V0z\" fill=\"none\"/>\n",
              "    <path d=\"M18.56 5.44l.94 2.06.94-2.06 2.06-.94-2.06-.94-.94-2.06-.94 2.06-2.06.94zm-11 1L8.5 8.5l.94-2.06 2.06-.94-2.06-.94L8.5 2.5l-.94 2.06-2.06.94zm10 10l.94 2.06.94-2.06 2.06-.94-2.06-.94-.94-2.06-.94 2.06-2.06.94z\"/><path d=\"M17.41 7.96l-1.37-1.37c-.4-.4-.92-.59-1.43-.59-.52 0-1.04.2-1.43.59L10.3 9.45l-7.72 7.72c-.78.78-.78 2.05 0 2.83L4 21.41c.39.39.9.59 1.41.59.51 0 1.02-.2 1.41-.59l7.78-7.78 2.81-2.81c.8-.78.8-2.07 0-2.86zM5.41 20L4 18.59l7.72-7.72 1.47 1.35L5.41 20z\"/>\n",
              "  </svg>\n",
              "      </button>\n",
              "      \n",
              "  <style>\n",
              "    .colab-df-container {\n",
              "      display:flex;\n",
              "      flex-wrap:wrap;\n",
              "      gap: 12px;\n",
              "    }\n",
              "\n",
              "    .colab-df-convert {\n",
              "      background-color: #E8F0FE;\n",
              "      border: none;\n",
              "      border-radius: 50%;\n",
              "      cursor: pointer;\n",
              "      display: none;\n",
              "      fill: #1967D2;\n",
              "      height: 32px;\n",
              "      padding: 0 0 0 0;\n",
              "      width: 32px;\n",
              "    }\n",
              "\n",
              "    .colab-df-convert:hover {\n",
              "      background-color: #E2EBFA;\n",
              "      box-shadow: 0px 1px 2px rgba(60, 64, 67, 0.3), 0px 1px 3px 1px rgba(60, 64, 67, 0.15);\n",
              "      fill: #174EA6;\n",
              "    }\n",
              "\n",
              "    [theme=dark] .colab-df-convert {\n",
              "      background-color: #3B4455;\n",
              "      fill: #D2E3FC;\n",
              "    }\n",
              "\n",
              "    [theme=dark] .colab-df-convert:hover {\n",
              "      background-color: #434B5C;\n",
              "      box-shadow: 0px 1px 3px 1px rgba(0, 0, 0, 0.15);\n",
              "      filter: drop-shadow(0px 1px 2px rgba(0, 0, 0, 0.3));\n",
              "      fill: #FFFFFF;\n",
              "    }\n",
              "  </style>\n",
              "\n",
              "      <script>\n",
              "        const buttonEl =\n",
              "          document.querySelector('#df-99f4c32d-cde1-484e-a247-7b28ebeb243c button.colab-df-convert');\n",
              "        buttonEl.style.display =\n",
              "          google.colab.kernel.accessAllowed ? 'block' : 'none';\n",
              "\n",
              "        async function convertToInteractive(key) {\n",
              "          const element = document.querySelector('#df-99f4c32d-cde1-484e-a247-7b28ebeb243c');\n",
              "          const dataTable =\n",
              "            await google.colab.kernel.invokeFunction('convertToInteractive',\n",
              "                                                     [key], {});\n",
              "          if (!dataTable) return;\n",
              "\n",
              "          const docLinkHtml = 'Like what you see? Visit the ' +\n",
              "            '<a target=\"_blank\" href=https://colab.research.google.com/notebooks/data_table.ipynb>data table notebook</a>'\n",
              "            + ' to learn more about interactive tables.';\n",
              "          element.innerHTML = '';\n",
              "          dataTable['output_type'] = 'display_data';\n",
              "          await google.colab.output.renderOutput(dataTable, element);\n",
              "          const docLink = document.createElement('div');\n",
              "          docLink.innerHTML = docLinkHtml;\n",
              "          element.appendChild(docLink);\n",
              "        }\n",
              "      </script>\n",
              "    </div>\n",
              "  </div>\n",
              "  "
            ]
          },
          "metadata": {},
          "execution_count": 9
        }
      ]
    },
    {
      "cell_type": "markdown",
      "source": [
        "We can see that the rows of the datasets have indeed been shuffled, as compared to their previous order."
      ],
      "metadata": {
        "id": "U5jwsw3EvThz"
      },
      "id": "U5jwsw3EvThz"
    },
    {
      "cell_type": "markdown",
      "source": [
        "## 1 - (2 points) Turn the dataset into a dataset compatible with Fastext (see the Tips on using FastText section a bit lower)\n",
        "\n",
        "The FastText dataset format is:\n",
        "\n",
        "```__label__<your_label> <corresponding text>```\n",
        "\n",
        "For convenience, we will replace the original labels (0 and 1) by their intended meaning, \"negative\" and \"positive\" respectively."
      ],
      "metadata": {
        "id": "G7laklG2X5oN"
      },
      "id": "G7laklG2X5oN"
    },
    {
      "cell_type": "code",
      "source": [
        "def pandas_to_fasttext(pandas_data):\n",
        "  '''Convert a pandas dataset to a string of fasttext format'''\n",
        "  pandas_data = pandas_data.astype('str')\n",
        "  fasttext_data = '__label__' + pandas_data['label'] + ' ' + pandas_data['text']\n",
        "  fasttext_str = fasttext_data.to_string(index=False)\n",
        "  fasttext_str = fasttext_str.replace('0', 'negative').replace('1', 'positive')\n",
        "  return fasttext_str\n",
        "\n",
        "def str_to_txt_file(text, filename):\n",
        "  '''Saves a string as a txt file'''\n",
        "  file = open(filename, \"w\")\n",
        "  file.write(text)\n",
        "  file.close()"
      ],
      "metadata": {
        "id": "fD_lYQdPeJa6"
      },
      "id": "fD_lYQdPeJa6",
      "execution_count": 10,
      "outputs": []
    },
    {
      "cell_type": "markdown",
      "source": [
        "We now convert each dataset (train, test and supervised) to fasttext format using the above functions, and save them to text files for later use:"
      ],
      "metadata": {
        "id": "tl3KhqiJk7zT"
      },
      "id": "tl3KhqiJk7zT"
    },
    {
      "cell_type": "code",
      "source": [
        "fasttext_train = pandas_to_fasttext(train)\n",
        "str_to_txt_file(fasttext_train, 'train.txt')\n",
        "\n",
        "fasttext_test = pandas_to_fasttext(test)\n",
        "str_to_txt_file(fasttext_test, 'test.txt')\n",
        "\n",
        "fasttext_supervised = pandas_to_fasttext(supervised)\n",
        "str_to_txt_file(fasttext_supervised, 'supervised.txt')\n",
        "\n",
        "fasttext_train.split('\\n')[:10]"
      ],
      "metadata": {
        "colab": {
          "base_uri": "https://localhost:8080/"
        },
        "id": "WRNrLc4BX2sd",
        "outputId": "4223252c-1346-4c52-a5c9-f4ff8cb87a61"
      },
      "id": "WRNrLc4BX2sd",
      "execution_count": 11,
      "outputs": [
        {
          "output_type": "execute_result",
          "data": {
            "text/plain": [
              "['__label__positive Most 7negatives (and 8negatives) Kong Kong martial...',\n",
              " '__label__positive This film, in my opinion, is, despit...',\n",
              " '__label__negative Oh, man, how low serials had fallen ...',\n",
              " '__label__negative I am a massive fan of the book and O...',\n",
              " '__label__positive After a big tip of the hat to Spinal...',\n",
              " '__label__negative This is probably the best horror fil...',\n",
              " '__label__negative By my \"Kool-Aid drinkers\" remark, I ...',\n",
              " '__label__negative I loved \"The Curse of Frankenstein\" ...',\n",
              " \"__label__positive If you a purist, don't waste your ti...\",\n",
              " '__label__negative Probably one of the most boriest sla...']"
            ]
          },
          "metadata": {},
          "execution_count": 11
        }
      ]
    },
    {
      "cell_type": "markdown",
      "source": [
        "We can see above the result of fasttext formatting, which correspond to the expected format."
      ],
      "metadata": {
        "id": "Z0637ByMlKoT"
      },
      "id": "Z0637ByMlKoT"
    },
    {
      "cell_type": "markdown",
      "source": [
        "## 2 - (2 points) Train a FastText classifier with default parameters on the training data, and evaluate it on the test data using accuracy."
      ],
      "metadata": {
        "id": "q0gFrYaWbo2h"
      },
      "id": "q0gFrYaWbo2h"
    },
    {
      "cell_type": "code",
      "source": [
        "import fasttext"
      ],
      "metadata": {
        "id": "UKlGgrlTzjks"
      },
      "id": "UKlGgrlTzjks",
      "execution_count": 12,
      "outputs": []
    },
    {
      "cell_type": "markdown",
      "source": [
        "Training simple classifier with formatted train dataset:"
      ],
      "metadata": {
        "id": "omY0wxnqlfPe"
      },
      "id": "omY0wxnqlfPe"
    },
    {
      "cell_type": "code",
      "source": [
        "model = fasttext.train_supervised(input='train.txt')"
      ],
      "metadata": {
        "id": "n4OSpBTTbn49"
      },
      "id": "n4OSpBTTbn49",
      "execution_count": 13,
      "outputs": []
    },
    {
      "cell_type": "markdown",
      "source": [
        "Displaying the results of the model on the formatted test dataset:"
      ],
      "metadata": {
        "id": "P7K0DcQzll3r"
      },
      "id": "P7K0DcQzll3r"
    },
    {
      "cell_type": "code",
      "source": [
        "test_results = model.test(\"test.txt\")\n",
        "print('Number of samples:', test_results[0])\n",
        "print('Accurracy:', test_results[1])"
      ],
      "metadata": {
        "colab": {
          "base_uri": "https://localhost:8080/"
        },
        "id": "OPidZ4ySkHC5",
        "outputId": "643e9a65-3fc2-480a-a8d7-072ef5133358"
      },
      "id": "OPidZ4ySkHC5",
      "execution_count": 14,
      "outputs": [
        {
          "output_type": "stream",
          "name": "stdout",
          "text": [
            "Number of samples: 25000\n",
            "Accurracy: 0.63036\n"
          ]
        }
      ]
    },
    {
      "cell_type": "markdown",
      "source": [
        "## 3 - (3 points) Use the hyperparameters search functionality of FastText and repeat step 2"
      ],
      "metadata": {
        "id": "oBnbEUhNmb9q"
      },
      "id": "oBnbEUhNmb9q"
    },
    {
      "cell_type": "markdown",
      "source": [
        "Created the hyper_validation dataset by taking half of the test dataset:"
      ],
      "metadata": {
        "id": "eyPlTi60ltPw"
      },
      "id": "eyPlTi60ltPw"
    },
    {
      "cell_type": "code",
      "source": [
        "test_size = len(test)//2\n",
        "\n",
        "hyper_validation = test.iloc[test_size:,:]\n",
        "\n",
        "display(hyper_validation)"
      ],
      "metadata": {
        "id": "wynH16Uqmebs",
        "colab": {
          "base_uri": "https://localhost:8080/",
          "height": 424
        },
        "outputId": "7fb1421f-2f14-4157-e0e7-7a204ad09d3c"
      },
      "id": "wynH16Uqmebs",
      "execution_count": 15,
      "outputs": [
        {
          "output_type": "display_data",
          "data": {
            "text/plain": [
              "                                                    text  label\n",
              "12500  \"Boy Next Door\" is a hilarious romp through ma...      1\n",
              "12501  I was shocked at how bad it was and unable to ...      0\n",
              "12502  I remembered this awful movie I bought at Came...      0\n",
              "12503  An interesting movie with Jordana Brewster as ...      1\n",
              "12504  Jane Russell was an underrated comedienne and ...      0\n",
              "...                                                  ...    ...\n",
              "24995  Once you sit down to see this film \" A Cannon ...      1\n",
              "24996  I watched this film on the advice of a friend ...      0\n",
              "24997  The MTV sci-fi animated series \"Æon Flux\" is b...      0\n",
              "24998  A new and innovative show with a great cast th...      1\n",
              "24999  ***SPOILERS*** For some strange reason Oliver ...      1\n",
              "\n",
              "[12500 rows x 2 columns]"
            ],
            "text/html": [
              "\n",
              "  <div id=\"df-b7f94c4f-f930-4d14-9c43-65f10889e351\">\n",
              "    <div class=\"colab-df-container\">\n",
              "      <div>\n",
              "<style scoped>\n",
              "    .dataframe tbody tr th:only-of-type {\n",
              "        vertical-align: middle;\n",
              "    }\n",
              "\n",
              "    .dataframe tbody tr th {\n",
              "        vertical-align: top;\n",
              "    }\n",
              "\n",
              "    .dataframe thead th {\n",
              "        text-align: right;\n",
              "    }\n",
              "</style>\n",
              "<table border=\"1\" class=\"dataframe\">\n",
              "  <thead>\n",
              "    <tr style=\"text-align: right;\">\n",
              "      <th></th>\n",
              "      <th>text</th>\n",
              "      <th>label</th>\n",
              "    </tr>\n",
              "  </thead>\n",
              "  <tbody>\n",
              "    <tr>\n",
              "      <th>12500</th>\n",
              "      <td>\"Boy Next Door\" is a hilarious romp through ma...</td>\n",
              "      <td>1</td>\n",
              "    </tr>\n",
              "    <tr>\n",
              "      <th>12501</th>\n",
              "      <td>I was shocked at how bad it was and unable to ...</td>\n",
              "      <td>0</td>\n",
              "    </tr>\n",
              "    <tr>\n",
              "      <th>12502</th>\n",
              "      <td>I remembered this awful movie I bought at Came...</td>\n",
              "      <td>0</td>\n",
              "    </tr>\n",
              "    <tr>\n",
              "      <th>12503</th>\n",
              "      <td>An interesting movie with Jordana Brewster as ...</td>\n",
              "      <td>1</td>\n",
              "    </tr>\n",
              "    <tr>\n",
              "      <th>12504</th>\n",
              "      <td>Jane Russell was an underrated comedienne and ...</td>\n",
              "      <td>0</td>\n",
              "    </tr>\n",
              "    <tr>\n",
              "      <th>...</th>\n",
              "      <td>...</td>\n",
              "      <td>...</td>\n",
              "    </tr>\n",
              "    <tr>\n",
              "      <th>24995</th>\n",
              "      <td>Once you sit down to see this film \" A Cannon ...</td>\n",
              "      <td>1</td>\n",
              "    </tr>\n",
              "    <tr>\n",
              "      <th>24996</th>\n",
              "      <td>I watched this film on the advice of a friend ...</td>\n",
              "      <td>0</td>\n",
              "    </tr>\n",
              "    <tr>\n",
              "      <th>24997</th>\n",
              "      <td>The MTV sci-fi animated series \"Æon Flux\" is b...</td>\n",
              "      <td>0</td>\n",
              "    </tr>\n",
              "    <tr>\n",
              "      <th>24998</th>\n",
              "      <td>A new and innovative show with a great cast th...</td>\n",
              "      <td>1</td>\n",
              "    </tr>\n",
              "    <tr>\n",
              "      <th>24999</th>\n",
              "      <td>***SPOILERS*** For some strange reason Oliver ...</td>\n",
              "      <td>1</td>\n",
              "    </tr>\n",
              "  </tbody>\n",
              "</table>\n",
              "<p>12500 rows × 2 columns</p>\n",
              "</div>\n",
              "      <button class=\"colab-df-convert\" onclick=\"convertToInteractive('df-b7f94c4f-f930-4d14-9c43-65f10889e351')\"\n",
              "              title=\"Convert this dataframe to an interactive table.\"\n",
              "              style=\"display:none;\">\n",
              "        \n",
              "  <svg xmlns=\"http://www.w3.org/2000/svg\" height=\"24px\"viewBox=\"0 0 24 24\"\n",
              "       width=\"24px\">\n",
              "    <path d=\"M0 0h24v24H0V0z\" fill=\"none\"/>\n",
              "    <path d=\"M18.56 5.44l.94 2.06.94-2.06 2.06-.94-2.06-.94-.94-2.06-.94 2.06-2.06.94zm-11 1L8.5 8.5l.94-2.06 2.06-.94-2.06-.94L8.5 2.5l-.94 2.06-2.06.94zm10 10l.94 2.06.94-2.06 2.06-.94-2.06-.94-.94-2.06-.94 2.06-2.06.94z\"/><path d=\"M17.41 7.96l-1.37-1.37c-.4-.4-.92-.59-1.43-.59-.52 0-1.04.2-1.43.59L10.3 9.45l-7.72 7.72c-.78.78-.78 2.05 0 2.83L4 21.41c.39.39.9.59 1.41.59.51 0 1.02-.2 1.41-.59l7.78-7.78 2.81-2.81c.8-.78.8-2.07 0-2.86zM5.41 20L4 18.59l7.72-7.72 1.47 1.35L5.41 20z\"/>\n",
              "  </svg>\n",
              "      </button>\n",
              "      \n",
              "  <style>\n",
              "    .colab-df-container {\n",
              "      display:flex;\n",
              "      flex-wrap:wrap;\n",
              "      gap: 12px;\n",
              "    }\n",
              "\n",
              "    .colab-df-convert {\n",
              "      background-color: #E8F0FE;\n",
              "      border: none;\n",
              "      border-radius: 50%;\n",
              "      cursor: pointer;\n",
              "      display: none;\n",
              "      fill: #1967D2;\n",
              "      height: 32px;\n",
              "      padding: 0 0 0 0;\n",
              "      width: 32px;\n",
              "    }\n",
              "\n",
              "    .colab-df-convert:hover {\n",
              "      background-color: #E2EBFA;\n",
              "      box-shadow: 0px 1px 2px rgba(60, 64, 67, 0.3), 0px 1px 3px 1px rgba(60, 64, 67, 0.15);\n",
              "      fill: #174EA6;\n",
              "    }\n",
              "\n",
              "    [theme=dark] .colab-df-convert {\n",
              "      background-color: #3B4455;\n",
              "      fill: #D2E3FC;\n",
              "    }\n",
              "\n",
              "    [theme=dark] .colab-df-convert:hover {\n",
              "      background-color: #434B5C;\n",
              "      box-shadow: 0px 1px 3px 1px rgba(0, 0, 0, 0.15);\n",
              "      filter: drop-shadow(0px 1px 2px rgba(0, 0, 0, 0.3));\n",
              "      fill: #FFFFFF;\n",
              "    }\n",
              "  </style>\n",
              "\n",
              "      <script>\n",
              "        const buttonEl =\n",
              "          document.querySelector('#df-b7f94c4f-f930-4d14-9c43-65f10889e351 button.colab-df-convert');\n",
              "        buttonEl.style.display =\n",
              "          google.colab.kernel.accessAllowed ? 'block' : 'none';\n",
              "\n",
              "        async function convertToInteractive(key) {\n",
              "          const element = document.querySelector('#df-b7f94c4f-f930-4d14-9c43-65f10889e351');\n",
              "          const dataTable =\n",
              "            await google.colab.kernel.invokeFunction('convertToInteractive',\n",
              "                                                     [key], {});\n",
              "          if (!dataTable) return;\n",
              "\n",
              "          const docLinkHtml = 'Like what you see? Visit the ' +\n",
              "            '<a target=\"_blank\" href=https://colab.research.google.com/notebooks/data_table.ipynb>data table notebook</a>'\n",
              "            + ' to learn more about interactive tables.';\n",
              "          element.innerHTML = '';\n",
              "          dataTable['output_type'] = 'display_data';\n",
              "          await google.colab.output.renderOutput(dataTable, element);\n",
              "          const docLink = document.createElement('div');\n",
              "          docLink.innerHTML = docLinkHtml;\n",
              "          element.appendChild(docLink);\n",
              "        }\n",
              "      </script>\n",
              "    </div>\n",
              "  </div>\n",
              "  "
            ]
          },
          "metadata": {}
        }
      ]
    },
    {
      "cell_type": "markdown",
      "source": [
        "Formatting this validation dataset to fasttext format and saving it to txt file:"
      ],
      "metadata": {
        "id": "Qqjlmc3Vl7_A"
      },
      "id": "Qqjlmc3Vl7_A"
    },
    {
      "cell_type": "code",
      "source": [
        "fasttext_validation = pandas_to_fasttext(hyper_validation)\n",
        "str_to_txt_file(fasttext_validation, 'hyper_validation.txt')\n",
        "\n",
        "fasttext_validation.split('\\n')[:10]"
      ],
      "metadata": {
        "colab": {
          "base_uri": "https://localhost:8080/"
        },
        "id": "bpHSjjrEIb-b",
        "outputId": "65354dd2-de0c-497b-971b-9a97c9840776"
      },
      "id": "bpHSjjrEIb-b",
      "execution_count": 16,
      "outputs": [
        {
          "output_type": "execute_result",
          "data": {
            "text/plain": [
              "['__label__positive \"Boy Next Door\" is a hilarious romp ...',\n",
              " '__label__negative I was shocked at how bad it was and ...',\n",
              " '__label__negative I remembered this awful movie I boug...',\n",
              " '__label__positive An interesting movie with Jordana Br...',\n",
              " '__label__negative Jane Russell was an underrated comed...',\n",
              " '__label__positive I was blubbing like an idiot during ...',\n",
              " '__label__negative Great book, poorly done movie. Chees...',\n",
              " '__label__negative This movie was definitely on the bor...',\n",
              " '__label__positive From the offset, I knew this was goi...',\n",
              " \"__label__positive What's the matter with you people? J...\"]"
            ]
          },
          "metadata": {},
          "execution_count": 16
        }
      ]
    },
    {
      "cell_type": "markdown",
      "source": [
        "Training the hyperparameter optimized model with the train and validation dataset:"
      ],
      "metadata": {
        "id": "9T40eo4wmH4R"
      },
      "id": "9T40eo4wmH4R"
    },
    {
      "cell_type": "code",
      "source": [
        "hyper_model = fasttext.train_supervised(input='train.txt', autotuneValidationFile='hyper_validation.txt')"
      ],
      "metadata": {
        "id": "4s3VkbzRIkcA"
      },
      "id": "4s3VkbzRIkcA",
      "execution_count": 17,
      "outputs": []
    },
    {
      "cell_type": "markdown",
      "source": [
        "Displaying optimized model results:"
      ],
      "metadata": {
        "id": "6MUBBu-4mRI0"
      },
      "id": "6MUBBu-4mRI0"
    },
    {
      "cell_type": "code",
      "source": [
        "hyper_test_results = hyper_model.test(\"test.txt\")\n",
        "print('Number of samples:', hyper_test_results[0])\n",
        "print('Accurracy:', hyper_test_results[1])"
      ],
      "metadata": {
        "id": "v7O4ERlKP4QY",
        "colab": {
          "base_uri": "https://localhost:8080/"
        },
        "outputId": "4bd57270-7a02-4384-e6be-e85317f56244"
      },
      "id": "v7O4ERlKP4QY",
      "execution_count": 18,
      "outputs": [
        {
          "output_type": "stream",
          "name": "stdout",
          "text": [
            "Number of samples: 25000\n",
            "Accurracy: 0.64376\n"
          ]
        }
      ]
    },
    {
      "cell_type": "markdown",
      "source": [
        "## 4 - (1 points) Look at the differences between the default model and the attributes found with hyperparameters search. How do the two models differ? "
      ],
      "metadata": {
        "id": "r9kyHostNFZs"
      },
      "id": "r9kyHostNFZs"
    },
    {
      "cell_type": "markdown",
      "source": [
        "Displaying the two models performances on the same test dataset:"
      ],
      "metadata": {
        "id": "bGpcRE2jmV8F"
      },
      "id": "bGpcRE2jmV8F"
    },
    {
      "cell_type": "code",
      "source": [
        "print('Number of samples:', hyper_test_results[0])\n",
        "print('Accurracy (without hyperparameters search):\\n', test_results[1])\n",
        "print('Accurracy (with hyperparameters search):\\n', hyper_test_results[1])"
      ],
      "metadata": {
        "id": "kLkkzB_oQtmh",
        "colab": {
          "base_uri": "https://localhost:8080/"
        },
        "outputId": "b71333eb-3477-45b8-a704-2dd369098418"
      },
      "id": "kLkkzB_oQtmh",
      "execution_count": 19,
      "outputs": [
        {
          "output_type": "stream",
          "name": "stdout",
          "text": [
            "Number of samples: 25000\n",
            "Accurracy (without hyperparameters search):\n",
            " 0.63036\n",
            "Accurracy (with hyperparameters search):\n",
            " 0.64376\n"
          ]
        }
      ]
    },
    {
      "cell_type": "markdown",
      "source": [
        "We can see a good improvement of the model accurracy when using hyperparameters search (0.62992 and 0.6498 respectively) on the same test dataset."
      ],
      "metadata": {
        "id": "uKkdQmKNS-8H"
      },
      "id": "uKkdQmKNS-8H"
    },
    {
      "cell_type": "markdown",
      "source": [
        "## 5 - (1 point) Using the tuned model, take at least 2 wrongly classified examples from the test set, and try explaining why the model failed."
      ],
      "metadata": {
        "id": "cS5YGAoCTlxs"
      },
      "id": "cS5YGAoCTlxs"
    },
    {
      "cell_type": "markdown",
      "source": [
        "Getting all predictions of the tuned model and saving it to 'prediction' variable:"
      ],
      "metadata": {
        "id": "_CcQNp7-miRA"
      },
      "id": "_CcQNp7-miRA"
    },
    {
      "cell_type": "code",
      "source": [
        "predictions = hyper_model.predict(test['text'].tolist())"
      ],
      "metadata": {
        "id": "GbA3T2uWTtNG"
      },
      "id": "GbA3T2uWTtNG",
      "execution_count": 20,
      "outputs": []
    },
    {
      "cell_type": "markdown",
      "source": [
        "Displaying the actual versus predicted labels with associated inputs:"
      ],
      "metadata": {
        "id": "6QQHrgKkmqf5"
      },
      "id": "6QQHrgKkmqf5"
    },
    {
      "cell_type": "code",
      "source": [
        "print('\\nActual values:')\n",
        "display(fasttext_test.split('\\n')[:5])\n",
        "\n",
        "print('\\nPredictions:')\n",
        "display(predictions[0][:5])\n",
        "\n",
        "print('\\nThe model guessed wongly on the following inputs:')\n",
        "\n",
        "print('- Error 1: Was positive, guessed negative:')\n",
        "print(test.text[1].replace('<br /><br />', ' '))\n",
        "\n",
        "print('\\n- Error 2: Was negative, guessed positive:')\n",
        "print(test.text[5].replace('<br /><br />', ' '))"
      ],
      "metadata": {
        "id": "13NOtq2GdMrK",
        "colab": {
          "base_uri": "https://localhost:8080/",
          "height": 402
        },
        "outputId": "3a551f3b-847e-4679-b21c-23939fafddd5"
      },
      "id": "13NOtq2GdMrK",
      "execution_count": 21,
      "outputs": [
        {
          "output_type": "stream",
          "name": "stdout",
          "text": [
            "\n",
            "Actual values:\n"
          ]
        },
        {
          "output_type": "display_data",
          "data": {
            "text/plain": [
              "['__label__positive The feature length CGI movie has jus...',\n",
              " '__label__negative I will never go to another Tarantino...',\n",
              " '__label__positive A study of one of those universally ...',\n",
              " '__label__negative Target is the story of a special age...',\n",
              " '__label__positive I had always heard about this great ...']"
            ]
          },
          "metadata": {}
        },
        {
          "output_type": "stream",
          "name": "stdout",
          "text": [
            "\n",
            "Predictions:\n"
          ]
        },
        {
          "output_type": "display_data",
          "data": {
            "text/plain": [
              "[['__label__positive'],\n",
              " ['__label__negative'],\n",
              " ['__label__positive'],\n",
              " ['__label__negative'],\n",
              " ['__label__positive']]"
            ]
          },
          "metadata": {}
        },
        {
          "output_type": "stream",
          "name": "stdout",
          "text": [
            "\n",
            "The model guessed wongly on the following inputs:\n",
            "- Error 1: Was positive, guessed negative:\n",
            "I will never go to another Tarantino movie again. The entire film was worthless. My wife and I both regret that we didn't get up and walk out at the first indication of what the film was really going to be about (which is still hard to determine since it was such a ridiculous storyline...blood, guts, and violence seemed to be the only real theme), but we kept hoping there'd be something redeeming just around the corner. Unfortunately, there wasn't because there wasn't anything that made sense! We, along with a lot of the other people in the audience walked out of the theater muttering \"that was disgusting\", \"what a waste of time\", \"I should've walked out\", \"where was the comedy\", \"that was pathetic\", etc. It actually made us, the audience, voice our disgust and the feeling that we had just been thoroughly ripped off. The only thing of merit in the film was the costuming and the acting ability of almost everyone in the film....there just wasn't a plot/script worthy of their talents. I rate this a 1 because there isn't a 0. I can't quite understand how anyone could rate this higher than a 0!\n",
            "\n",
            "- Error 2: Was negative, guessed positive:\n",
            "When I was engaged, my fiance and I would frequent the adult bookstores. He would look for his favorite mags, and on occasion a video that caught the eye. As much as I enjoyed the one-on-one with him that the media caused, there was never a video that I really enjoyed. I had seen only one other movie way back when there was a satellite channel called XXX (it dealt with a private eye unraveling a case) that actually had a proper plot and was enjoyable. All the others were grunting and puffing and blowing and whatnot. There's only so many times you can watch a blonde bimbo faking 'it'. This movie caught my eye, and I migrated to it, allowing him to wander the shop. He noticed (how hard was it not too? grins. I was actually interested in something, lol(!) in the video section!) and came over, buying the slightly used copy for me. We took it home and I loved it. Here was a \"Porno\" with a plot. I wasn't sure it even classified as porno, but I use the word loosely. The librarian was a character I could identify with. Alice rejected her boyfriend's advances. She was not comfortable with her own sexuality and prudish in her comments. Bill went away, and she continued to check in books. The White Rabbit ran through the library (one book, if you notice closely, I believe (it's been ten years since I saw the movie) was by Lewis C.) and Alice, for that same reason that propels teenagers to run into the woods when a chainsaw wielding maniac is behind them rather than towards populated areas, follows. It's the best way to get the plot forward. Alice finds herself in Wonderland. I barely recall all the details, but I do remember clearly the swim in the lake, and how she was \"dried\" off. I liked how they got Humpty Dumpty Up again, the Mad Hatter's size of member being on his hat to wear it proudly, and the brother sister team of Dum and Dee (which did disturb me slightly--then again, they could have been husband wife, but I never could tell no matter how many times I watched it). The woman on the knight who told Alice go away and find your own Knight (What's a A Nice Girl Like You Doing on a Knight Like This?). The part that really caught my attention when I watched it about a year or so later was one of the cards (3 of hearts, I think) who resembled my ex's current wife exactly! We couldn't help but tease her about being in the movie! The King of Hearts was interesting, and the Queen was even more so. Due to the openness of the forum, I can't go into details, just say it was \"orgy\" based and we'll leave it at that! When we split up, I was allowed to take the video--he knew I liked it--but in the time since it's been lost in borrowing. Someday I'll find another copy. Btw, if anyone could tell me offlist what scene was cut from the Amazon version, I'd really appreciate it. I heartily recommend this movie for the over 18 crowd. It was soft, sweet, and really 70's, but I liked it immensely. ***** out of 5. D.\n"
          ]
        }
      ]
    },
    {
      "cell_type": "markdown",
      "source": [
        "We can see that the model guessed wrongly on inputs 1 and 5 of the test dataset.\n",
        "\n",
        "After analysis, it seems that theses inputs contains words that the model probably uses to determine whether or not an input is positive:\n",
        "\n",
        "In input 1, the input is 'positive' but the model guessed 'negative'.\n",
        "This is probably because the following negative words are present in it:\n",
        "- cliché\n",
        "- not-so-popular\n",
        "- tragic\n",
        "- disappointed\n",
        "\n",
        "We can also notice that the first two sentences are obviously negative, which is probably a good part of why the model guessed wrongly.\n",
        "\n",
        "In input 2, the input is 'negative' but the model guessed 'positive'.\n",
        "This is probably because the following negative words are present in it:\n",
        "- I agree\n",
        "- his best sound film\n",
        "- This is a Must-See film!\n",
        "\n",
        "The last sentence, 'This is a Must-See film!', is probably what got the model to guess wrongly."
      ],
      "metadata": {
        "id": "iW7yzviQgi7p"
      },
      "id": "iW7yzviQgi7p"
    }
  ],
  "metadata": {
    "kernelspec": {
      "display_name": "Python 3",
      "name": "python3"
    },
    "language_info": {
      "name": "python"
    },
    "colab": {
      "provenance": [],
      "collapsed_sections": []
    },
    "gpuClass": "standard",
    "widgets": {
      "application/vnd.jupyter.widget-state+json": {
        "d7d8b416aa2c4b5b9ddc7e2d344dbc15": {
          "model_module": "@jupyter-widgets/controls",
          "model_name": "HBoxModel",
          "model_module_version": "1.5.0",
          "state": {
            "_dom_classes": [],
            "_model_module": "@jupyter-widgets/controls",
            "_model_module_version": "1.5.0",
            "_model_name": "HBoxModel",
            "_view_count": null,
            "_view_module": "@jupyter-widgets/controls",
            "_view_module_version": "1.5.0",
            "_view_name": "HBoxView",
            "box_style": "",
            "children": [
              "IPY_MODEL_e7a6b4b398444c98bc93e300daed4b1f",
              "IPY_MODEL_7b06b1af635a41ef81bef5faf5847c43",
              "IPY_MODEL_7e826a9037c94dc8b6681dc56e73eb6d"
            ],
            "layout": "IPY_MODEL_e6cb7d759ed943cea6fee419dc73f55a"
          }
        },
        "e7a6b4b398444c98bc93e300daed4b1f": {
          "model_module": "@jupyter-widgets/controls",
          "model_name": "HTMLModel",
          "model_module_version": "1.5.0",
          "state": {
            "_dom_classes": [],
            "_model_module": "@jupyter-widgets/controls",
            "_model_module_version": "1.5.0",
            "_model_name": "HTMLModel",
            "_view_count": null,
            "_view_module": "@jupyter-widgets/controls",
            "_view_module_version": "1.5.0",
            "_view_name": "HTMLView",
            "description": "",
            "description_tooltip": null,
            "layout": "IPY_MODEL_5f089fc192b74c53bb5463423fc6b012",
            "placeholder": "​",
            "style": "IPY_MODEL_9b87dd25af3d4841a3bca54722561db1",
            "value": "100%"
          }
        },
        "7b06b1af635a41ef81bef5faf5847c43": {
          "model_module": "@jupyter-widgets/controls",
          "model_name": "FloatProgressModel",
          "model_module_version": "1.5.0",
          "state": {
            "_dom_classes": [],
            "_model_module": "@jupyter-widgets/controls",
            "_model_module_version": "1.5.0",
            "_model_name": "FloatProgressModel",
            "_view_count": null,
            "_view_module": "@jupyter-widgets/controls",
            "_view_module_version": "1.5.0",
            "_view_name": "ProgressView",
            "bar_style": "success",
            "description": "",
            "description_tooltip": null,
            "layout": "IPY_MODEL_7f7bd09f41a2469eaa9079e0d1319f1a",
            "max": 3,
            "min": 0,
            "orientation": "horizontal",
            "style": "IPY_MODEL_d792e048d19949b1b83d1c5bcb33f531",
            "value": 3
          }
        },
        "7e826a9037c94dc8b6681dc56e73eb6d": {
          "model_module": "@jupyter-widgets/controls",
          "model_name": "HTMLModel",
          "model_module_version": "1.5.0",
          "state": {
            "_dom_classes": [],
            "_model_module": "@jupyter-widgets/controls",
            "_model_module_version": "1.5.0",
            "_model_name": "HTMLModel",
            "_view_count": null,
            "_view_module": "@jupyter-widgets/controls",
            "_view_module_version": "1.5.0",
            "_view_name": "HTMLView",
            "description": "",
            "description_tooltip": null,
            "layout": "IPY_MODEL_ece16605f16542b59df5963d04da3549",
            "placeholder": "​",
            "style": "IPY_MODEL_40303fd0345147d9956531f9b128d2ba",
            "value": " 3/3 [00:00&lt;00:00,  9.53it/s]"
          }
        },
        "e6cb7d759ed943cea6fee419dc73f55a": {
          "model_module": "@jupyter-widgets/base",
          "model_name": "LayoutModel",
          "model_module_version": "1.2.0",
          "state": {
            "_model_module": "@jupyter-widgets/base",
            "_model_module_version": "1.2.0",
            "_model_name": "LayoutModel",
            "_view_count": null,
            "_view_module": "@jupyter-widgets/base",
            "_view_module_version": "1.2.0",
            "_view_name": "LayoutView",
            "align_content": null,
            "align_items": null,
            "align_self": null,
            "border": null,
            "bottom": null,
            "display": null,
            "flex": null,
            "flex_flow": null,
            "grid_area": null,
            "grid_auto_columns": null,
            "grid_auto_flow": null,
            "grid_auto_rows": null,
            "grid_column": null,
            "grid_gap": null,
            "grid_row": null,
            "grid_template_areas": null,
            "grid_template_columns": null,
            "grid_template_rows": null,
            "height": null,
            "justify_content": null,
            "justify_items": null,
            "left": null,
            "margin": null,
            "max_height": null,
            "max_width": null,
            "min_height": null,
            "min_width": null,
            "object_fit": null,
            "object_position": null,
            "order": null,
            "overflow": null,
            "overflow_x": null,
            "overflow_y": null,
            "padding": null,
            "right": null,
            "top": null,
            "visibility": null,
            "width": null
          }
        },
        "5f089fc192b74c53bb5463423fc6b012": {
          "model_module": "@jupyter-widgets/base",
          "model_name": "LayoutModel",
          "model_module_version": "1.2.0",
          "state": {
            "_model_module": "@jupyter-widgets/base",
            "_model_module_version": "1.2.0",
            "_model_name": "LayoutModel",
            "_view_count": null,
            "_view_module": "@jupyter-widgets/base",
            "_view_module_version": "1.2.0",
            "_view_name": "LayoutView",
            "align_content": null,
            "align_items": null,
            "align_self": null,
            "border": null,
            "bottom": null,
            "display": null,
            "flex": null,
            "flex_flow": null,
            "grid_area": null,
            "grid_auto_columns": null,
            "grid_auto_flow": null,
            "grid_auto_rows": null,
            "grid_column": null,
            "grid_gap": null,
            "grid_row": null,
            "grid_template_areas": null,
            "grid_template_columns": null,
            "grid_template_rows": null,
            "height": null,
            "justify_content": null,
            "justify_items": null,
            "left": null,
            "margin": null,
            "max_height": null,
            "max_width": null,
            "min_height": null,
            "min_width": null,
            "object_fit": null,
            "object_position": null,
            "order": null,
            "overflow": null,
            "overflow_x": null,
            "overflow_y": null,
            "padding": null,
            "right": null,
            "top": null,
            "visibility": null,
            "width": null
          }
        },
        "9b87dd25af3d4841a3bca54722561db1": {
          "model_module": "@jupyter-widgets/controls",
          "model_name": "DescriptionStyleModel",
          "model_module_version": "1.5.0",
          "state": {
            "_model_module": "@jupyter-widgets/controls",
            "_model_module_version": "1.5.0",
            "_model_name": "DescriptionStyleModel",
            "_view_count": null,
            "_view_module": "@jupyter-widgets/base",
            "_view_module_version": "1.2.0",
            "_view_name": "StyleView",
            "description_width": ""
          }
        },
        "7f7bd09f41a2469eaa9079e0d1319f1a": {
          "model_module": "@jupyter-widgets/base",
          "model_name": "LayoutModel",
          "model_module_version": "1.2.0",
          "state": {
            "_model_module": "@jupyter-widgets/base",
            "_model_module_version": "1.2.0",
            "_model_name": "LayoutModel",
            "_view_count": null,
            "_view_module": "@jupyter-widgets/base",
            "_view_module_version": "1.2.0",
            "_view_name": "LayoutView",
            "align_content": null,
            "align_items": null,
            "align_self": null,
            "border": null,
            "bottom": null,
            "display": null,
            "flex": null,
            "flex_flow": null,
            "grid_area": null,
            "grid_auto_columns": null,
            "grid_auto_flow": null,
            "grid_auto_rows": null,
            "grid_column": null,
            "grid_gap": null,
            "grid_row": null,
            "grid_template_areas": null,
            "grid_template_columns": null,
            "grid_template_rows": null,
            "height": null,
            "justify_content": null,
            "justify_items": null,
            "left": null,
            "margin": null,
            "max_height": null,
            "max_width": null,
            "min_height": null,
            "min_width": null,
            "object_fit": null,
            "object_position": null,
            "order": null,
            "overflow": null,
            "overflow_x": null,
            "overflow_y": null,
            "padding": null,
            "right": null,
            "top": null,
            "visibility": null,
            "width": null
          }
        },
        "d792e048d19949b1b83d1c5bcb33f531": {
          "model_module": "@jupyter-widgets/controls",
          "model_name": "ProgressStyleModel",
          "model_module_version": "1.5.0",
          "state": {
            "_model_module": "@jupyter-widgets/controls",
            "_model_module_version": "1.5.0",
            "_model_name": "ProgressStyleModel",
            "_view_count": null,
            "_view_module": "@jupyter-widgets/base",
            "_view_module_version": "1.2.0",
            "_view_name": "StyleView",
            "bar_color": null,
            "description_width": ""
          }
        },
        "ece16605f16542b59df5963d04da3549": {
          "model_module": "@jupyter-widgets/base",
          "model_name": "LayoutModel",
          "model_module_version": "1.2.0",
          "state": {
            "_model_module": "@jupyter-widgets/base",
            "_model_module_version": "1.2.0",
            "_model_name": "LayoutModel",
            "_view_count": null,
            "_view_module": "@jupyter-widgets/base",
            "_view_module_version": "1.2.0",
            "_view_name": "LayoutView",
            "align_content": null,
            "align_items": null,
            "align_self": null,
            "border": null,
            "bottom": null,
            "display": null,
            "flex": null,
            "flex_flow": null,
            "grid_area": null,
            "grid_auto_columns": null,
            "grid_auto_flow": null,
            "grid_auto_rows": null,
            "grid_column": null,
            "grid_gap": null,
            "grid_row": null,
            "grid_template_areas": null,
            "grid_template_columns": null,
            "grid_template_rows": null,
            "height": null,
            "justify_content": null,
            "justify_items": null,
            "left": null,
            "margin": null,
            "max_height": null,
            "max_width": null,
            "min_height": null,
            "min_width": null,
            "object_fit": null,
            "object_position": null,
            "order": null,
            "overflow": null,
            "overflow_x": null,
            "overflow_y": null,
            "padding": null,
            "right": null,
            "top": null,
            "visibility": null,
            "width": null
          }
        },
        "40303fd0345147d9956531f9b128d2ba": {
          "model_module": "@jupyter-widgets/controls",
          "model_name": "DescriptionStyleModel",
          "model_module_version": "1.5.0",
          "state": {
            "_model_module": "@jupyter-widgets/controls",
            "_model_module_version": "1.5.0",
            "_model_name": "DescriptionStyleModel",
            "_view_count": null,
            "_view_module": "@jupyter-widgets/base",
            "_view_module_version": "1.2.0",
            "_view_name": "StyleView",
            "description_width": ""
          }
        }
      }
    }
  },
  "nbformat": 4,
  "nbformat_minor": 5
}