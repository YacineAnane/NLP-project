{
  "cells": [
    {
      "cell_type": "markdown",
      "id": "5fde6883",
      "metadata": {
        "id": "5fde6883"
      },
      "source": [
        "# The dataset\n",
        "\n",
        "The IMDB sentiment dataset is a collection of 50K movie reviews, annotated as positive or negative, and split in two sets of equal size: a training and a test set. Both set have an equal number of positive and negative review. The dataset is available on several libraries, but we ask that you use the HuggingFace [datasets](https://huggingface.co/datasets/imdb) version. Follow their [tutorial](https://huggingface.co/docs/datasets/load_hub) on how to use the library for more details.\n",
        "\n",
        "Download and look at the dataset, and answer the following questions.\n",
        "1. How many splits does the dataset has? (1 point)\n",
        "2. How big are these splits? (1 point)\n",
        "3. What is the proportion of each class on the supervised splits? (1 point)"
      ]
    },
    {
      "cell_type": "markdown",
      "source": [
        "## Installation and import of necessary librairies\n"
      ],
      "metadata": {
        "id": "O92eSkgEAx2d"
      },
      "id": "O92eSkgEAx2d"
    },
    {
      "cell_type": "code",
      "source": [
        "!pip install datasets"
      ],
      "metadata": {
        "colab": {
          "base_uri": "https://localhost:8080/"
        },
        "id": "Ssy4mPR54HYx",
        "outputId": "92906c73-e630-4aa4-a61c-1c7cf59ed328"
      },
      "id": "Ssy4mPR54HYx",
      "execution_count": 1,
      "outputs": [
        {
          "output_type": "stream",
          "name": "stdout",
          "text": [
            "Looking in indexes: https://pypi.org/simple, https://us-python.pkg.dev/colab-wheels/public/simple/\n",
            "Requirement already satisfied: datasets in /usr/local/lib/python3.7/dist-packages (2.5.2)\n",
            "Requirement already satisfied: pyarrow>=6.0.0 in /usr/local/lib/python3.7/dist-packages (from datasets) (6.0.1)\n",
            "Requirement already satisfied: responses<0.19 in /usr/local/lib/python3.7/dist-packages (from datasets) (0.18.0)\n",
            "Requirement already satisfied: pandas in /usr/local/lib/python3.7/dist-packages (from datasets) (1.3.5)\n",
            "Requirement already satisfied: requests>=2.19.0 in /usr/local/lib/python3.7/dist-packages (from datasets) (2.23.0)\n",
            "Requirement already satisfied: packaging in /usr/local/lib/python3.7/dist-packages (from datasets) (21.3)\n",
            "Requirement already satisfied: dill<0.3.6 in /usr/local/lib/python3.7/dist-packages (from datasets) (0.3.5.1)\n",
            "Requirement already satisfied: aiohttp in /usr/local/lib/python3.7/dist-packages (from datasets) (3.8.3)\n",
            "Requirement already satisfied: numpy>=1.17 in /usr/local/lib/python3.7/dist-packages (from datasets) (1.21.6)\n",
            "Requirement already satisfied: tqdm>=4.62.1 in /usr/local/lib/python3.7/dist-packages (from datasets) (4.64.1)\n",
            "Requirement already satisfied: importlib-metadata in /usr/local/lib/python3.7/dist-packages (from datasets) (5.0.0)\n",
            "Requirement already satisfied: huggingface-hub<1.0.0,>=0.2.0 in /usr/local/lib/python3.7/dist-packages (from datasets) (0.10.1)\n",
            "Requirement already satisfied: fsspec[http]>=2021.11.1 in /usr/local/lib/python3.7/dist-packages (from datasets) (2022.8.2)\n",
            "Requirement already satisfied: multiprocess in /usr/local/lib/python3.7/dist-packages (from datasets) (0.70.13)\n",
            "Requirement already satisfied: xxhash in /usr/local/lib/python3.7/dist-packages (from datasets) (3.0.0)\n",
            "Requirement already satisfied: async-timeout<5.0,>=4.0.0a3 in /usr/local/lib/python3.7/dist-packages (from aiohttp->datasets) (4.0.2)\n",
            "Requirement already satisfied: frozenlist>=1.1.1 in /usr/local/lib/python3.7/dist-packages (from aiohttp->datasets) (1.3.1)\n",
            "Requirement already satisfied: aiosignal>=1.1.2 in /usr/local/lib/python3.7/dist-packages (from aiohttp->datasets) (1.2.0)\n",
            "Requirement already satisfied: typing-extensions>=3.7.4 in /usr/local/lib/python3.7/dist-packages (from aiohttp->datasets) (4.1.1)\n",
            "Requirement already satisfied: yarl<2.0,>=1.0 in /usr/local/lib/python3.7/dist-packages (from aiohttp->datasets) (1.8.1)\n",
            "Requirement already satisfied: multidict<7.0,>=4.5 in /usr/local/lib/python3.7/dist-packages (from aiohttp->datasets) (6.0.2)\n",
            "Requirement already satisfied: attrs>=17.3.0 in /usr/local/lib/python3.7/dist-packages (from aiohttp->datasets) (22.1.0)\n",
            "Requirement already satisfied: asynctest==0.13.0 in /usr/local/lib/python3.7/dist-packages (from aiohttp->datasets) (0.13.0)\n",
            "Requirement already satisfied: charset-normalizer<3.0,>=2.0 in /usr/local/lib/python3.7/dist-packages (from aiohttp->datasets) (2.1.1)\n",
            "Requirement already satisfied: pyyaml>=5.1 in /usr/local/lib/python3.7/dist-packages (from huggingface-hub<1.0.0,>=0.2.0->datasets) (6.0)\n",
            "Requirement already satisfied: filelock in /usr/local/lib/python3.7/dist-packages (from huggingface-hub<1.0.0,>=0.2.0->datasets) (3.8.0)\n",
            "Requirement already satisfied: pyparsing!=3.0.5,>=2.0.2 in /usr/local/lib/python3.7/dist-packages (from packaging->datasets) (3.0.9)\n",
            "Requirement already satisfied: idna<3,>=2.5 in /usr/local/lib/python3.7/dist-packages (from requests>=2.19.0->datasets) (2.10)\n",
            "Requirement already satisfied: certifi>=2017.4.17 in /usr/local/lib/python3.7/dist-packages (from requests>=2.19.0->datasets) (2022.9.24)\n",
            "Requirement already satisfied: urllib3!=1.25.0,!=1.25.1,<1.26,>=1.21.1 in /usr/local/lib/python3.7/dist-packages (from requests>=2.19.0->datasets) (1.25.11)\n",
            "Requirement already satisfied: chardet<4,>=3.0.2 in /usr/local/lib/python3.7/dist-packages (from requests>=2.19.0->datasets) (3.0.4)\n",
            "Requirement already satisfied: zipp>=0.5 in /usr/local/lib/python3.7/dist-packages (from importlib-metadata->datasets) (3.8.1)\n",
            "Requirement already satisfied: pytz>=2017.3 in /usr/local/lib/python3.7/dist-packages (from pandas->datasets) (2022.4)\n",
            "Requirement already satisfied: python-dateutil>=2.7.3 in /usr/local/lib/python3.7/dist-packages (from pandas->datasets) (2.8.2)\n",
            "Requirement already satisfied: six>=1.5 in /usr/local/lib/python3.7/dist-packages (from python-dateutil>=2.7.3->pandas->datasets) (1.15.0)\n"
          ]
        }
      ]
    },
    {
      "cell_type": "code",
      "source": [
        "!pip install fasttext"
      ],
      "metadata": {
        "colab": {
          "base_uri": "https://localhost:8080/"
        },
        "id": "RpJZVqzJVkwT",
        "outputId": "b8c47bd1-22ae-4c6e-9287-f0c39159194f"
      },
      "id": "RpJZVqzJVkwT",
      "execution_count": 2,
      "outputs": [
        {
          "output_type": "stream",
          "name": "stdout",
          "text": [
            "Looking in indexes: https://pypi.org/simple, https://us-python.pkg.dev/colab-wheels/public/simple/\n",
            "Requirement already satisfied: fasttext in /usr/local/lib/python3.7/dist-packages (0.9.2)\n",
            "Requirement already satisfied: setuptools>=0.7.0 in /usr/local/lib/python3.7/dist-packages (from fasttext) (57.4.0)\n",
            "Requirement already satisfied: pybind11>=2.2 in /usr/local/lib/python3.7/dist-packages (from fasttext) (2.10.0)\n",
            "Requirement already satisfied: numpy in /usr/local/lib/python3.7/dist-packages (from fasttext) (1.21.6)\n"
          ]
        }
      ]
    },
    {
      "cell_type": "code",
      "source": [
        "!python -m spacy download en_core_web_sm"
      ],
      "metadata": {
        "colab": {
          "base_uri": "https://localhost:8080/"
        },
        "id": "-fnTKz_P3ekZ",
        "outputId": "71dd59de-e630-42f6-8ed1-0db867310733"
      },
      "id": "-fnTKz_P3ekZ",
      "execution_count": 3,
      "outputs": [
        {
          "output_type": "stream",
          "name": "stdout",
          "text": [
            "2022-10-11 14:23:27.492906: E tensorflow/stream_executor/cuda/cuda_driver.cc:271] failed call to cuInit: CUDA_ERROR_NO_DEVICE: no CUDA-capable device is detected\n",
            "Looking in indexes: https://pypi.org/simple, https://us-python.pkg.dev/colab-wheels/public/simple/\n",
            "Collecting en-core-web-sm==3.4.0\n",
            "  Downloading https://github.com/explosion/spacy-models/releases/download/en_core_web_sm-3.4.0/en_core_web_sm-3.4.0-py3-none-any.whl (12.8 MB)\n",
            "\u001b[K     |████████████████████████████████| 12.8 MB 2.1 MB/s \n",
            "\u001b[?25hRequirement already satisfied: spacy<3.5.0,>=3.4.0 in /usr/local/lib/python3.7/dist-packages (from en-core-web-sm==3.4.0) (3.4.1)\n",
            "Requirement already satisfied: langcodes<4.0.0,>=3.2.0 in /usr/local/lib/python3.7/dist-packages (from spacy<3.5.0,>=3.4.0->en-core-web-sm==3.4.0) (3.3.0)\n",
            "Requirement already satisfied: catalogue<2.1.0,>=2.0.6 in /usr/local/lib/python3.7/dist-packages (from spacy<3.5.0,>=3.4.0->en-core-web-sm==3.4.0) (2.0.8)\n",
            "Requirement already satisfied: pydantic!=1.8,!=1.8.1,<1.10.0,>=1.7.4 in /usr/local/lib/python3.7/dist-packages (from spacy<3.5.0,>=3.4.0->en-core-web-sm==3.4.0) (1.9.2)\n",
            "Requirement already satisfied: tqdm<5.0.0,>=4.38.0 in /usr/local/lib/python3.7/dist-packages (from spacy<3.5.0,>=3.4.0->en-core-web-sm==3.4.0) (4.64.1)\n",
            "Requirement already satisfied: wasabi<1.1.0,>=0.9.1 in /usr/local/lib/python3.7/dist-packages (from spacy<3.5.0,>=3.4.0->en-core-web-sm==3.4.0) (0.10.1)\n",
            "Requirement already satisfied: jinja2 in /usr/local/lib/python3.7/dist-packages (from spacy<3.5.0,>=3.4.0->en-core-web-sm==3.4.0) (2.11.3)\n",
            "Requirement already satisfied: murmurhash<1.1.0,>=0.28.0 in /usr/local/lib/python3.7/dist-packages (from spacy<3.5.0,>=3.4.0->en-core-web-sm==3.4.0) (1.0.8)\n",
            "Requirement already satisfied: thinc<8.2.0,>=8.1.0 in /usr/local/lib/python3.7/dist-packages (from spacy<3.5.0,>=3.4.0->en-core-web-sm==3.4.0) (8.1.2)\n",
            "Requirement already satisfied: requests<3.0.0,>=2.13.0 in /usr/local/lib/python3.7/dist-packages (from spacy<3.5.0,>=3.4.0->en-core-web-sm==3.4.0) (2.23.0)\n",
            "Requirement already satisfied: preshed<3.1.0,>=3.0.2 in /usr/local/lib/python3.7/dist-packages (from spacy<3.5.0,>=3.4.0->en-core-web-sm==3.4.0) (3.0.7)\n",
            "Requirement already satisfied: srsly<3.0.0,>=2.4.3 in /usr/local/lib/python3.7/dist-packages (from spacy<3.5.0,>=3.4.0->en-core-web-sm==3.4.0) (2.4.4)\n",
            "Requirement already satisfied: cymem<2.1.0,>=2.0.2 in /usr/local/lib/python3.7/dist-packages (from spacy<3.5.0,>=3.4.0->en-core-web-sm==3.4.0) (2.0.6)\n",
            "Requirement already satisfied: spacy-legacy<3.1.0,>=3.0.9 in /usr/local/lib/python3.7/dist-packages (from spacy<3.5.0,>=3.4.0->en-core-web-sm==3.4.0) (3.0.10)\n",
            "Requirement already satisfied: numpy>=1.15.0 in /usr/local/lib/python3.7/dist-packages (from spacy<3.5.0,>=3.4.0->en-core-web-sm==3.4.0) (1.21.6)\n",
            "Requirement already satisfied: typer<0.5.0,>=0.3.0 in /usr/local/lib/python3.7/dist-packages (from spacy<3.5.0,>=3.4.0->en-core-web-sm==3.4.0) (0.4.2)\n",
            "Requirement already satisfied: typing-extensions<4.2.0,>=3.7.4 in /usr/local/lib/python3.7/dist-packages (from spacy<3.5.0,>=3.4.0->en-core-web-sm==3.4.0) (4.1.1)\n",
            "Requirement already satisfied: setuptools in /usr/local/lib/python3.7/dist-packages (from spacy<3.5.0,>=3.4.0->en-core-web-sm==3.4.0) (57.4.0)\n",
            "Requirement already satisfied: packaging>=20.0 in /usr/local/lib/python3.7/dist-packages (from spacy<3.5.0,>=3.4.0->en-core-web-sm==3.4.0) (21.3)\n",
            "Requirement already satisfied: pathy>=0.3.5 in /usr/local/lib/python3.7/dist-packages (from spacy<3.5.0,>=3.4.0->en-core-web-sm==3.4.0) (0.6.2)\n",
            "Requirement already satisfied: spacy-loggers<2.0.0,>=1.0.0 in /usr/local/lib/python3.7/dist-packages (from spacy<3.5.0,>=3.4.0->en-core-web-sm==3.4.0) (1.0.3)\n",
            "Requirement already satisfied: zipp>=0.5 in /usr/local/lib/python3.7/dist-packages (from catalogue<2.1.0,>=2.0.6->spacy<3.5.0,>=3.4.0->en-core-web-sm==3.4.0) (3.8.1)\n",
            "Requirement already satisfied: pyparsing!=3.0.5,>=2.0.2 in /usr/local/lib/python3.7/dist-packages (from packaging>=20.0->spacy<3.5.0,>=3.4.0->en-core-web-sm==3.4.0) (3.0.9)\n",
            "Requirement already satisfied: smart-open<6.0.0,>=5.2.1 in /usr/local/lib/python3.7/dist-packages (from pathy>=0.3.5->spacy<3.5.0,>=3.4.0->en-core-web-sm==3.4.0) (5.2.1)\n",
            "Requirement already satisfied: idna<3,>=2.5 in /usr/local/lib/python3.7/dist-packages (from requests<3.0.0,>=2.13.0->spacy<3.5.0,>=3.4.0->en-core-web-sm==3.4.0) (2.10)\n",
            "Requirement already satisfied: urllib3!=1.25.0,!=1.25.1,<1.26,>=1.21.1 in /usr/local/lib/python3.7/dist-packages (from requests<3.0.0,>=2.13.0->spacy<3.5.0,>=3.4.0->en-core-web-sm==3.4.0) (1.25.11)\n",
            "Requirement already satisfied: chardet<4,>=3.0.2 in /usr/local/lib/python3.7/dist-packages (from requests<3.0.0,>=2.13.0->spacy<3.5.0,>=3.4.0->en-core-web-sm==3.4.0) (3.0.4)\n",
            "Requirement already satisfied: certifi>=2017.4.17 in /usr/local/lib/python3.7/dist-packages (from requests<3.0.0,>=2.13.0->spacy<3.5.0,>=3.4.0->en-core-web-sm==3.4.0) (2022.9.24)\n",
            "Requirement already satisfied: blis<0.8.0,>=0.7.8 in /usr/local/lib/python3.7/dist-packages (from thinc<8.2.0,>=8.1.0->spacy<3.5.0,>=3.4.0->en-core-web-sm==3.4.0) (0.7.8)\n",
            "Requirement already satisfied: confection<1.0.0,>=0.0.1 in /usr/local/lib/python3.7/dist-packages (from thinc<8.2.0,>=8.1.0->spacy<3.5.0,>=3.4.0->en-core-web-sm==3.4.0) (0.0.2)\n",
            "Requirement already satisfied: click<9.0.0,>=7.1.1 in /usr/local/lib/python3.7/dist-packages (from typer<0.5.0,>=0.3.0->spacy<3.5.0,>=3.4.0->en-core-web-sm==3.4.0) (7.1.2)\n",
            "Requirement already satisfied: MarkupSafe>=0.23 in /usr/local/lib/python3.7/dist-packages (from jinja2->spacy<3.5.0,>=3.4.0->en-core-web-sm==3.4.0) (2.0.1)\n",
            "\u001b[38;5;2m✔ Download and installation successful\u001b[0m\n",
            "You can now load the package via spacy.load('en_core_web_sm')\n"
          ]
        }
      ]
    },
    {
      "cell_type": "code",
      "execution_count": 4,
      "id": "bf3a7873",
      "metadata": {
        "colab": {
          "base_uri": "https://localhost:8080/",
          "height": 138,
          "referenced_widgets": [
            "d03628cf313f47b1a2c2791e4edc22b8",
            "4f8522c339254c96b15b2f864a643fd7",
            "125303c346534262aa3da022d766e18a",
            "db9c3886772d4f61b6b2210970e2c782",
            "9417cc6f38b341ee8caf095c36e7d5e3",
            "7f21d04accb74416955fc56b6cc05d65",
            "a707a905ede148bbb3363b561e4719e4",
            "648d0b8f14db4dec81df06c4427823a3",
            "e35fae4d343844198703b9c8905cd2da",
            "ba2544af8c874c99bf6882a35d5ec262",
            "5249fea31f79473f9f2087deab7c6e83"
          ]
        },
        "id": "bf3a7873",
        "outputId": "84dc4eea-e296-4624-85c5-a7ddb21d7c7c"
      },
      "outputs": [
        {
          "output_type": "stream",
          "name": "stdout",
          "text": [
            "Large Movie Review Dataset.\n",
            "This is a dataset for binary sentiment classification containing substantially more data than previous benchmark datasets. We provide a set of 25,000 highly polar movie reviews for training, and 25,000 for testing. There is additional unlabeled data for use as well.\n",
            "{'text': Value(dtype='string', id=None), 'label': ClassLabel(num_classes=2, names=['neg', 'pos'], id=None)}\n"
          ]
        },
        {
          "output_type": "stream",
          "name": "stderr",
          "text": [
            "WARNING:datasets.builder:Found cached dataset imdb (/root/.cache/huggingface/datasets/imdb/plain_text/1.0.0/2fdd8b9bcadd6e7055e742a706876ba43f19faee861df134affd7a3f60fc38a1)\n"
          ]
        },
        {
          "output_type": "display_data",
          "data": {
            "text/plain": [
              "  0%|          | 0/3 [00:00<?, ?it/s]"
            ],
            "application/vnd.jupyter.widget-view+json": {
              "version_major": 2,
              "version_minor": 0,
              "model_id": "d03628cf313f47b1a2c2791e4edc22b8"
            }
          },
          "metadata": {}
        }
      ],
      "source": [
        "from datasets import load_dataset_builder\n",
        "from datasets import load_dataset\n",
        "import pandas as pd\n",
        "import numpy as np\n",
        "\n",
        "import nltk\n",
        "from nltk.stem.snowball import SnowballStemmer\n",
        "from nltk.tokenize import word_tokenize \n",
        "import re\n",
        "import spacy\n",
        "\n",
        "from sklearn.feature_extraction.text import CountVectorizer\n",
        "from sklearn.model_selection import train_test_split\n",
        "from sklearn.naive_bayes import MultinomialNB\n",
        "from sklearn.metrics import accuracy_score\n",
        "from sklearn.metrics import classification_report\n",
        "from sklearn.metrics import f1_score\n",
        "from sklearn.pipeline import Pipeline\n",
        "\n",
        "database_name = \"imdb\"\n",
        "ds_builder = load_dataset_builder(database_name)\n",
        "print(ds_builder.info.description)\n",
        "print(ds_builder.info.features)\n",
        "\n",
        "dataset = load_dataset(database_name)\n",
        "\n",
        "from datasets import get_dataset_split_names\n",
        "import fasttext"
      ]
    },
    {
      "cell_type": "code",
      "source": [
        "# Import of our file with usefull functions\n",
        "%load utility_functions.py\n",
        "import sys\n",
        "sys.path.append(\"../tools/\")\n",
        "import utility_functions"
      ],
      "metadata": {
        "colab": {
          "base_uri": "https://localhost:8080/"
        },
        "id": "OHiAldIMUPJF",
        "outputId": "b04c7d2f-0520-48fb-d2d0-57779cd85e2e"
      },
      "id": "OHiAldIMUPJF",
      "execution_count": 5,
      "outputs": [
        {
          "output_type": "stream",
          "name": "stderr",
          "text": [
            "[nltk_data] Downloading package punkt to /root/nltk_data...\n",
            "[nltk_data]   Package punkt is already up-to-date!\n"
          ]
        }
      ]
    },
    {
      "cell_type": "markdown",
      "source": [
        "## The dataset"
      ],
      "metadata": {
        "id": "nCJJhX1sA9H4"
      },
      "id": "nCJJhX1sA9H4"
    },
    {
      "cell_type": "markdown",
      "source": [
        "Now that we installed all the necessary librairies, let's have a look on our data."
      ],
      "metadata": {
        "id": "04SJY4MsBNLH"
      },
      "id": "04SJY4MsBNLH"
    },
    {
      "cell_type": "code",
      "execution_count": 6,
      "id": "004e5408",
      "metadata": {
        "colab": {
          "base_uri": "https://localhost:8080/"
        },
        "id": "004e5408",
        "outputId": "02e68418-2c5e-44e7-8f7b-c67ef73d6a59"
      },
      "outputs": [
        {
          "output_type": "stream",
          "name": "stdout",
          "text": [
            "Split names ['train', 'test', 'unsupervised']\n"
          ]
        },
        {
          "output_type": "execute_result",
          "data": {
            "text/plain": [
              "DatasetDict({\n",
              "    train: Dataset({\n",
              "        features: ['text', 'label'],\n",
              "        num_rows: 25000\n",
              "    })\n",
              "    test: Dataset({\n",
              "        features: ['text', 'label'],\n",
              "        num_rows: 25000\n",
              "    })\n",
              "    unsupervised: Dataset({\n",
              "        features: ['text', 'label'],\n",
              "        num_rows: 50000\n",
              "    })\n",
              "})"
            ]
          },
          "metadata": {},
          "execution_count": 6
        }
      ],
      "source": [
        "print(\"Split names\", get_dataset_split_names(database_name))\n",
        "dataset"
      ]
    },
    {
      "cell_type": "markdown",
      "id": "c656680a",
      "metadata": {
        "id": "c656680a"
      },
      "source": [
        "We can see that this database has 3 splits. The \"train\" and \"test\" splits have 25000 rows each and the unsupervised split has 50000 rows.\n",
        "\n",
        "As here we are only going to do supervised learning, we will only have two datasets : train and test."
      ]
    },
    {
      "cell_type": "code",
      "execution_count": 7,
      "id": "efdd18ae",
      "metadata": {
        "colab": {
          "base_uri": "https://localhost:8080/"
        },
        "id": "efdd18ae",
        "outputId": "610d043f-784b-4c87-96e2-2c8994b92d9e"
      },
      "outputs": [
        {
          "output_type": "stream",
          "name": "stdout",
          "text": [
            "Test values count : 25000\n",
            "0    12500\n",
            "1    12500\n",
            "Name: label, dtype: int64\n",
            "Train values count : 25000\n",
            "0    12500\n",
            "1    12500\n",
            "Name: label, dtype: int64\n"
          ]
        }
      ],
      "source": [
        "# To start we are going to split our datasets into 3 differents datasets\n",
        "train = dataset[\"train\"].to_pandas()\n",
        "test = dataset[\"test\"].to_pandas()\n",
        "\n",
        "# Then we will have a look on the \n",
        "print(\"Test values count : {0}\".format(len(test)))\n",
        "print(test[\"label\"].value_counts())\n",
        "print(\"Train values count : {0}\".format(len(train)))\n",
        "print(train[\"label\"].value_counts())"
      ]
    },
    {
      "cell_type": "markdown",
      "source": [
        "As we can also see it here, we have an equal amount of each different label (0 and 1) in our datasets."
      ],
      "metadata": {
        "id": "DGb2L34AC3Lu"
      },
      "id": "DGb2L34AC3Lu"
    },
    {
      "cell_type": "markdown",
      "source": [
        "Let's now have a look on our dataframe and our data "
      ],
      "metadata": {
        "id": "yvDB-0XxTVB0"
      },
      "id": "yvDB-0XxTVB0"
    },
    {
      "cell_type": "code",
      "source": [
        "train.head()"
      ],
      "metadata": {
        "colab": {
          "base_uri": "https://localhost:8080/",
          "height": 206
        },
        "id": "BQb-IzFaTUd9",
        "outputId": "f3411b65-77e0-405a-f141-0d062b3521c6"
      },
      "id": "BQb-IzFaTUd9",
      "execution_count": 8,
      "outputs": [
        {
          "output_type": "execute_result",
          "data": {
            "text/plain": [
              "                                                text  label\n",
              "0  I rented I AM CURIOUS-YELLOW from my video sto...      0\n",
              "1  \"I Am Curious: Yellow\" is a risible and preten...      0\n",
              "2  If only to avoid making this type of film in t...      0\n",
              "3  This film was probably inspired by Godard's Ma...      0\n",
              "4  Oh, brother...after hearing about this ridicul...      0"
            ],
            "text/html": [
              "\n",
              "  <div id=\"df-a7769227-6abe-4cc8-a481-2c9994d1729a\">\n",
              "    <div class=\"colab-df-container\">\n",
              "      <div>\n",
              "<style scoped>\n",
              "    .dataframe tbody tr th:only-of-type {\n",
              "        vertical-align: middle;\n",
              "    }\n",
              "\n",
              "    .dataframe tbody tr th {\n",
              "        vertical-align: top;\n",
              "    }\n",
              "\n",
              "    .dataframe thead th {\n",
              "        text-align: right;\n",
              "    }\n",
              "</style>\n",
              "<table border=\"1\" class=\"dataframe\">\n",
              "  <thead>\n",
              "    <tr style=\"text-align: right;\">\n",
              "      <th></th>\n",
              "      <th>text</th>\n",
              "      <th>label</th>\n",
              "    </tr>\n",
              "  </thead>\n",
              "  <tbody>\n",
              "    <tr>\n",
              "      <th>0</th>\n",
              "      <td>I rented I AM CURIOUS-YELLOW from my video sto...</td>\n",
              "      <td>0</td>\n",
              "    </tr>\n",
              "    <tr>\n",
              "      <th>1</th>\n",
              "      <td>\"I Am Curious: Yellow\" is a risible and preten...</td>\n",
              "      <td>0</td>\n",
              "    </tr>\n",
              "    <tr>\n",
              "      <th>2</th>\n",
              "      <td>If only to avoid making this type of film in t...</td>\n",
              "      <td>0</td>\n",
              "    </tr>\n",
              "    <tr>\n",
              "      <th>3</th>\n",
              "      <td>This film was probably inspired by Godard's Ma...</td>\n",
              "      <td>0</td>\n",
              "    </tr>\n",
              "    <tr>\n",
              "      <th>4</th>\n",
              "      <td>Oh, brother...after hearing about this ridicul...</td>\n",
              "      <td>0</td>\n",
              "    </tr>\n",
              "  </tbody>\n",
              "</table>\n",
              "</div>\n",
              "      <button class=\"colab-df-convert\" onclick=\"convertToInteractive('df-a7769227-6abe-4cc8-a481-2c9994d1729a')\"\n",
              "              title=\"Convert this dataframe to an interactive table.\"\n",
              "              style=\"display:none;\">\n",
              "        \n",
              "  <svg xmlns=\"http://www.w3.org/2000/svg\" height=\"24px\"viewBox=\"0 0 24 24\"\n",
              "       width=\"24px\">\n",
              "    <path d=\"M0 0h24v24H0V0z\" fill=\"none\"/>\n",
              "    <path d=\"M18.56 5.44l.94 2.06.94-2.06 2.06-.94-2.06-.94-.94-2.06-.94 2.06-2.06.94zm-11 1L8.5 8.5l.94-2.06 2.06-.94-2.06-.94L8.5 2.5l-.94 2.06-2.06.94zm10 10l.94 2.06.94-2.06 2.06-.94-2.06-.94-.94-2.06-.94 2.06-2.06.94z\"/><path d=\"M17.41 7.96l-1.37-1.37c-.4-.4-.92-.59-1.43-.59-.52 0-1.04.2-1.43.59L10.3 9.45l-7.72 7.72c-.78.78-.78 2.05 0 2.83L4 21.41c.39.39.9.59 1.41.59.51 0 1.02-.2 1.41-.59l7.78-7.78 2.81-2.81c.8-.78.8-2.07 0-2.86zM5.41 20L4 18.59l7.72-7.72 1.47 1.35L5.41 20z\"/>\n",
              "  </svg>\n",
              "      </button>\n",
              "      \n",
              "  <style>\n",
              "    .colab-df-container {\n",
              "      display:flex;\n",
              "      flex-wrap:wrap;\n",
              "      gap: 12px;\n",
              "    }\n",
              "\n",
              "    .colab-df-convert {\n",
              "      background-color: #E8F0FE;\n",
              "      border: none;\n",
              "      border-radius: 50%;\n",
              "      cursor: pointer;\n",
              "      display: none;\n",
              "      fill: #1967D2;\n",
              "      height: 32px;\n",
              "      padding: 0 0 0 0;\n",
              "      width: 32px;\n",
              "    }\n",
              "\n",
              "    .colab-df-convert:hover {\n",
              "      background-color: #E2EBFA;\n",
              "      box-shadow: 0px 1px 2px rgba(60, 64, 67, 0.3), 0px 1px 3px 1px rgba(60, 64, 67, 0.15);\n",
              "      fill: #174EA6;\n",
              "    }\n",
              "\n",
              "    [theme=dark] .colab-df-convert {\n",
              "      background-color: #3B4455;\n",
              "      fill: #D2E3FC;\n",
              "    }\n",
              "\n",
              "    [theme=dark] .colab-df-convert:hover {\n",
              "      background-color: #434B5C;\n",
              "      box-shadow: 0px 1px 3px 1px rgba(0, 0, 0, 0.15);\n",
              "      filter: drop-shadow(0px 1px 2px rgba(0, 0, 0, 0.3));\n",
              "      fill: #FFFFFF;\n",
              "    }\n",
              "  </style>\n",
              "\n",
              "      <script>\n",
              "        const buttonEl =\n",
              "          document.querySelector('#df-a7769227-6abe-4cc8-a481-2c9994d1729a button.colab-df-convert');\n",
              "        buttonEl.style.display =\n",
              "          google.colab.kernel.accessAllowed ? 'block' : 'none';\n",
              "\n",
              "        async function convertToInteractive(key) {\n",
              "          const element = document.querySelector('#df-a7769227-6abe-4cc8-a481-2c9994d1729a');\n",
              "          const dataTable =\n",
              "            await google.colab.kernel.invokeFunction('convertToInteractive',\n",
              "                                                     [key], {});\n",
              "          if (!dataTable) return;\n",
              "\n",
              "          const docLinkHtml = 'Like what you see? Visit the ' +\n",
              "            '<a target=\"_blank\" href=https://colab.research.google.com/notebooks/data_table.ipynb>data table notebook</a>'\n",
              "            + ' to learn more about interactive tables.';\n",
              "          element.innerHTML = '';\n",
              "          dataTable['output_type'] = 'display_data';\n",
              "          await google.colab.output.renderOutput(dataTable, element);\n",
              "          const docLink = document.createElement('div');\n",
              "          docLink.innerHTML = docLinkHtml;\n",
              "          element.appendChild(docLink);\n",
              "        }\n",
              "      </script>\n",
              "    </div>\n",
              "  </div>\n",
              "  "
            ]
          },
          "metadata": {},
          "execution_count": 8
        }
      ]
    },
    {
      "cell_type": "markdown",
      "source": [
        "Now we will do a quick shuffle of our dataset to make sure to not have any order in our data."
      ],
      "metadata": {
        "id": "4m7cXuTJDFe2"
      },
      "id": "4m7cXuTJDFe2"
    },
    {
      "cell_type": "markdown",
      "source": [
        "## Preprocessing"
      ],
      "metadata": {
        "id": "SCYo0lGqSkXU"
      },
      "id": "SCYo0lGqSkXU"
    },
    {
      "cell_type": "markdown",
      "source": [
        "But before doing anything else with our dataset, we must preprocess it by changing all letters to lowercase and removing punctuation."
      ],
      "metadata": {
        "id": "bX4GHbSGUDSc"
      },
      "id": "bX4GHbSGUDSc"
    },
    {
      "cell_type": "code",
      "source": [
        "train = utility_functions.preprocess_df(train)\n",
        "test = utility_functions.preprocess_df(test)\n",
        "\n",
        "train.head()"
      ],
      "metadata": {
        "colab": {
          "base_uri": "https://localhost:8080/",
          "height": 206
        },
        "id": "xe2xcOo1UDIM",
        "outputId": "f3236a2f-5180-4a75-ce62-93098e0305cc"
      },
      "id": "xe2xcOo1UDIM",
      "execution_count": 9,
      "outputs": [
        {
          "output_type": "execute_result",
          "data": {
            "text/plain": [
              "                                                text  label\n",
              "0  i rented i am curiousyellow from my video stor...      0\n",
              "1  i am curious yellow is a risible and pretentio...      0\n",
              "2  if only to avoid making this type of film in t...      0\n",
              "3  this film was probably inspired by godards mas...      0\n",
              "4  oh brotherafter hearing about this ridiculous ...      0"
            ],
            "text/html": [
              "\n",
              "  <div id=\"df-22184ebb-a892-4fa8-83e5-70ce3193d888\">\n",
              "    <div class=\"colab-df-container\">\n",
              "      <div>\n",
              "<style scoped>\n",
              "    .dataframe tbody tr th:only-of-type {\n",
              "        vertical-align: middle;\n",
              "    }\n",
              "\n",
              "    .dataframe tbody tr th {\n",
              "        vertical-align: top;\n",
              "    }\n",
              "\n",
              "    .dataframe thead th {\n",
              "        text-align: right;\n",
              "    }\n",
              "</style>\n",
              "<table border=\"1\" class=\"dataframe\">\n",
              "  <thead>\n",
              "    <tr style=\"text-align: right;\">\n",
              "      <th></th>\n",
              "      <th>text</th>\n",
              "      <th>label</th>\n",
              "    </tr>\n",
              "  </thead>\n",
              "  <tbody>\n",
              "    <tr>\n",
              "      <th>0</th>\n",
              "      <td>i rented i am curiousyellow from my video stor...</td>\n",
              "      <td>0</td>\n",
              "    </tr>\n",
              "    <tr>\n",
              "      <th>1</th>\n",
              "      <td>i am curious yellow is a risible and pretentio...</td>\n",
              "      <td>0</td>\n",
              "    </tr>\n",
              "    <tr>\n",
              "      <th>2</th>\n",
              "      <td>if only to avoid making this type of film in t...</td>\n",
              "      <td>0</td>\n",
              "    </tr>\n",
              "    <tr>\n",
              "      <th>3</th>\n",
              "      <td>this film was probably inspired by godards mas...</td>\n",
              "      <td>0</td>\n",
              "    </tr>\n",
              "    <tr>\n",
              "      <th>4</th>\n",
              "      <td>oh brotherafter hearing about this ridiculous ...</td>\n",
              "      <td>0</td>\n",
              "    </tr>\n",
              "  </tbody>\n",
              "</table>\n",
              "</div>\n",
              "      <button class=\"colab-df-convert\" onclick=\"convertToInteractive('df-22184ebb-a892-4fa8-83e5-70ce3193d888')\"\n",
              "              title=\"Convert this dataframe to an interactive table.\"\n",
              "              style=\"display:none;\">\n",
              "        \n",
              "  <svg xmlns=\"http://www.w3.org/2000/svg\" height=\"24px\"viewBox=\"0 0 24 24\"\n",
              "       width=\"24px\">\n",
              "    <path d=\"M0 0h24v24H0V0z\" fill=\"none\"/>\n",
              "    <path d=\"M18.56 5.44l.94 2.06.94-2.06 2.06-.94-2.06-.94-.94-2.06-.94 2.06-2.06.94zm-11 1L8.5 8.5l.94-2.06 2.06-.94-2.06-.94L8.5 2.5l-.94 2.06-2.06.94zm10 10l.94 2.06.94-2.06 2.06-.94-2.06-.94-.94-2.06-.94 2.06-2.06.94z\"/><path d=\"M17.41 7.96l-1.37-1.37c-.4-.4-.92-.59-1.43-.59-.52 0-1.04.2-1.43.59L10.3 9.45l-7.72 7.72c-.78.78-.78 2.05 0 2.83L4 21.41c.39.39.9.59 1.41.59.51 0 1.02-.2 1.41-.59l7.78-7.78 2.81-2.81c.8-.78.8-2.07 0-2.86zM5.41 20L4 18.59l7.72-7.72 1.47 1.35L5.41 20z\"/>\n",
              "  </svg>\n",
              "      </button>\n",
              "      \n",
              "  <style>\n",
              "    .colab-df-container {\n",
              "      display:flex;\n",
              "      flex-wrap:wrap;\n",
              "      gap: 12px;\n",
              "    }\n",
              "\n",
              "    .colab-df-convert {\n",
              "      background-color: #E8F0FE;\n",
              "      border: none;\n",
              "      border-radius: 50%;\n",
              "      cursor: pointer;\n",
              "      display: none;\n",
              "      fill: #1967D2;\n",
              "      height: 32px;\n",
              "      padding: 0 0 0 0;\n",
              "      width: 32px;\n",
              "    }\n",
              "\n",
              "    .colab-df-convert:hover {\n",
              "      background-color: #E2EBFA;\n",
              "      box-shadow: 0px 1px 2px rgba(60, 64, 67, 0.3), 0px 1px 3px 1px rgba(60, 64, 67, 0.15);\n",
              "      fill: #174EA6;\n",
              "    }\n",
              "\n",
              "    [theme=dark] .colab-df-convert {\n",
              "      background-color: #3B4455;\n",
              "      fill: #D2E3FC;\n",
              "    }\n",
              "\n",
              "    [theme=dark] .colab-df-convert:hover {\n",
              "      background-color: #434B5C;\n",
              "      box-shadow: 0px 1px 3px 1px rgba(0, 0, 0, 0.15);\n",
              "      filter: drop-shadow(0px 1px 2px rgba(0, 0, 0, 0.3));\n",
              "      fill: #FFFFFF;\n",
              "    }\n",
              "  </style>\n",
              "\n",
              "      <script>\n",
              "        const buttonEl =\n",
              "          document.querySelector('#df-22184ebb-a892-4fa8-83e5-70ce3193d888 button.colab-df-convert');\n",
              "        buttonEl.style.display =\n",
              "          google.colab.kernel.accessAllowed ? 'block' : 'none';\n",
              "\n",
              "        async function convertToInteractive(key) {\n",
              "          const element = document.querySelector('#df-22184ebb-a892-4fa8-83e5-70ce3193d888');\n",
              "          const dataTable =\n",
              "            await google.colab.kernel.invokeFunction('convertToInteractive',\n",
              "                                                     [key], {});\n",
              "          if (!dataTable) return;\n",
              "\n",
              "          const docLinkHtml = 'Like what you see? Visit the ' +\n",
              "            '<a target=\"_blank\" href=https://colab.research.google.com/notebooks/data_table.ipynb>data table notebook</a>'\n",
              "            + ' to learn more about interactive tables.';\n",
              "          element.innerHTML = '';\n",
              "          dataTable['output_type'] = 'display_data';\n",
              "          await google.colab.output.renderOutput(dataTable, element);\n",
              "          const docLink = document.createElement('div');\n",
              "          docLink.innerHTML = docLinkHtml;\n",
              "          element.appendChild(docLink);\n",
              "        }\n",
              "      </script>\n",
              "    </div>\n",
              "  </div>\n",
              "  "
            ]
          },
          "metadata": {},
          "execution_count": 9
        }
      ]
    },
    {
      "cell_type": "markdown",
      "source": [
        "As we can see it, our preprocess is now done !"
      ],
      "metadata": {
        "id": "nj6A229IX1Lh"
      },
      "id": "nj6A229IX1Lh"
    },
    {
      "cell_type": "markdown",
      "source": [
        "## Shuffling the dataset\n",
        "\n",
        "To get more coherent results, is is necessary to shuffle the dataset (we will also need it for the hyperparameter optimization later) as follow:"
      ],
      "metadata": {
        "id": "miJNvKFAuY-t"
      },
      "id": "miJNvKFAuY-t"
    },
    {
      "cell_type": "code",
      "source": [
        "# Function used to shuffle the given dataset\n",
        "def shuffle(dataset):\n",
        "  return dataset.sample(frac=1).reset_index(drop=True)"
      ],
      "metadata": {
        "id": "-4eW5diMumRy"
      },
      "id": "-4eW5diMumRy",
      "execution_count": 10,
      "outputs": []
    },
    {
      "cell_type": "code",
      "source": [
        "train = shuffle(train)\n",
        "test = shuffle(test)\n",
        "\n",
        "# Displaying a dataset to see if the shuffle worked\n",
        "train.head()"
      ],
      "metadata": {
        "colab": {
          "base_uri": "https://localhost:8080/",
          "height": 206
        },
        "id": "Tt9My9Myubh5",
        "outputId": "b126039b-e541-4679-842d-7ae4dfe4c28b"
      },
      "id": "Tt9My9Myubh5",
      "execution_count": 11,
      "outputs": [
        {
          "output_type": "execute_result",
          "data": {
            "text/plain": [
              "                                                text  label\n",
              "0  this game is the bomb and this is the 007 game...      1\n",
              "1  george lopez is a funny man even without the s...      1\n",
              "2  despite positive reviews and screenings at the...      0\n",
              "3  cinematographycompared to the wrestler a degre...      1\n",
              "4  i just saw this movie tonight opening night it...      1"
            ],
            "text/html": [
              "\n",
              "  <div id=\"df-a0f99c0e-4b70-413c-abc6-51587bf3a0db\">\n",
              "    <div class=\"colab-df-container\">\n",
              "      <div>\n",
              "<style scoped>\n",
              "    .dataframe tbody tr th:only-of-type {\n",
              "        vertical-align: middle;\n",
              "    }\n",
              "\n",
              "    .dataframe tbody tr th {\n",
              "        vertical-align: top;\n",
              "    }\n",
              "\n",
              "    .dataframe thead th {\n",
              "        text-align: right;\n",
              "    }\n",
              "</style>\n",
              "<table border=\"1\" class=\"dataframe\">\n",
              "  <thead>\n",
              "    <tr style=\"text-align: right;\">\n",
              "      <th></th>\n",
              "      <th>text</th>\n",
              "      <th>label</th>\n",
              "    </tr>\n",
              "  </thead>\n",
              "  <tbody>\n",
              "    <tr>\n",
              "      <th>0</th>\n",
              "      <td>this game is the bomb and this is the 007 game...</td>\n",
              "      <td>1</td>\n",
              "    </tr>\n",
              "    <tr>\n",
              "      <th>1</th>\n",
              "      <td>george lopez is a funny man even without the s...</td>\n",
              "      <td>1</td>\n",
              "    </tr>\n",
              "    <tr>\n",
              "      <th>2</th>\n",
              "      <td>despite positive reviews and screenings at the...</td>\n",
              "      <td>0</td>\n",
              "    </tr>\n",
              "    <tr>\n",
              "      <th>3</th>\n",
              "      <td>cinematographycompared to the wrestler a degre...</td>\n",
              "      <td>1</td>\n",
              "    </tr>\n",
              "    <tr>\n",
              "      <th>4</th>\n",
              "      <td>i just saw this movie tonight opening night it...</td>\n",
              "      <td>1</td>\n",
              "    </tr>\n",
              "  </tbody>\n",
              "</table>\n",
              "</div>\n",
              "      <button class=\"colab-df-convert\" onclick=\"convertToInteractive('df-a0f99c0e-4b70-413c-abc6-51587bf3a0db')\"\n",
              "              title=\"Convert this dataframe to an interactive table.\"\n",
              "              style=\"display:none;\">\n",
              "        \n",
              "  <svg xmlns=\"http://www.w3.org/2000/svg\" height=\"24px\"viewBox=\"0 0 24 24\"\n",
              "       width=\"24px\">\n",
              "    <path d=\"M0 0h24v24H0V0z\" fill=\"none\"/>\n",
              "    <path d=\"M18.56 5.44l.94 2.06.94-2.06 2.06-.94-2.06-.94-.94-2.06-.94 2.06-2.06.94zm-11 1L8.5 8.5l.94-2.06 2.06-.94-2.06-.94L8.5 2.5l-.94 2.06-2.06.94zm10 10l.94 2.06.94-2.06 2.06-.94-2.06-.94-.94-2.06-.94 2.06-2.06.94z\"/><path d=\"M17.41 7.96l-1.37-1.37c-.4-.4-.92-.59-1.43-.59-.52 0-1.04.2-1.43.59L10.3 9.45l-7.72 7.72c-.78.78-.78 2.05 0 2.83L4 21.41c.39.39.9.59 1.41.59.51 0 1.02-.2 1.41-.59l7.78-7.78 2.81-2.81c.8-.78.8-2.07 0-2.86zM5.41 20L4 18.59l7.72-7.72 1.47 1.35L5.41 20z\"/>\n",
              "  </svg>\n",
              "      </button>\n",
              "      \n",
              "  <style>\n",
              "    .colab-df-container {\n",
              "      display:flex;\n",
              "      flex-wrap:wrap;\n",
              "      gap: 12px;\n",
              "    }\n",
              "\n",
              "    .colab-df-convert {\n",
              "      background-color: #E8F0FE;\n",
              "      border: none;\n",
              "      border-radius: 50%;\n",
              "      cursor: pointer;\n",
              "      display: none;\n",
              "      fill: #1967D2;\n",
              "      height: 32px;\n",
              "      padding: 0 0 0 0;\n",
              "      width: 32px;\n",
              "    }\n",
              "\n",
              "    .colab-df-convert:hover {\n",
              "      background-color: #E2EBFA;\n",
              "      box-shadow: 0px 1px 2px rgba(60, 64, 67, 0.3), 0px 1px 3px 1px rgba(60, 64, 67, 0.15);\n",
              "      fill: #174EA6;\n",
              "    }\n",
              "\n",
              "    [theme=dark] .colab-df-convert {\n",
              "      background-color: #3B4455;\n",
              "      fill: #D2E3FC;\n",
              "    }\n",
              "\n",
              "    [theme=dark] .colab-df-convert:hover {\n",
              "      background-color: #434B5C;\n",
              "      box-shadow: 0px 1px 3px 1px rgba(0, 0, 0, 0.15);\n",
              "      filter: drop-shadow(0px 1px 2px rgba(0, 0, 0, 0.3));\n",
              "      fill: #FFFFFF;\n",
              "    }\n",
              "  </style>\n",
              "\n",
              "      <script>\n",
              "        const buttonEl =\n",
              "          document.querySelector('#df-a0f99c0e-4b70-413c-abc6-51587bf3a0db button.colab-df-convert');\n",
              "        buttonEl.style.display =\n",
              "          google.colab.kernel.accessAllowed ? 'block' : 'none';\n",
              "\n",
              "        async function convertToInteractive(key) {\n",
              "          const element = document.querySelector('#df-a0f99c0e-4b70-413c-abc6-51587bf3a0db');\n",
              "          const dataTable =\n",
              "            await google.colab.kernel.invokeFunction('convertToInteractive',\n",
              "                                                     [key], {});\n",
              "          if (!dataTable) return;\n",
              "\n",
              "          const docLinkHtml = 'Like what you see? Visit the ' +\n",
              "            '<a target=\"_blank\" href=https://colab.research.google.com/notebooks/data_table.ipynb>data table notebook</a>'\n",
              "            + ' to learn more about interactive tables.';\n",
              "          element.innerHTML = '';\n",
              "          dataTable['output_type'] = 'display_data';\n",
              "          await google.colab.output.renderOutput(dataTable, element);\n",
              "          const docLink = document.createElement('div');\n",
              "          docLink.innerHTML = docLinkHtml;\n",
              "          element.appendChild(docLink);\n",
              "        }\n",
              "      </script>\n",
              "    </div>\n",
              "  </div>\n",
              "  "
            ]
          },
          "metadata": {},
          "execution_count": 11
        }
      ]
    },
    {
      "cell_type": "markdown",
      "source": [
        "We can see that the rows of the datasets have indeed been shuffled, as compared to their previous order."
      ],
      "metadata": {
        "id": "U5jwsw3EvThz"
      },
      "id": "U5jwsw3EvThz"
    },
    {
      "cell_type": "markdown",
      "source": [
        "## 1 - (2 points) Turn the dataset into a dataset compatible with Fastext (see the Tips on using FastText section a bit lower)\n",
        "\n",
        "The FastText dataset format is:\n",
        "\n",
        "```__label__<your_label> <corresponding text>```\n",
        "\n",
        "For convenience, we will replace the original labels (0 and 1) by their intended meaning, \"negative\" and \"positive\" respectively."
      ],
      "metadata": {
        "id": "G7laklG2X5oN"
      },
      "id": "G7laklG2X5oN"
    },
    {
      "cell_type": "code",
      "source": [
        "def pandas_to_fasttext(pandas_data):\n",
        "  '''Convert a pandas dataset to a string of fasttext format'''\n",
        "  pandas_data = pandas_data.astype('str')\n",
        "  fasttext_data = '__label__' + pandas_data['label'] + ' ' + pandas_data['text']\n",
        "  fasttext_str = fasttext_data.to_string(index=False)\n",
        "  fasttext_str = fasttext_str.replace('0', 'negative').replace('1', 'positive')\n",
        "  return fasttext_str\n",
        "\n",
        "def str_to_txt_file(text, filename):\n",
        "  '''Saves a string as a txt file'''\n",
        "  file = open(filename, \"w\")\n",
        "  file.write(text)\n",
        "  file.close()"
      ],
      "metadata": {
        "id": "fD_lYQdPeJa6"
      },
      "id": "fD_lYQdPeJa6",
      "execution_count": 12,
      "outputs": []
    },
    {
      "cell_type": "markdown",
      "source": [
        "We now convert each dataset (train, test) to fasttext format using the above functions, and save them to text files for later use:"
      ],
      "metadata": {
        "id": "tl3KhqiJk7zT"
      },
      "id": "tl3KhqiJk7zT"
    },
    {
      "cell_type": "code",
      "source": [
        "fasttext_train = pandas_to_fasttext(train)\n",
        "str_to_txt_file(fasttext_train, 'train.txt')\n",
        "\n",
        "fasttext_test = pandas_to_fasttext(test)\n",
        "str_to_txt_file(fasttext_test, 'test.txt')\n",
        "\n",
        "fasttext_train.split('\\n')[:10]\n",
        "print(fasttext_train.split('\\n')[:1])"
      ],
      "metadata": {
        "colab": {
          "base_uri": "https://localhost:8080/"
        },
        "id": "WRNrLc4BX2sd",
        "outputId": "a7ff51fa-27ca-4280-b275-6be78d9caefd"
      },
      "id": "WRNrLc4BX2sd",
      "execution_count": 13,
      "outputs": [
        {
          "output_type": "stream",
          "name": "stdout",
          "text": [
            "['__label__positive this game is the bomb and this is th...']\n"
          ]
        }
      ]
    },
    {
      "cell_type": "markdown",
      "source": [
        "We can see above the result of fasttext formatting, which correspond to the expected format."
      ],
      "metadata": {
        "id": "Z0637ByMlKoT"
      },
      "id": "Z0637ByMlKoT"
    },
    {
      "cell_type": "markdown",
      "source": [
        "## 2 - (2 points) Train a FastText classifier with default parameters on the training data, and evaluate it on the test data using accuracy."
      ],
      "metadata": {
        "id": "q0gFrYaWbo2h"
      },
      "id": "q0gFrYaWbo2h"
    },
    {
      "cell_type": "markdown",
      "source": [
        "Training simple classifier with formatted train dataset:"
      ],
      "metadata": {
        "id": "omY0wxnqlfPe"
      },
      "id": "omY0wxnqlfPe"
    },
    {
      "cell_type": "code",
      "source": [
        "model = fasttext.train_supervised(input='train.txt')"
      ],
      "metadata": {
        "id": "n4OSpBTTbn49"
      },
      "id": "n4OSpBTTbn49",
      "execution_count": 14,
      "outputs": []
    },
    {
      "cell_type": "markdown",
      "source": [
        "Displaying the results of the model on the formatted test dataset:"
      ],
      "metadata": {
        "id": "P7K0DcQzll3r"
      },
      "id": "P7K0DcQzll3r"
    },
    {
      "cell_type": "code",
      "source": [
        "test_results = model.test(\"test.txt\")\n",
        "print('Number of samples:', test_results[0])\n",
        "print('Accurracy:', test_results[1])"
      ],
      "metadata": {
        "colab": {
          "base_uri": "https://localhost:8080/"
        },
        "id": "OPidZ4ySkHC5",
        "outputId": "ba6c917b-082b-40a9-ff71-b9ab9fe2a90c"
      },
      "id": "OPidZ4ySkHC5",
      "execution_count": 15,
      "outputs": [
        {
          "output_type": "stream",
          "name": "stdout",
          "text": [
            "Number of samples: 25000\n",
            "Accurracy: 0.64\n"
          ]
        }
      ]
    },
    {
      "cell_type": "markdown",
      "source": [
        "As we can see, this is a correct result for a simple model like this one. Let's see if we can make it better !"
      ],
      "metadata": {
        "id": "E5JUwmxD7HFb"
      },
      "id": "E5JUwmxD7HFb"
    },
    {
      "cell_type": "markdown",
      "source": [
        "## 3 - (3 points) Use the hyperparameters search functionality of FastText and repeat step 2"
      ],
      "metadata": {
        "id": "oBnbEUhNmb9q"
      },
      "id": "oBnbEUhNmb9q"
    },
    {
      "cell_type": "markdown",
      "source": [
        "Created the hyper_validation dataset by taking half of the test dataset:"
      ],
      "metadata": {
        "id": "eyPlTi60ltPw"
      },
      "id": "eyPlTi60ltPw"
    },
    {
      "cell_type": "code",
      "source": [
        "test_size = len(test)//2\n",
        "\n",
        "hyper_validation = test.iloc[test_size:,:]\n",
        "\n",
        "display(hyper_validation)"
      ],
      "metadata": {
        "id": "wynH16Uqmebs",
        "colab": {
          "base_uri": "https://localhost:8080/",
          "height": 424
        },
        "outputId": "f0d62321-b0ac-4970-9497-9a31f6f7c08a"
      },
      "id": "wynH16Uqmebs",
      "execution_count": 16,
      "outputs": [
        {
          "output_type": "display_data",
          "data": {
            "text/plain": [
              "                                                    text  label\n",
              "12500  this film is just really great i dont know why...      1\n",
              "12501  challenge to be free was one of the first film...      1\n",
              "12502  one of the worst movies ive ever seen absolute...      0\n",
              "12503  the cinematography is the films shining featur...      1\n",
              "12504  no doubt about it this is the animated short t...      1\n",
              "...                                                  ...    ...\n",
              "24995  ok i wanted to see this because it had a few g...      0\n",
              "24996  heart of darkness was terrible the novel was d...      0\n",
              "24997  ive seen three of the animatrix episodes and t...      1\n",
              "24998  this is a surprisingly great low budget horror...      1\n",
              "24999  i think this film version of northanger abbey ...      1\n",
              "\n",
              "[12500 rows x 2 columns]"
            ],
            "text/html": [
              "\n",
              "  <div id=\"df-2322e68a-772b-4dc8-8609-f353a1b0dc79\">\n",
              "    <div class=\"colab-df-container\">\n",
              "      <div>\n",
              "<style scoped>\n",
              "    .dataframe tbody tr th:only-of-type {\n",
              "        vertical-align: middle;\n",
              "    }\n",
              "\n",
              "    .dataframe tbody tr th {\n",
              "        vertical-align: top;\n",
              "    }\n",
              "\n",
              "    .dataframe thead th {\n",
              "        text-align: right;\n",
              "    }\n",
              "</style>\n",
              "<table border=\"1\" class=\"dataframe\">\n",
              "  <thead>\n",
              "    <tr style=\"text-align: right;\">\n",
              "      <th></th>\n",
              "      <th>text</th>\n",
              "      <th>label</th>\n",
              "    </tr>\n",
              "  </thead>\n",
              "  <tbody>\n",
              "    <tr>\n",
              "      <th>12500</th>\n",
              "      <td>this film is just really great i dont know why...</td>\n",
              "      <td>1</td>\n",
              "    </tr>\n",
              "    <tr>\n",
              "      <th>12501</th>\n",
              "      <td>challenge to be free was one of the first film...</td>\n",
              "      <td>1</td>\n",
              "    </tr>\n",
              "    <tr>\n",
              "      <th>12502</th>\n",
              "      <td>one of the worst movies ive ever seen absolute...</td>\n",
              "      <td>0</td>\n",
              "    </tr>\n",
              "    <tr>\n",
              "      <th>12503</th>\n",
              "      <td>the cinematography is the films shining featur...</td>\n",
              "      <td>1</td>\n",
              "    </tr>\n",
              "    <tr>\n",
              "      <th>12504</th>\n",
              "      <td>no doubt about it this is the animated short t...</td>\n",
              "      <td>1</td>\n",
              "    </tr>\n",
              "    <tr>\n",
              "      <th>...</th>\n",
              "      <td>...</td>\n",
              "      <td>...</td>\n",
              "    </tr>\n",
              "    <tr>\n",
              "      <th>24995</th>\n",
              "      <td>ok i wanted to see this because it had a few g...</td>\n",
              "      <td>0</td>\n",
              "    </tr>\n",
              "    <tr>\n",
              "      <th>24996</th>\n",
              "      <td>heart of darkness was terrible the novel was d...</td>\n",
              "      <td>0</td>\n",
              "    </tr>\n",
              "    <tr>\n",
              "      <th>24997</th>\n",
              "      <td>ive seen three of the animatrix episodes and t...</td>\n",
              "      <td>1</td>\n",
              "    </tr>\n",
              "    <tr>\n",
              "      <th>24998</th>\n",
              "      <td>this is a surprisingly great low budget horror...</td>\n",
              "      <td>1</td>\n",
              "    </tr>\n",
              "    <tr>\n",
              "      <th>24999</th>\n",
              "      <td>i think this film version of northanger abbey ...</td>\n",
              "      <td>1</td>\n",
              "    </tr>\n",
              "  </tbody>\n",
              "</table>\n",
              "<p>12500 rows × 2 columns</p>\n",
              "</div>\n",
              "      <button class=\"colab-df-convert\" onclick=\"convertToInteractive('df-2322e68a-772b-4dc8-8609-f353a1b0dc79')\"\n",
              "              title=\"Convert this dataframe to an interactive table.\"\n",
              "              style=\"display:none;\">\n",
              "        \n",
              "  <svg xmlns=\"http://www.w3.org/2000/svg\" height=\"24px\"viewBox=\"0 0 24 24\"\n",
              "       width=\"24px\">\n",
              "    <path d=\"M0 0h24v24H0V0z\" fill=\"none\"/>\n",
              "    <path d=\"M18.56 5.44l.94 2.06.94-2.06 2.06-.94-2.06-.94-.94-2.06-.94 2.06-2.06.94zm-11 1L8.5 8.5l.94-2.06 2.06-.94-2.06-.94L8.5 2.5l-.94 2.06-2.06.94zm10 10l.94 2.06.94-2.06 2.06-.94-2.06-.94-.94-2.06-.94 2.06-2.06.94z\"/><path d=\"M17.41 7.96l-1.37-1.37c-.4-.4-.92-.59-1.43-.59-.52 0-1.04.2-1.43.59L10.3 9.45l-7.72 7.72c-.78.78-.78 2.05 0 2.83L4 21.41c.39.39.9.59 1.41.59.51 0 1.02-.2 1.41-.59l7.78-7.78 2.81-2.81c.8-.78.8-2.07 0-2.86zM5.41 20L4 18.59l7.72-7.72 1.47 1.35L5.41 20z\"/>\n",
              "  </svg>\n",
              "      </button>\n",
              "      \n",
              "  <style>\n",
              "    .colab-df-container {\n",
              "      display:flex;\n",
              "      flex-wrap:wrap;\n",
              "      gap: 12px;\n",
              "    }\n",
              "\n",
              "    .colab-df-convert {\n",
              "      background-color: #E8F0FE;\n",
              "      border: none;\n",
              "      border-radius: 50%;\n",
              "      cursor: pointer;\n",
              "      display: none;\n",
              "      fill: #1967D2;\n",
              "      height: 32px;\n",
              "      padding: 0 0 0 0;\n",
              "      width: 32px;\n",
              "    }\n",
              "\n",
              "    .colab-df-convert:hover {\n",
              "      background-color: #E2EBFA;\n",
              "      box-shadow: 0px 1px 2px rgba(60, 64, 67, 0.3), 0px 1px 3px 1px rgba(60, 64, 67, 0.15);\n",
              "      fill: #174EA6;\n",
              "    }\n",
              "\n",
              "    [theme=dark] .colab-df-convert {\n",
              "      background-color: #3B4455;\n",
              "      fill: #D2E3FC;\n",
              "    }\n",
              "\n",
              "    [theme=dark] .colab-df-convert:hover {\n",
              "      background-color: #434B5C;\n",
              "      box-shadow: 0px 1px 3px 1px rgba(0, 0, 0, 0.15);\n",
              "      filter: drop-shadow(0px 1px 2px rgba(0, 0, 0, 0.3));\n",
              "      fill: #FFFFFF;\n",
              "    }\n",
              "  </style>\n",
              "\n",
              "      <script>\n",
              "        const buttonEl =\n",
              "          document.querySelector('#df-2322e68a-772b-4dc8-8609-f353a1b0dc79 button.colab-df-convert');\n",
              "        buttonEl.style.display =\n",
              "          google.colab.kernel.accessAllowed ? 'block' : 'none';\n",
              "\n",
              "        async function convertToInteractive(key) {\n",
              "          const element = document.querySelector('#df-2322e68a-772b-4dc8-8609-f353a1b0dc79');\n",
              "          const dataTable =\n",
              "            await google.colab.kernel.invokeFunction('convertToInteractive',\n",
              "                                                     [key], {});\n",
              "          if (!dataTable) return;\n",
              "\n",
              "          const docLinkHtml = 'Like what you see? Visit the ' +\n",
              "            '<a target=\"_blank\" href=https://colab.research.google.com/notebooks/data_table.ipynb>data table notebook</a>'\n",
              "            + ' to learn more about interactive tables.';\n",
              "          element.innerHTML = '';\n",
              "          dataTable['output_type'] = 'display_data';\n",
              "          await google.colab.output.renderOutput(dataTable, element);\n",
              "          const docLink = document.createElement('div');\n",
              "          docLink.innerHTML = docLinkHtml;\n",
              "          element.appendChild(docLink);\n",
              "        }\n",
              "      </script>\n",
              "    </div>\n",
              "  </div>\n",
              "  "
            ]
          },
          "metadata": {}
        }
      ]
    },
    {
      "cell_type": "markdown",
      "source": [
        "Formatting this validation dataset to fasttext format and saving it to txt file:"
      ],
      "metadata": {
        "id": "Qqjlmc3Vl7_A"
      },
      "id": "Qqjlmc3Vl7_A"
    },
    {
      "cell_type": "code",
      "source": [
        "fasttext_validation = pandas_to_fasttext(hyper_validation)\n",
        "str_to_txt_file(fasttext_validation, 'hyper_validation.txt')\n",
        "\n",
        "fasttext_validation.split('\\n')[:10]"
      ],
      "metadata": {
        "colab": {
          "base_uri": "https://localhost:8080/"
        },
        "id": "bpHSjjrEIb-b",
        "outputId": "1d376307-3992-485f-8e8b-5cac158974dd"
      },
      "id": "bpHSjjrEIb-b",
      "execution_count": 17,
      "outputs": [
        {
          "output_type": "execute_result",
          "data": {
            "text/plain": [
              "['__label__positive this film is just really great i don...',\n",
              " '__label__positive challenge to be free was one of the ...',\n",
              " '__label__negative one of the worst movies ive ever see...',\n",
              " '__label__positive the cinematography is the films shin...',\n",
              " '__label__positive no doubt about it this is the animat...',\n",
              " '__label__positive who should watch this film anyone wh...',\n",
              " '__label__negative i cant believe how dumb this movie t...',\n",
              " '__label__positive after all these years of solving cri...',\n",
              " '__label__positive the final installment sees sho aikaw...',\n",
              " '__label__negative im writing this as i watch the dvd i...']"
            ]
          },
          "metadata": {},
          "execution_count": 17
        }
      ]
    },
    {
      "cell_type": "markdown",
      "source": [
        "Training the hyperparameter optimized model with the train and validation dataset:"
      ],
      "metadata": {
        "id": "9T40eo4wmH4R"
      },
      "id": "9T40eo4wmH4R"
    },
    {
      "cell_type": "code",
      "source": [
        "hyper_model = fasttext.train_supervised(input='train.txt', autotuneValidationFile='hyper_validation.txt')"
      ],
      "metadata": {
        "id": "4s3VkbzRIkcA"
      },
      "id": "4s3VkbzRIkcA",
      "execution_count": 18,
      "outputs": []
    },
    {
      "cell_type": "markdown",
      "source": [
        "Displaying optimized model results:"
      ],
      "metadata": {
        "id": "6MUBBu-4mRI0"
      },
      "id": "6MUBBu-4mRI0"
    },
    {
      "cell_type": "code",
      "source": [
        "hyper_test_results = hyper_model.test(\"test.txt\")\n",
        "print('Number of samples:', hyper_test_results[0])\n",
        "print('Accurracy:', hyper_test_results[1])"
      ],
      "metadata": {
        "id": "v7O4ERlKP4QY",
        "colab": {
          "base_uri": "https://localhost:8080/"
        },
        "outputId": "31d5d7de-af8b-4110-9fc5-5e90a50c3c27"
      },
      "id": "v7O4ERlKP4QY",
      "execution_count": 19,
      "outputs": [
        {
          "output_type": "stream",
          "name": "stdout",
          "text": [
            "Number of samples: 25000\n",
            "Accurracy: 0.65132\n"
          ]
        }
      ]
    },
    {
      "cell_type": "markdown",
      "source": [
        "## 4 - (1 points) Look at the differences between the default model and the attributes found with hyperparameters search. How do the two models differ? "
      ],
      "metadata": {
        "id": "r9kyHostNFZs"
      },
      "id": "r9kyHostNFZs"
    },
    {
      "cell_type": "markdown",
      "source": [
        "Displaying the two models performances on the same test dataset:"
      ],
      "metadata": {
        "id": "bGpcRE2jmV8F"
      },
      "id": "bGpcRE2jmV8F"
    },
    {
      "cell_type": "code",
      "source": [
        "print('Number of samples:', hyper_test_results[0])\n",
        "print('Accurracy (without hyperparameters search):\\n', test_results[1])\n",
        "print('Accurracy (with hyperparameters search):\\n', hyper_test_results[1])"
      ],
      "metadata": {
        "id": "kLkkzB_oQtmh",
        "colab": {
          "base_uri": "https://localhost:8080/"
        },
        "outputId": "d61eba63-afea-43aa-c8ef-1f2a09dc6dd1"
      },
      "id": "kLkkzB_oQtmh",
      "execution_count": 20,
      "outputs": [
        {
          "output_type": "stream",
          "name": "stdout",
          "text": [
            "Number of samples: 25000\n",
            "Accurracy (without hyperparameters search):\n",
            " 0.64\n",
            "Accurracy (with hyperparameters search):\n",
            " 0.65132\n"
          ]
        }
      ]
    },
    {
      "cell_type": "markdown",
      "source": [
        "We can see a good improvement of the model accurracy when using hyperparameters search (0.62992 and 0.6498 respectively) on the same test dataset."
      ],
      "metadata": {
        "id": "uKkdQmKNS-8H"
      },
      "id": "uKkdQmKNS-8H"
    },
    {
      "cell_type": "markdown",
      "source": [
        "## 5 - (1 point) Using the tuned model, take at least 2 wrongly classified examples from the test set, and try explaining why the model failed."
      ],
      "metadata": {
        "id": "cS5YGAoCTlxs"
      },
      "id": "cS5YGAoCTlxs"
    },
    {
      "cell_type": "markdown",
      "source": [
        "Getting all predictions of the tuned model and saving it to 'prediction' variable:"
      ],
      "metadata": {
        "id": "_CcQNp7-miRA"
      },
      "id": "_CcQNp7-miRA"
    },
    {
      "cell_type": "code",
      "source": [
        "predictions = hyper_model.predict(test['text'].tolist())"
      ],
      "metadata": {
        "id": "GbA3T2uWTtNG"
      },
      "id": "GbA3T2uWTtNG",
      "execution_count": 21,
      "outputs": []
    },
    {
      "cell_type": "markdown",
      "source": [
        "Displaying the actual versus predicted labels with associated inputs:"
      ],
      "metadata": {
        "id": "6QQHrgKkmqf5"
      },
      "id": "6QQHrgKkmqf5"
    },
    {
      "cell_type": "code",
      "source": [
        "print('\\nActual values:')\n",
        "display(fasttext_test.split('\\n')[:5])\n",
        "\n",
        "print('\\nPredictions:')\n",
        "display(predictions[0][:5])\n",
        "\n",
        "print('\\nThe model guessed wongly on the following inputs:')\n",
        "\n",
        "print('- Error 1: Was positive, guessed negative:')\n",
        "print(test.text[1].replace('<br /><br />', ' '))\n",
        "\n",
        "print('\\n- Error 2: Was negative, guessed positive:')\n",
        "print(test.text[5].replace('<br /><br />', ' '))"
      ],
      "metadata": {
        "id": "13NOtq2GdMrK",
        "colab": {
          "base_uri": "https://localhost:8080/",
          "height": 402
        },
        "outputId": "5737c5f6-9a22-4bac-ebd3-2046094d7cc8"
      },
      "id": "13NOtq2GdMrK",
      "execution_count": 22,
      "outputs": [
        {
          "output_type": "stream",
          "name": "stdout",
          "text": [
            "\n",
            "Actual values:\n"
          ]
        },
        {
          "output_type": "display_data",
          "data": {
            "text/plain": [
              "['__label__negative i happened to catch this on tv and w...',\n",
              " '__label__negative at last a film to rival el padrino a...',\n",
              " '__label__positive yes it feels and for the most part p...',\n",
              " '__label__negative i havent seen any other films by ant...',\n",
              " '__label__negative reading through most of the other re...']"
            ]
          },
          "metadata": {}
        },
        {
          "output_type": "stream",
          "name": "stdout",
          "text": [
            "\n",
            "Predictions:\n"
          ]
        },
        {
          "output_type": "display_data",
          "data": {
            "text/plain": [
              "[['__label__negative'],\n",
              " ['__label__negative'],\n",
              " ['__label__positive'],\n",
              " ['__label__positive'],\n",
              " ['__label__negative']]"
            ]
          },
          "metadata": {}
        },
        {
          "output_type": "stream",
          "name": "stdout",
          "text": [
            "\n",
            "The model guessed wongly on the following inputs:\n",
            "- Error 1: Was positive, guessed negative:\n",
            "at last a film to rival el padrino and darkness falls in terms of sheer and utter dullness this is actually the first film ive ever given 1 out of 10 for on imdb and with good reasonbr br for one the cast is nothing special thats usually not a problem for me except that the only character thats in anyways interesting or different from all the rest is grand l bushs harrington secondly the production values a substandard  television scifi such as stargate has more convincing sets and all of the underwater scenes not handled by the sfx teams are filmed on dry sets with falling particles that arent very convincing this film is literally drydocked the worst part though is that this film is boring for the first 45 minutes i felt as if we were going round and round in circles its a prehistoric shark bullsht no really bullsht im not making this up bullsht there it is now i didnt see anything let me guess yup bullsht after then it picks up ever so slightly for about twenty minutes or so then were back to the dialog runaround dialog is not a bad thing but thats all this film has characters talking that too is not a bad thing except this film isnt very good at it the dialog is often contrived and clichéd and is not very interesting to listen to i dont see any point slandering the special effects this film has worse qualitiesbr br the sets are small and unrealistic the acting is subpar the script  oh lord the script  is worse than a garbage of scifi television has to dredge up it makes you wonder where the budget of this film is or wasbr br yet another awful awful addition to the megaloadon theres about four series of films bring on steve alten please\n",
            "\n",
            "- Error 2: Was negative, guessed positive:\n",
            "its a shame that they didnt trust the original enough to build on it br br but robocop 2 takes the great ideas imagination and characters of the original and replaces them with all the stereotypes that sequels have to offerbr br the beginning commercial was cute and so was the scene that follows reminiscent of the beginning in guys and dolls but aside from a flash of thought here and there this is one film that is a slow dirty slog down into the middle of nowherebr br ideas are introduced then dropped interesting characters from the original hardly get any screen time here most of the new characters cain juliette faxx are so boring that they wouldnt hold up no matter what the movie and then theres the tonebr br in the blessed original paul verhoeven knew how to direct with the kind of attitude where if you cranked up the attitude and the sensibility of a good pulp comic even the most repellent violence would be entertaining kershner although he did direct a star wars sequel doesnt and scene after scene either makes you cringe look away or just tune it out altogetherbr br and whats with robocop he should be the main thing here right but theres whole scenes where he doesnt even show up and what scenes he is in are so halfthought and shakily written that you dont know or care if hes parthuman or partcyborg  since hes allboringbr br never have i seen such a rapid fall from grace why does hollywood make such bad sequels on purpose why did the filmmakers have a bet goingbr br only one star for robocop 2 the fx are good but the story doesnt even try to match them\n"
          ]
        }
      ]
    },
    {
      "cell_type": "markdown",
      "source": [
        "We can see that the model guessed wrongly on inputs 1 and 5 of the test dataset.\n",
        "\n",
        "After analysis, it seems that theses inputs contains words that the model probably uses to determine whether or not an input is positive:\n",
        "\n",
        "In input 1, the input is 'positive' but the model guessed 'negative'.\n",
        "This is probably because the following negative words are present in it:\n",
        "- cliché\n",
        "- not-so-popular\n",
        "- tragic\n",
        "- disappointed\n",
        "\n",
        "We can also notice that the first two sentences are obviously negative, which is probably a good part of why the model guessed wrongly.\n",
        "\n",
        "In input 2, the input is 'negative' but the model guessed 'positive'.\n",
        "This is probably because the following negative words are present in it:\n",
        "- I agree\n",
        "- his best sound film\n",
        "- This is a Must-See film!\n",
        "\n",
        "The last sentence, 'This is a Must-See film!', is probably what got the model to guess wrongly."
      ],
      "metadata": {
        "id": "iW7yzviQgi7p"
      },
      "id": "iW7yzviQgi7p"
    }
  ],
  "metadata": {
    "kernelspec": {
      "display_name": "Python 3",
      "name": "python3"
    },
    "language_info": {
      "name": "python"
    },
    "colab": {
      "provenance": [],
      "collapsed_sections": [
        "nCJJhX1sA9H4",
        "miJNvKFAuY-t",
        "G7laklG2X5oN",
        "q0gFrYaWbo2h"
      ]
    },
    "gpuClass": "standard",
    "widgets": {
      "application/vnd.jupyter.widget-state+json": {
        "d03628cf313f47b1a2c2791e4edc22b8": {
          "model_module": "@jupyter-widgets/controls",
          "model_name": "HBoxModel",
          "model_module_version": "1.5.0",
          "state": {
            "_dom_classes": [],
            "_model_module": "@jupyter-widgets/controls",
            "_model_module_version": "1.5.0",
            "_model_name": "HBoxModel",
            "_view_count": null,
            "_view_module": "@jupyter-widgets/controls",
            "_view_module_version": "1.5.0",
            "_view_name": "HBoxView",
            "box_style": "",
            "children": [
              "IPY_MODEL_4f8522c339254c96b15b2f864a643fd7",
              "IPY_MODEL_125303c346534262aa3da022d766e18a",
              "IPY_MODEL_db9c3886772d4f61b6b2210970e2c782"
            ],
            "layout": "IPY_MODEL_9417cc6f38b341ee8caf095c36e7d5e3"
          }
        },
        "4f8522c339254c96b15b2f864a643fd7": {
          "model_module": "@jupyter-widgets/controls",
          "model_name": "HTMLModel",
          "model_module_version": "1.5.0",
          "state": {
            "_dom_classes": [],
            "_model_module": "@jupyter-widgets/controls",
            "_model_module_version": "1.5.0",
            "_model_name": "HTMLModel",
            "_view_count": null,
            "_view_module": "@jupyter-widgets/controls",
            "_view_module_version": "1.5.0",
            "_view_name": "HTMLView",
            "description": "",
            "description_tooltip": null,
            "layout": "IPY_MODEL_7f21d04accb74416955fc56b6cc05d65",
            "placeholder": "​",
            "style": "IPY_MODEL_a707a905ede148bbb3363b561e4719e4",
            "value": "100%"
          }
        },
        "125303c346534262aa3da022d766e18a": {
          "model_module": "@jupyter-widgets/controls",
          "model_name": "FloatProgressModel",
          "model_module_version": "1.5.0",
          "state": {
            "_dom_classes": [],
            "_model_module": "@jupyter-widgets/controls",
            "_model_module_version": "1.5.0",
            "_model_name": "FloatProgressModel",
            "_view_count": null,
            "_view_module": "@jupyter-widgets/controls",
            "_view_module_version": "1.5.0",
            "_view_name": "ProgressView",
            "bar_style": "success",
            "description": "",
            "description_tooltip": null,
            "layout": "IPY_MODEL_648d0b8f14db4dec81df06c4427823a3",
            "max": 3,
            "min": 0,
            "orientation": "horizontal",
            "style": "IPY_MODEL_e35fae4d343844198703b9c8905cd2da",
            "value": 3
          }
        },
        "db9c3886772d4f61b6b2210970e2c782": {
          "model_module": "@jupyter-widgets/controls",
          "model_name": "HTMLModel",
          "model_module_version": "1.5.0",
          "state": {
            "_dom_classes": [],
            "_model_module": "@jupyter-widgets/controls",
            "_model_module_version": "1.5.0",
            "_model_name": "HTMLModel",
            "_view_count": null,
            "_view_module": "@jupyter-widgets/controls",
            "_view_module_version": "1.5.0",
            "_view_name": "HTMLView",
            "description": "",
            "description_tooltip": null,
            "layout": "IPY_MODEL_ba2544af8c874c99bf6882a35d5ec262",
            "placeholder": "​",
            "style": "IPY_MODEL_5249fea31f79473f9f2087deab7c6e83",
            "value": " 3/3 [00:00&lt;00:00,  5.93it/s]"
          }
        },
        "9417cc6f38b341ee8caf095c36e7d5e3": {
          "model_module": "@jupyter-widgets/base",
          "model_name": "LayoutModel",
          "model_module_version": "1.2.0",
          "state": {
            "_model_module": "@jupyter-widgets/base",
            "_model_module_version": "1.2.0",
            "_model_name": "LayoutModel",
            "_view_count": null,
            "_view_module": "@jupyter-widgets/base",
            "_view_module_version": "1.2.0",
            "_view_name": "LayoutView",
            "align_content": null,
            "align_items": null,
            "align_self": null,
            "border": null,
            "bottom": null,
            "display": null,
            "flex": null,
            "flex_flow": null,
            "grid_area": null,
            "grid_auto_columns": null,
            "grid_auto_flow": null,
            "grid_auto_rows": null,
            "grid_column": null,
            "grid_gap": null,
            "grid_row": null,
            "grid_template_areas": null,
            "grid_template_columns": null,
            "grid_template_rows": null,
            "height": null,
            "justify_content": null,
            "justify_items": null,
            "left": null,
            "margin": null,
            "max_height": null,
            "max_width": null,
            "min_height": null,
            "min_width": null,
            "object_fit": null,
            "object_position": null,
            "order": null,
            "overflow": null,
            "overflow_x": null,
            "overflow_y": null,
            "padding": null,
            "right": null,
            "top": null,
            "visibility": null,
            "width": null
          }
        },
        "7f21d04accb74416955fc56b6cc05d65": {
          "model_module": "@jupyter-widgets/base",
          "model_name": "LayoutModel",
          "model_module_version": "1.2.0",
          "state": {
            "_model_module": "@jupyter-widgets/base",
            "_model_module_version": "1.2.0",
            "_model_name": "LayoutModel",
            "_view_count": null,
            "_view_module": "@jupyter-widgets/base",
            "_view_module_version": "1.2.0",
            "_view_name": "LayoutView",
            "align_content": null,
            "align_items": null,
            "align_self": null,
            "border": null,
            "bottom": null,
            "display": null,
            "flex": null,
            "flex_flow": null,
            "grid_area": null,
            "grid_auto_columns": null,
            "grid_auto_flow": null,
            "grid_auto_rows": null,
            "grid_column": null,
            "grid_gap": null,
            "grid_row": null,
            "grid_template_areas": null,
            "grid_template_columns": null,
            "grid_template_rows": null,
            "height": null,
            "justify_content": null,
            "justify_items": null,
            "left": null,
            "margin": null,
            "max_height": null,
            "max_width": null,
            "min_height": null,
            "min_width": null,
            "object_fit": null,
            "object_position": null,
            "order": null,
            "overflow": null,
            "overflow_x": null,
            "overflow_y": null,
            "padding": null,
            "right": null,
            "top": null,
            "visibility": null,
            "width": null
          }
        },
        "a707a905ede148bbb3363b561e4719e4": {
          "model_module": "@jupyter-widgets/controls",
          "model_name": "DescriptionStyleModel",
          "model_module_version": "1.5.0",
          "state": {
            "_model_module": "@jupyter-widgets/controls",
            "_model_module_version": "1.5.0",
            "_model_name": "DescriptionStyleModel",
            "_view_count": null,
            "_view_module": "@jupyter-widgets/base",
            "_view_module_version": "1.2.0",
            "_view_name": "StyleView",
            "description_width": ""
          }
        },
        "648d0b8f14db4dec81df06c4427823a3": {
          "model_module": "@jupyter-widgets/base",
          "model_name": "LayoutModel",
          "model_module_version": "1.2.0",
          "state": {
            "_model_module": "@jupyter-widgets/base",
            "_model_module_version": "1.2.0",
            "_model_name": "LayoutModel",
            "_view_count": null,
            "_view_module": "@jupyter-widgets/base",
            "_view_module_version": "1.2.0",
            "_view_name": "LayoutView",
            "align_content": null,
            "align_items": null,
            "align_self": null,
            "border": null,
            "bottom": null,
            "display": null,
            "flex": null,
            "flex_flow": null,
            "grid_area": null,
            "grid_auto_columns": null,
            "grid_auto_flow": null,
            "grid_auto_rows": null,
            "grid_column": null,
            "grid_gap": null,
            "grid_row": null,
            "grid_template_areas": null,
            "grid_template_columns": null,
            "grid_template_rows": null,
            "height": null,
            "justify_content": null,
            "justify_items": null,
            "left": null,
            "margin": null,
            "max_height": null,
            "max_width": null,
            "min_height": null,
            "min_width": null,
            "object_fit": null,
            "object_position": null,
            "order": null,
            "overflow": null,
            "overflow_x": null,
            "overflow_y": null,
            "padding": null,
            "right": null,
            "top": null,
            "visibility": null,
            "width": null
          }
        },
        "e35fae4d343844198703b9c8905cd2da": {
          "model_module": "@jupyter-widgets/controls",
          "model_name": "ProgressStyleModel",
          "model_module_version": "1.5.0",
          "state": {
            "_model_module": "@jupyter-widgets/controls",
            "_model_module_version": "1.5.0",
            "_model_name": "ProgressStyleModel",
            "_view_count": null,
            "_view_module": "@jupyter-widgets/base",
            "_view_module_version": "1.2.0",
            "_view_name": "StyleView",
            "bar_color": null,
            "description_width": ""
          }
        },
        "ba2544af8c874c99bf6882a35d5ec262": {
          "model_module": "@jupyter-widgets/base",
          "model_name": "LayoutModel",
          "model_module_version": "1.2.0",
          "state": {
            "_model_module": "@jupyter-widgets/base",
            "_model_module_version": "1.2.0",
            "_model_name": "LayoutModel",
            "_view_count": null,
            "_view_module": "@jupyter-widgets/base",
            "_view_module_version": "1.2.0",
            "_view_name": "LayoutView",
            "align_content": null,
            "align_items": null,
            "align_self": null,
            "border": null,
            "bottom": null,
            "display": null,
            "flex": null,
            "flex_flow": null,
            "grid_area": null,
            "grid_auto_columns": null,
            "grid_auto_flow": null,
            "grid_auto_rows": null,
            "grid_column": null,
            "grid_gap": null,
            "grid_row": null,
            "grid_template_areas": null,
            "grid_template_columns": null,
            "grid_template_rows": null,
            "height": null,
            "justify_content": null,
            "justify_items": null,
            "left": null,
            "margin": null,
            "max_height": null,
            "max_width": null,
            "min_height": null,
            "min_width": null,
            "object_fit": null,
            "object_position": null,
            "order": null,
            "overflow": null,
            "overflow_x": null,
            "overflow_y": null,
            "padding": null,
            "right": null,
            "top": null,
            "visibility": null,
            "width": null
          }
        },
        "5249fea31f79473f9f2087deab7c6e83": {
          "model_module": "@jupyter-widgets/controls",
          "model_name": "DescriptionStyleModel",
          "model_module_version": "1.5.0",
          "state": {
            "_model_module": "@jupyter-widgets/controls",
            "_model_module_version": "1.5.0",
            "_model_name": "DescriptionStyleModel",
            "_view_count": null,
            "_view_module": "@jupyter-widgets/base",
            "_view_module_version": "1.2.0",
            "_view_name": "StyleView",
            "description_width": ""
          }
        }
      }
    }
  },
  "nbformat": 4,
  "nbformat_minor": 5
}