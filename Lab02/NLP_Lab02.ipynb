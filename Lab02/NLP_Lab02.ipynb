{
  "cells": [
    {
      "cell_type": "markdown",
      "id": "TJxj0RiYp2Mk",
      "metadata": {
        "id": "TJxj0RiYp2Mk"
      },
      "source": [
        "# Lab 02"
      ]
    },
    {
      "cell_type": "markdown",
      "id": "NB8hs5v9p5l-",
      "metadata": {
        "id": "NB8hs5v9p5l-"
      },
      "source": [
        "## Installation and import of necessary librairies"
      ]
    },
    {
      "cell_type": "code",
      "execution_count": 1,
      "id": "Ssy4mPR54HYx",
      "metadata": {
        "colab": {
          "base_uri": "https://localhost:8080/"
        },
        "id": "Ssy4mPR54HYx",
        "outputId": "8f7c829f-b35b-4e63-b4a8-b846d8ed96a4"
      },
      "outputs": [
        {
          "output_type": "stream",
          "name": "stdout",
          "text": [
            "Looking in indexes: https://pypi.org/simple, https://us-python.pkg.dev/colab-wheels/public/simple/\n",
            "Collecting datasets\n",
            "  Downloading datasets-2.5.2-py3-none-any.whl (432 kB)\n",
            "\u001b[K     |████████████████████████████████| 432 kB 8.1 MB/s \n",
            "\u001b[?25hCollecting huggingface-hub<1.0.0,>=0.2.0\n",
            "  Downloading huggingface_hub-0.10.0-py3-none-any.whl (163 kB)\n",
            "\u001b[K     |████████████████████████████████| 163 kB 60.0 MB/s \n",
            "\u001b[?25hRequirement already satisfied: importlib-metadata in /usr/local/lib/python3.7/dist-packages (from datasets) (5.0.0)\n",
            "Requirement already satisfied: fsspec[http]>=2021.11.1 in /usr/local/lib/python3.7/dist-packages (from datasets) (2022.8.2)\n",
            "Requirement already satisfied: requests>=2.19.0 in /usr/local/lib/python3.7/dist-packages (from datasets) (2.23.0)\n",
            "Collecting xxhash\n",
            "  Downloading xxhash-3.0.0-cp37-cp37m-manylinux_2_17_x86_64.manylinux2014_x86_64.whl (212 kB)\n",
            "\u001b[K     |████████████████████████████████| 212 kB 59.5 MB/s \n",
            "\u001b[?25hRequirement already satisfied: dill<0.3.6 in /usr/local/lib/python3.7/dist-packages (from datasets) (0.3.5.1)\n",
            "Requirement already satisfied: pyarrow>=6.0.0 in /usr/local/lib/python3.7/dist-packages (from datasets) (6.0.1)\n",
            "Requirement already satisfied: tqdm>=4.62.1 in /usr/local/lib/python3.7/dist-packages (from datasets) (4.64.1)\n",
            "Requirement already satisfied: packaging in /usr/local/lib/python3.7/dist-packages (from datasets) (21.3)\n",
            "Requirement already satisfied: aiohttp in /usr/local/lib/python3.7/dist-packages (from datasets) (3.8.3)\n",
            "Collecting responses<0.19\n",
            "  Downloading responses-0.18.0-py3-none-any.whl (38 kB)\n",
            "Collecting multiprocess\n",
            "  Downloading multiprocess-0.70.13-py37-none-any.whl (115 kB)\n",
            "\u001b[K     |████████████████████████████████| 115 kB 55.7 MB/s \n",
            "\u001b[?25hRequirement already satisfied: pandas in /usr/local/lib/python3.7/dist-packages (from datasets) (1.3.5)\n",
            "Requirement already satisfied: numpy>=1.17 in /usr/local/lib/python3.7/dist-packages (from datasets) (1.21.6)\n",
            "Requirement already satisfied: frozenlist>=1.1.1 in /usr/local/lib/python3.7/dist-packages (from aiohttp->datasets) (1.3.1)\n",
            "Requirement already satisfied: charset-normalizer<3.0,>=2.0 in /usr/local/lib/python3.7/dist-packages (from aiohttp->datasets) (2.1.1)\n",
            "Requirement already satisfied: async-timeout<5.0,>=4.0.0a3 in /usr/local/lib/python3.7/dist-packages (from aiohttp->datasets) (4.0.2)\n",
            "Requirement already satisfied: asynctest==0.13.0 in /usr/local/lib/python3.7/dist-packages (from aiohttp->datasets) (0.13.0)\n",
            "Requirement already satisfied: multidict<7.0,>=4.5 in /usr/local/lib/python3.7/dist-packages (from aiohttp->datasets) (6.0.2)\n",
            "Requirement already satisfied: yarl<2.0,>=1.0 in /usr/local/lib/python3.7/dist-packages (from aiohttp->datasets) (1.8.1)\n",
            "Requirement already satisfied: attrs>=17.3.0 in /usr/local/lib/python3.7/dist-packages (from aiohttp->datasets) (22.1.0)\n",
            "Requirement already satisfied: aiosignal>=1.1.2 in /usr/local/lib/python3.7/dist-packages (from aiohttp->datasets) (1.2.0)\n",
            "Requirement already satisfied: typing-extensions>=3.7.4 in /usr/local/lib/python3.7/dist-packages (from aiohttp->datasets) (4.1.1)\n",
            "Requirement already satisfied: filelock in /usr/local/lib/python3.7/dist-packages (from huggingface-hub<1.0.0,>=0.2.0->datasets) (3.8.0)\n",
            "Requirement already satisfied: pyyaml>=5.1 in /usr/local/lib/python3.7/dist-packages (from huggingface-hub<1.0.0,>=0.2.0->datasets) (6.0)\n",
            "Requirement already satisfied: pyparsing!=3.0.5,>=2.0.2 in /usr/local/lib/python3.7/dist-packages (from packaging->datasets) (3.0.9)\n",
            "Requirement already satisfied: certifi>=2017.4.17 in /usr/local/lib/python3.7/dist-packages (from requests>=2.19.0->datasets) (2022.9.24)\n",
            "Requirement already satisfied: chardet<4,>=3.0.2 in /usr/local/lib/python3.7/dist-packages (from requests>=2.19.0->datasets) (3.0.4)\n",
            "Requirement already satisfied: urllib3!=1.25.0,!=1.25.1,<1.26,>=1.21.1 in /usr/local/lib/python3.7/dist-packages (from requests>=2.19.0->datasets) (1.24.3)\n",
            "Requirement already satisfied: idna<3,>=2.5 in /usr/local/lib/python3.7/dist-packages (from requests>=2.19.0->datasets) (2.10)\n",
            "Collecting urllib3!=1.25.0,!=1.25.1,<1.26,>=1.21.1\n",
            "  Downloading urllib3-1.25.11-py2.py3-none-any.whl (127 kB)\n",
            "\u001b[K     |████████████████████████████████| 127 kB 56.8 MB/s \n",
            "\u001b[?25hRequirement already satisfied: zipp>=0.5 in /usr/local/lib/python3.7/dist-packages (from importlib-metadata->datasets) (3.8.1)\n",
            "Requirement already satisfied: python-dateutil>=2.7.3 in /usr/local/lib/python3.7/dist-packages (from pandas->datasets) (2.8.2)\n",
            "Requirement already satisfied: pytz>=2017.3 in /usr/local/lib/python3.7/dist-packages (from pandas->datasets) (2022.4)\n",
            "Requirement already satisfied: six>=1.5 in /usr/local/lib/python3.7/dist-packages (from python-dateutil>=2.7.3->pandas->datasets) (1.15.0)\n",
            "Installing collected packages: urllib3, xxhash, responses, multiprocess, huggingface-hub, datasets\n",
            "  Attempting uninstall: urllib3\n",
            "    Found existing installation: urllib3 1.24.3\n",
            "    Uninstalling urllib3-1.24.3:\n",
            "      Successfully uninstalled urllib3-1.24.3\n",
            "Successfully installed datasets-2.5.2 huggingface-hub-0.10.0 multiprocess-0.70.13 responses-0.18.0 urllib3-1.25.11 xxhash-3.0.0\n"
          ]
        }
      ],
      "source": [
        "!pip install datasets"
      ]
    },
    {
      "cell_type": "code",
      "execution_count": 2,
      "id": "bf3a7873",
      "metadata": {
        "id": "bf3a7873",
        "colab": {
          "base_uri": "https://localhost:8080/"
        },
        "outputId": "73b7f38e-0233-4655-e990-965a03050f7d"
      },
      "outputs": [
        {
          "output_type": "stream",
          "name": "stderr",
          "text": [
            "[nltk_data] Downloading package stopwords to /root/nltk_data...\n",
            "[nltk_data]   Unzipping corpora/stopwords.zip.\n",
            "[nltk_data] Downloading package punkt to /root/nltk_data...\n",
            "[nltk_data]   Unzipping tokenizers/punkt.zip.\n"
          ]
        }
      ],
      "source": [
        "from datasets import load_dataset_builder\n",
        "from datasets import load_dataset\n",
        "import pandas as pd\n",
        "import numpy as np\n",
        "\n",
        "import nltk\n",
        "nltk.download('stopwords')\n",
        "from nltk.stem.snowball import SnowballStemmer\n",
        "from nltk.tokenize import word_tokenize \n",
        "from nltk.corpus import stopwords\n",
        "import re\n",
        "\n",
        "from sklearn.feature_extraction.text import CountVectorizer\n",
        "from sklearn.model_selection import train_test_split\n",
        "from sklearn.naive_bayes import MultinomialNB\n",
        "from sklearn.metrics import accuracy_score\n",
        "from sklearn.metrics import classification_report\n",
        "from sklearn.metrics import f1_score\n",
        "from sklearn.pipeline import Pipeline\n",
        "\n",
        "import ../tools/utility_functions\n",
        "\n",
        "SEED = 42"
      ]
    },
    {
      "cell_type": "markdown",
      "id": "5fde6883",
      "metadata": {
        "id": "5fde6883"
      },
      "source": [
        "## The dataset\n",
        "\n",
        "The IMDB sentiment dataset is a collection of 50K movie reviews, annotated as positive or negative, and split in two sets of equal size: a training and a test set. Both set have an equal number of positive and negative review. The dataset is available on several libraries, but we ask that you use the HuggingFace [datasets](https://huggingface.co/datasets/imdb) version. Follow their [tutorial](https://huggingface.co/docs/datasets/load_hub) on how to use the library for more details.\n",
        "\n",
        "Download and look at the dataset, and answer the following questions.\n",
        "1. How many splits does the dataset has? (1 point)\n",
        "2. How big are these splits? (1 point)\n",
        "3. What is the proportion of each class on the supervised splits? (1 point)"
      ]
    },
    {
      "cell_type": "markdown",
      "id": "fIO8RU4lqAsp",
      "metadata": {
        "id": "fIO8RU4lqAsp"
      },
      "source": [
        "To start, we will load our dataset and then we will have a look on how it is strutured."
      ]
    },
    {
      "cell_type": "code",
      "execution_count": 3,
      "id": "b33665df",
      "metadata": {
        "colab": {
          "base_uri": "https://localhost:8080/",
          "height": 252,
          "referenced_widgets": [
            "5b2b904c33cf491aa7c142c8e3972b3e",
            "e6961d0b5b84416383c3d9860c5910d3",
            "bde9da98621e42d2b0c1e679f55522f5",
            "c066399c52bf41bfa45588d3a29d4649",
            "2574886359f147b1b4455e9f43240210",
            "1bb6be77f388473e99a786babf56413c",
            "6e73df6309c94b38a4c65850d1901502",
            "b177de9e95104f3fa648445152641676",
            "7941cb20584546eb958af4babea43710",
            "12194c0fcbc14c838ce008fce5b52f96",
            "cb1d5c714ccc48d0b48155232416af38",
            "53c7859a2dd8458c8f971f36039188d4",
            "4ad825d8e96d4950b7954e86842897ef",
            "9c5031b371134668a5ed7f18842b5bb9",
            "3686b36071454bf1a4fb4f16619e6c25",
            "a2397f3ad63945dfa838f2ffc94c88e0",
            "fd7129464c2f43a9855f864d086751fe",
            "5d735094e5c14ee9948b0834e81c5460",
            "a8a71866624e4dac99b4fbfaa5ddb963",
            "30f1bb48be1f4c35911299bd478190bd",
            "bd43e63642b44f5690a8646eb9844da0",
            "f082bc2b9d274f5592c8d110f157e6e8",
            "851dd4ca243c48c1804f9b65239e3416",
            "fa55425246c7486fbf705357b8ac8162",
            "b98c2b8f7841478c8c64eca81e9ee562",
            "35d14d0a794c4529bc6c49b56e4f31df",
            "6b4cfc8e8af54e00be7d27e50e6ef7a3",
            "5b70bc1a91504378a10f53f6d60c22ff",
            "a597fc16f550441ea133c2dd61534b45",
            "c44592ef5721416f8a6b4f20d473e3f9",
            "f3e98130a28045008b5ba62e0542edbc",
            "5ea3093382774859a266835f290eb418",
            "4c1b65b210204a099401f4ea0a232774",
            "095c1bff520a41b8a86613eba039aa58",
            "7e0a8e0f5f734d15b455926d8fcfa1f7",
            "29b554cd46a24eadb679aa1a1eebbe5e",
            "db4e53e0799c49f4979f094d71cb22c1",
            "bd2d58b8b2ec4bcfa1d38067614db8e9",
            "ac27643b6eb14b629b336172cf48c17f",
            "833cdbb7141a4dcf94c3aa22e8d951b6",
            "204022e3820247c0b2b72a660b167fe5",
            "01b86a0fa3dc42fc86a1bded7945fc60",
            "6f61c274681b40538360e131bea7cb13",
            "680b42a27dfe41ab8acf7ea34591619b",
            "c110a7757b1d4668b1687349a149c9df",
            "ce75e2f0f838415ea55610dc007cc20b",
            "7606b97e62da4604b1f97149e26c5534",
            "57ef02ca43174236a7eb683cdf5935db",
            "56048364330b48d58913fc1ed693eb0b",
            "ecbc45ca8a174a9a90f0ce27aeeea058",
            "9b8a8fc73ed046628f121ae58c97bedf",
            "acabd59c9bdb4e5cacdbc8747c1e76e8",
            "2a27ebde25de451191056b71ea2f2860",
            "2916df2eaafc4b4dba248895e00b17fa",
            "503eeafc250b472d99a23154e6cacac5",
            "2be8480cf1ed47049d9c31ce0d85bb32",
            "f152c34ed64d435f800692ecb54d55a2",
            "037f4040e28d44c2aad6836261ba8eae",
            "f1d6509ee6ec4b009b055bc23ed87280",
            "21b4f38110b244818f43e7a4a15eaf09",
            "4ff21190cd8d446db0eb66574508a573",
            "2e1b2a2aea7a494db04bdc8ef7eaab7d",
            "bff198db6aaf4cb89bd82e7fda26c91f",
            "001e1e100a9d40c08637ea44f86759b6",
            "80afd28ad2774f219e8f10c9b1abeb83",
            "81a2ae722a034ab491fdcf98df243aa6",
            "5caefddc9b4e44eeb3b8caaadcfb4924",
            "9c43ef2314c94b0ba8f5a103cb8e5b42",
            "dae1def025314a3c9ce30bd080f97eb9",
            "23061eb85cc040d29e41a280f6dc87fe",
            "d7eca4468e6144759e3e2b5e75ffc27b",
            "57b8b5a964a24b79931963ee9b907525",
            "d2786f6742264d2aa72ccdbfdac75b89",
            "c83994c8265143a6a78d47bd6c683b3f",
            "a5dc6be7c2cf4590b7ac33d121763b21",
            "f0736a5f99864a25862ef7a0672d6e0d",
            "c6b654869b304c72ba977eb5b528cbd0"
          ]
        },
        "id": "b33665df",
        "outputId": "2191f49d-3440-4c93-dc64-d5d129358f55"
      },
      "outputs": [
        {
          "output_type": "display_data",
          "data": {
            "text/plain": [
              "Downloading builder script:   0%|          | 0.00/4.31k [00:00<?, ?B/s]"
            ],
            "application/vnd.jupyter.widget-view+json": {
              "version_major": 2,
              "version_minor": 0,
              "model_id": "5b2b904c33cf491aa7c142c8e3972b3e"
            }
          },
          "metadata": {}
        },
        {
          "output_type": "display_data",
          "data": {
            "text/plain": [
              "Downloading metadata:   0%|          | 0.00/2.17k [00:00<?, ?B/s]"
            ],
            "application/vnd.jupyter.widget-view+json": {
              "version_major": 2,
              "version_minor": 0,
              "model_id": "53c7859a2dd8458c8f971f36039188d4"
            }
          },
          "metadata": {}
        },
        {
          "output_type": "stream",
          "name": "stdout",
          "text": [
            "Large Movie Review Dataset.\n",
            "This is a dataset for binary sentiment classification containing substantially more data than previous benchmark datasets. We provide a set of 25,000 highly polar movie reviews for training, and 25,000 for testing. There is additional unlabeled data for use as well.\n",
            "{'text': Value(dtype='string', id=None), 'label': ClassLabel(num_classes=2, names=['neg', 'pos'], id=None)}\n",
            "Downloading and preparing dataset imdb/plain_text (download: 80.23 MiB, generated: 127.02 MiB, post-processed: Unknown size, total: 207.25 MiB) to /root/.cache/huggingface/datasets/imdb/plain_text/1.0.0/2fdd8b9bcadd6e7055e742a706876ba43f19faee861df134affd7a3f60fc38a1...\n"
          ]
        },
        {
          "output_type": "display_data",
          "data": {
            "text/plain": [
              "Downloading data:   0%|          | 0.00/84.1M [00:00<?, ?B/s]"
            ],
            "application/vnd.jupyter.widget-view+json": {
              "version_major": 2,
              "version_minor": 0,
              "model_id": "851dd4ca243c48c1804f9b65239e3416"
            }
          },
          "metadata": {}
        },
        {
          "output_type": "display_data",
          "data": {
            "text/plain": [
              "Generating train split:   0%|          | 0/25000 [00:00<?, ? examples/s]"
            ],
            "application/vnd.jupyter.widget-view+json": {
              "version_major": 2,
              "version_minor": 0,
              "model_id": "095c1bff520a41b8a86613eba039aa58"
            }
          },
          "metadata": {}
        },
        {
          "output_type": "display_data",
          "data": {
            "text/plain": [
              "Generating test split:   0%|          | 0/25000 [00:00<?, ? examples/s]"
            ],
            "application/vnd.jupyter.widget-view+json": {
              "version_major": 2,
              "version_minor": 0,
              "model_id": "c110a7757b1d4668b1687349a149c9df"
            }
          },
          "metadata": {}
        },
        {
          "output_type": "display_data",
          "data": {
            "text/plain": [
              "Generating unsupervised split:   0%|          | 0/50000 [00:00<?, ? examples/s]"
            ],
            "application/vnd.jupyter.widget-view+json": {
              "version_major": 2,
              "version_minor": 0,
              "model_id": "2be8480cf1ed47049d9c31ce0d85bb32"
            }
          },
          "metadata": {}
        },
        {
          "output_type": "stream",
          "name": "stdout",
          "text": [
            "Dataset imdb downloaded and prepared to /root/.cache/huggingface/datasets/imdb/plain_text/1.0.0/2fdd8b9bcadd6e7055e742a706876ba43f19faee861df134affd7a3f60fc38a1. Subsequent calls will reuse this data.\n"
          ]
        },
        {
          "output_type": "display_data",
          "data": {
            "text/plain": [
              "  0%|          | 0/3 [00:00<?, ?it/s]"
            ],
            "application/vnd.jupyter.widget-view+json": {
              "version_major": 2,
              "version_minor": 0,
              "model_id": "5caefddc9b4e44eeb3b8caaadcfb4924"
            }
          },
          "metadata": {}
        }
      ],
      "source": [
        "database_name = \"imdb\"\n",
        "ds_builder = load_dataset_builder(database_name)\n",
        "print(ds_builder.info.description)\n",
        "print(ds_builder.info.features)\n",
        "\n",
        "dataset = load_dataset(database_name)"
      ]
    },
    {
      "cell_type": "code",
      "execution_count": 4,
      "id": "004e5408",
      "metadata": {
        "colab": {
          "base_uri": "https://localhost:8080/"
        },
        "id": "004e5408",
        "outputId": "a079dae1-9f9b-453b-f013-1d413dd7e2b8"
      },
      "outputs": [
        {
          "output_type": "stream",
          "name": "stdout",
          "text": [
            "Split names ['train', 'test', 'unsupervised']\n"
          ]
        },
        {
          "output_type": "execute_result",
          "data": {
            "text/plain": [
              "DatasetDict({\n",
              "    train: Dataset({\n",
              "        features: ['text', 'label'],\n",
              "        num_rows: 25000\n",
              "    })\n",
              "    test: Dataset({\n",
              "        features: ['text', 'label'],\n",
              "        num_rows: 25000\n",
              "    })\n",
              "    unsupervised: Dataset({\n",
              "        features: ['text', 'label'],\n",
              "        num_rows: 50000\n",
              "    })\n",
              "})"
            ]
          },
          "metadata": {},
          "execution_count": 4
        }
      ],
      "source": [
        "from datasets import get_dataset_split_names\n",
        "print(\"Split names\", get_dataset_split_names(database_name))\n",
        "dataset"
      ]
    },
    {
      "cell_type": "markdown",
      "id": "c656680a",
      "metadata": {
        "id": "c656680a"
      },
      "source": [
        "As we can see, our dataset has 3 splits. The \"train\" and \"test\" splits have 25000 rows each and the unsupervised split has 50000 rows. We will in our case use the \"train\" and \"test\" splits that have 25000 rows each as we will do some supervised learning."
      ]
    },
    {
      "cell_type": "code",
      "execution_count": 5,
      "id": "efdd18ae",
      "metadata": {
        "colab": {
          "base_uri": "https://localhost:8080/"
        },
        "id": "efdd18ae",
        "outputId": "8064043e-9694-44cc-9005-58a8f1a03993"
      },
      "outputs": [
        {
          "output_type": "stream",
          "name": "stdout",
          "text": [
            "Test values count : 25000\n",
            "Train values count : 25000\n"
          ]
        }
      ],
      "source": [
        "# To start we are going to split our datasets into 3 differents datasets\n",
        "train = dataset[\"train\"].to_pandas()\n",
        "test = dataset[\"test\"].to_pandas()\n",
        "\n",
        "# Then we will have a look on the \n",
        "print(\"Test values count : {0}\".format(len(test)))\n",
        "print(\"Train values count : {0}\".format(len(train)))"
      ]
    },
    {
      "cell_type": "code",
      "source": [
        "print(\"Verification for the train dataset : \")\n",
        "print(\"Number of values with the label 0 : {0}\".format(len(train[train[\"label\"] == 0])))\n",
        "print(\"Number of values with the label 1 : {0}\\n\".format(len(train[train[\"label\"] == 1])))\n",
        "\n",
        "print(\"Verification for the test dataset : \")\n",
        "print(\"Number of values with the label 0 : {0}\".format(len(test[test[\"label\"] == 0])))\n",
        "print(\"Number of values with the label 1 : {0}\".format(len(test[test[\"label\"] == 1])))"
      ],
      "metadata": {
        "colab": {
          "base_uri": "https://localhost:8080/"
        },
        "id": "8jrhpuTdzHg8",
        "outputId": "d5391bda-f9f6-4b32-9ea6-ac1747f2eeb6"
      },
      "id": "8jrhpuTdzHg8",
      "execution_count": 25,
      "outputs": [
        {
          "output_type": "stream",
          "name": "stdout",
          "text": [
            "Verification for the train dataset : \n",
            "Number of values with the label 0 : 12500\n",
            "Number of values with the label 1 : 12500\n",
            "\n",
            "Verification for the test dataset : \n",
            "Number of values with the label 0 : 12500\n",
            "Number of values with the label 1 : 12500\n"
          ]
        }
      ]
    },
    {
      "cell_type": "markdown",
      "id": "31e148d6",
      "metadata": {
        "id": "31e148d6"
      },
      "source": [
        "We can see that there are as many positive as negative reviews in the supervised split. Indeed, each class has 25000 occurrences."
      ]
    },
    {
      "cell_type": "markdown",
      "id": "38d99781",
      "metadata": {
        "id": "38d99781"
      },
      "source": [
        "## Naive Bayes classifier **(9 points)**\n",
        "\n",
        "Implement your own naive Bayes classifier (the pseudo code can be found in the slides or the [book reference](https://web.stanford.edu/~jurafsky/slp3/)) or use [one provided by scikit-learn](https://scikit-learn.org/stable/modules/naive_bayes.html#multinomial-naive-bayes) combined with a [CountVectorizer](https://scikit-learn.org/stable/modules/generated/sklearn.feature_extraction.text.CountVectorizer.html).\n",
        "\n",
        "Go through the following steps.\n",
        "1. (2 points) Take a look at the data and create an adapted preprocessing function which at least:\n",
        "   1. Lower case the text.\n",
        "   2. Remove punctuation (you can use `from string import punctuation` to ease your work).\n",
        "2. (4 points) Implement and train a naive Bayes classifier on the training data. Either:\n",
        "   * Code your own classifier following the algorithm given in class.\n",
        "   * Or use a scikit-learn [Pipeline](https://scikit-learn.org/stable/modules/compose.html#pipeline) with a [CountVectorizer](https://scikit-learn.org/stable/modules/generated/sklearn.feature_extraction.text.CountVectorizer.html) and [MultinomialNB](https://scikit-learn.org/stable/modules/generated/sklearn.naive_bayes.MultinomialNB.html) classifier. (Recommended)\n",
        "3. (1 point) Report the accuracy on both training and test set.\n",
        "4. (1 point) Why is accuracy a sufficient measure of evaluation here?\n",
        "5. **\\[Bonus\\]** What are the top 10 most important words (features) for each class? (bonus points)\n",
        "   1. Look at the words with the highest likelihood in each class (if you use scikit-learn, you want to check `feature_log_prob_`).\n",
        "   2. Remove stopwords (see [NLTK stopwords corpus](https://pythonspot.com/nltk-stop-words/)) and check again.\n",
        "6. Take at least 2 wrongly classified example from the test set and try explaining why the model failed. (1 point)"
      ]
    },
    {
      "cell_type": "markdown",
      "id": "954b60fe",
      "metadata": {
        "id": "954b60fe"
      },
      "source": [
        "### 1. Preprocessing"
      ]
    },
    {
      "cell_type": "markdown",
      "id": "yvDB-0XxTVB0",
      "metadata": {
        "id": "yvDB-0XxTVB0"
      },
      "source": [
        "Before doing any preprocessing on our data, let's now have a look on our dataframe."
      ]
    },
    {
      "cell_type": "code",
      "execution_count": 6,
      "id": "BQb-IzFaTUd9",
      "metadata": {
        "colab": {
          "base_uri": "https://localhost:8080/",
          "height": 206
        },
        "id": "BQb-IzFaTUd9",
        "outputId": "75312d71-5d54-4002-e2de-8f92f92ed227",
        "scrolled": false
      },
      "outputs": [
        {
          "output_type": "execute_result",
          "data": {
            "text/plain": [
              "                                                text  label\n",
              "0  I rented I AM CURIOUS-YELLOW from my video sto...      0\n",
              "1  \"I Am Curious: Yellow\" is a risible and preten...      0\n",
              "2  If only to avoid making this type of film in t...      0\n",
              "3  This film was probably inspired by Godard's Ma...      0\n",
              "4  Oh, brother...after hearing about this ridicul...      0"
            ],
            "text/html": [
              "\n",
              "  <div id=\"df-9cf2b95f-c5e0-4d87-8301-9f3b4f721ad0\">\n",
              "    <div class=\"colab-df-container\">\n",
              "      <div>\n",
              "<style scoped>\n",
              "    .dataframe tbody tr th:only-of-type {\n",
              "        vertical-align: middle;\n",
              "    }\n",
              "\n",
              "    .dataframe tbody tr th {\n",
              "        vertical-align: top;\n",
              "    }\n",
              "\n",
              "    .dataframe thead th {\n",
              "        text-align: right;\n",
              "    }\n",
              "</style>\n",
              "<table border=\"1\" class=\"dataframe\">\n",
              "  <thead>\n",
              "    <tr style=\"text-align: right;\">\n",
              "      <th></th>\n",
              "      <th>text</th>\n",
              "      <th>label</th>\n",
              "    </tr>\n",
              "  </thead>\n",
              "  <tbody>\n",
              "    <tr>\n",
              "      <th>0</th>\n",
              "      <td>I rented I AM CURIOUS-YELLOW from my video sto...</td>\n",
              "      <td>0</td>\n",
              "    </tr>\n",
              "    <tr>\n",
              "      <th>1</th>\n",
              "      <td>\"I Am Curious: Yellow\" is a risible and preten...</td>\n",
              "      <td>0</td>\n",
              "    </tr>\n",
              "    <tr>\n",
              "      <th>2</th>\n",
              "      <td>If only to avoid making this type of film in t...</td>\n",
              "      <td>0</td>\n",
              "    </tr>\n",
              "    <tr>\n",
              "      <th>3</th>\n",
              "      <td>This film was probably inspired by Godard's Ma...</td>\n",
              "      <td>0</td>\n",
              "    </tr>\n",
              "    <tr>\n",
              "      <th>4</th>\n",
              "      <td>Oh, brother...after hearing about this ridicul...</td>\n",
              "      <td>0</td>\n",
              "    </tr>\n",
              "  </tbody>\n",
              "</table>\n",
              "</div>\n",
              "      <button class=\"colab-df-convert\" onclick=\"convertToInteractive('df-9cf2b95f-c5e0-4d87-8301-9f3b4f721ad0')\"\n",
              "              title=\"Convert this dataframe to an interactive table.\"\n",
              "              style=\"display:none;\">\n",
              "        \n",
              "  <svg xmlns=\"http://www.w3.org/2000/svg\" height=\"24px\"viewBox=\"0 0 24 24\"\n",
              "       width=\"24px\">\n",
              "    <path d=\"M0 0h24v24H0V0z\" fill=\"none\"/>\n",
              "    <path d=\"M18.56 5.44l.94 2.06.94-2.06 2.06-.94-2.06-.94-.94-2.06-.94 2.06-2.06.94zm-11 1L8.5 8.5l.94-2.06 2.06-.94-2.06-.94L8.5 2.5l-.94 2.06-2.06.94zm10 10l.94 2.06.94-2.06 2.06-.94-2.06-.94-.94-2.06-.94 2.06-2.06.94z\"/><path d=\"M17.41 7.96l-1.37-1.37c-.4-.4-.92-.59-1.43-.59-.52 0-1.04.2-1.43.59L10.3 9.45l-7.72 7.72c-.78.78-.78 2.05 0 2.83L4 21.41c.39.39.9.59 1.41.59.51 0 1.02-.2 1.41-.59l7.78-7.78 2.81-2.81c.8-.78.8-2.07 0-2.86zM5.41 20L4 18.59l7.72-7.72 1.47 1.35L5.41 20z\"/>\n",
              "  </svg>\n",
              "      </button>\n",
              "      \n",
              "  <style>\n",
              "    .colab-df-container {\n",
              "      display:flex;\n",
              "      flex-wrap:wrap;\n",
              "      gap: 12px;\n",
              "    }\n",
              "\n",
              "    .colab-df-convert {\n",
              "      background-color: #E8F0FE;\n",
              "      border: none;\n",
              "      border-radius: 50%;\n",
              "      cursor: pointer;\n",
              "      display: none;\n",
              "      fill: #1967D2;\n",
              "      height: 32px;\n",
              "      padding: 0 0 0 0;\n",
              "      width: 32px;\n",
              "    }\n",
              "\n",
              "    .colab-df-convert:hover {\n",
              "      background-color: #E2EBFA;\n",
              "      box-shadow: 0px 1px 2px rgba(60, 64, 67, 0.3), 0px 1px 3px 1px rgba(60, 64, 67, 0.15);\n",
              "      fill: #174EA6;\n",
              "    }\n",
              "\n",
              "    [theme=dark] .colab-df-convert {\n",
              "      background-color: #3B4455;\n",
              "      fill: #D2E3FC;\n",
              "    }\n",
              "\n",
              "    [theme=dark] .colab-df-convert:hover {\n",
              "      background-color: #434B5C;\n",
              "      box-shadow: 0px 1px 3px 1px rgba(0, 0, 0, 0.15);\n",
              "      filter: drop-shadow(0px 1px 2px rgba(0, 0, 0, 0.3));\n",
              "      fill: #FFFFFF;\n",
              "    }\n",
              "  </style>\n",
              "\n",
              "      <script>\n",
              "        const buttonEl =\n",
              "          document.querySelector('#df-9cf2b95f-c5e0-4d87-8301-9f3b4f721ad0 button.colab-df-convert');\n",
              "        buttonEl.style.display =\n",
              "          google.colab.kernel.accessAllowed ? 'block' : 'none';\n",
              "\n",
              "        async function convertToInteractive(key) {\n",
              "          const element = document.querySelector('#df-9cf2b95f-c5e0-4d87-8301-9f3b4f721ad0');\n",
              "          const dataTable =\n",
              "            await google.colab.kernel.invokeFunction('convertToInteractive',\n",
              "                                                     [key], {});\n",
              "          if (!dataTable) return;\n",
              "\n",
              "          const docLinkHtml = 'Like what you see? Visit the ' +\n",
              "            '<a target=\"_blank\" href=https://colab.research.google.com/notebooks/data_table.ipynb>data table notebook</a>'\n",
              "            + ' to learn more about interactive tables.';\n",
              "          element.innerHTML = '';\n",
              "          dataTable['output_type'] = 'display_data';\n",
              "          await google.colab.output.renderOutput(dataTable, element);\n",
              "          const docLink = document.createElement('div');\n",
              "          docLink.innerHTML = docLinkHtml;\n",
              "          element.appendChild(docLink);\n",
              "        }\n",
              "      </script>\n",
              "    </div>\n",
              "  </div>\n",
              "  "
            ]
          },
          "metadata": {},
          "execution_count": 6
        }
      ],
      "source": [
        "train.head()"
      ]
    },
    {
      "cell_type": "markdown",
      "id": "c43b1093",
      "metadata": {
        "id": "c43b1093"
      },
      "source": [
        "We can see here that we have some uppercase characters and ponctuation. So for our process, let's change all of our uppercase to lowercase and remove the punctuation.\n",
        "\n",
        "To do this, we will use our utility_functions.py file that contains all the needed function for our preprocessing."
      ]
    },
    {
      "cell_type": "code",
      "execution_count": 7,
      "id": "aabca6f7",
      "metadata": {
        "id": "aabca6f7"
      },
      "outputs": [],
      "source": [
        "# Replace uppercase with lowercases + remove punctuation\n",
        "train = utility_functions.preprocess_df(train)\n",
        "test = utility_functions.preprocess_df(test)"
      ]
    },
    {
      "cell_type": "markdown",
      "id": "Xq6WuqLctN5J",
      "metadata": {
        "id": "Xq6WuqLctN5J"
      },
      "source": [
        "Let's now have a look on the result that is our processed dataframe."
      ]
    },
    {
      "cell_type": "code",
      "execution_count": 8,
      "id": "0ff7f9d3",
      "metadata": {
        "colab": {
          "base_uri": "https://localhost:8080/",
          "height": 206
        },
        "id": "0ff7f9d3",
        "outputId": "c2ec6902-ae25-4f5b-ef44-1e9262c67a25"
      },
      "outputs": [
        {
          "output_type": "execute_result",
          "data": {
            "text/plain": [
              "                                                text  label\n",
              "0  i rented i am curiousyellow from my video stor...      0\n",
              "1  i am curious yellow is a risible and pretentio...      0\n",
              "2  if only to avoid making this type of film in t...      0\n",
              "3  this film was probably inspired by godards mas...      0\n",
              "4  oh brotherafter hearing about this ridiculous ...      0"
            ],
            "text/html": [
              "\n",
              "  <div id=\"df-4478dfb9-a20d-4b5b-aa1c-ae299b61b986\">\n",
              "    <div class=\"colab-df-container\">\n",
              "      <div>\n",
              "<style scoped>\n",
              "    .dataframe tbody tr th:only-of-type {\n",
              "        vertical-align: middle;\n",
              "    }\n",
              "\n",
              "    .dataframe tbody tr th {\n",
              "        vertical-align: top;\n",
              "    }\n",
              "\n",
              "    .dataframe thead th {\n",
              "        text-align: right;\n",
              "    }\n",
              "</style>\n",
              "<table border=\"1\" class=\"dataframe\">\n",
              "  <thead>\n",
              "    <tr style=\"text-align: right;\">\n",
              "      <th></th>\n",
              "      <th>text</th>\n",
              "      <th>label</th>\n",
              "    </tr>\n",
              "  </thead>\n",
              "  <tbody>\n",
              "    <tr>\n",
              "      <th>0</th>\n",
              "      <td>i rented i am curiousyellow from my video stor...</td>\n",
              "      <td>0</td>\n",
              "    </tr>\n",
              "    <tr>\n",
              "      <th>1</th>\n",
              "      <td>i am curious yellow is a risible and pretentio...</td>\n",
              "      <td>0</td>\n",
              "    </tr>\n",
              "    <tr>\n",
              "      <th>2</th>\n",
              "      <td>if only to avoid making this type of film in t...</td>\n",
              "      <td>0</td>\n",
              "    </tr>\n",
              "    <tr>\n",
              "      <th>3</th>\n",
              "      <td>this film was probably inspired by godards mas...</td>\n",
              "      <td>0</td>\n",
              "    </tr>\n",
              "    <tr>\n",
              "      <th>4</th>\n",
              "      <td>oh brotherafter hearing about this ridiculous ...</td>\n",
              "      <td>0</td>\n",
              "    </tr>\n",
              "  </tbody>\n",
              "</table>\n",
              "</div>\n",
              "      <button class=\"colab-df-convert\" onclick=\"convertToInteractive('df-4478dfb9-a20d-4b5b-aa1c-ae299b61b986')\"\n",
              "              title=\"Convert this dataframe to an interactive table.\"\n",
              "              style=\"display:none;\">\n",
              "        \n",
              "  <svg xmlns=\"http://www.w3.org/2000/svg\" height=\"24px\"viewBox=\"0 0 24 24\"\n",
              "       width=\"24px\">\n",
              "    <path d=\"M0 0h24v24H0V0z\" fill=\"none\"/>\n",
              "    <path d=\"M18.56 5.44l.94 2.06.94-2.06 2.06-.94-2.06-.94-.94-2.06-.94 2.06-2.06.94zm-11 1L8.5 8.5l.94-2.06 2.06-.94-2.06-.94L8.5 2.5l-.94 2.06-2.06.94zm10 10l.94 2.06.94-2.06 2.06-.94-2.06-.94-.94-2.06-.94 2.06-2.06.94z\"/><path d=\"M17.41 7.96l-1.37-1.37c-.4-.4-.92-.59-1.43-.59-.52 0-1.04.2-1.43.59L10.3 9.45l-7.72 7.72c-.78.78-.78 2.05 0 2.83L4 21.41c.39.39.9.59 1.41.59.51 0 1.02-.2 1.41-.59l7.78-7.78 2.81-2.81c.8-.78.8-2.07 0-2.86zM5.41 20L4 18.59l7.72-7.72 1.47 1.35L5.41 20z\"/>\n",
              "  </svg>\n",
              "      </button>\n",
              "      \n",
              "  <style>\n",
              "    .colab-df-container {\n",
              "      display:flex;\n",
              "      flex-wrap:wrap;\n",
              "      gap: 12px;\n",
              "    }\n",
              "\n",
              "    .colab-df-convert {\n",
              "      background-color: #E8F0FE;\n",
              "      border: none;\n",
              "      border-radius: 50%;\n",
              "      cursor: pointer;\n",
              "      display: none;\n",
              "      fill: #1967D2;\n",
              "      height: 32px;\n",
              "      padding: 0 0 0 0;\n",
              "      width: 32px;\n",
              "    }\n",
              "\n",
              "    .colab-df-convert:hover {\n",
              "      background-color: #E2EBFA;\n",
              "      box-shadow: 0px 1px 2px rgba(60, 64, 67, 0.3), 0px 1px 3px 1px rgba(60, 64, 67, 0.15);\n",
              "      fill: #174EA6;\n",
              "    }\n",
              "\n",
              "    [theme=dark] .colab-df-convert {\n",
              "      background-color: #3B4455;\n",
              "      fill: #D2E3FC;\n",
              "    }\n",
              "\n",
              "    [theme=dark] .colab-df-convert:hover {\n",
              "      background-color: #434B5C;\n",
              "      box-shadow: 0px 1px 3px 1px rgba(0, 0, 0, 0.15);\n",
              "      filter: drop-shadow(0px 1px 2px rgba(0, 0, 0, 0.3));\n",
              "      fill: #FFFFFF;\n",
              "    }\n",
              "  </style>\n",
              "\n",
              "      <script>\n",
              "        const buttonEl =\n",
              "          document.querySelector('#df-4478dfb9-a20d-4b5b-aa1c-ae299b61b986 button.colab-df-convert');\n",
              "        buttonEl.style.display =\n",
              "          google.colab.kernel.accessAllowed ? 'block' : 'none';\n",
              "\n",
              "        async function convertToInteractive(key) {\n",
              "          const element = document.querySelector('#df-4478dfb9-a20d-4b5b-aa1c-ae299b61b986');\n",
              "          const dataTable =\n",
              "            await google.colab.kernel.invokeFunction('convertToInteractive',\n",
              "                                                     [key], {});\n",
              "          if (!dataTable) return;\n",
              "\n",
              "          const docLinkHtml = 'Like what you see? Visit the ' +\n",
              "            '<a target=\"_blank\" href=https://colab.research.google.com/notebooks/data_table.ipynb>data table notebook</a>'\n",
              "            + ' to learn more about interactive tables.';\n",
              "          element.innerHTML = '';\n",
              "          dataTable['output_type'] = 'display_data';\n",
              "          await google.colab.output.renderOutput(dataTable, element);\n",
              "          const docLink = document.createElement('div');\n",
              "          docLink.innerHTML = docLinkHtml;\n",
              "          element.appendChild(docLink);\n",
              "        }\n",
              "      </script>\n",
              "    </div>\n",
              "  </div>\n",
              "  "
            ]
          },
          "metadata": {},
          "execution_count": 8
        }
      ],
      "source": [
        "train.head()"
      ]
    },
    {
      "cell_type": "markdown",
      "id": "m6_UPpKowTBI",
      "metadata": {
        "id": "m6_UPpKowTBI"
      },
      "source": [
        "### 2. Naive Bayes classifier "
      ]
    },
    {
      "cell_type": "markdown",
      "id": "jBXSo0F7GnfG",
      "metadata": {
        "id": "jBXSo0F7GnfG"
      },
      "source": [
        "As our data is now procesed, let's create a Naive Bayes classifier for our dataset.\n",
        "\n",
        "To do that, we will use a Pipeline that will have 2 parameters : \n",
        "\n",
        "- One CountVectorizer to process our data\n",
        "\n",
        "- Our Naive Bayes which will be a MultinomialNB"
      ]
    },
    {
      "cell_type": "code",
      "execution_count": 9,
      "id": "2lvUcZ2T6Cgy",
      "metadata": {
        "colab": {
          "base_uri": "https://localhost:8080/"
        },
        "id": "2lvUcZ2T6Cgy",
        "outputId": "6be253ff-8d00-4333-da47-d75148d984ec"
      },
      "outputs": [
        {
          "output_type": "execute_result",
          "data": {
            "text/plain": [
              "Pipeline(steps=[('Vect', CountVectorizer()), ('Mnb', MultinomialNB())])"
            ]
          },
          "metadata": {},
          "execution_count": 9
        }
      ],
      "source": [
        "# Creating our pipeline \n",
        "pipeline = Pipeline([('Vect', CountVectorizer()), ('Mnb', MultinomialNB())])\n",
        "\n",
        "# Fitting our pipeline on the train data (with the lables as we are doing supervised learning)\n",
        "pipeline.fit(train['text'], train['label'])"
      ]
    },
    {
      "cell_type": "markdown",
      "id": "5fa88465",
      "metadata": {
        "id": "5fa88465"
      },
      "source": [
        "### 3. Accuracy"
      ]
    },
    {
      "cell_type": "markdown",
      "source": [
        "Now that we have our pipeline that is fitted to our train data, let's have a look on the accuracy of our pipeline :"
      ],
      "metadata": {
        "id": "ThRb7bxnz6RC"
      },
      "id": "ThRb7bxnz6RC"
    },
    {
      "cell_type": "code",
      "execution_count": 10,
      "id": "IXafLPvZVBMp",
      "metadata": {
        "colab": {
          "base_uri": "https://localhost:8080/"
        },
        "id": "IXafLPvZVBMp",
        "outputId": "9a151fb9-a1ae-463f-ccf1-0aaa72fb17a2"
      },
      "outputs": [
        {
          "output_type": "stream",
          "name": "stdout",
          "text": [
            "train accuracy 0.91284\n",
            "train f1-score 0.9099847151650349\n",
            "\n",
            "test accuracy 0.8172\n",
            "test f1-score 0.8051338904997442\n"
          ]
        }
      ],
      "source": [
        "# Predicting the results of the test data \n",
        "predictions = pipeline.predict(test['text'])\n",
        "train_predictions = pipeline.predict(train['text'])\n",
        "\n",
        "# Computing the F1_score and accuracy\n",
        "# For the train dataset \n",
        "print(\"train accuracy\", pipeline.score(train['text'], train['label']))\n",
        "print(\"train f1-score\", f1_score(train['label'], train_predictions))\n",
        "\n",
        "# For the test dataset\n",
        "print(\"\\ntest accuracy\", pipeline.score(test['text'], test['label']))\n",
        "print(\"test f1-score\", f1_score(test['label'], predictions))"
      ]
    },
    {
      "cell_type": "markdown",
      "source": [
        "As we can see here, we have some pretty good results with the train and the test datasets (with at least 80% of accuracy)."
      ],
      "metadata": {
        "id": "_IOt8hXN0BKn"
      },
      "id": "_IOt8hXN0BKn"
    },
    {
      "cell_type": "markdown",
      "id": "0db21d75",
      "metadata": {
        "id": "0db21d75"
      },
      "source": [
        "### 4. Why is accuracy a sufficient measure of evaluation here?"
      ]
    },
    {
      "cell_type": "markdown",
      "id": "e20af13c",
      "metadata": {
        "id": "e20af13c"
      },
      "source": [
        "We can see that the f1-score and the accuracy are simillar because the dataset is perfectly balenced. So the accuracy is a sufficient metric."
      ]
    },
    {
      "cell_type": "markdown",
      "id": "2673f8ff",
      "metadata": {
        "id": "2673f8ff"
      },
      "source": [
        "### 5 Remove stopwords"
      ]
    },
    {
      "cell_type": "markdown",
      "source": [
        "So here we will create a set with all the possibles stopwords that we would want to remove from our data."
      ],
      "metadata": {
        "id": "A97rmFym0lAs"
      },
      "id": "A97rmFym0lAs"
    },
    {
      "cell_type": "code",
      "execution_count": 12,
      "id": "3c084191",
      "metadata": {
        "colab": {
          "base_uri": "https://localhost:8080/"
        },
        "id": "3c084191",
        "outputId": "cbc49d64-e643-429a-c1ef-25ab4f3fe52e"
      },
      "outputs": [
        {
          "output_type": "stream",
          "name": "stdout",
          "text": [
            "Stopwords: {'haven', 'his', 'wouldn', 'those', 'you', \"you've\", 'all', \"hadn't\", 'too', 'above', \"that'll\", 'she', 'their', 'ain', 'ma', \"you'll\", 'for', 've', 'what', 'we', 'both', 'aren', 'don', 'until', 'once', 'only', 'few', 'this', \"don't\", 'more', 'them', 'herself', 'can', 'same', 'him', \"mustn't\", 'and', 'am', 'is', 'had', \"you'd\", 'some', \"couldn't\", 'it', 'own', 'isn', 'but', 'theirs', 'does', 't', \"weren't\", 'under', 'from', 'out', 'yours', 'that', 'have', 'than', 'weren', 'll', 'itself', 'most', 'doing', 'her', 'where', 'i', \"didn't\", 'myself', 'while', 'yourself', 'if', 'ours', 'when', 'because', 'through', 'yourselves', \"she's\", 'themselves', 'our', 'before', 'o', 'will', 'me', 'during', 'hadn', 'of', 'over', 'shouldn', 'wasn', 'been', 'each', 'doesn', 'no', 'needn', 'couldn', 'won', 'in', 'should', 'into', 'just', 'your', 're', \"wasn't\", 'at', 'such', 'very', 'were', 'hasn', 'didn', 'has', \"won't\", 'up', 'a', 'ourselves', 'not', \"it's\", 'did', 'which', 'to', \"wouldn't\", 'then', \"mightn't\", 'having', 'who', 'he', 'the', 'against', 'about', \"shouldn't\", 'by', 'between', 'was', 'these', 'other', \"isn't\", 'off', 'so', 'there', 'd', 'my', 'now', \"doesn't\", 'how', 'hers', 'as', 'whom', 'being', 'its', 'here', \"shan't\", \"needn't\", 'or', 'after', 'they', 'do', 'further', 'down', \"aren't\", 'are', 's', 'again', 'nor', 'himself', 'on', 'any', \"hasn't\", 'an', 'shan', 'y', 'be', \"you're\", \"should've\", 'mustn', 'mightn', \"haven't\", 'why', 'm', 'below', 'with'}\n"
          ]
        }
      ],
      "source": [
        "# Creating the stopwords set from an existant list\n",
        "stopWords = set(stopwords.words('english'))\n",
        "print(\"Stopwords:\", stopWords)"
      ]
    },
    {
      "cell_type": "markdown",
      "source": [
        "Now we will create new datasets but this time they won't have the stopwords. We will also have a look on what a text without stopwords will look like."
      ],
      "metadata": {
        "id": "OA5N7oU00sOb"
      },
      "id": "OA5N7oU00sOb"
    },
    {
      "cell_type": "code",
      "execution_count": 13,
      "id": "60159479",
      "metadata": {
        "scrolled": true,
        "colab": {
          "base_uri": "https://localhost:8080/"
        },
        "id": "60159479",
        "outputId": "12f6c48c-19f4-47ee-ec90-7c3c51161017"
      },
      "outputs": [
        {
          "output_type": "stream",
          "name": "stdout",
          "text": [
            "Text without stopwords:\n"
          ]
        },
        {
          "output_type": "execute_result",
          "data": {
            "text/plain": [
              "['rented curiousyellow video store controversy surrounded first released 1967 also heard first seized us customs ever tried enter country therefore fan films considered controversial really see myselfbr br plot centered around young swedish drama student named lena wants learn everything life particular wants focus attentions making sort documentary average swede thought certain political issues vietnam war race issues united states asking politicians ordinary denizens stockholm opinions politics sex drama teacher classmates married menbr br kills curiousyellow 40 years ago considered pornographic really sex nudity scenes far even shot like cheaply made porno countrymen mind find shocking reality sex nudity major staple swedish cinema even ingmar bergman arguably answer good old boy john ford sex scenes filmsbr br commend filmmakers fact sex shown film shown artistic purposes rather shock people make money shown pornographic theaters america curiousyellow good film anyone wanting study meat potatoes pun intended swedish cinema really film doesnt much plot',\n",
              " 'curious yellow risible pretentious steaming pile doesnt matter ones political views film hardly taken seriously level claim frontal male nudity automatic nc17 isnt true ive seen rrated films male nudity granted offer fleeting views rrated films gaping vulvas flapping labia nowhere dont exist goes crappy cable shows schlongs swinging breeze clitoris sight pretentious indie movies like brown bunny treated site vincent gallos throbbing johnson trace pink visible chloe sevigny crying implying doublestandard matters nudity mentally obtuse take account one unavoidably obvious anatomical difference men women genitals display actresses appears nude said man fact generally wont see female genitals american film anything short porn explicit erotica alleged doublestandard less double standard admittedly depressing ability come terms culturally insides womens bodies',\n",
              " 'avoid making type film future film interesting experiment tells cogent storybr br one might feel virtuous sitting thru touches many important issues without discernable motive viewer comes away new perspectives unless one comes one ones mind wanders invariably pointless filmbr br one might better spend ones time staring window tree growingbr br']"
            ]
          },
          "metadata": {},
          "execution_count": 13
        }
      ],
      "source": [
        "train_without_stopwords = train\n",
        "train_without_stopwords[\"text\"] = train_without_stopwords[\"text\"].apply(lambda text: utility_functions.remove_stopwords(text, stopWords))\n",
        "\n",
        "test_without_stopwords = test\n",
        "test_without_stopwords[\"text\"] = test_without_stopwords[\"text\"].apply(lambda text: utility_functions.remove_stopwords(text, stopWords))\n",
        "\n",
        "print(\"Text without stopwords:\")\n",
        "list(train_without_stopwords[\"text\"][:3])"
      ]
    },
    {
      "cell_type": "markdown",
      "source": [
        "Now let's do again the same process with the pipelines that we did before for those new datasets and see the results."
      ],
      "metadata": {
        "id": "NieqFTO-1NAd"
      },
      "id": "NieqFTO-1NAd"
    },
    {
      "cell_type": "code",
      "execution_count": 14,
      "id": "c9cd560c",
      "metadata": {
        "colab": {
          "base_uri": "https://localhost:8080/"
        },
        "id": "c9cd560c",
        "outputId": "850652ba-aa4a-45a8-c7a8-3aaf73dd3854"
      },
      "outputs": [
        {
          "output_type": "stream",
          "name": "stdout",
          "text": [
            "\n",
            "test accuracy 0.82692\n",
            "test f1-score 0.8202030371675475\n"
          ]
        }
      ],
      "source": [
        "# Creating our pipeline \n",
        "no_stopwords_pipeline = Pipeline([('Vect', CountVectorizer()), ('Mnb', MultinomialNB())])\n",
        "\n",
        "# Fitting our pipeline on the train data (with the lables as we are doing supervised learning)\n",
        "no_stopwords_pipeline.fit(train_without_stopwords['text'], train_without_stopwords['label'])\n",
        "\n",
        "# Predicting the results of the test data \n",
        "no_stopwords_predictions = pipeline.predict(test_without_stopwords['text'])\n",
        "\n",
        "# Computing the F1_score and accuracy\n",
        "print(\"\\ntest accuracy\", no_stopwords_pipeline.score(test_without_stopwords['text'], test_without_stopwords['label']))\n",
        "print(\"test f1-score\", f1_score(test_without_stopwords['label'], no_stopwords_predictions))"
      ]
    },
    {
      "cell_type": "markdown",
      "id": "2c9737e8",
      "metadata": {
        "id": "2c9737e8"
      },
      "source": [
        "We notice that the accuracy is slightly better without stopwords."
      ]
    },
    {
      "cell_type": "markdown",
      "id": "3b07eadd",
      "metadata": {
        "id": "3b07eadd"
      },
      "source": [
        "#### 6. Wrongly classified example explaination"
      ]
    },
    {
      "cell_type": "code",
      "execution_count": 15,
      "id": "a14626fa",
      "metadata": {
        "colab": {
          "base_uri": "https://localhost:8080/"
        },
        "id": "a14626fa",
        "outputId": "9096a1f7-d02c-470b-bfcf-9bd08aef0305"
      },
      "outputs": [
        {
          "output_type": "stream",
          "name": "stdout",
          "text": [
            "Classification errors:\n",
            "five minutes started feel naff looking youve got completely unheroic hero overweight fool friend seen yeah right getting ready bored mind good hours something become quite used havent minutes testosterone fuelled insults truck appeared okay filming techniques used make look fast clumsy cares truck amazing soon however taken away back geek overweight friend im satisfied least wont terrible proceed amazed cleverness film many jokes expense like everyone world except two mind behind makeup effects genius swear believe man miss many jokes film much girl understandbr br brother bob far best hillbilly killer found anywhere fact hes sewn together adds effect course really dud science facts isnt always case hero nose bleed using blood lead brother bob death rubbish way nose bleed bad mean severed artery something im use much blood taking little far incest jokes little predictable funny nonetheless way brother bob meets end classic overall movie rules really breaks overacted melodramatic strain horror got much 20032005 end move simply could betterbr br definite must watch anyone likes horror several side orders gore attitude \n",
            "\n",
            "caught movie scifi channel recently actually turned pretty decent far blist horrorsuspense films go two guys one naive one loud mouthed take road trip stop wedding worst possible luck maniac freaky makeshift tanktruck hybrid decides play catandmouse things complicated pick ridiculously whorish hitchhiker makes film unique combination comedy terror actually work movie unlike many others two guys likable enough good chasesuspense scenes nice pacing comic timing make movie passable horrorslasher buff definitely worth checking \n",
            "\n"
          ]
        }
      ],
      "source": [
        "naive_bayes_predictions = pipeline.predict(test[\"text\"])\n",
        "\n",
        "print(\"Classification errors:\")\n",
        "wrong_prediction_sample = test[test['label'] != naive_bayes_predictions][\"text\"][-2:]\n",
        "for review in wrong_prediction_sample:\n",
        "    print(review, \"\\n\")"
      ]
    },
    {
      "cell_type": "markdown",
      "id": "ad913611",
      "metadata": {
        "id": "ad913611"
      },
      "source": [
        "The first review is positive and has been classified as negative. Because the author had a bad feeling about the first minutes of the film, many words with a negative connotation are present such as: \"unheroic\", \"fool\", \"bored\", \"clumsy\". But as time goes by, the author appreciates the film more and more and uses words with positive connotations. So there are both words with positive and words with negative connotations which makes the classification harder for the model. The review being about an horror movie, negative words such as: \"killer\", \"blood\", \"horror\"; were used to discribe the atmosphere and events of the movie. These words may have influenced the model to classify the review as a negative review.\n",
        "\n",
        "Like the first one, the second review is also positive and has been classified as negative. And just like the first review, we find a lot of negative words such as: \"worst\", \"freaky\", \"ridiculously\", \"passable\",\"horror\", \"terror\". These words may have caused a wrong classification. "
      ]
    },
    {
      "cell_type": "markdown",
      "id": "r5td_QM_wY9s",
      "metadata": {
        "id": "r5td_QM_wY9s"
      },
      "source": [
        "## Stemming and Lemmatization\n",
        "\n",
        "The two notebooks in this directory give examples on how to run stemming and lemmatization using NLTK or spaCy. Pick either stemming or lemmatization, and add the operation to your pretreatment.\n",
        "\n",
        "1. (2 points) Add stemming or lemmatization to your pretreatment.\n",
        "2. (1 point) Train and evaluate your model again with these pretreatment.\n",
        "3. (1 point) Are the results better or worse? Try explaining why the accuracy changed."
      ]
    },
    {
      "cell_type": "markdown",
      "id": "AlAjrtW-EMoM",
      "metadata": {
        "id": "AlAjrtW-EMoM"
      },
      "source": [
        "Now that we saw the results of our model with a very simple preprocessing, let's add some processing to our data with two possible choices :\n",
        "\n",
        "- Stemming\n",
        "\n",
        "- Lemmatization \n",
        "\n",
        "Let's have a look on the results of these two before choosing."
      ]
    },
    {
      "cell_type": "markdown",
      "id": "A2cH-UDiEsVf",
      "metadata": {
        "id": "A2cH-UDiEsVf"
      },
      "source": [
        "### Stemming "
      ]
    },
    {
      "cell_type": "markdown",
      "id": "QHAEz8Xvcz8o",
      "metadata": {
        "id": "QHAEz8Xvcz8o"
      },
      "source": [
        "To start, before adding the stemming to our preprocessing, we will need to download the necessary packages and setup our stemmer and the function that will be used in our CountVectorizer to use our stemmer."
      ]
    },
    {
      "cell_type": "code",
      "execution_count": 16,
      "id": "GAj1wH_27YD1",
      "metadata": {
        "colab": {
          "base_uri": "https://localhost:8080/"
        },
        "id": "GAj1wH_27YD1",
        "outputId": "a29a7211-8b09-4e34-83a2-512427a4b8b6"
      },
      "outputs": [
        {
          "output_type": "stream",
          "name": "stderr",
          "text": [
            "[nltk_data] Downloading package punkt to /root/nltk_data...\n",
            "[nltk_data]   Package punkt is already up-to-date!\n"
          ]
        }
      ],
      "source": [
        "# We need to download a package for word tokenization\n",
        "nltk.download('punkt')\n",
        "\n",
        "# Setting up our stemmer and CountVectorizer\n",
        "re_word = re.compile(r\"^\\w+$\")\n",
        "stemmer = SnowballStemmer(\"english\")\n",
        "analyzer = CountVectorizer().build_analyzer()\n",
        "\n",
        "# Function used in the CountVectorizer to use our stemmer\n",
        "def stemmed_words(doc):\n",
        "    return (stemmer.stem(w) for w in analyzer(doc))"
      ]
    },
    {
      "cell_type": "markdown",
      "id": "ARZMab1Zd9wF",
      "metadata": {
        "id": "ARZMab1Zd9wF"
      },
      "source": [
        "Then now, we can use our pipeline with our stemmer and check the results that it will give us !"
      ]
    },
    {
      "cell_type": "code",
      "execution_count": 17,
      "id": "3swV7TJ5eIix",
      "metadata": {
        "id": "3swV7TJ5eIix"
      },
      "outputs": [],
      "source": [
        "# Creation of our pipeline \n",
        "pipeline_stemmer = Pipeline([('Vect', CountVectorizer(analyzer=stemmed_words)), ('Mnb', MultinomialNB())])\n",
        "\n",
        "# Fitting on the train data \n",
        "pipeline_stemmer.fit(train['text'], train['label'])\n",
        "\n",
        "# Predicting the results of the test data \n",
        "predictions_stemmer = pipeline_stemmer.predict(test['text'])"
      ]
    },
    {
      "cell_type": "markdown",
      "id": "QxyGj8aNeWto",
      "metadata": {
        "id": "QxyGj8aNeWto"
      },
      "source": [
        "Now that we have the results, let's have a look on the accuracy of our model with stemming :"
      ]
    },
    {
      "cell_type": "code",
      "execution_count": 18,
      "id": "AVZHMRP4ecvz",
      "metadata": {
        "colab": {
          "base_uri": "https://localhost:8080/"
        },
        "id": "AVZHMRP4ecvz",
        "outputId": "e2a7b67f-15da-47e5-afba-0d6acdc65390"
      },
      "outputs": [
        {
          "output_type": "stream",
          "name": "stdout",
          "text": [
            "train accuracy 0.9134\n",
            "train f1-score 0.9115134671189766\n",
            "\n",
            "test accuracy 0.81932\n",
            "test f1-score 0.8090789974217001\n"
          ]
        }
      ],
      "source": [
        "# Computing the F1_score and accuracy\n",
        "# For the train dataset \n",
        "print(\"train accuracy\", pipeline_stemmer.score(train['text'], train['label']))\n",
        "print(\"train f1-score\", f1_score(train['label'], pipeline_stemmer.predict(train['text'])))\n",
        "\n",
        "# For the test dataset\n",
        "print(\"\\ntest accuracy\", pipeline_stemmer.score(test['text'], test['label']))\n",
        "print(\"test f1-score\", f1_score(test['label'], predictions_stemmer))"
      ]
    },
    {
      "cell_type": "markdown",
      "id": "VR1sUce1lgOz",
      "metadata": {
        "id": "VR1sUce1lgOz"
      },
      "source": [
        "As we can see it here, the results are not really improving by adding the stemming to our preprocessing. It is in fact the opposite in our case. "
      ]
    },
    {
      "cell_type": "markdown",
      "id": "GfCEzd-2KICJ",
      "metadata": {
        "id": "GfCEzd-2KICJ"
      },
      "source": [
        "### Lemmatization"
      ]
    },
    {
      "cell_type": "markdown",
      "id": "pH5unbpXmjfw",
      "metadata": {
        "id": "pH5unbpXmjfw"
      },
      "source": [
        "To start, before adding the lemmatization to our preprocessing, we will need to download the necessary packages and setup our lemmatizer and the function that will be used in our CountVectorizer to use our lemmatizer."
      ]
    },
    {
      "cell_type": "code",
      "execution_count": 19,
      "id": "ny0tfGgXm8Zx",
      "metadata": {
        "colab": {
          "base_uri": "https://localhost:8080/"
        },
        "id": "ny0tfGgXm8Zx",
        "outputId": "70896100-2014-4aa1-b39c-061b6c4a5681"
      },
      "outputs": [
        {
          "output_type": "stream",
          "name": "stderr",
          "text": [
            "[nltk_data] Downloading package wordnet to /root/nltk_data...\n",
            "[nltk_data] Downloading package omw-1.4 to /root/nltk_data...\n"
          ]
        }
      ],
      "source": [
        "from nltk.stem import WordNetLemmatizer\n",
        "\n",
        "# Downloading needed packages for our lemmatizer\n",
        "nltk.download('wordnet')\n",
        "nltk.download(\"omw-1.4\")\n",
        "re_word = re.compile(r\"^\\w+$\")\n",
        "# Creating our lemmatizer\n",
        "lemmatizer = WordNetLemmatizer()\n",
        "\n",
        "# This is the function that will be used in our CountVectorizer\n",
        "def tokenize(text):\n",
        "    tokens = nltk.word_tokenize(text)\n",
        "    return [lemmatizer.lemmatize(token) for token in tokens]"
      ]
    },
    {
      "cell_type": "markdown",
      "id": "TfDck-iP8dRs",
      "metadata": {
        "id": "TfDck-iP8dRs"
      },
      "source": [
        "Then now, we can use our pipeline with our lemmatizer and check the results that it will give us !"
      ]
    },
    {
      "cell_type": "code",
      "execution_count": 20,
      "id": "p0MeqKg0KJJW",
      "metadata": {
        "colab": {
          "base_uri": "https://localhost:8080/"
        },
        "id": "p0MeqKg0KJJW",
        "outputId": "bc169f31-e955-4991-8215-0bf6f0d3eecf"
      },
      "outputs": [
        {
          "output_type": "stream",
          "name": "stderr",
          "text": [
            "/usr/local/lib/python3.7/dist-packages/sklearn/feature_extraction/text.py:401: UserWarning: Your stop_words may be inconsistent with your preprocessing. Tokenizing the stop words generated tokens ['ha', 'le', 'u', 'wa'] not in stop_words.\n",
            "  % sorted(inconsistent)\n"
          ]
        }
      ],
      "source": [
        "# Creation of our pipeline \n",
        "pipeline_lemmatizer = Pipeline([('Vect', CountVectorizer(tokenizer=tokenize, stop_words='english')), ('Mnb', MultinomialNB())])\n",
        "\n",
        "# Fitting on the train data \n",
        "pipeline_lemmatizer.fit(train['text'], train['label'])\n",
        "\n",
        "# Predicting the results of the test data \n",
        "predictions_lemmatizer = pipeline_lemmatizer.predict(test['text'])"
      ]
    },
    {
      "cell_type": "markdown",
      "id": "F-70dpY89q0M",
      "metadata": {
        "id": "F-70dpY89q0M"
      },
      "source": [
        "Now that we have the results, let's have a look on the accuracy of our model with the lemmatizer :"
      ]
    },
    {
      "cell_type": "code",
      "execution_count": 21,
      "id": "zcKWdKz19qra",
      "metadata": {
        "colab": {
          "base_uri": "https://localhost:8080/"
        },
        "id": "zcKWdKz19qra",
        "outputId": "d1bfd9af-1962-469e-ecd2-5fd5b54630f0"
      },
      "outputs": [
        {
          "output_type": "stream",
          "name": "stdout",
          "text": [
            "train accuracy 0.92204\n",
            "train f1-score 0.920309113955105\n",
            "\n",
            "test accuracy 0.82176\n",
            "test f1-score 0.8112504235852254\n"
          ]
        }
      ],
      "source": [
        "# Computing the F1_score and accuracy\n",
        "# For the train dataset \n",
        "print(\"train accuracy\", pipeline_lemmatizer.score(train['text'], train['label']))\n",
        "print(\"train f1-score\", f1_score(train['label'], pipeline_lemmatizer.predict(train['text'])))\n",
        "\n",
        "# For the test dataset\n",
        "print(\"\\ntest accuracy\", pipeline_lemmatizer.score(test['text'], test['label']))\n",
        "print(\"test f1-score\", f1_score(test['label'], predictions_lemmatizer))"
      ]
    },
    {
      "cell_type": "markdown",
      "id": "OX0Ey7h7DrM5",
      "metadata": {
        "id": "OX0Ey7h7DrM5"
      },
      "source": [
        "As we can see it, our results are better than the ones with the stemmer but they are still very close to our original results so it may not be an optimal adding to our preprocessing."
      ]
    },
    {
      "cell_type": "markdown",
      "id": "IwMNm1ixwqY6",
      "metadata": {
        "id": "IwMNm1ixwqY6"
      },
      "source": [
        "## A final look on the results"
      ]
    },
    {
      "cell_type": "markdown",
      "source": [
        "In this part, we will have a look on the predictions that did not went well to see if we are able to determine what could possibly induce our model to classify it like this. This may allow us to determine a pattern in the errors of our model."
      ],
      "metadata": {
        "id": "glIYUK9p1ki-"
      },
      "id": "glIYUK9p1ki-"
    },
    {
      "cell_type": "code",
      "execution_count": 22,
      "id": "e61b976f",
      "metadata": {
        "colab": {
          "base_uri": "https://localhost:8080/"
        },
        "id": "e61b976f",
        "outputId": "c3f7d1ac-87b3-4f10-b77e-edaaafc3a3dd"
      },
      "outputs": [
        {
          "output_type": "stream",
          "name": "stdout",
          "text": [
            "Lemmatizer errors:\n",
            "despite strong performances minnie driver tom wilkinson film fails ignite imagination viewerbr br way become ms driver potential film industrybr br almost like 1850s version yentl without musical fanfare death father driver takes position governess christian family hiding jewish identitybr br realize period peace awfully dull even 1850 england scotlandbr br lady house irritating singsong voice expected refer driver dear moment kind name mary blackchurch know driver trying pass christian name signify waybr br interim mary finds love young charges father wilkinson emotionally unbalanced sonbr br end thing see accomplished mary found profession provide familyphotography really subjected happening throughout filmbr br early scenes judaism practiced 19th century england cholera epidemic end could played definite underlying feeling antisemitism wilkinson family thats never allowed come \n",
            "\n",
            "Lemmatized text:\n",
            "['despite', 'strong', 'performance', 'minnie', 'driver', 'tom', 'wilkinson', 'film', 'fails', 'ignite', 'imagination', 'viewerbr', 'br', 'way', 'become', 'm', 'driver', 'potential', 'film', 'industrybr', 'br', 'almost', 'like', '1850s', 'version', 'yentl', 'without', 'musical', 'fanfare', 'death', 'father', 'driver', 'take', 'position', 'governess', 'christian', 'family', 'hiding', 'jewish', 'identitybr', 'br', 'realize', 'period', 'peace', 'awfully', 'dull', 'even', '1850', 'england', 'scotlandbr', 'br', 'lady', 'house', 'irritating', 'singsong', 'voice', 'expected', 'refer', 'driver', 'dear', 'moment', 'kind', 'name', 'mary', 'blackchurch', 'know', 'driver', 'trying', 'pas', 'christian', 'name', 'signify', 'waybr', 'br', 'interim', 'mary', 'find', 'love', 'young', 'charge', 'father', 'wilkinson', 'emotionally', 'unbalanced', 'sonbr', 'br', 'end', 'thing', 'see', 'accomplished', 'mary', 'found', 'profession', 'provide', 'familyphotography', 'really', 'subjected', 'happening', 'throughout', 'filmbr', 'br', 'early', 'scene', 'judaism', 'practiced', '19th', 'century', 'england', 'cholera', 'epidemic', 'end', 'could', 'played', 'definite', 'underlying', 'feeling', 'antisemitism', 'wilkinson', 'family', 'thats', 'never', 'allowed', 'come'] \n",
            "\n",
            "let start saying liev gained ton respect seeing directorial debut everything illuminated anyone read book knows saturated story nonsensical hilarious vocabulary alex along countless flashback scenes crazy dreamlike sequences liev took made work movie great soundtrack performances cinematography works lot story missing town inhabitants theres much indie part didnt bother much disappointing lot people see movie even know exists lack promotion came didnt even know theatres didnt know dvd came youd think since frodo baggins one main characters somebody wouldve least released commercial see trailer paradise dvd released dvd spring 06 even know fall 2005 theatrical release date haha sad reallybr br anyhow stumble across review somehow one friends read book loved saw movie recommending see take advice watch good experiencebr br 8 10 \n",
            "\n",
            "Lemmatized text:\n",
            "['let', 'start', 'saying', 'liev', 'gained', 'ton', 'respect', 'seeing', 'directorial', 'debut', 'everything', 'illuminated', 'anyone', 'read', 'book', 'know', 'saturated', 'story', 'nonsensical', 'hilarious', 'vocabulary', 'alex', 'along', 'countless', 'flashback', 'scene', 'crazy', 'dreamlike', 'sequence', 'liev', 'took', 'made', 'work', 'movie', 'great', 'soundtrack', 'performance', 'cinematography', 'work', 'lot', 'story', 'missing', 'town', 'inhabitant', 'there', 'much', 'indie', 'part', 'didnt', 'bother', 'much', 'disappointing', 'lot', 'people', 'see', 'movie', 'even', 'know', 'exists', 'lack', 'promotion', 'came', 'didnt', 'even', 'know', 'theatre', 'didnt', 'know', 'dvd', 'came', 'youd', 'think', 'since', 'frodo', 'baggins', 'one', 'main', 'character', 'somebody', 'wouldve', 'least', 'released', 'commercial', 'see', 'trailer', 'paradise', 'dvd', 'released', 'dvd', 'spring', '06', 'even', 'know', 'fall', '2005', 'theatrical', 'release', 'date', 'haha', 'sad', 'reallybr', 'br', 'anyhow', 'stumble', 'across', 'review', 'somehow', 'one', 'friend', 'read', 'book', 'loved', 'saw', 'movie', 'recommending', 'see', 'take', 'advice', 'watch', 'good', 'experiencebr', 'br', '8', '10'] \n",
            "\n",
            "==========================================================================\n",
            "==========================================================================\n",
            "\n",
            "Stemmer errors:\n",
            "back 2002 matthew lawrence hot chick also saw drumline day drumline wins default comebcaks released march planned time tmnt released tmnt wouldve default br br granted matthew lawrence fine job portraying quarterback didnt resort uttering dirty words plus started playing private parts well another football players touching girls boob minusesbr br biggest minus ticked every football player got participate mock music video except matthew lawrence insert price rights losing horns another blown musical opportunity hes shy musicbr br past matt disappointed many times super human samurai syber squad came close musical moment ended failingbr br sure joey singing career two albums belt andrews starting music career rare find matt musical moment two stand would brotherly love played guitar sang pigeon car art atrack wrote way romantic boy meets world moment sang dame time goes bybr br matt youve played jocks long make musical comeback good voice miss musical side \n",
            "\n",
            "Stemmed text:\n",
            "['back', '2002', 'matthew', 'lawrenc', 'hot', 'chick', 'also', 'saw', 'drumlin', 'day', 'drumlin', 'win', 'default', 'comebcak', 'releas', 'march', 'plan', 'time', 'tmnt', 'releas', 'tmnt', 'wouldv', 'default', 'br', 'br', 'grant', 'matthew', 'lawrenc', 'fine', 'job', 'portray', 'quarterback', 'didnt', 'resort', 'utter', 'dirti', 'word', 'plus', 'start', 'play', 'privat', 'part', 'well', 'anoth', 'footbal', 'player', 'touch', 'girl', 'boob', 'minusesbr', 'br', 'biggest', 'minus', 'tick', 'everi', 'footbal', 'player', 'got', 'particip', 'mock', 'music', 'video', 'except', 'matthew', 'lawrenc', 'insert', 'price', 'right', 'lose', 'horn', 'anoth', 'blown', 'music', 'opportun', 'hes', 'shi', 'musicbr', 'br', 'past', 'matt', 'disappoint', 'mani', 'time', 'super', 'human', 'samurai', 'syber', 'squad', 'came', 'close', 'music', 'moment', 'end', 'failingbr', 'br', 'sure', 'joey', 'sing', 'career', 'two', 'album', 'belt', 'andrew', 'start', 'music', 'career', 'rare', 'find', 'matt', 'music', 'moment', 'two', 'stand', 'would', 'brother', 'love', 'play', 'guitar', 'sang', 'pigeon', 'car', 'art', 'atrack', 'wrote', 'way', 'romant', 'boy', 'meet', 'world', 'moment', 'sang', 'dame', 'time', 'goe', 'bybr', 'br', 'matt', 'youv', 'play', 'jock', 'long', 'make', 'music', 'comeback', 'good', 'voic', 'miss', 'music', 'side'] \n",
            "\n",
            "somehow documentary miles manages include little music complete tunes though miles appears film 95 interviews folks miles huge chronological gaps many aspects life childhood prodigy drug addiction skipped glossed youll learn little made man contribution music groundbreaking skip \n",
            "\n",
            "Stemmed text:\n",
            "['somehow', 'documentari', 'mile', 'manag', 'includ', 'littl', 'music', 'complet', 'tune', 'though', 'mile', 'appear', 'film', '95', 'interview', 'folk', 'mile', 'huge', 'chronolog', 'gap', 'mani', 'aspect', 'life', 'childhood', 'prodigi', 'drug', 'addict', 'skip', 'gloss', 'youll', 'learn', 'littl', 'made', 'man', 'contribut', 'music', 'groundbreak', 'skip'] \n",
            "\n"
          ]
        }
      ],
      "source": [
        "print(\"Lemmatizer errors:\")\n",
        "wrong_prediction_sample = test[test['label'] != predictions_lemmatizer][\"text\"].sample(2, random_state=SEED)\n",
        "for review in wrong_prediction_sample:\n",
        "    print(review, \"\\n\")\n",
        "    print(\"Lemmatized text:\")\n",
        "    print(tokenize(review), \"\\n\")\n",
        "\n",
        "print(\"==========================================================================\")\n",
        "print(\"==========================================================================\\n\")\n",
        "\n",
        "print(\"Stemmer errors:\")\n",
        "wrong_prediction_sample = test[test['label'] != predictions_stemmer][\"text\"].sample(2, random_state=SEED)\n",
        "for review in wrong_prediction_sample:\n",
        "    print(review, \"\\n\")\n",
        "    print(\"Stemmed text:\")\n",
        "    print(list(stemmed_words(review)), \"\\n\")"
      ]
    },
    {
      "cell_type": "markdown",
      "id": "880fe4a1",
      "metadata": {
        "id": "880fe4a1"
      },
      "source": [
        "We can see that both lemmatization and stemming make mistakes and creates word which surely contributes to the error in the classification of the above examples.\n",
        "\n",
        "In the first example review, we find words with positive connotation such as: talent, cuteness, good and beautifull. But we also find words with negative connotation: underused, godawful, frighteningly terrible. Having both positive and negative connotated words makes the classification harder, the other examples also have positive and negative words. This may explain the classification errors."
      ]
    }
  ],
  "metadata": {
    "colab": {
      "collapsed_sections": [
        "NB8hs5v9p5l-",
        "5fde6883",
        "38d99781",
        "954b60fe",
        "m6_UPpKowTBI",
        "5fa88465",
        "0db21d75",
        "2673f8ff",
        "3b07eadd",
        "r5td_QM_wY9s",
        "A2cH-UDiEsVf",
        "GfCEzd-2KICJ",
        "IwMNm1ixwqY6"
      ],
      "provenance": []
    },
    "gpuClass": "standard",
    "kernelspec": {
      "display_name": "Python 3 (ipykernel)",
      "language": "python",
      "name": "python3"
    },
    "language_info": {
      "codemirror_mode": {
        "name": "ipython",
        "version": 3
      },
      "file_extension": ".py",
      "mimetype": "text/x-python",
      "name": "python",
      "nbconvert_exporter": "python",
      "pygments_lexer": "ipython3",
      "version": "3.8.10"
    },
    "widgets": {
      "application/vnd.jupyter.widget-state+json": {
        "5b2b904c33cf491aa7c142c8e3972b3e": {
          "model_module": "@jupyter-widgets/controls",
          "model_name": "HBoxModel",
          "model_module_version": "1.5.0",
          "state": {
            "_dom_classes": [],
            "_model_module": "@jupyter-widgets/controls",
            "_model_module_version": "1.5.0",
            "_model_name": "HBoxModel",
            "_view_count": null,
            "_view_module": "@jupyter-widgets/controls",
            "_view_module_version": "1.5.0",
            "_view_name": "HBoxView",
            "box_style": "",
            "children": [
              "IPY_MODEL_e6961d0b5b84416383c3d9860c5910d3",
              "IPY_MODEL_bde9da98621e42d2b0c1e679f55522f5",
              "IPY_MODEL_c066399c52bf41bfa45588d3a29d4649"
            ],
            "layout": "IPY_MODEL_2574886359f147b1b4455e9f43240210"
          }
        },
        "e6961d0b5b84416383c3d9860c5910d3": {
          "model_module": "@jupyter-widgets/controls",
          "model_name": "HTMLModel",
          "model_module_version": "1.5.0",
          "state": {
            "_dom_classes": [],
            "_model_module": "@jupyter-widgets/controls",
            "_model_module_version": "1.5.0",
            "_model_name": "HTMLModel",
            "_view_count": null,
            "_view_module": "@jupyter-widgets/controls",
            "_view_module_version": "1.5.0",
            "_view_name": "HTMLView",
            "description": "",
            "description_tooltip": null,
            "layout": "IPY_MODEL_1bb6be77f388473e99a786babf56413c",
            "placeholder": "​",
            "style": "IPY_MODEL_6e73df6309c94b38a4c65850d1901502",
            "value": "Downloading builder script: 100%"
          }
        },
        "bde9da98621e42d2b0c1e679f55522f5": {
          "model_module": "@jupyter-widgets/controls",
          "model_name": "FloatProgressModel",
          "model_module_version": "1.5.0",
          "state": {
            "_dom_classes": [],
            "_model_module": "@jupyter-widgets/controls",
            "_model_module_version": "1.5.0",
            "_model_name": "FloatProgressModel",
            "_view_count": null,
            "_view_module": "@jupyter-widgets/controls",
            "_view_module_version": "1.5.0",
            "_view_name": "ProgressView",
            "bar_style": "success",
            "description": "",
            "description_tooltip": null,
            "layout": "IPY_MODEL_b177de9e95104f3fa648445152641676",
            "max": 4313,
            "min": 0,
            "orientation": "horizontal",
            "style": "IPY_MODEL_7941cb20584546eb958af4babea43710",
            "value": 4313
          }
        },
        "c066399c52bf41bfa45588d3a29d4649": {
          "model_module": "@jupyter-widgets/controls",
          "model_name": "HTMLModel",
          "model_module_version": "1.5.0",
          "state": {
            "_dom_classes": [],
            "_model_module": "@jupyter-widgets/controls",
            "_model_module_version": "1.5.0",
            "_model_name": "HTMLModel",
            "_view_count": null,
            "_view_module": "@jupyter-widgets/controls",
            "_view_module_version": "1.5.0",
            "_view_name": "HTMLView",
            "description": "",
            "description_tooltip": null,
            "layout": "IPY_MODEL_12194c0fcbc14c838ce008fce5b52f96",
            "placeholder": "​",
            "style": "IPY_MODEL_cb1d5c714ccc48d0b48155232416af38",
            "value": " 4.31k/4.31k [00:00&lt;00:00, 80.4kB/s]"
          }
        },
        "2574886359f147b1b4455e9f43240210": {
          "model_module": "@jupyter-widgets/base",
          "model_name": "LayoutModel",
          "model_module_version": "1.2.0",
          "state": {
            "_model_module": "@jupyter-widgets/base",
            "_model_module_version": "1.2.0",
            "_model_name": "LayoutModel",
            "_view_count": null,
            "_view_module": "@jupyter-widgets/base",
            "_view_module_version": "1.2.0",
            "_view_name": "LayoutView",
            "align_content": null,
            "align_items": null,
            "align_self": null,
            "border": null,
            "bottom": null,
            "display": null,
            "flex": null,
            "flex_flow": null,
            "grid_area": null,
            "grid_auto_columns": null,
            "grid_auto_flow": null,
            "grid_auto_rows": null,
            "grid_column": null,
            "grid_gap": null,
            "grid_row": null,
            "grid_template_areas": null,
            "grid_template_columns": null,
            "grid_template_rows": null,
            "height": null,
            "justify_content": null,
            "justify_items": null,
            "left": null,
            "margin": null,
            "max_height": null,
            "max_width": null,
            "min_height": null,
            "min_width": null,
            "object_fit": null,
            "object_position": null,
            "order": null,
            "overflow": null,
            "overflow_x": null,
            "overflow_y": null,
            "padding": null,
            "right": null,
            "top": null,
            "visibility": null,
            "width": null
          }
        },
        "1bb6be77f388473e99a786babf56413c": {
          "model_module": "@jupyter-widgets/base",
          "model_name": "LayoutModel",
          "model_module_version": "1.2.0",
          "state": {
            "_model_module": "@jupyter-widgets/base",
            "_model_module_version": "1.2.0",
            "_model_name": "LayoutModel",
            "_view_count": null,
            "_view_module": "@jupyter-widgets/base",
            "_view_module_version": "1.2.0",
            "_view_name": "LayoutView",
            "align_content": null,
            "align_items": null,
            "align_self": null,
            "border": null,
            "bottom": null,
            "display": null,
            "flex": null,
            "flex_flow": null,
            "grid_area": null,
            "grid_auto_columns": null,
            "grid_auto_flow": null,
            "grid_auto_rows": null,
            "grid_column": null,
            "grid_gap": null,
            "grid_row": null,
            "grid_template_areas": null,
            "grid_template_columns": null,
            "grid_template_rows": null,
            "height": null,
            "justify_content": null,
            "justify_items": null,
            "left": null,
            "margin": null,
            "max_height": null,
            "max_width": null,
            "min_height": null,
            "min_width": null,
            "object_fit": null,
            "object_position": null,
            "order": null,
            "overflow": null,
            "overflow_x": null,
            "overflow_y": null,
            "padding": null,
            "right": null,
            "top": null,
            "visibility": null,
            "width": null
          }
        },
        "6e73df6309c94b38a4c65850d1901502": {
          "model_module": "@jupyter-widgets/controls",
          "model_name": "DescriptionStyleModel",
          "model_module_version": "1.5.0",
          "state": {
            "_model_module": "@jupyter-widgets/controls",
            "_model_module_version": "1.5.0",
            "_model_name": "DescriptionStyleModel",
            "_view_count": null,
            "_view_module": "@jupyter-widgets/base",
            "_view_module_version": "1.2.0",
            "_view_name": "StyleView",
            "description_width": ""
          }
        },
        "b177de9e95104f3fa648445152641676": {
          "model_module": "@jupyter-widgets/base",
          "model_name": "LayoutModel",
          "model_module_version": "1.2.0",
          "state": {
            "_model_module": "@jupyter-widgets/base",
            "_model_module_version": "1.2.0",
            "_model_name": "LayoutModel",
            "_view_count": null,
            "_view_module": "@jupyter-widgets/base",
            "_view_module_version": "1.2.0",
            "_view_name": "LayoutView",
            "align_content": null,
            "align_items": null,
            "align_self": null,
            "border": null,
            "bottom": null,
            "display": null,
            "flex": null,
            "flex_flow": null,
            "grid_area": null,
            "grid_auto_columns": null,
            "grid_auto_flow": null,
            "grid_auto_rows": null,
            "grid_column": null,
            "grid_gap": null,
            "grid_row": null,
            "grid_template_areas": null,
            "grid_template_columns": null,
            "grid_template_rows": null,
            "height": null,
            "justify_content": null,
            "justify_items": null,
            "left": null,
            "margin": null,
            "max_height": null,
            "max_width": null,
            "min_height": null,
            "min_width": null,
            "object_fit": null,
            "object_position": null,
            "order": null,
            "overflow": null,
            "overflow_x": null,
            "overflow_y": null,
            "padding": null,
            "right": null,
            "top": null,
            "visibility": null,
            "width": null
          }
        },
        "7941cb20584546eb958af4babea43710": {
          "model_module": "@jupyter-widgets/controls",
          "model_name": "ProgressStyleModel",
          "model_module_version": "1.5.0",
          "state": {
            "_model_module": "@jupyter-widgets/controls",
            "_model_module_version": "1.5.0",
            "_model_name": "ProgressStyleModel",
            "_view_count": null,
            "_view_module": "@jupyter-widgets/base",
            "_view_module_version": "1.2.0",
            "_view_name": "StyleView",
            "bar_color": null,
            "description_width": ""
          }
        },
        "12194c0fcbc14c838ce008fce5b52f96": {
          "model_module": "@jupyter-widgets/base",
          "model_name": "LayoutModel",
          "model_module_version": "1.2.0",
          "state": {
            "_model_module": "@jupyter-widgets/base",
            "_model_module_version": "1.2.0",
            "_model_name": "LayoutModel",
            "_view_count": null,
            "_view_module": "@jupyter-widgets/base",
            "_view_module_version": "1.2.0",
            "_view_name": "LayoutView",
            "align_content": null,
            "align_items": null,
            "align_self": null,
            "border": null,
            "bottom": null,
            "display": null,
            "flex": null,
            "flex_flow": null,
            "grid_area": null,
            "grid_auto_columns": null,
            "grid_auto_flow": null,
            "grid_auto_rows": null,
            "grid_column": null,
            "grid_gap": null,
            "grid_row": null,
            "grid_template_areas": null,
            "grid_template_columns": null,
            "grid_template_rows": null,
            "height": null,
            "justify_content": null,
            "justify_items": null,
            "left": null,
            "margin": null,
            "max_height": null,
            "max_width": null,
            "min_height": null,
            "min_width": null,
            "object_fit": null,
            "object_position": null,
            "order": null,
            "overflow": null,
            "overflow_x": null,
            "overflow_y": null,
            "padding": null,
            "right": null,
            "top": null,
            "visibility": null,
            "width": null
          }
        },
        "cb1d5c714ccc48d0b48155232416af38": {
          "model_module": "@jupyter-widgets/controls",
          "model_name": "DescriptionStyleModel",
          "model_module_version": "1.5.0",
          "state": {
            "_model_module": "@jupyter-widgets/controls",
            "_model_module_version": "1.5.0",
            "_model_name": "DescriptionStyleModel",
            "_view_count": null,
            "_view_module": "@jupyter-widgets/base",
            "_view_module_version": "1.2.0",
            "_view_name": "StyleView",
            "description_width": ""
          }
        },
        "53c7859a2dd8458c8f971f36039188d4": {
          "model_module": "@jupyter-widgets/controls",
          "model_name": "HBoxModel",
          "model_module_version": "1.5.0",
          "state": {
            "_dom_classes": [],
            "_model_module": "@jupyter-widgets/controls",
            "_model_module_version": "1.5.0",
            "_model_name": "HBoxModel",
            "_view_count": null,
            "_view_module": "@jupyter-widgets/controls",
            "_view_module_version": "1.5.0",
            "_view_name": "HBoxView",
            "box_style": "",
            "children": [
              "IPY_MODEL_4ad825d8e96d4950b7954e86842897ef",
              "IPY_MODEL_9c5031b371134668a5ed7f18842b5bb9",
              "IPY_MODEL_3686b36071454bf1a4fb4f16619e6c25"
            ],
            "layout": "IPY_MODEL_a2397f3ad63945dfa838f2ffc94c88e0"
          }
        },
        "4ad825d8e96d4950b7954e86842897ef": {
          "model_module": "@jupyter-widgets/controls",
          "model_name": "HTMLModel",
          "model_module_version": "1.5.0",
          "state": {
            "_dom_classes": [],
            "_model_module": "@jupyter-widgets/controls",
            "_model_module_version": "1.5.0",
            "_model_name": "HTMLModel",
            "_view_count": null,
            "_view_module": "@jupyter-widgets/controls",
            "_view_module_version": "1.5.0",
            "_view_name": "HTMLView",
            "description": "",
            "description_tooltip": null,
            "layout": "IPY_MODEL_fd7129464c2f43a9855f864d086751fe",
            "placeholder": "​",
            "style": "IPY_MODEL_5d735094e5c14ee9948b0834e81c5460",
            "value": "Downloading metadata: 100%"
          }
        },
        "9c5031b371134668a5ed7f18842b5bb9": {
          "model_module": "@jupyter-widgets/controls",
          "model_name": "FloatProgressModel",
          "model_module_version": "1.5.0",
          "state": {
            "_dom_classes": [],
            "_model_module": "@jupyter-widgets/controls",
            "_model_module_version": "1.5.0",
            "_model_name": "FloatProgressModel",
            "_view_count": null,
            "_view_module": "@jupyter-widgets/controls",
            "_view_module_version": "1.5.0",
            "_view_name": "ProgressView",
            "bar_style": "success",
            "description": "",
            "description_tooltip": null,
            "layout": "IPY_MODEL_a8a71866624e4dac99b4fbfaa5ddb963",
            "max": 2166,
            "min": 0,
            "orientation": "horizontal",
            "style": "IPY_MODEL_30f1bb48be1f4c35911299bd478190bd",
            "value": 2166
          }
        },
        "3686b36071454bf1a4fb4f16619e6c25": {
          "model_module": "@jupyter-widgets/controls",
          "model_name": "HTMLModel",
          "model_module_version": "1.5.0",
          "state": {
            "_dom_classes": [],
            "_model_module": "@jupyter-widgets/controls",
            "_model_module_version": "1.5.0",
            "_model_name": "HTMLModel",
            "_view_count": null,
            "_view_module": "@jupyter-widgets/controls",
            "_view_module_version": "1.5.0",
            "_view_name": "HTMLView",
            "description": "",
            "description_tooltip": null,
            "layout": "IPY_MODEL_bd43e63642b44f5690a8646eb9844da0",
            "placeholder": "​",
            "style": "IPY_MODEL_f082bc2b9d274f5592c8d110f157e6e8",
            "value": " 2.17k/2.17k [00:00&lt;00:00, 55.3kB/s]"
          }
        },
        "a2397f3ad63945dfa838f2ffc94c88e0": {
          "model_module": "@jupyter-widgets/base",
          "model_name": "LayoutModel",
          "model_module_version": "1.2.0",
          "state": {
            "_model_module": "@jupyter-widgets/base",
            "_model_module_version": "1.2.0",
            "_model_name": "LayoutModel",
            "_view_count": null,
            "_view_module": "@jupyter-widgets/base",
            "_view_module_version": "1.2.0",
            "_view_name": "LayoutView",
            "align_content": null,
            "align_items": null,
            "align_self": null,
            "border": null,
            "bottom": null,
            "display": null,
            "flex": null,
            "flex_flow": null,
            "grid_area": null,
            "grid_auto_columns": null,
            "grid_auto_flow": null,
            "grid_auto_rows": null,
            "grid_column": null,
            "grid_gap": null,
            "grid_row": null,
            "grid_template_areas": null,
            "grid_template_columns": null,
            "grid_template_rows": null,
            "height": null,
            "justify_content": null,
            "justify_items": null,
            "left": null,
            "margin": null,
            "max_height": null,
            "max_width": null,
            "min_height": null,
            "min_width": null,
            "object_fit": null,
            "object_position": null,
            "order": null,
            "overflow": null,
            "overflow_x": null,
            "overflow_y": null,
            "padding": null,
            "right": null,
            "top": null,
            "visibility": null,
            "width": null
          }
        },
        "fd7129464c2f43a9855f864d086751fe": {
          "model_module": "@jupyter-widgets/base",
          "model_name": "LayoutModel",
          "model_module_version": "1.2.0",
          "state": {
            "_model_module": "@jupyter-widgets/base",
            "_model_module_version": "1.2.0",
            "_model_name": "LayoutModel",
            "_view_count": null,
            "_view_module": "@jupyter-widgets/base",
            "_view_module_version": "1.2.0",
            "_view_name": "LayoutView",
            "align_content": null,
            "align_items": null,
            "align_self": null,
            "border": null,
            "bottom": null,
            "display": null,
            "flex": null,
            "flex_flow": null,
            "grid_area": null,
            "grid_auto_columns": null,
            "grid_auto_flow": null,
            "grid_auto_rows": null,
            "grid_column": null,
            "grid_gap": null,
            "grid_row": null,
            "grid_template_areas": null,
            "grid_template_columns": null,
            "grid_template_rows": null,
            "height": null,
            "justify_content": null,
            "justify_items": null,
            "left": null,
            "margin": null,
            "max_height": null,
            "max_width": null,
            "min_height": null,
            "min_width": null,
            "object_fit": null,
            "object_position": null,
            "order": null,
            "overflow": null,
            "overflow_x": null,
            "overflow_y": null,
            "padding": null,
            "right": null,
            "top": null,
            "visibility": null,
            "width": null
          }
        },
        "5d735094e5c14ee9948b0834e81c5460": {
          "model_module": "@jupyter-widgets/controls",
          "model_name": "DescriptionStyleModel",
          "model_module_version": "1.5.0",
          "state": {
            "_model_module": "@jupyter-widgets/controls",
            "_model_module_version": "1.5.0",
            "_model_name": "DescriptionStyleModel",
            "_view_count": null,
            "_view_module": "@jupyter-widgets/base",
            "_view_module_version": "1.2.0",
            "_view_name": "StyleView",
            "description_width": ""
          }
        },
        "a8a71866624e4dac99b4fbfaa5ddb963": {
          "model_module": "@jupyter-widgets/base",
          "model_name": "LayoutModel",
          "model_module_version": "1.2.0",
          "state": {
            "_model_module": "@jupyter-widgets/base",
            "_model_module_version": "1.2.0",
            "_model_name": "LayoutModel",
            "_view_count": null,
            "_view_module": "@jupyter-widgets/base",
            "_view_module_version": "1.2.0",
            "_view_name": "LayoutView",
            "align_content": null,
            "align_items": null,
            "align_self": null,
            "border": null,
            "bottom": null,
            "display": null,
            "flex": null,
            "flex_flow": null,
            "grid_area": null,
            "grid_auto_columns": null,
            "grid_auto_flow": null,
            "grid_auto_rows": null,
            "grid_column": null,
            "grid_gap": null,
            "grid_row": null,
            "grid_template_areas": null,
            "grid_template_columns": null,
            "grid_template_rows": null,
            "height": null,
            "justify_content": null,
            "justify_items": null,
            "left": null,
            "margin": null,
            "max_height": null,
            "max_width": null,
            "min_height": null,
            "min_width": null,
            "object_fit": null,
            "object_position": null,
            "order": null,
            "overflow": null,
            "overflow_x": null,
            "overflow_y": null,
            "padding": null,
            "right": null,
            "top": null,
            "visibility": null,
            "width": null
          }
        },
        "30f1bb48be1f4c35911299bd478190bd": {
          "model_module": "@jupyter-widgets/controls",
          "model_name": "ProgressStyleModel",
          "model_module_version": "1.5.0",
          "state": {
            "_model_module": "@jupyter-widgets/controls",
            "_model_module_version": "1.5.0",
            "_model_name": "ProgressStyleModel",
            "_view_count": null,
            "_view_module": "@jupyter-widgets/base",
            "_view_module_version": "1.2.0",
            "_view_name": "StyleView",
            "bar_color": null,
            "description_width": ""
          }
        },
        "bd43e63642b44f5690a8646eb9844da0": {
          "model_module": "@jupyter-widgets/base",
          "model_name": "LayoutModel",
          "model_module_version": "1.2.0",
          "state": {
            "_model_module": "@jupyter-widgets/base",
            "_model_module_version": "1.2.0",
            "_model_name": "LayoutModel",
            "_view_count": null,
            "_view_module": "@jupyter-widgets/base",
            "_view_module_version": "1.2.0",
            "_view_name": "LayoutView",
            "align_content": null,
            "align_items": null,
            "align_self": null,
            "border": null,
            "bottom": null,
            "display": null,
            "flex": null,
            "flex_flow": null,
            "grid_area": null,
            "grid_auto_columns": null,
            "grid_auto_flow": null,
            "grid_auto_rows": null,
            "grid_column": null,
            "grid_gap": null,
            "grid_row": null,
            "grid_template_areas": null,
            "grid_template_columns": null,
            "grid_template_rows": null,
            "height": null,
            "justify_content": null,
            "justify_items": null,
            "left": null,
            "margin": null,
            "max_height": null,
            "max_width": null,
            "min_height": null,
            "min_width": null,
            "object_fit": null,
            "object_position": null,
            "order": null,
            "overflow": null,
            "overflow_x": null,
            "overflow_y": null,
            "padding": null,
            "right": null,
            "top": null,
            "visibility": null,
            "width": null
          }
        },
        "f082bc2b9d274f5592c8d110f157e6e8": {
          "model_module": "@jupyter-widgets/controls",
          "model_name": "DescriptionStyleModel",
          "model_module_version": "1.5.0",
          "state": {
            "_model_module": "@jupyter-widgets/controls",
            "_model_module_version": "1.5.0",
            "_model_name": "DescriptionStyleModel",
            "_view_count": null,
            "_view_module": "@jupyter-widgets/base",
            "_view_module_version": "1.2.0",
            "_view_name": "StyleView",
            "description_width": ""
          }
        },
        "851dd4ca243c48c1804f9b65239e3416": {
          "model_module": "@jupyter-widgets/controls",
          "model_name": "HBoxModel",
          "model_module_version": "1.5.0",
          "state": {
            "_dom_classes": [],
            "_model_module": "@jupyter-widgets/controls",
            "_model_module_version": "1.5.0",
            "_model_name": "HBoxModel",
            "_view_count": null,
            "_view_module": "@jupyter-widgets/controls",
            "_view_module_version": "1.5.0",
            "_view_name": "HBoxView",
            "box_style": "",
            "children": [
              "IPY_MODEL_fa55425246c7486fbf705357b8ac8162",
              "IPY_MODEL_b98c2b8f7841478c8c64eca81e9ee562",
              "IPY_MODEL_35d14d0a794c4529bc6c49b56e4f31df"
            ],
            "layout": "IPY_MODEL_6b4cfc8e8af54e00be7d27e50e6ef7a3"
          }
        },
        "fa55425246c7486fbf705357b8ac8162": {
          "model_module": "@jupyter-widgets/controls",
          "model_name": "HTMLModel",
          "model_module_version": "1.5.0",
          "state": {
            "_dom_classes": [],
            "_model_module": "@jupyter-widgets/controls",
            "_model_module_version": "1.5.0",
            "_model_name": "HTMLModel",
            "_view_count": null,
            "_view_module": "@jupyter-widgets/controls",
            "_view_module_version": "1.5.0",
            "_view_name": "HTMLView",
            "description": "",
            "description_tooltip": null,
            "layout": "IPY_MODEL_5b70bc1a91504378a10f53f6d60c22ff",
            "placeholder": "​",
            "style": "IPY_MODEL_a597fc16f550441ea133c2dd61534b45",
            "value": "Downloading data: 100%"
          }
        },
        "b98c2b8f7841478c8c64eca81e9ee562": {
          "model_module": "@jupyter-widgets/controls",
          "model_name": "FloatProgressModel",
          "model_module_version": "1.5.0",
          "state": {
            "_dom_classes": [],
            "_model_module": "@jupyter-widgets/controls",
            "_model_module_version": "1.5.0",
            "_model_name": "FloatProgressModel",
            "_view_count": null,
            "_view_module": "@jupyter-widgets/controls",
            "_view_module_version": "1.5.0",
            "_view_name": "ProgressView",
            "bar_style": "success",
            "description": "",
            "description_tooltip": null,
            "layout": "IPY_MODEL_c44592ef5721416f8a6b4f20d473e3f9",
            "max": 84125825,
            "min": 0,
            "orientation": "horizontal",
            "style": "IPY_MODEL_f3e98130a28045008b5ba62e0542edbc",
            "value": 84125825
          }
        },
        "35d14d0a794c4529bc6c49b56e4f31df": {
          "model_module": "@jupyter-widgets/controls",
          "model_name": "HTMLModel",
          "model_module_version": "1.5.0",
          "state": {
            "_dom_classes": [],
            "_model_module": "@jupyter-widgets/controls",
            "_model_module_version": "1.5.0",
            "_model_name": "HTMLModel",
            "_view_count": null,
            "_view_module": "@jupyter-widgets/controls",
            "_view_module_version": "1.5.0",
            "_view_name": "HTMLView",
            "description": "",
            "description_tooltip": null,
            "layout": "IPY_MODEL_5ea3093382774859a266835f290eb418",
            "placeholder": "​",
            "style": "IPY_MODEL_4c1b65b210204a099401f4ea0a232774",
            "value": " 84.1M/84.1M [00:02&lt;00:00, 43.1MB/s]"
          }
        },
        "6b4cfc8e8af54e00be7d27e50e6ef7a3": {
          "model_module": "@jupyter-widgets/base",
          "model_name": "LayoutModel",
          "model_module_version": "1.2.0",
          "state": {
            "_model_module": "@jupyter-widgets/base",
            "_model_module_version": "1.2.0",
            "_model_name": "LayoutModel",
            "_view_count": null,
            "_view_module": "@jupyter-widgets/base",
            "_view_module_version": "1.2.0",
            "_view_name": "LayoutView",
            "align_content": null,
            "align_items": null,
            "align_self": null,
            "border": null,
            "bottom": null,
            "display": null,
            "flex": null,
            "flex_flow": null,
            "grid_area": null,
            "grid_auto_columns": null,
            "grid_auto_flow": null,
            "grid_auto_rows": null,
            "grid_column": null,
            "grid_gap": null,
            "grid_row": null,
            "grid_template_areas": null,
            "grid_template_columns": null,
            "grid_template_rows": null,
            "height": null,
            "justify_content": null,
            "justify_items": null,
            "left": null,
            "margin": null,
            "max_height": null,
            "max_width": null,
            "min_height": null,
            "min_width": null,
            "object_fit": null,
            "object_position": null,
            "order": null,
            "overflow": null,
            "overflow_x": null,
            "overflow_y": null,
            "padding": null,
            "right": null,
            "top": null,
            "visibility": null,
            "width": null
          }
        },
        "5b70bc1a91504378a10f53f6d60c22ff": {
          "model_module": "@jupyter-widgets/base",
          "model_name": "LayoutModel",
          "model_module_version": "1.2.0",
          "state": {
            "_model_module": "@jupyter-widgets/base",
            "_model_module_version": "1.2.0",
            "_model_name": "LayoutModel",
            "_view_count": null,
            "_view_module": "@jupyter-widgets/base",
            "_view_module_version": "1.2.0",
            "_view_name": "LayoutView",
            "align_content": null,
            "align_items": null,
            "align_self": null,
            "border": null,
            "bottom": null,
            "display": null,
            "flex": null,
            "flex_flow": null,
            "grid_area": null,
            "grid_auto_columns": null,
            "grid_auto_flow": null,
            "grid_auto_rows": null,
            "grid_column": null,
            "grid_gap": null,
            "grid_row": null,
            "grid_template_areas": null,
            "grid_template_columns": null,
            "grid_template_rows": null,
            "height": null,
            "justify_content": null,
            "justify_items": null,
            "left": null,
            "margin": null,
            "max_height": null,
            "max_width": null,
            "min_height": null,
            "min_width": null,
            "object_fit": null,
            "object_position": null,
            "order": null,
            "overflow": null,
            "overflow_x": null,
            "overflow_y": null,
            "padding": null,
            "right": null,
            "top": null,
            "visibility": null,
            "width": null
          }
        },
        "a597fc16f550441ea133c2dd61534b45": {
          "model_module": "@jupyter-widgets/controls",
          "model_name": "DescriptionStyleModel",
          "model_module_version": "1.5.0",
          "state": {
            "_model_module": "@jupyter-widgets/controls",
            "_model_module_version": "1.5.0",
            "_model_name": "DescriptionStyleModel",
            "_view_count": null,
            "_view_module": "@jupyter-widgets/base",
            "_view_module_version": "1.2.0",
            "_view_name": "StyleView",
            "description_width": ""
          }
        },
        "c44592ef5721416f8a6b4f20d473e3f9": {
          "model_module": "@jupyter-widgets/base",
          "model_name": "LayoutModel",
          "model_module_version": "1.2.0",
          "state": {
            "_model_module": "@jupyter-widgets/base",
            "_model_module_version": "1.2.0",
            "_model_name": "LayoutModel",
            "_view_count": null,
            "_view_module": "@jupyter-widgets/base",
            "_view_module_version": "1.2.0",
            "_view_name": "LayoutView",
            "align_content": null,
            "align_items": null,
            "align_self": null,
            "border": null,
            "bottom": null,
            "display": null,
            "flex": null,
            "flex_flow": null,
            "grid_area": null,
            "grid_auto_columns": null,
            "grid_auto_flow": null,
            "grid_auto_rows": null,
            "grid_column": null,
            "grid_gap": null,
            "grid_row": null,
            "grid_template_areas": null,
            "grid_template_columns": null,
            "grid_template_rows": null,
            "height": null,
            "justify_content": null,
            "justify_items": null,
            "left": null,
            "margin": null,
            "max_height": null,
            "max_width": null,
            "min_height": null,
            "min_width": null,
            "object_fit": null,
            "object_position": null,
            "order": null,
            "overflow": null,
            "overflow_x": null,
            "overflow_y": null,
            "padding": null,
            "right": null,
            "top": null,
            "visibility": null,
            "width": null
          }
        },
        "f3e98130a28045008b5ba62e0542edbc": {
          "model_module": "@jupyter-widgets/controls",
          "model_name": "ProgressStyleModel",
          "model_module_version": "1.5.0",
          "state": {
            "_model_module": "@jupyter-widgets/controls",
            "_model_module_version": "1.5.0",
            "_model_name": "ProgressStyleModel",
            "_view_count": null,
            "_view_module": "@jupyter-widgets/base",
            "_view_module_version": "1.2.0",
            "_view_name": "StyleView",
            "bar_color": null,
            "description_width": ""
          }
        },
        "5ea3093382774859a266835f290eb418": {
          "model_module": "@jupyter-widgets/base",
          "model_name": "LayoutModel",
          "model_module_version": "1.2.0",
          "state": {
            "_model_module": "@jupyter-widgets/base",
            "_model_module_version": "1.2.0",
            "_model_name": "LayoutModel",
            "_view_count": null,
            "_view_module": "@jupyter-widgets/base",
            "_view_module_version": "1.2.0",
            "_view_name": "LayoutView",
            "align_content": null,
            "align_items": null,
            "align_self": null,
            "border": null,
            "bottom": null,
            "display": null,
            "flex": null,
            "flex_flow": null,
            "grid_area": null,
            "grid_auto_columns": null,
            "grid_auto_flow": null,
            "grid_auto_rows": null,
            "grid_column": null,
            "grid_gap": null,
            "grid_row": null,
            "grid_template_areas": null,
            "grid_template_columns": null,
            "grid_template_rows": null,
            "height": null,
            "justify_content": null,
            "justify_items": null,
            "left": null,
            "margin": null,
            "max_height": null,
            "max_width": null,
            "min_height": null,
            "min_width": null,
            "object_fit": null,
            "object_position": null,
            "order": null,
            "overflow": null,
            "overflow_x": null,
            "overflow_y": null,
            "padding": null,
            "right": null,
            "top": null,
            "visibility": null,
            "width": null
          }
        },
        "4c1b65b210204a099401f4ea0a232774": {
          "model_module": "@jupyter-widgets/controls",
          "model_name": "DescriptionStyleModel",
          "model_module_version": "1.5.0",
          "state": {
            "_model_module": "@jupyter-widgets/controls",
            "_model_module_version": "1.5.0",
            "_model_name": "DescriptionStyleModel",
            "_view_count": null,
            "_view_module": "@jupyter-widgets/base",
            "_view_module_version": "1.2.0",
            "_view_name": "StyleView",
            "description_width": ""
          }
        },
        "095c1bff520a41b8a86613eba039aa58": {
          "model_module": "@jupyter-widgets/controls",
          "model_name": "HBoxModel",
          "model_module_version": "1.5.0",
          "state": {
            "_dom_classes": [],
            "_model_module": "@jupyter-widgets/controls",
            "_model_module_version": "1.5.0",
            "_model_name": "HBoxModel",
            "_view_count": null,
            "_view_module": "@jupyter-widgets/controls",
            "_view_module_version": "1.5.0",
            "_view_name": "HBoxView",
            "box_style": "",
            "children": [
              "IPY_MODEL_7e0a8e0f5f734d15b455926d8fcfa1f7",
              "IPY_MODEL_29b554cd46a24eadb679aa1a1eebbe5e",
              "IPY_MODEL_db4e53e0799c49f4979f094d71cb22c1"
            ],
            "layout": "IPY_MODEL_bd2d58b8b2ec4bcfa1d38067614db8e9"
          }
        },
        "7e0a8e0f5f734d15b455926d8fcfa1f7": {
          "model_module": "@jupyter-widgets/controls",
          "model_name": "HTMLModel",
          "model_module_version": "1.5.0",
          "state": {
            "_dom_classes": [],
            "_model_module": "@jupyter-widgets/controls",
            "_model_module_version": "1.5.0",
            "_model_name": "HTMLModel",
            "_view_count": null,
            "_view_module": "@jupyter-widgets/controls",
            "_view_module_version": "1.5.0",
            "_view_name": "HTMLView",
            "description": "",
            "description_tooltip": null,
            "layout": "IPY_MODEL_ac27643b6eb14b629b336172cf48c17f",
            "placeholder": "​",
            "style": "IPY_MODEL_833cdbb7141a4dcf94c3aa22e8d951b6",
            "value": "Generating train split: 100%"
          }
        },
        "29b554cd46a24eadb679aa1a1eebbe5e": {
          "model_module": "@jupyter-widgets/controls",
          "model_name": "FloatProgressModel",
          "model_module_version": "1.5.0",
          "state": {
            "_dom_classes": [],
            "_model_module": "@jupyter-widgets/controls",
            "_model_module_version": "1.5.0",
            "_model_name": "FloatProgressModel",
            "_view_count": null,
            "_view_module": "@jupyter-widgets/controls",
            "_view_module_version": "1.5.0",
            "_view_name": "ProgressView",
            "bar_style": "",
            "description": "",
            "description_tooltip": null,
            "layout": "IPY_MODEL_204022e3820247c0b2b72a660b167fe5",
            "max": 25000,
            "min": 0,
            "orientation": "horizontal",
            "style": "IPY_MODEL_01b86a0fa3dc42fc86a1bded7945fc60",
            "value": 25000
          }
        },
        "db4e53e0799c49f4979f094d71cb22c1": {
          "model_module": "@jupyter-widgets/controls",
          "model_name": "HTMLModel",
          "model_module_version": "1.5.0",
          "state": {
            "_dom_classes": [],
            "_model_module": "@jupyter-widgets/controls",
            "_model_module_version": "1.5.0",
            "_model_name": "HTMLModel",
            "_view_count": null,
            "_view_module": "@jupyter-widgets/controls",
            "_view_module_version": "1.5.0",
            "_view_name": "HTMLView",
            "description": "",
            "description_tooltip": null,
            "layout": "IPY_MODEL_6f61c274681b40538360e131bea7cb13",
            "placeholder": "​",
            "style": "IPY_MODEL_680b42a27dfe41ab8acf7ea34591619b",
            "value": " 24964/25000 [00:13&lt;00:00, 3222.63 examples/s]"
          }
        },
        "bd2d58b8b2ec4bcfa1d38067614db8e9": {
          "model_module": "@jupyter-widgets/base",
          "model_name": "LayoutModel",
          "model_module_version": "1.2.0",
          "state": {
            "_model_module": "@jupyter-widgets/base",
            "_model_module_version": "1.2.0",
            "_model_name": "LayoutModel",
            "_view_count": null,
            "_view_module": "@jupyter-widgets/base",
            "_view_module_version": "1.2.0",
            "_view_name": "LayoutView",
            "align_content": null,
            "align_items": null,
            "align_self": null,
            "border": null,
            "bottom": null,
            "display": null,
            "flex": null,
            "flex_flow": null,
            "grid_area": null,
            "grid_auto_columns": null,
            "grid_auto_flow": null,
            "grid_auto_rows": null,
            "grid_column": null,
            "grid_gap": null,
            "grid_row": null,
            "grid_template_areas": null,
            "grid_template_columns": null,
            "grid_template_rows": null,
            "height": null,
            "justify_content": null,
            "justify_items": null,
            "left": null,
            "margin": null,
            "max_height": null,
            "max_width": null,
            "min_height": null,
            "min_width": null,
            "object_fit": null,
            "object_position": null,
            "order": null,
            "overflow": null,
            "overflow_x": null,
            "overflow_y": null,
            "padding": null,
            "right": null,
            "top": null,
            "visibility": "hidden",
            "width": null
          }
        },
        "ac27643b6eb14b629b336172cf48c17f": {
          "model_module": "@jupyter-widgets/base",
          "model_name": "LayoutModel",
          "model_module_version": "1.2.0",
          "state": {
            "_model_module": "@jupyter-widgets/base",
            "_model_module_version": "1.2.0",
            "_model_name": "LayoutModel",
            "_view_count": null,
            "_view_module": "@jupyter-widgets/base",
            "_view_module_version": "1.2.0",
            "_view_name": "LayoutView",
            "align_content": null,
            "align_items": null,
            "align_self": null,
            "border": null,
            "bottom": null,
            "display": null,
            "flex": null,
            "flex_flow": null,
            "grid_area": null,
            "grid_auto_columns": null,
            "grid_auto_flow": null,
            "grid_auto_rows": null,
            "grid_column": null,
            "grid_gap": null,
            "grid_row": null,
            "grid_template_areas": null,
            "grid_template_columns": null,
            "grid_template_rows": null,
            "height": null,
            "justify_content": null,
            "justify_items": null,
            "left": null,
            "margin": null,
            "max_height": null,
            "max_width": null,
            "min_height": null,
            "min_width": null,
            "object_fit": null,
            "object_position": null,
            "order": null,
            "overflow": null,
            "overflow_x": null,
            "overflow_y": null,
            "padding": null,
            "right": null,
            "top": null,
            "visibility": null,
            "width": null
          }
        },
        "833cdbb7141a4dcf94c3aa22e8d951b6": {
          "model_module": "@jupyter-widgets/controls",
          "model_name": "DescriptionStyleModel",
          "model_module_version": "1.5.0",
          "state": {
            "_model_module": "@jupyter-widgets/controls",
            "_model_module_version": "1.5.0",
            "_model_name": "DescriptionStyleModel",
            "_view_count": null,
            "_view_module": "@jupyter-widgets/base",
            "_view_module_version": "1.2.0",
            "_view_name": "StyleView",
            "description_width": ""
          }
        },
        "204022e3820247c0b2b72a660b167fe5": {
          "model_module": "@jupyter-widgets/base",
          "model_name": "LayoutModel",
          "model_module_version": "1.2.0",
          "state": {
            "_model_module": "@jupyter-widgets/base",
            "_model_module_version": "1.2.0",
            "_model_name": "LayoutModel",
            "_view_count": null,
            "_view_module": "@jupyter-widgets/base",
            "_view_module_version": "1.2.0",
            "_view_name": "LayoutView",
            "align_content": null,
            "align_items": null,
            "align_self": null,
            "border": null,
            "bottom": null,
            "display": null,
            "flex": null,
            "flex_flow": null,
            "grid_area": null,
            "grid_auto_columns": null,
            "grid_auto_flow": null,
            "grid_auto_rows": null,
            "grid_column": null,
            "grid_gap": null,
            "grid_row": null,
            "grid_template_areas": null,
            "grid_template_columns": null,
            "grid_template_rows": null,
            "height": null,
            "justify_content": null,
            "justify_items": null,
            "left": null,
            "margin": null,
            "max_height": null,
            "max_width": null,
            "min_height": null,
            "min_width": null,
            "object_fit": null,
            "object_position": null,
            "order": null,
            "overflow": null,
            "overflow_x": null,
            "overflow_y": null,
            "padding": null,
            "right": null,
            "top": null,
            "visibility": null,
            "width": null
          }
        },
        "01b86a0fa3dc42fc86a1bded7945fc60": {
          "model_module": "@jupyter-widgets/controls",
          "model_name": "ProgressStyleModel",
          "model_module_version": "1.5.0",
          "state": {
            "_model_module": "@jupyter-widgets/controls",
            "_model_module_version": "1.5.0",
            "_model_name": "ProgressStyleModel",
            "_view_count": null,
            "_view_module": "@jupyter-widgets/base",
            "_view_module_version": "1.2.0",
            "_view_name": "StyleView",
            "bar_color": null,
            "description_width": ""
          }
        },
        "6f61c274681b40538360e131bea7cb13": {
          "model_module": "@jupyter-widgets/base",
          "model_name": "LayoutModel",
          "model_module_version": "1.2.0",
          "state": {
            "_model_module": "@jupyter-widgets/base",
            "_model_module_version": "1.2.0",
            "_model_name": "LayoutModel",
            "_view_count": null,
            "_view_module": "@jupyter-widgets/base",
            "_view_module_version": "1.2.0",
            "_view_name": "LayoutView",
            "align_content": null,
            "align_items": null,
            "align_self": null,
            "border": null,
            "bottom": null,
            "display": null,
            "flex": null,
            "flex_flow": null,
            "grid_area": null,
            "grid_auto_columns": null,
            "grid_auto_flow": null,
            "grid_auto_rows": null,
            "grid_column": null,
            "grid_gap": null,
            "grid_row": null,
            "grid_template_areas": null,
            "grid_template_columns": null,
            "grid_template_rows": null,
            "height": null,
            "justify_content": null,
            "justify_items": null,
            "left": null,
            "margin": null,
            "max_height": null,
            "max_width": null,
            "min_height": null,
            "min_width": null,
            "object_fit": null,
            "object_position": null,
            "order": null,
            "overflow": null,
            "overflow_x": null,
            "overflow_y": null,
            "padding": null,
            "right": null,
            "top": null,
            "visibility": null,
            "width": null
          }
        },
        "680b42a27dfe41ab8acf7ea34591619b": {
          "model_module": "@jupyter-widgets/controls",
          "model_name": "DescriptionStyleModel",
          "model_module_version": "1.5.0",
          "state": {
            "_model_module": "@jupyter-widgets/controls",
            "_model_module_version": "1.5.0",
            "_model_name": "DescriptionStyleModel",
            "_view_count": null,
            "_view_module": "@jupyter-widgets/base",
            "_view_module_version": "1.2.0",
            "_view_name": "StyleView",
            "description_width": ""
          }
        },
        "c110a7757b1d4668b1687349a149c9df": {
          "model_module": "@jupyter-widgets/controls",
          "model_name": "HBoxModel",
          "model_module_version": "1.5.0",
          "state": {
            "_dom_classes": [],
            "_model_module": "@jupyter-widgets/controls",
            "_model_module_version": "1.5.0",
            "_model_name": "HBoxModel",
            "_view_count": null,
            "_view_module": "@jupyter-widgets/controls",
            "_view_module_version": "1.5.0",
            "_view_name": "HBoxView",
            "box_style": "",
            "children": [
              "IPY_MODEL_ce75e2f0f838415ea55610dc007cc20b",
              "IPY_MODEL_7606b97e62da4604b1f97149e26c5534",
              "IPY_MODEL_57ef02ca43174236a7eb683cdf5935db"
            ],
            "layout": "IPY_MODEL_56048364330b48d58913fc1ed693eb0b"
          }
        },
        "ce75e2f0f838415ea55610dc007cc20b": {
          "model_module": "@jupyter-widgets/controls",
          "model_name": "HTMLModel",
          "model_module_version": "1.5.0",
          "state": {
            "_dom_classes": [],
            "_model_module": "@jupyter-widgets/controls",
            "_model_module_version": "1.5.0",
            "_model_name": "HTMLModel",
            "_view_count": null,
            "_view_module": "@jupyter-widgets/controls",
            "_view_module_version": "1.5.0",
            "_view_name": "HTMLView",
            "description": "",
            "description_tooltip": null,
            "layout": "IPY_MODEL_ecbc45ca8a174a9a90f0ce27aeeea058",
            "placeholder": "​",
            "style": "IPY_MODEL_9b8a8fc73ed046628f121ae58c97bedf",
            "value": "Generating test split:  99%"
          }
        },
        "7606b97e62da4604b1f97149e26c5534": {
          "model_module": "@jupyter-widgets/controls",
          "model_name": "FloatProgressModel",
          "model_module_version": "1.5.0",
          "state": {
            "_dom_classes": [],
            "_model_module": "@jupyter-widgets/controls",
            "_model_module_version": "1.5.0",
            "_model_name": "FloatProgressModel",
            "_view_count": null,
            "_view_module": "@jupyter-widgets/controls",
            "_view_module_version": "1.5.0",
            "_view_name": "ProgressView",
            "bar_style": "",
            "description": "",
            "description_tooltip": null,
            "layout": "IPY_MODEL_acabd59c9bdb4e5cacdbc8747c1e76e8",
            "max": 25000,
            "min": 0,
            "orientation": "horizontal",
            "style": "IPY_MODEL_2a27ebde25de451191056b71ea2f2860",
            "value": 25000
          }
        },
        "57ef02ca43174236a7eb683cdf5935db": {
          "model_module": "@jupyter-widgets/controls",
          "model_name": "HTMLModel",
          "model_module_version": "1.5.0",
          "state": {
            "_dom_classes": [],
            "_model_module": "@jupyter-widgets/controls",
            "_model_module_version": "1.5.0",
            "_model_name": "HTMLModel",
            "_view_count": null,
            "_view_module": "@jupyter-widgets/controls",
            "_view_module_version": "1.5.0",
            "_view_name": "HTMLView",
            "description": "",
            "description_tooltip": null,
            "layout": "IPY_MODEL_2916df2eaafc4b4dba248895e00b17fa",
            "placeholder": "​",
            "style": "IPY_MODEL_503eeafc250b472d99a23154e6cacac5",
            "value": " 24874/25000 [00:04&lt;00:00, 6816.49 examples/s]"
          }
        },
        "56048364330b48d58913fc1ed693eb0b": {
          "model_module": "@jupyter-widgets/base",
          "model_name": "LayoutModel",
          "model_module_version": "1.2.0",
          "state": {
            "_model_module": "@jupyter-widgets/base",
            "_model_module_version": "1.2.0",
            "_model_name": "LayoutModel",
            "_view_count": null,
            "_view_module": "@jupyter-widgets/base",
            "_view_module_version": "1.2.0",
            "_view_name": "LayoutView",
            "align_content": null,
            "align_items": null,
            "align_self": null,
            "border": null,
            "bottom": null,
            "display": null,
            "flex": null,
            "flex_flow": null,
            "grid_area": null,
            "grid_auto_columns": null,
            "grid_auto_flow": null,
            "grid_auto_rows": null,
            "grid_column": null,
            "grid_gap": null,
            "grid_row": null,
            "grid_template_areas": null,
            "grid_template_columns": null,
            "grid_template_rows": null,
            "height": null,
            "justify_content": null,
            "justify_items": null,
            "left": null,
            "margin": null,
            "max_height": null,
            "max_width": null,
            "min_height": null,
            "min_width": null,
            "object_fit": null,
            "object_position": null,
            "order": null,
            "overflow": null,
            "overflow_x": null,
            "overflow_y": null,
            "padding": null,
            "right": null,
            "top": null,
            "visibility": "hidden",
            "width": null
          }
        },
        "ecbc45ca8a174a9a90f0ce27aeeea058": {
          "model_module": "@jupyter-widgets/base",
          "model_name": "LayoutModel",
          "model_module_version": "1.2.0",
          "state": {
            "_model_module": "@jupyter-widgets/base",
            "_model_module_version": "1.2.0",
            "_model_name": "LayoutModel",
            "_view_count": null,
            "_view_module": "@jupyter-widgets/base",
            "_view_module_version": "1.2.0",
            "_view_name": "LayoutView",
            "align_content": null,
            "align_items": null,
            "align_self": null,
            "border": null,
            "bottom": null,
            "display": null,
            "flex": null,
            "flex_flow": null,
            "grid_area": null,
            "grid_auto_columns": null,
            "grid_auto_flow": null,
            "grid_auto_rows": null,
            "grid_column": null,
            "grid_gap": null,
            "grid_row": null,
            "grid_template_areas": null,
            "grid_template_columns": null,
            "grid_template_rows": null,
            "height": null,
            "justify_content": null,
            "justify_items": null,
            "left": null,
            "margin": null,
            "max_height": null,
            "max_width": null,
            "min_height": null,
            "min_width": null,
            "object_fit": null,
            "object_position": null,
            "order": null,
            "overflow": null,
            "overflow_x": null,
            "overflow_y": null,
            "padding": null,
            "right": null,
            "top": null,
            "visibility": null,
            "width": null
          }
        },
        "9b8a8fc73ed046628f121ae58c97bedf": {
          "model_module": "@jupyter-widgets/controls",
          "model_name": "DescriptionStyleModel",
          "model_module_version": "1.5.0",
          "state": {
            "_model_module": "@jupyter-widgets/controls",
            "_model_module_version": "1.5.0",
            "_model_name": "DescriptionStyleModel",
            "_view_count": null,
            "_view_module": "@jupyter-widgets/base",
            "_view_module_version": "1.2.0",
            "_view_name": "StyleView",
            "description_width": ""
          }
        },
        "acabd59c9bdb4e5cacdbc8747c1e76e8": {
          "model_module": "@jupyter-widgets/base",
          "model_name": "LayoutModel",
          "model_module_version": "1.2.0",
          "state": {
            "_model_module": "@jupyter-widgets/base",
            "_model_module_version": "1.2.0",
            "_model_name": "LayoutModel",
            "_view_count": null,
            "_view_module": "@jupyter-widgets/base",
            "_view_module_version": "1.2.0",
            "_view_name": "LayoutView",
            "align_content": null,
            "align_items": null,
            "align_self": null,
            "border": null,
            "bottom": null,
            "display": null,
            "flex": null,
            "flex_flow": null,
            "grid_area": null,
            "grid_auto_columns": null,
            "grid_auto_flow": null,
            "grid_auto_rows": null,
            "grid_column": null,
            "grid_gap": null,
            "grid_row": null,
            "grid_template_areas": null,
            "grid_template_columns": null,
            "grid_template_rows": null,
            "height": null,
            "justify_content": null,
            "justify_items": null,
            "left": null,
            "margin": null,
            "max_height": null,
            "max_width": null,
            "min_height": null,
            "min_width": null,
            "object_fit": null,
            "object_position": null,
            "order": null,
            "overflow": null,
            "overflow_x": null,
            "overflow_y": null,
            "padding": null,
            "right": null,
            "top": null,
            "visibility": null,
            "width": null
          }
        },
        "2a27ebde25de451191056b71ea2f2860": {
          "model_module": "@jupyter-widgets/controls",
          "model_name": "ProgressStyleModel",
          "model_module_version": "1.5.0",
          "state": {
            "_model_module": "@jupyter-widgets/controls",
            "_model_module_version": "1.5.0",
            "_model_name": "ProgressStyleModel",
            "_view_count": null,
            "_view_module": "@jupyter-widgets/base",
            "_view_module_version": "1.2.0",
            "_view_name": "StyleView",
            "bar_color": null,
            "description_width": ""
          }
        },
        "2916df2eaafc4b4dba248895e00b17fa": {
          "model_module": "@jupyter-widgets/base",
          "model_name": "LayoutModel",
          "model_module_version": "1.2.0",
          "state": {
            "_model_module": "@jupyter-widgets/base",
            "_model_module_version": "1.2.0",
            "_model_name": "LayoutModel",
            "_view_count": null,
            "_view_module": "@jupyter-widgets/base",
            "_view_module_version": "1.2.0",
            "_view_name": "LayoutView",
            "align_content": null,
            "align_items": null,
            "align_self": null,
            "border": null,
            "bottom": null,
            "display": null,
            "flex": null,
            "flex_flow": null,
            "grid_area": null,
            "grid_auto_columns": null,
            "grid_auto_flow": null,
            "grid_auto_rows": null,
            "grid_column": null,
            "grid_gap": null,
            "grid_row": null,
            "grid_template_areas": null,
            "grid_template_columns": null,
            "grid_template_rows": null,
            "height": null,
            "justify_content": null,
            "justify_items": null,
            "left": null,
            "margin": null,
            "max_height": null,
            "max_width": null,
            "min_height": null,
            "min_width": null,
            "object_fit": null,
            "object_position": null,
            "order": null,
            "overflow": null,
            "overflow_x": null,
            "overflow_y": null,
            "padding": null,
            "right": null,
            "top": null,
            "visibility": null,
            "width": null
          }
        },
        "503eeafc250b472d99a23154e6cacac5": {
          "model_module": "@jupyter-widgets/controls",
          "model_name": "DescriptionStyleModel",
          "model_module_version": "1.5.0",
          "state": {
            "_model_module": "@jupyter-widgets/controls",
            "_model_module_version": "1.5.0",
            "_model_name": "DescriptionStyleModel",
            "_view_count": null,
            "_view_module": "@jupyter-widgets/base",
            "_view_module_version": "1.2.0",
            "_view_name": "StyleView",
            "description_width": ""
          }
        },
        "2be8480cf1ed47049d9c31ce0d85bb32": {
          "model_module": "@jupyter-widgets/controls",
          "model_name": "HBoxModel",
          "model_module_version": "1.5.0",
          "state": {
            "_dom_classes": [],
            "_model_module": "@jupyter-widgets/controls",
            "_model_module_version": "1.5.0",
            "_model_name": "HBoxModel",
            "_view_count": null,
            "_view_module": "@jupyter-widgets/controls",
            "_view_module_version": "1.5.0",
            "_view_name": "HBoxView",
            "box_style": "",
            "children": [
              "IPY_MODEL_f152c34ed64d435f800692ecb54d55a2",
              "IPY_MODEL_037f4040e28d44c2aad6836261ba8eae",
              "IPY_MODEL_f1d6509ee6ec4b009b055bc23ed87280"
            ],
            "layout": "IPY_MODEL_21b4f38110b244818f43e7a4a15eaf09"
          }
        },
        "f152c34ed64d435f800692ecb54d55a2": {
          "model_module": "@jupyter-widgets/controls",
          "model_name": "HTMLModel",
          "model_module_version": "1.5.0",
          "state": {
            "_dom_classes": [],
            "_model_module": "@jupyter-widgets/controls",
            "_model_module_version": "1.5.0",
            "_model_name": "HTMLModel",
            "_view_count": null,
            "_view_module": "@jupyter-widgets/controls",
            "_view_module_version": "1.5.0",
            "_view_name": "HTMLView",
            "description": "",
            "description_tooltip": null,
            "layout": "IPY_MODEL_4ff21190cd8d446db0eb66574508a573",
            "placeholder": "​",
            "style": "IPY_MODEL_2e1b2a2aea7a494db04bdc8ef7eaab7d",
            "value": "Generating unsupervised split: 100%"
          }
        },
        "037f4040e28d44c2aad6836261ba8eae": {
          "model_module": "@jupyter-widgets/controls",
          "model_name": "FloatProgressModel",
          "model_module_version": "1.5.0",
          "state": {
            "_dom_classes": [],
            "_model_module": "@jupyter-widgets/controls",
            "_model_module_version": "1.5.0",
            "_model_name": "FloatProgressModel",
            "_view_count": null,
            "_view_module": "@jupyter-widgets/controls",
            "_view_module_version": "1.5.0",
            "_view_name": "ProgressView",
            "bar_style": "",
            "description": "",
            "description_tooltip": null,
            "layout": "IPY_MODEL_bff198db6aaf4cb89bd82e7fda26c91f",
            "max": 50000,
            "min": 0,
            "orientation": "horizontal",
            "style": "IPY_MODEL_001e1e100a9d40c08637ea44f86759b6",
            "value": 50000
          }
        },
        "f1d6509ee6ec4b009b055bc23ed87280": {
          "model_module": "@jupyter-widgets/controls",
          "model_name": "HTMLModel",
          "model_module_version": "1.5.0",
          "state": {
            "_dom_classes": [],
            "_model_module": "@jupyter-widgets/controls",
            "_model_module_version": "1.5.0",
            "_model_name": "HTMLModel",
            "_view_count": null,
            "_view_module": "@jupyter-widgets/controls",
            "_view_module_version": "1.5.0",
            "_view_name": "HTMLView",
            "description": "",
            "description_tooltip": null,
            "layout": "IPY_MODEL_80afd28ad2774f219e8f10c9b1abeb83",
            "placeholder": "​",
            "style": "IPY_MODEL_81a2ae722a034ab491fdcf98df243aa6",
            "value": " 49768/50000 [00:11&lt;00:00, 6908.00 examples/s]"
          }
        },
        "21b4f38110b244818f43e7a4a15eaf09": {
          "model_module": "@jupyter-widgets/base",
          "model_name": "LayoutModel",
          "model_module_version": "1.2.0",
          "state": {
            "_model_module": "@jupyter-widgets/base",
            "_model_module_version": "1.2.0",
            "_model_name": "LayoutModel",
            "_view_count": null,
            "_view_module": "@jupyter-widgets/base",
            "_view_module_version": "1.2.0",
            "_view_name": "LayoutView",
            "align_content": null,
            "align_items": null,
            "align_self": null,
            "border": null,
            "bottom": null,
            "display": null,
            "flex": null,
            "flex_flow": null,
            "grid_area": null,
            "grid_auto_columns": null,
            "grid_auto_flow": null,
            "grid_auto_rows": null,
            "grid_column": null,
            "grid_gap": null,
            "grid_row": null,
            "grid_template_areas": null,
            "grid_template_columns": null,
            "grid_template_rows": null,
            "height": null,
            "justify_content": null,
            "justify_items": null,
            "left": null,
            "margin": null,
            "max_height": null,
            "max_width": null,
            "min_height": null,
            "min_width": null,
            "object_fit": null,
            "object_position": null,
            "order": null,
            "overflow": null,
            "overflow_x": null,
            "overflow_y": null,
            "padding": null,
            "right": null,
            "top": null,
            "visibility": "hidden",
            "width": null
          }
        },
        "4ff21190cd8d446db0eb66574508a573": {
          "model_module": "@jupyter-widgets/base",
          "model_name": "LayoutModel",
          "model_module_version": "1.2.0",
          "state": {
            "_model_module": "@jupyter-widgets/base",
            "_model_module_version": "1.2.0",
            "_model_name": "LayoutModel",
            "_view_count": null,
            "_view_module": "@jupyter-widgets/base",
            "_view_module_version": "1.2.0",
            "_view_name": "LayoutView",
            "align_content": null,
            "align_items": null,
            "align_self": null,
            "border": null,
            "bottom": null,
            "display": null,
            "flex": null,
            "flex_flow": null,
            "grid_area": null,
            "grid_auto_columns": null,
            "grid_auto_flow": null,
            "grid_auto_rows": null,
            "grid_column": null,
            "grid_gap": null,
            "grid_row": null,
            "grid_template_areas": null,
            "grid_template_columns": null,
            "grid_template_rows": null,
            "height": null,
            "justify_content": null,
            "justify_items": null,
            "left": null,
            "margin": null,
            "max_height": null,
            "max_width": null,
            "min_height": null,
            "min_width": null,
            "object_fit": null,
            "object_position": null,
            "order": null,
            "overflow": null,
            "overflow_x": null,
            "overflow_y": null,
            "padding": null,
            "right": null,
            "top": null,
            "visibility": null,
            "width": null
          }
        },
        "2e1b2a2aea7a494db04bdc8ef7eaab7d": {
          "model_module": "@jupyter-widgets/controls",
          "model_name": "DescriptionStyleModel",
          "model_module_version": "1.5.0",
          "state": {
            "_model_module": "@jupyter-widgets/controls",
            "_model_module_version": "1.5.0",
            "_model_name": "DescriptionStyleModel",
            "_view_count": null,
            "_view_module": "@jupyter-widgets/base",
            "_view_module_version": "1.2.0",
            "_view_name": "StyleView",
            "description_width": ""
          }
        },
        "bff198db6aaf4cb89bd82e7fda26c91f": {
          "model_module": "@jupyter-widgets/base",
          "model_name": "LayoutModel",
          "model_module_version": "1.2.0",
          "state": {
            "_model_module": "@jupyter-widgets/base",
            "_model_module_version": "1.2.0",
            "_model_name": "LayoutModel",
            "_view_count": null,
            "_view_module": "@jupyter-widgets/base",
            "_view_module_version": "1.2.0",
            "_view_name": "LayoutView",
            "align_content": null,
            "align_items": null,
            "align_self": null,
            "border": null,
            "bottom": null,
            "display": null,
            "flex": null,
            "flex_flow": null,
            "grid_area": null,
            "grid_auto_columns": null,
            "grid_auto_flow": null,
            "grid_auto_rows": null,
            "grid_column": null,
            "grid_gap": null,
            "grid_row": null,
            "grid_template_areas": null,
            "grid_template_columns": null,
            "grid_template_rows": null,
            "height": null,
            "justify_content": null,
            "justify_items": null,
            "left": null,
            "margin": null,
            "max_height": null,
            "max_width": null,
            "min_height": null,
            "min_width": null,
            "object_fit": null,
            "object_position": null,
            "order": null,
            "overflow": null,
            "overflow_x": null,
            "overflow_y": null,
            "padding": null,
            "right": null,
            "top": null,
            "visibility": null,
            "width": null
          }
        },
        "001e1e100a9d40c08637ea44f86759b6": {
          "model_module": "@jupyter-widgets/controls",
          "model_name": "ProgressStyleModel",
          "model_module_version": "1.5.0",
          "state": {
            "_model_module": "@jupyter-widgets/controls",
            "_model_module_version": "1.5.0",
            "_model_name": "ProgressStyleModel",
            "_view_count": null,
            "_view_module": "@jupyter-widgets/base",
            "_view_module_version": "1.2.0",
            "_view_name": "StyleView",
            "bar_color": null,
            "description_width": ""
          }
        },
        "80afd28ad2774f219e8f10c9b1abeb83": {
          "model_module": "@jupyter-widgets/base",
          "model_name": "LayoutModel",
          "model_module_version": "1.2.0",
          "state": {
            "_model_module": "@jupyter-widgets/base",
            "_model_module_version": "1.2.0",
            "_model_name": "LayoutModel",
            "_view_count": null,
            "_view_module": "@jupyter-widgets/base",
            "_view_module_version": "1.2.0",
            "_view_name": "LayoutView",
            "align_content": null,
            "align_items": null,
            "align_self": null,
            "border": null,
            "bottom": null,
            "display": null,
            "flex": null,
            "flex_flow": null,
            "grid_area": null,
            "grid_auto_columns": null,
            "grid_auto_flow": null,
            "grid_auto_rows": null,
            "grid_column": null,
            "grid_gap": null,
            "grid_row": null,
            "grid_template_areas": null,
            "grid_template_columns": null,
            "grid_template_rows": null,
            "height": null,
            "justify_content": null,
            "justify_items": null,
            "left": null,
            "margin": null,
            "max_height": null,
            "max_width": null,
            "min_height": null,
            "min_width": null,
            "object_fit": null,
            "object_position": null,
            "order": null,
            "overflow": null,
            "overflow_x": null,
            "overflow_y": null,
            "padding": null,
            "right": null,
            "top": null,
            "visibility": null,
            "width": null
          }
        },
        "81a2ae722a034ab491fdcf98df243aa6": {
          "model_module": "@jupyter-widgets/controls",
          "model_name": "DescriptionStyleModel",
          "model_module_version": "1.5.0",
          "state": {
            "_model_module": "@jupyter-widgets/controls",
            "_model_module_version": "1.5.0",
            "_model_name": "DescriptionStyleModel",
            "_view_count": null,
            "_view_module": "@jupyter-widgets/base",
            "_view_module_version": "1.2.0",
            "_view_name": "StyleView",
            "description_width": ""
          }
        },
        "5caefddc9b4e44eeb3b8caaadcfb4924": {
          "model_module": "@jupyter-widgets/controls",
          "model_name": "HBoxModel",
          "model_module_version": "1.5.0",
          "state": {
            "_dom_classes": [],
            "_model_module": "@jupyter-widgets/controls",
            "_model_module_version": "1.5.0",
            "_model_name": "HBoxModel",
            "_view_count": null,
            "_view_module": "@jupyter-widgets/controls",
            "_view_module_version": "1.5.0",
            "_view_name": "HBoxView",
            "box_style": "",
            "children": [
              "IPY_MODEL_9c43ef2314c94b0ba8f5a103cb8e5b42",
              "IPY_MODEL_dae1def025314a3c9ce30bd080f97eb9",
              "IPY_MODEL_23061eb85cc040d29e41a280f6dc87fe"
            ],
            "layout": "IPY_MODEL_d7eca4468e6144759e3e2b5e75ffc27b"
          }
        },
        "9c43ef2314c94b0ba8f5a103cb8e5b42": {
          "model_module": "@jupyter-widgets/controls",
          "model_name": "HTMLModel",
          "model_module_version": "1.5.0",
          "state": {
            "_dom_classes": [],
            "_model_module": "@jupyter-widgets/controls",
            "_model_module_version": "1.5.0",
            "_model_name": "HTMLModel",
            "_view_count": null,
            "_view_module": "@jupyter-widgets/controls",
            "_view_module_version": "1.5.0",
            "_view_name": "HTMLView",
            "description": "",
            "description_tooltip": null,
            "layout": "IPY_MODEL_57b8b5a964a24b79931963ee9b907525",
            "placeholder": "​",
            "style": "IPY_MODEL_d2786f6742264d2aa72ccdbfdac75b89",
            "value": "100%"
          }
        },
        "dae1def025314a3c9ce30bd080f97eb9": {
          "model_module": "@jupyter-widgets/controls",
          "model_name": "FloatProgressModel",
          "model_module_version": "1.5.0",
          "state": {
            "_dom_classes": [],
            "_model_module": "@jupyter-widgets/controls",
            "_model_module_version": "1.5.0",
            "_model_name": "FloatProgressModel",
            "_view_count": null,
            "_view_module": "@jupyter-widgets/controls",
            "_view_module_version": "1.5.0",
            "_view_name": "ProgressView",
            "bar_style": "success",
            "description": "",
            "description_tooltip": null,
            "layout": "IPY_MODEL_c83994c8265143a6a78d47bd6c683b3f",
            "max": 3,
            "min": 0,
            "orientation": "horizontal",
            "style": "IPY_MODEL_a5dc6be7c2cf4590b7ac33d121763b21",
            "value": 3
          }
        },
        "23061eb85cc040d29e41a280f6dc87fe": {
          "model_module": "@jupyter-widgets/controls",
          "model_name": "HTMLModel",
          "model_module_version": "1.5.0",
          "state": {
            "_dom_classes": [],
            "_model_module": "@jupyter-widgets/controls",
            "_model_module_version": "1.5.0",
            "_model_name": "HTMLModel",
            "_view_count": null,
            "_view_module": "@jupyter-widgets/controls",
            "_view_module_version": "1.5.0",
            "_view_name": "HTMLView",
            "description": "",
            "description_tooltip": null,
            "layout": "IPY_MODEL_f0736a5f99864a25862ef7a0672d6e0d",
            "placeholder": "​",
            "style": "IPY_MODEL_c6b654869b304c72ba977eb5b528cbd0",
            "value": " 3/3 [00:00&lt;00:00, 58.67it/s]"
          }
        },
        "d7eca4468e6144759e3e2b5e75ffc27b": {
          "model_module": "@jupyter-widgets/base",
          "model_name": "LayoutModel",
          "model_module_version": "1.2.0",
          "state": {
            "_model_module": "@jupyter-widgets/base",
            "_model_module_version": "1.2.0",
            "_model_name": "LayoutModel",
            "_view_count": null,
            "_view_module": "@jupyter-widgets/base",
            "_view_module_version": "1.2.0",
            "_view_name": "LayoutView",
            "align_content": null,
            "align_items": null,
            "align_self": null,
            "border": null,
            "bottom": null,
            "display": null,
            "flex": null,
            "flex_flow": null,
            "grid_area": null,
            "grid_auto_columns": null,
            "grid_auto_flow": null,
            "grid_auto_rows": null,
            "grid_column": null,
            "grid_gap": null,
            "grid_row": null,
            "grid_template_areas": null,
            "grid_template_columns": null,
            "grid_template_rows": null,
            "height": null,
            "justify_content": null,
            "justify_items": null,
            "left": null,
            "margin": null,
            "max_height": null,
            "max_width": null,
            "min_height": null,
            "min_width": null,
            "object_fit": null,
            "object_position": null,
            "order": null,
            "overflow": null,
            "overflow_x": null,
            "overflow_y": null,
            "padding": null,
            "right": null,
            "top": null,
            "visibility": null,
            "width": null
          }
        },
        "57b8b5a964a24b79931963ee9b907525": {
          "model_module": "@jupyter-widgets/base",
          "model_name": "LayoutModel",
          "model_module_version": "1.2.0",
          "state": {
            "_model_module": "@jupyter-widgets/base",
            "_model_module_version": "1.2.0",
            "_model_name": "LayoutModel",
            "_view_count": null,
            "_view_module": "@jupyter-widgets/base",
            "_view_module_version": "1.2.0",
            "_view_name": "LayoutView",
            "align_content": null,
            "align_items": null,
            "align_self": null,
            "border": null,
            "bottom": null,
            "display": null,
            "flex": null,
            "flex_flow": null,
            "grid_area": null,
            "grid_auto_columns": null,
            "grid_auto_flow": null,
            "grid_auto_rows": null,
            "grid_column": null,
            "grid_gap": null,
            "grid_row": null,
            "grid_template_areas": null,
            "grid_template_columns": null,
            "grid_template_rows": null,
            "height": null,
            "justify_content": null,
            "justify_items": null,
            "left": null,
            "margin": null,
            "max_height": null,
            "max_width": null,
            "min_height": null,
            "min_width": null,
            "object_fit": null,
            "object_position": null,
            "order": null,
            "overflow": null,
            "overflow_x": null,
            "overflow_y": null,
            "padding": null,
            "right": null,
            "top": null,
            "visibility": null,
            "width": null
          }
        },
        "d2786f6742264d2aa72ccdbfdac75b89": {
          "model_module": "@jupyter-widgets/controls",
          "model_name": "DescriptionStyleModel",
          "model_module_version": "1.5.0",
          "state": {
            "_model_module": "@jupyter-widgets/controls",
            "_model_module_version": "1.5.0",
            "_model_name": "DescriptionStyleModel",
            "_view_count": null,
            "_view_module": "@jupyter-widgets/base",
            "_view_module_version": "1.2.0",
            "_view_name": "StyleView",
            "description_width": ""
          }
        },
        "c83994c8265143a6a78d47bd6c683b3f": {
          "model_module": "@jupyter-widgets/base",
          "model_name": "LayoutModel",
          "model_module_version": "1.2.0",
          "state": {
            "_model_module": "@jupyter-widgets/base",
            "_model_module_version": "1.2.0",
            "_model_name": "LayoutModel",
            "_view_count": null,
            "_view_module": "@jupyter-widgets/base",
            "_view_module_version": "1.2.0",
            "_view_name": "LayoutView",
            "align_content": null,
            "align_items": null,
            "align_self": null,
            "border": null,
            "bottom": null,
            "display": null,
            "flex": null,
            "flex_flow": null,
            "grid_area": null,
            "grid_auto_columns": null,
            "grid_auto_flow": null,
            "grid_auto_rows": null,
            "grid_column": null,
            "grid_gap": null,
            "grid_row": null,
            "grid_template_areas": null,
            "grid_template_columns": null,
            "grid_template_rows": null,
            "height": null,
            "justify_content": null,
            "justify_items": null,
            "left": null,
            "margin": null,
            "max_height": null,
            "max_width": null,
            "min_height": null,
            "min_width": null,
            "object_fit": null,
            "object_position": null,
            "order": null,
            "overflow": null,
            "overflow_x": null,
            "overflow_y": null,
            "padding": null,
            "right": null,
            "top": null,
            "visibility": null,
            "width": null
          }
        },
        "a5dc6be7c2cf4590b7ac33d121763b21": {
          "model_module": "@jupyter-widgets/controls",
          "model_name": "ProgressStyleModel",
          "model_module_version": "1.5.0",
          "state": {
            "_model_module": "@jupyter-widgets/controls",
            "_model_module_version": "1.5.0",
            "_model_name": "ProgressStyleModel",
            "_view_count": null,
            "_view_module": "@jupyter-widgets/base",
            "_view_module_version": "1.2.0",
            "_view_name": "StyleView",
            "bar_color": null,
            "description_width": ""
          }
        },
        "f0736a5f99864a25862ef7a0672d6e0d": {
          "model_module": "@jupyter-widgets/base",
          "model_name": "LayoutModel",
          "model_module_version": "1.2.0",
          "state": {
            "_model_module": "@jupyter-widgets/base",
            "_model_module_version": "1.2.0",
            "_model_name": "LayoutModel",
            "_view_count": null,
            "_view_module": "@jupyter-widgets/base",
            "_view_module_version": "1.2.0",
            "_view_name": "LayoutView",
            "align_content": null,
            "align_items": null,
            "align_self": null,
            "border": null,
            "bottom": null,
            "display": null,
            "flex": null,
            "flex_flow": null,
            "grid_area": null,
            "grid_auto_columns": null,
            "grid_auto_flow": null,
            "grid_auto_rows": null,
            "grid_column": null,
            "grid_gap": null,
            "grid_row": null,
            "grid_template_areas": null,
            "grid_template_columns": null,
            "grid_template_rows": null,
            "height": null,
            "justify_content": null,
            "justify_items": null,
            "left": null,
            "margin": null,
            "max_height": null,
            "max_width": null,
            "min_height": null,
            "min_width": null,
            "object_fit": null,
            "object_position": null,
            "order": null,
            "overflow": null,
            "overflow_x": null,
            "overflow_y": null,
            "padding": null,
            "right": null,
            "top": null,
            "visibility": null,
            "width": null
          }
        },
        "c6b654869b304c72ba977eb5b528cbd0": {
          "model_module": "@jupyter-widgets/controls",
          "model_name": "DescriptionStyleModel",
          "model_module_version": "1.5.0",
          "state": {
            "_model_module": "@jupyter-widgets/controls",
            "_model_module_version": "1.5.0",
            "_model_name": "DescriptionStyleModel",
            "_view_count": null,
            "_view_module": "@jupyter-widgets/base",
            "_view_module_version": "1.2.0",
            "_view_name": "StyleView",
            "description_width": ""
          }
        }
      }
    }
  },
  "nbformat": 4,
  "nbformat_minor": 5
}